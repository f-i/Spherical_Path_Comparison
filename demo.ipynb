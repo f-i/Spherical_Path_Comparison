{
 "cells": [
  {
   "cell_type": "markdown",
   "metadata": {},
   "source": [
    "First, you need to have a functional GMT5 installed in your operating system (Linux or MacOS is recommended). Please refer to http://gmt.soest.hawaii.edu/projects/gmt/wiki/Installing for its Installing instructions.\n",
    "\n",
    "Second, you need to have a functional Python 3.6 or 3.7 installed in your operating system. Then use pip to install NumPy and numba.\n",
    "\n",
    "Then, let's get started with an example from pair A (Figure 3a in the paper)."
   ]
  },
  {
   "cell_type": "code",
   "execution_count": 1,
   "metadata": {},
   "outputs": [],
   "source": [
    "## import Python modules\n",
    "# import Python's sys (System-specific parameters and functions) module\n",
    "import sys\n",
    "# import Python's copytree module\n",
    "from distutils.dir_util import copy_tree\n",
    "# add this directory for Python searching non-standard modules, like our own modules\n",
    "sys.path.append('.')  #only accept relative dir\n",
    "# import my own module\n",
    "import spComparison.spcmp as cmp"
   ]
  },
  {
   "cell_type": "code",
   "execution_count": null,
   "metadata": {},
   "outputs": [],
   "source": [
    "## calculate pair A's difference scores in terms of space (coeval poles), angle and\n",
    "## length (coeval segments)\n",
    "# copy raw VGP locations (only for poles with their N greater than 25) to /tmp\n",
    "copy_tree(\"data/Laurentia_RM\", \"/tmp\")\n",
    "copy_tree(\"data/rot_version/Laurentia_RM_1deg\",\"/tmp\")\n",
    "# rum our spa_angpre_len_dif function to calculate difference scores\n",
    "cmp.spa_angpre_len_dif('data/Laurentia_RM.txt',\n",
    "                       'data/rot_version/Laurentia_RM_1deg.txt',\n",
    "                       pnh1=1,pnh2=0)\n",
    "# the results should be the same as stored in\n",
    "# data/0.result_tables/pairA_LaurentiaRM_LaurentiaRM1deg.txt"
   ]
  },
  {
   "cell_type": "markdown",
   "metadata": {},
   "source": [
    "The above results displayed have 12 columns.\n",
    "\n",
    "\t00_no:\t\t\tindex / order number\n",
    "\t01_tstop:\t\tpole age\n",
    "\t10_spa_pol_dif:\tspacial difference of each coeval pole pair\n",
    "\t11_spa_pol_tes:\t1 or 0, i.e., distinguishable or indistinguishable\n",
    "\t\t\t\t\tspacial relationship of coeval uncertainties\n",
    "\t20_ang_seg_dif:\tangular difference of each coeval segment pair\n",
    "\t21_ang_seg_tes:\t1 or 0, i.e., a significant or no significant angular difference,\n",
    "\t\t\t\t\tbased on random sampling from pole uncertainties\n",
    "\t30_len_seg_dif:\tlength difference of each coeval segment pair\n",
    "\t31_len_seg_tes:\t1 or 0, i.e., a significant or no significant length difference,\n",
    "\t\t\t\t\tbased on random sampling from pole uncertainties\n",
    "    22_course_seg1: trajectory I's each segment's orientational change\n",
    "    23_course_seg2: trajectory II's each contemporary segment's orientational change\n",
    "    32_len_seg1: trajectory I's each segment's length\n",
    "    33_len_seg2: trajectory II's each contemporary segment's length"
   ]
  },
  {
   "cell_type": "code",
   "execution_count": 3,
   "metadata": {},
   "outputs": [
    {
     "name": "stdout",
     "output_type": "stream",
     "text": [
      "ds\tda\tdl\tno\tt0\tt1\n",
      "0.004023131262715884\t0.0\t0.0\t0\t0\t100\n",
      "0.007986006837318843\t0.0\t0.0\t1\t100\t200\n",
      "0.012679280865410706\t0.0\t0.0\t2\t200\t300\n",
      "0.018235744587828718\t0.0\t0.0\t3\t300\t400\n",
      "0.01946664767344485\t0.0\t0.0\t4\t400\t530\n",
      "0.012871529337939955\t0.0\t0.0\t5\t0\t530\n"
     ]
    }
   ],
   "source": [
    "## reproduce results for pair A in Figure 6a\n",
    "pairA=cmp.ppf3('data/0.result_tables/pairA_LaurentiaRM_LaurentiaRM1deg.txt')\n",
    "#pairA_.txt without test\n",
    "print('ds\\tda\\tdl\\tno\\tt0\\tt1')\n",
    "cmp.calc_nt(pairA,0,0,100)\n",
    "cmp.calc_nt(pairA,1,100,200)\n",
    "cmp.calc_nt(pairA,2,200,300)\n",
    "cmp.calc_nt(pairA,3,300,400)\n",
    "cmp.calc_nt(pairA,4,400,530)\n",
    "cmp.calc_nt(pairA,5,0,530)"
   ]
  },
  {
   "cell_type": "code",
   "execution_count": 4,
   "metadata": {},
   "outputs": [
    {
     "name": "stdout",
     "output_type": "stream",
     "text": [
      "ds\tda\tdl\tno\tt0\tt1\n",
      "0.0\t0.0\t0.0\t0\t0\t100\n",
      "0.0\t0.0\t0.0\t1\t100\t200\n",
      "0.0\t0.0\t0.0\t2\t200\t300\n",
      "0.006881704376822442\t0.0\t0.0\t3\t300\t400\n",
      "0.004130910260684836\t0.0\t0.0\t4\t400\t530\n",
      "0.0024728054036043438\t0.0\t0.0\t5\t0\t530\n"
     ]
    }
   ],
   "source": [
    "## reproduce results for pair A in Figure 6b\n",
    "#pairA.txt with test\n",
    "print('ds\\tda\\tdl\\tno\\tt0\\tt1')\n",
    "cmp.calc(pairA,0,0,100)\n",
    "cmp.calc(pairA,1,100,200)\n",
    "cmp.calc(pairA,2,200,300)\n",
    "cmp.calc(pairA,3,300,400)\n",
    "cmp.calc(pairA,4,400,530)\n",
    "cmp.calc(pairA,5,0,530)"
   ]
  },
  {
   "cell_type": "code",
   "execution_count": null,
   "metadata": {},
   "outputs": [],
   "source": []
  }
 ],
 "metadata": {
  "kernelspec": {
   "display_name": "Python 3",
   "language": "python",
   "name": "python3"
  },
  "language_info": {
   "codemirror_mode": {
    "name": "ipython",
    "version": 3
   },
   "file_extension": ".py",
   "mimetype": "text/x-python",
   "name": "python",
   "nbconvert_exporter": "python",
   "pygments_lexer": "ipython3",
   "version": "3.7.2"
  }
 },
 "nbformat": 4,
 "nbformat_minor": 2
}
