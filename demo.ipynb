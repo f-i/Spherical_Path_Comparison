{
 "cells": [
  {
   "cell_type": "markdown",
   "metadata": {},
   "source": [
    "First, for operating system, Linux or MacOS is recommended. If you use Windows, please change all the directories leading with \"/tmp\" in the file \"spComparison/spcmp.py\" and this \"demo.ipynb\" file into any directory you prefer (e.g. \"C:\\tmp\") in your Windows system. In addition, for Windows user, it is recommended to install Cygwin (https://www.cygwin.com/) first, in order to have a Linux-like environment with tools like Bash, bc, etc.\n",
    "\n",
    "Second, you need to have a functional Python 3.6 or 3.7 installed. Installing Python through MiniConda (https://docs.conda.io/en/latest/miniconda.html) is recommended. Then use pip to install NumPy and Numba.\n",
    "\n",
    "Third, you need to have a functional GMT5 installed. Please refer to http://gmt.soest.hawaii.edu/projects/gmt/wiki/Installing for its installing instructions.\n",
    "\n",
    "# Introducing Use of the Core Function \"spa_angpre_len_dif\"\n",
    "\n",
    "Then, let's get started with an example from pair A (Figure 3a in the paper https://github.com/f-i/APWP_similarity)."
   ]
  },
  {
   "cell_type": "code",
   "execution_count": 2,
   "metadata": {},
   "outputs": [],
   "source": [
    "## import Python modules\n",
    "# import Python's sys (System-specific parameters and functions) module\n",
    "import sys\n",
    "# import Python's copytree module\n",
    "from distutils.dir_util import copy_tree\n",
    "# add this directory for Python searching non-standard modules, like our own modules\n",
    "sys.path.append('.')  #only accept relative dir\n",
    "# import my own module\n",
    "import spComparison.spcmp as cmp"
   ]
  },
  {
   "cell_type": "markdown",
   "metadata": {},
   "source": [
    "## pair A (Figure 3a)"
   ]
  },
  {
   "cell_type": "code",
   "execution_count": null,
   "metadata": {},
   "outputs": [
    {
     "name": "stdout",
     "output_type": "stream",
     "text": [
      "00_no\t01_tstop\t10_spa_pol_dif\t11_spa_pol_tes\t20_ang_seg_dif\t21_ang_seg_tes\t30_len_seg_dif\t31_len_seg_tes\t22_course_seg1\t23_course_seg2\t32_len_seg1\t33_len_seg2\n",
      "0\t0.0\t0.06950468110321331\t0\tnan\tnan\tnan\tnan\tnan\tnan\tnan\tnan\n",
      "1\t10.0\t0.07012239182561895\t0\tnan\tnan\t0.\t0\t273.743775125\t273.149982677\t0.5238885648671224\t0.5238885648601654\n",
      "2\t20.0\t0.12965232767905435\t0\t0.\t0\t0.\t0\t139.00062497750002\t139.0006249778\t4.4390170905897985\t4.439017090586511\n"
     ]
    }
   ],
   "source": [
    "## calculate pair A's difference scores in terms of space (coeval poles), angle and\n",
    "## length (coeval segments); NOTE THAT THIS COULD TAKE HOURS (Depends on your OS and Hardwares)\n",
    "# copy raw VGP locations (only for poles with their N greater than 25) to /tmp\n",
    "copy_tree(\"data/Laurentia_RM\", \"/tmp/Laurentia_RM\")\n",
    "copy_tree(\"data/rot_version/Laurentia_RM_1deg\",\"/tmp/Laurentia_RM_1deg\")\n",
    "# rum our spa_angpre_len_dif function to calculate difference scores\n",
    "cmp.spa_angpre_len_dif('data/Laurentia_RM.txt',\n",
    "                       'data/rot_version/Laurentia_RM_1deg.txt',\n",
    "                       pnh1=1,pnh2=0)\n",
    "# the results should be the same as stored in\n",
    "# data/0.result_tables/pairA_LaurentiaRM_LaurentiaRM1deg.txt"
   ]
  },
  {
   "cell_type": "markdown",
   "metadata": {},
   "source": [
    "The above results displayed have 12 columns.\n",
    "\n",
    "\t00_no:\t\t\tindex / order number\n",
    "\t01_tstop:\t\tpole age\n",
    "\t10_spa_pol_dif:\tspacial difference of each coeval pole pair\n",
    "\t11_spa_pol_tes:\t1 or 0, i.e., distinguishable or indistinguishable\n",
    "\t\t\t\t\tspacial relationship of coeval uncertainties\n",
    "\t20_ang_seg_dif:\tangular difference of each coeval segment pair\n",
    "\t21_ang_seg_tes:\t1 or 0, i.e., a significant or no significant angular difference,\n",
    "\t\t\t\t\tbased on random sampling from pole uncertainties\n",
    "\t30_len_seg_dif:\tlength difference of each coeval segment pair\n",
    "\t31_len_seg_tes:\t1 or 0, i.e., a significant or no significant length difference,\n",
    "\t\t\t\t\tbased on random sampling from pole uncertainties\n",
    "    22_course_seg1: trajectory I's each segment's orientational change\n",
    "    23_course_seg2: trajectory II's each contemporary segment's orientational change\n",
    "    32_len_seg1: trajectory I's each segment's length\n",
    "    33_len_seg2: trajectory II's each contemporary segment's length"
   ]
  },
  {
   "cell_type": "code",
   "execution_count": 2,
   "metadata": {},
   "outputs": [
    {
     "name": "stdout",
     "output_type": "stream",
     "text": [
      "ds\tda\tdl\tno\tt0\tt1\tequalWeighCPD\n",
      "0.00402313\t0\t0\t0\t0\t100\t0.00134104\n",
      "0.00798601\t0\t0\t1\t100\t200\t0.002662\n",
      "0.0126793\t0\t0\t2\t200\t300\t0.00422643\n",
      "0.0182357\t0\t0\t3\t300\t400\t0.00607858\n",
      "0.0194666\t0\t0\t4\t400\t530\t0.00648888\n",
      "0.0128715\t0\t0\t5\t0\t530\t0.00429051\n"
     ]
    }
   ],
   "source": [
    "## reproduce results for pair A in Figures 6a, 6c, 6e using the output above\n",
    "## from the function cmp.spa_angpre_len_dif\n",
    "pairA=cmp.ppf3('data/0.result_tables/pairA_LaurentiaRM_LaurentiaRM1deg.txt')\n",
    "#pairA_.txt without test\n",
    "print('ds\\tda\\tdl\\tno\\tt0\\tt1\\tequalWeighCPD')\n",
    "cmp.calc_nt(pairA,'0',0,100)\n",
    "cmp.calc_nt(pairA,'1',100,200)\n",
    "cmp.calc_nt(pairA,'2',200,300)\n",
    "cmp.calc_nt(pairA,'3',300,400)\n",
    "cmp.calc_nt(pairA,'4',400,530)\n",
    "cmp.calc_nt(pairA,'5',0,530)"
   ]
  },
  {
   "cell_type": "markdown",
   "metadata": {},
   "source": [
    "The above results displayed own 6 columns.\n",
    "\n",
    "    ds: untested mean spatial difference score\n",
    "    da: untested mean angular difference score\n",
    "    dl: untested mean length difference score\n",
    "    no: index / order number\n",
    "    t0: beginning pole age of the specific path\n",
    "    t1: end pole age of the specific path\n",
    "    equalWeighCPD: CPD from equally weighted metrics"
   ]
  },
  {
   "cell_type": "code",
   "execution_count": 3,
   "metadata": {},
   "outputs": [
    {
     "name": "stdout",
     "output_type": "stream",
     "text": [
      "ds\tda\tdl\tno\tt0\tt1\tequalWeighCPD\n",
      "0\t0\t0\t0\t0\t100\t0\n",
      "0\t0\t0\t1\t100\t200\t0\n",
      "0\t0\t0\t2\t200\t300\t0\n",
      "0.0068817\t0\t0\t3\t300\t400\t0.0022939\n",
      "0.00413091\t0\t0\t4\t400\t530\t0.00137697\n",
      "0.00247281\t0\t0\t5\t0\t530\t0.000824268\n"
     ]
    }
   ],
   "source": [
    "## reproduce results for pair A in Figures 6b, 6d, 6f using the same output above\n",
    "## from the function cmp.spa_angpre_len_dif\n",
    "#pairA.txt with test\n",
    "print('ds\\tda\\tdl\\tno\\tt0\\tt1\\tequalWeighCPD')\n",
    "cmp.calc(pairA,'0',0,100)\n",
    "cmp.calc(pairA,'1',100,200)\n",
    "cmp.calc(pairA,'2',200,300)\n",
    "cmp.calc(pairA,'3',300,400)\n",
    "cmp.calc(pairA,'4',400,530)\n",
    "cmp.calc(pairA,'5',0,530)"
   ]
  },
  {
   "cell_type": "markdown",
   "metadata": {},
   "source": [
    "The above results displayed also own 6 columns.\n",
    "\n",
    "    ds: mean significant spatial difference score\n",
    "    da: mean significant angular difference score\n",
    "    dl: mean significant length difference score\n",
    "    no: index / order number\n",
    "    t0: beginning pole age of the specific path\n",
    "    t1: end pole age of the specific path\n",
    "    equalWeighCPD: CPD from equally weighted metrics"
   ]
  },
  {
   "cell_type": "markdown",
   "metadata": {},
   "source": [
    "# Reproducing Results for the Other Five Pairs Using the Same Procedure Above\n",
    "\n",
    "## pair B"
   ]
  },
  {
   "cell_type": "code",
   "execution_count": null,
   "metadata": {},
   "outputs": [],
   "source": [
    "## calculate pair B's difference scores in terms of space (coeval poles), angle and\n",
    "## length (coeval segments)\n",
    "copy_tree(\"data/rot_version/Laurentia_RM_15deg\",\"/tmp/Laurentia_RM_15deg\")\n",
    "cmp.spa_angpre_len_dif('data/Laurentia_RM.txt',\n",
    "                       'data/rot_version/Laurentia_RM_15deg.txt',\n",
    "                       pnh1=1,pnh2=0)\n",
    "# the results should be the same as stored in\n",
    "# data/0.result_tables/pairB_LaurentiaRM_LaurentiaRM15deg.txt"
   ]
  },
  {
   "cell_type": "code",
   "execution_count": 2,
   "metadata": {},
   "outputs": [
    {
     "name": "stdout",
     "output_type": "stream",
     "text": [
      "ds\tda\tdl\tno\tt0\tt1\n",
      "0.06018565442887694\t0.0\t0.0\t0\t0\t100\n",
      "0.11951075417785047\t0.0\t0.0\t1\t100\t200\n",
      "0.18987624618932064\t0.0\t0.0\t2\t200\t300\n",
      "0.27341452084170853\t0.0\t0.0\t3\t300\t400\n",
      "0.29195711704472566\t0.0\t0.0\t4\t400\t530\n",
      "0.1928983752638573\t0.0\t0.0\t5\t0\t530\n"
     ]
    }
   ],
   "source": [
    "## reproduce results for pair B in Figures 6a, 6c, 6e using the output above\n",
    "## from the function cmp.spa_angpre_len_dif\n",
    "pairB=cmp.ppf3('data/0.result_tables/pairB_LaurentiaRM_LaurentiaRM15deg.txt')\n",
    "#pairB_.txt without test\n",
    "print('ds\\tda\\tdl\\tno\\tt0\\tt1\\tequalWeighCPD')\n",
    "cmp.calc_nt(pairB,'0',0,100)\n",
    "cmp.calc_nt(pairB,'1',100,200)\n",
    "cmp.calc_nt(pairB,'2',200,300)\n",
    "cmp.calc_nt(pairB,'3',300,400)\n",
    "cmp.calc_nt(pairB,'4',400,530)\n",
    "cmp.calc_nt(pairB,'5',0,530)"
   ]
  },
  {
   "cell_type": "code",
   "execution_count": 3,
   "metadata": {},
   "outputs": [
    {
     "name": "stdout",
     "output_type": "stream",
     "text": [
      "ds\tda\tdl\tno\tt0\tt1\n",
      "0.0\t0.0\t0.0\t0\t0\t100\n",
      "0.02452207584754257\t0.0\t0.0\t1\t100\t200\n",
      "0.17214017750222857\t0.0\t0.0\t2\t200\t300\n",
      "0.27341452084170853\t0.0\t0.0\t3\t300\t400\n",
      "0.18753232193044467\t0.0\t0.0\t4\t400\t530\n",
      "0.13206089460320947\t0.0\t0.0\t5\t0\t530\n"
     ]
    }
   ],
   "source": [
    "## reproduce results for pair B in Figures 6b, 6d, 6f using the same output above\n",
    "## from the function cmp.spa_angpre_len_dif\n",
    "#pairB.txt with test\n",
    "print('ds\\tda\\tdl\\tno\\tt0\\tt1\\tequalWeighCPD')\n",
    "cmp.calc(pairB,'0',0,100)\n",
    "cmp.calc(pairB,'1',100,200)\n",
    "cmp.calc(pairB,'2',200,300)\n",
    "cmp.calc(pairB,'3',300,400)\n",
    "cmp.calc(pairB,'4',400,530)\n",
    "cmp.calc(pairB,'5',0,530)"
   ]
  },
  {
   "cell_type": "markdown",
   "metadata": {},
   "source": [
    "## pair C"
   ]
  },
  {
   "cell_type": "code",
   "execution_count": null,
   "metadata": {},
   "outputs": [],
   "source": [
    "## calculate pair C's difference scores in terms of space (coeval poles), angle and\n",
    "## length (coeval segments)\n",
    "copy_tree(\"data/rot_version/Laurentia_RM_po_15deg\",\"/tmp/Laurentia_RM_po_15deg\")\n",
    "cmp.spa_angpre_len_dif('data/Laurentia_RM.txt',\n",
    "                       'data/rot_version/Laurentia_RM_po_15deg.txt',\n",
    "                       pnh1=1,pnh2=0)\n",
    "# the results should be the same as stored in\n",
    "# data/0.result_tables/pairC_LaurentiaRM_LaurentiaRMpo15deg.txt"
   ]
  },
  {
   "cell_type": "code",
   "execution_count": 4,
   "metadata": {},
   "outputs": [
    {
     "name": "stdout",
     "output_type": "stream",
     "text": [
      "ds\tda\tdl\tno\tt0\tt1\n",
      "0.060179524592502295\t0.24790732639537033\t1.0905640046804856e-05\t0\t0\t100\n",
      "0.11948928991824084\t0.2283843537798148\t0.0001096116344275399\t1\t100\t200\n",
      "0.1897653823765637\t0.4897948633596197\t2.7047084440588792e-05\t2\t200\t300\n",
      "0.27310680364795525\t0.3579541481306791\t0.00011034440982000611\t3\t300\t400\n",
      "0.2918073308934256\t0.3278328522055788\t0.0001996424474577322\t4\t400\t530\n",
      "0.19278564167708362\t0.32821897320673443\t9.763093404339463e-05\t5\t0\t530\n"
     ]
    }
   ],
   "source": [
    "## reproduce results for pair C in Figures 6a, 6c, 6e using the output above\n",
    "## from the function cmp.spa_angpre_len_dif\n",
    "pairC=cmp.ppf3('data/0.result_tables/pairC_LaurentiaRM_LaurentiaRMpo15deg.txt')\n",
    "#pairC_.txt without test\n",
    "print('ds\\tda\\tdl\\tno\\tt0\\tt1\\tequalWeighCPD')\n",
    "cmp.calc_nt(pairC,'0',0,100)\n",
    "cmp.calc_nt(pairC,'1',100,200)\n",
    "cmp.calc_nt(pairC,'2',200,300)\n",
    "cmp.calc_nt(pairC,'3',300,400)\n",
    "cmp.calc_nt(pairC,'4',400,530)\n",
    "cmp.calc_nt(pairC,'5',0,530)"
   ]
  },
  {
   "cell_type": "code",
   "execution_count": 5,
   "metadata": {},
   "outputs": [
    {
     "name": "stdout",
     "output_type": "stream",
     "text": [
      "ds\tda\tdl\tno\tt0\tt1\n",
      "0.0\t0.0\t0.0\t0\t0\t100\n",
      "0.024511167393754963\t0.0\t0.0\t1\t100\t200\n",
      "0.17204153054667518\t0.10183802030481481\t0.0\t2\t200\t300\n",
      "0.27310680364795525\t0.0983773321814815\t2.2421740928911606e-05\t3\t300\t400\n",
      "0.18740701021938655\t0.0\t7.216273757176646e-07\t4\t400\t530\n",
      "0.13196018041953333\t0.03465265716108974\t4.407520097612184e-06\t5\t0\t530\n"
     ]
    }
   ],
   "source": [
    "## reproduce results for pair C in Figures 6b, 6d, 6f using the same output above\n",
    "## from the function cmp.spa_angpre_len_dif\n",
    "#pairC.txt with test\n",
    "print('ds\\tda\\tdl\\tno\\tt0\\tt1\\tequalWeighCPD')\n",
    "cmp.calc(pairC,'0',0,100)\n",
    "cmp.calc(pairC,'1',100,200)\n",
    "cmp.calc(pairC,'2',200,300)\n",
    "cmp.calc(pairC,'3',300,400)\n",
    "cmp.calc(pairC,'4',400,530)\n",
    "cmp.calc(pairC,'5',0,530)"
   ]
  },
  {
   "cell_type": "markdown",
   "metadata": {},
   "source": [
    "## pair D"
   ]
  },
  {
   "cell_type": "code",
   "execution_count": null,
   "metadata": {},
   "outputs": [],
   "source": [
    "## calculate pair D's difference scores in terms of space (coeval poles), angle and\n",
    "## length (coeval segments)\n",
    "copy_tree(\"data/rot_version/Laurentia_RM_p_15deg\",\"/tmp/Laurentia_RM_p_15deg\")\n",
    "cmp.spa_angpre_len_dif('data/Laurentia_RM.txt',\n",
    "                       'data/rot_version/Laurentia_RM_p_15deg.txt',\n",
    "                       pnh1=1,pnh2=0)\n",
    "# the results should be the same as stored in\n",
    "# data/0.result_tables/pairD_LaurentiaRM_LaurentiaRMp15deg.txt"
   ]
  },
  {
   "cell_type": "code",
   "execution_count": 6,
   "metadata": {},
   "outputs": [
    {
     "name": "stdout",
     "output_type": "stream",
     "text": [
      "ds\tda\tdl\tno\tt0\tt1\n",
      "0.0601804953535425\t0.5020896657221604\t0.1242469695162171\t0\t0\t100\n",
      "0.11946892740034999\t0.5922044939625246\t0.1329337877885109\t1\t100\t200\n",
      "0.18976154831555006\t0.5804934235719901\t0.36609065818561376\t2\t200\t300\n",
      "0.2731263641477164\t0.5121743766190309\t0.5162692905782692\t3\t300\t400\n",
      "0.2916446594852434\t0.5685291350304167\t0.4509314758331272\t4\t400\t530\n",
      "0.19273680028530343\t0.5457373845189663\t0.32561351408522193\t5\t0\t530\n"
     ]
    }
   ],
   "source": [
    "## reproduce results for pair D in Figures 6a, 6c, 6e using the output above\n",
    "## from the function cmp.spa_angpre_len_dif\n",
    "pairD=cmp.ppf3('data/0.result_tables/pairD_LaurentiaRM_LaurentiaRMp15deg.txt')\n",
    "#pairD_.txt without test\n",
    "print('ds\\tda\\tdl\\tno\\tt0\\tt1\\tequalWeighCPD')\n",
    "cmp.calc_nt(pairD,'0',0,100)\n",
    "cmp.calc_nt(pairD,'1',100,200)\n",
    "cmp.calc_nt(pairD,'2',200,300)\n",
    "cmp.calc_nt(pairD,'3',300,400)\n",
    "cmp.calc_nt(pairD,'4',400,530)\n",
    "cmp.calc_nt(pairD,'5',0,530)"
   ]
  },
  {
   "cell_type": "code",
   "execution_count": 7,
   "metadata": {},
   "outputs": [
    {
     "name": "stdout",
     "output_type": "stream",
     "text": [
      "ds\tda\tdl\tno\tt0\tt1\n",
      "0.0\t0.0\t0.0\t0\t0\t100\n",
      "0.0245146198623683\t0.0\t0.0\t1\t100\t200\n",
      "0.1720324242622825\t0.09753166968487655\t0.16947427972050066\t2\t200\t300\n",
      "0.2731263641477164\t0.20273891366180868\t0.3774520251613964\t3\t300\t400\n",
      "0.18735175977842114\t0.12854420865305555\t0.2501510071082986\t4\t400\t530\n",
      "0.13194281599422122\t0.08163395680686218\t0.16455143662692176\t5\t0\t530\n"
     ]
    }
   ],
   "source": [
    "## reproduce results for pair D in Figures 6b, 6d, 6f using the same output above\n",
    "## from the function cmp.spa_angpre_len_dif\n",
    "#pairD.txt with test\n",
    "print('ds\\tda\\tdl\\tno\\tt0\\tt1\\tequalWeighCPD')\n",
    "cmp.calc(pairD,'0',0,100)\n",
    "cmp.calc(pairD,'1',100,200)\n",
    "cmp.calc(pairD,'2',200,300)\n",
    "cmp.calc(pairD,'3',300,400)\n",
    "cmp.calc(pairD,'4',400,530)\n",
    "cmp.calc(pairD,'5',0,530)"
   ]
  },
  {
   "cell_type": "markdown",
   "metadata": {},
   "source": [
    "## pair E"
   ]
  },
  {
   "cell_type": "code",
   "execution_count": null,
   "metadata": {},
   "outputs": [],
   "source": [
    "## calculate pair E's difference scores in terms of space (coeval poles), angle and\n",
    "## length (coeval segments)\n",
    "copy_tree(\"data/rot_version/Laurentia_RM_45deg\",\"/tmp/Laurentia_RM_45deg\")\n",
    "cmp.spa_angpre_len_dif('data/Laurentia_RM.txt',\n",
    "                       'data/rot_version/Laurentia_RM_45deg.txt',\n",
    "                       pnh1=1,pnh2=0)\n",
    "# the results should be the same as stored in\n",
    "# data/0.result_tables/pairE_LaurentiaRM_LaurentiaRM45deg.txt"
   ]
  },
  {
   "cell_type": "code",
   "execution_count": 8,
   "metadata": {},
   "outputs": [
    {
     "name": "stdout",
     "output_type": "stream",
     "text": [
      "ds\tda\tdl\tno\tt0\tt1\n",
      "0.176682672802216\t0.0\t0.0\t0\t0\t100\n",
      "0.35176917694730764\t0.0\t0.0\t1\t100\t200\n",
      "0.561929737862065\t0.0\t0.0\t2\t200\t300\n",
      "0.8171727224060709\t0.0\t0.0\t3\t300\t400\n",
      "0.8747843279351402\t0.0\t0.0\t4\t400\t530\n",
      "0.5744135257153348\t0.0\t0.0\t5\t0\t530\n"
     ]
    }
   ],
   "source": [
    "## reproduce results for pair E in Figures 6a, 6c, 6e using the output above\n",
    "## from the function cmp.spa_angpre_len_dif\n",
    "pairE=cmp.ppf3('data/0.result_tables/pairE_LaurentiaRM_LaurentiaRM45deg.txt')\n",
    "#pairE_.txt without test\n",
    "print('ds\\tda\\tdl\\tno\\tt0\\tt1\\tequalWeighCPD')\n",
    "cmp.calc_nt(pairE,'0',0,100)\n",
    "cmp.calc_nt(pairE,'1',100,200)\n",
    "cmp.calc_nt(pairE,'2',200,300)\n",
    "cmp.calc_nt(pairE,'3',300,400)\n",
    "cmp.calc_nt(pairE,'4',400,530)\n",
    "cmp.calc_nt(pairE,'5',0,530)"
   ]
  },
  {
   "cell_type": "code",
   "execution_count": 9,
   "metadata": {},
   "outputs": [
    {
     "name": "stdout",
     "output_type": "stream",
     "text": [
      "ds\tda\tdl\tno\tt0\tt1\n",
      "0.13418921255437907\t0.0\t0.0\t0\t0\t100\n",
      "0.3307515913351165\t0.0\t0.0\t1\t100\t200\n",
      "0.561929737862065\t0.0\t0.0\t2\t200\t300\n",
      "0.8171727224060709\t0.0\t0.0\t3\t300\t400\n",
      "0.8747843279351402\t0.0\t0.0\t4\t400\t530\n",
      "0.5657574504796643\t0.0\t0.0\t5\t0\t530\n"
     ]
    }
   ],
   "source": [
    "## reproduce results for pair E in Figures 6b, 6d, 6f using the same output above\n",
    "## from the function cmp.spa_angpre_len_dif\n",
    "#pairE.txt with test\n",
    "print('ds\\tda\\tdl\\tno\\tt0\\tt1\\tequalWeighCPD')\n",
    "cmp.calc(pairE,'0',0,100)\n",
    "cmp.calc(pairE,'1',100,200)\n",
    "cmp.calc(pairE,'2',200,300)\n",
    "cmp.calc(pairE,'3',300,400)\n",
    "cmp.calc(pairE,'4',400,530)\n",
    "cmp.calc(pairE,'5',0,530)"
   ]
  },
  {
   "cell_type": "markdown",
   "metadata": {},
   "source": [
    "## pair F"
   ]
  },
  {
   "cell_type": "code",
   "execution_count": null,
   "metadata": {},
   "outputs": [],
   "source": [
    "## calculate pair F's difference scores in terms of space (coeval poles), angle and\n",
    "## length (coeval segments)\n",
    "copy_tree(\"data/Laurentia_RM_NoErr\",\"/tmp/Laurentia_RM_NoErr\")\n",
    "copy_tree(\"data/rot_version/Laurentia_RM_NoErr_45deg\",\"/tmp/Laurentia_RM_NoErr_45deg\")\n",
    "cmp.spa_angpre_len_dif('data/Laurentia_RM_NoErr.txt',\n",
    "                       'data/rot_version/Laurentia_RM_NoErr_45deg.txt',\n",
    "                       pnh1=1,pnh2=0)\n",
    "# the results should be the same as stored in\n",
    "# data/0.result_tables/pairF_LaurentiaRMnoErr_LaurentiaRMnoErr45deg.txt"
   ]
  },
  {
   "cell_type": "code",
   "execution_count": 10,
   "metadata": {},
   "outputs": [
    {
     "name": "stdout",
     "output_type": "stream",
     "text": [
      "ds\tda\tdl\tno\tt0\tt1\n",
      "0.176682672802216\t0.0\t0.0\t0\t0\t100\n",
      "0.35176917694730764\t0.0\t0.0\t1\t100\t200\n",
      "0.561929737862065\t0.0\t0.0\t2\t200\t300\n",
      "0.8171727224060709\t0.0\t0.0\t3\t300\t400\n",
      "0.8747843279351402\t0.0\t0.0\t4\t400\t530\n",
      "0.5744135257153348\t0.0\t0.0\t5\t0\t530\n"
     ]
    }
   ],
   "source": [
    "## reproduce results for pair F in Figures 6a, 6c, 6e using the output above\n",
    "## from the function cmp.spa_angpre_len_dif\n",
    "pairF=cmp.ppf3('data/0.result_tables/pairF_LaurentiaRMnoErr_LaurentiaRMnoErr45deg.txt')\n",
    "#pairF_.txt without test\n",
    "print('ds\\tda\\tdl\\tno\\tt0\\tt1\\tequalWeighCPD')\n",
    "cmp.calc_nt(pairF,'0',0,100)\n",
    "cmp.calc_nt(pairF,'1',100,200)\n",
    "cmp.calc_nt(pairF,'2',200,300)\n",
    "cmp.calc_nt(pairF,'3',300,400)\n",
    "cmp.calc_nt(pairF,'4',400,530)\n",
    "cmp.calc_nt(pairF,'5',0,530)"
   ]
  },
  {
   "cell_type": "code",
   "execution_count": 11,
   "metadata": {},
   "outputs": [
    {
     "name": "stdout",
     "output_type": "stream",
     "text": [
      "ds\tda\tdl\tno\tt0\tt1\n",
      "0.176682672802216\t0.0\t0.0\t0\t0\t100\n",
      "0.35176917694730764\t0.0\t0.0\t1\t100\t200\n",
      "0.561929737862065\t0.0\t0.0\t2\t200\t300\n",
      "0.8171727224060709\t0.0\t0.0\t3\t300\t400\n",
      "0.8747843279351402\t0.0\t0.0\t4\t400\t530\n",
      "0.5744135257153348\t0.0\t0.0\t5\t0\t530\n"
     ]
    }
   ],
   "source": [
    "## reproduce results for pair F in Figures 6b, 6d, 6f using the same output above\n",
    "## from the function cmp.spa_angpre_len_dif\n",
    "#pairF.txt with test\n",
    "print('ds\\tda\\tdl\\tno\\tt0\\tt1\\tequalWeighCPD')\n",
    "cmp.calc(pairF,'0',0,100)\n",
    "cmp.calc(pairF,'1',100,200)\n",
    "cmp.calc(pairF,'2',200,300)\n",
    "cmp.calc(pairF,'3',300,400)\n",
    "cmp.calc(pairF,'4',400,530)\n",
    "cmp.calc(pairF,'5',0,530)"
   ]
  },
  {
   "cell_type": "markdown",
   "metadata": {},
   "source": [
    "## Figure 10 pair (a)"
   ]
  },
  {
   "cell_type": "code",
   "execution_count": 2,
   "metadata": {},
   "outputs": [
    {
     "name": "stdout",
     "output_type": "stream",
     "text": [
      "00_no\t01_tstop\t10_spa_pol_dif\t11_spa_pol_tes\t20_ang_seg_dif\t21_ang_seg_tes\t30_len_seg_dif\t31_len_seg_tes\t22_course_seg1\t23_course_seg2\t32_len_seg1\t33_len_seg2\n",
      "0\t0.0\t5.147335987512224\t0\tnan\tnan\tnan\tnan\tnan\tnan\tnan\tnan\n",
      "1\t10.0\t7.001796297426207\t1\tnan\tnan\t0.8161605555610272\t0\t285.020779667\t77.8897393654\t1.3616050844405654\t2.1777656400015926\n",
      "2\t20.0\t6.180885121529476\t0\t170.87375047330002\t0\t0.8169389443726365\t0\t123.2517817197\t-47.621968753600015\t4.066159402442237\t3.2492204580696002\n",
      "3\t30.0\t3.629579311648592\t0\t107.51717069659999\t0\t0.10955289997333595\t0\t55.60199635740001\t163.119167054\t1.5999677253451032\t1.7095206253184392\n",
      "4\t40.0\t6.05879741900248\t1\t44.17952569899998\t0\t3.2576549669748127\t0\t-107.147267209\t-62.967741510000025\t1.5393184649983633\t4.796973431973176\n",
      "5\t50.0\t1.2718160782072718\t0\t150.98197492409997\t0\t1.5236538880764936\t0\t73.7897937579\t-135.22823131800004\t5.534146234663954\t4.01049234658746\n",
      "6\t60.0\t1.8415932399735546\t0\t92.74538163900007\t0\t0.18825885282851396\t0\t-55.18113608400003\t37.56424555500004\t1.0198363131861112\t0.8315774603575973\n",
      "7\t70.0\t4.279312576808031\t0\t168.12385382799997\t0\t1.525024532144414\t0\t-172.998402938\t-4.874549110000032\t3.042380700643371\t1.517356168498957\n",
      "8\t80.0\t10.420166527859328\t1\t7.173839974000003\t0\t1.193131896671746\t0\t-53.64195597700001\t-46.468116003000006\t3.5610679512912453\t4.754199847962991\n",
      "9\t90.0\t10.047848832386682\t1\t131.869551843\t0\t0.5152240276295197\t0\t36.478605023\t168.348156866\t1.2967224758577895\t1.8119465034873092\n",
      "10\t100.0\t1.2762801180265497\t0\t136.81216015400005\t0\t1.3242149219289638\t0\t166.74843882600004\t29.936278671999986\t4.849655764166361\t6.1738706860953245\n",
      "11\t110.0\t3.273086947537739\t0\t97.499049835\t0\t0.9169376621978649\t0\t178.692883852\t81.193834017\t2.3454718853835104\t3.2624095475813752\n",
      "12\t140.0\t7.245046083032935\t0\t83.62199707053998\t0\t4.607143063893531\t0\t-100.04317267226003\t176.3348302572\t13.04983191664478\t8.44268885275125\n",
      "13\t150.0\t12.560642580785064\t1\t60.784796588000034\t0\t2.0125415363127503\t0\t-76.35126228999997\t-137.136058878\t7.189766370817142\t9.202307907129892\n",
      "14\t160.0\t12.10834501360004\t1\t38.476462161\t0\t6.083226571851517\t0\t-25.496810245999995\t12.979651915000005\t10.081024531619581\t3.997797959768065\n",
      "15\t170.0\t10.37200355541264\t0\t12.360847335000017\t0\t0.5933010795512326\t0\t-19.034281257000032\t-6.673433922000015\t6.3269468848327195\t5.733645805281487\n",
      "16\t180.0\t9.760157963905462\t1\t24.981723294000034\t0\t6.820385389362278\t0\t-25.95620106999999\t-50.937924364000025\t12.992891012916601\t6.172505623554323\n",
      "17\t190.0\t12.255443736761446\t1\t51.72246595920001\t0\t2.7643771916828\t0\t1.7974272550000023\t-49.925038704200006\t4.478440669969207\t1.7140634782864073\n",
      "18\t200.0\t1.7537566430887312\t0\t14.629352581419994\t0\t10.337010607266535\t0\t118.2843531776\t132.91370575902\t1.6520482941912484\t11.989058901457783\n",
      "19\t210.0\t2.4811301421070935\t0\t9.149711021200005\t0\t1.161452891661698\t0\t20.217200883299995\t29.3669119045\t6.241009729845114\t7.402462621506812\n",
      "20\t220.0\t2.885134809447417\t0\t41.01754563409999\t0\t2.877220158364893\t0\t13.385562397499996\t54.403108031599984\t7.535248069920304\t10.412468228285197\n",
      "21\t230.0\t2.856900863351253\t0\t47.8055184072\t0\t3.427293456681092\t0\t1.9766609747999837\t49.78217938199998\t6.922576248180346\t3.4952827914992537\n",
      "22\t240.0\t9.550764127295793\t1\t12.893951858899982\t0\t7.543829700516295\t0\t4.870723678899992\t-8.02322817999999\t3.379951013217835\t10.92378071373413\n",
      "23\t250.0\t10.969351631633828\t1\t93.3073581356\t0\t1.7696208005651637\t0\t88.89337636800002\t-4.413981767599978\t0.7898145160772484\t2.559435316642412\n",
      "24\t260.0\t4.136227638679095\t0\t80.610201459\t0\t5.345655009320821\t0\t-30.153140538999992\t-110.76334199799999\t6.219671168906102\t0.8740161595852812\n",
      "25\t270.0\t7.7541709511842685\t1\t165.645518144\t0\t4.241381155710581\t0\t-84.17042839359999\t81.47508975039999\t1.1034783028565278\t5.344859458567108\n",
      "26\t280.0\t12.992318686037926\t1\t19.470134521429998\t0\t2.3546220903546775\t0\t-19.33131677442998\t0.1388177470000187\t4.285368490938396\t6.639990581293073\n",
      "27\t290.0\t14.686824005256382\t1\t23.726919202220017\t0\t2.0975590894896654\t0\t-13.720499141999994\t-37.44741834422001\t4.44747576993188\t2.3499166804422145\n",
      "28\t300.0\t15.266020453648945\t1\t4.801459416499995\t0\t0.3588512134617121\t0\t24.271534334400002\t29.072993750899997\t0.6993831008881712\t1.0582343143498834\n",
      "29\t310.0\t17.30984083257232\t1\t157.92156198723\t0\t4.968317152468089\t0\t-11.902419564230001\t146.019142423\t5.996101549449638\t1.0277843969815494\n",
      "30\t320.0\t16.594665272278135\t1\t119.05850118357\t0\t2.050264798528162\t0\t-2.5783076173800055\t116.48019356619\t9.587714297480114\t7.537449498951951\n",
      "31\t330.0\t6.882312664211983\t0\t0.9260096157999556\t0\t20.31993120767677\t0\t40.30036702220002\t41.22637663799998\t4.414819351219395\t24.734750558896167\n",
      "32\t340.0\t7.262612038263635\t0\t3.124537274699975\t0\t5.51389764314098\t0\t38.1018393633\t41.22637663799998\t5.51389764314098\t0.0\n",
      "33\t400.0\t0.8004481655902393\t0\t100.71226384799996\t0\t7.783094502683117\t0\t-123.33461721700002\t135.95311893500002\t27.575728480255723\t19.792633977572606\n",
      "34\t410.0\t6.402585335498379\t0\t39.444271535999974\t0\t0.7435476184248433\t0\t-161.012236156\t159.543492308\t8.872972950633658\t8.129425332208815\n",
      "35\t420.0\t9.312929128022647\t0\t37.23871483100001\t0\t6.0660889384783605\t0\t-22.19181212800001\t15.046902703\t8.42805250870309\t14.49414144718145\n",
      "36\t430.0\t5.938137146345141\t0\t18.51066031900004\t0\t1.8644234330103178\t0\t-20.910082690000024\t-2.399422370999986\t13.735198260575853\t11.870774827565535\n"
     ]
    },
    {
     "data": {
      "text/plain": [
       "array([( 0,   0.,  5.14733599, 0,          nan, nan,         nan, nan,           nan,             nan,         nan,         nan),\n",
       "       ( 1,  10.,  7.0017963 , 1,          nan, nan,  0.81616056,  0.,  285.02077967,  7.78897394e+01,  1.36160508,  2.17776564),\n",
       "       ( 2,  20.,  6.18088512, 0, 170.87375047,  0.,  0.81693894,  0.,  123.25178172, -4.76219688e+01,  4.0661594 ,  3.24922046),\n",
       "       ( 3,  30.,  3.62957931, 0, 107.5171707 ,  0.,  0.1095529 ,  0.,   55.60199636,  1.63119167e+02,  1.59996773,  1.70952063),\n",
       "       ( 4,  40.,  6.05879742, 1,  44.1795257 ,  0.,  3.25765497,  0., -107.14726721, -6.29677415e+01,  1.53931846,  4.79697343),\n",
       "       ( 5,  50.,  1.27181608, 0, 150.98197492,  0.,  1.52365389,  0.,   73.78979376, -1.35228231e+02,  5.53414623,  4.01049235),\n",
       "       ( 6,  60.,  1.84159324, 0,  92.74538164,  0.,  0.18825885,  0.,  -55.18113608,  3.75642456e+01,  1.01983631,  0.83157746),\n",
       "       ( 7,  70.,  4.27931258, 0, 168.12385383,  0.,  1.52502453,  0., -172.99840294, -4.87454911e+00,  3.0423807 ,  1.51735617),\n",
       "       ( 8,  80., 10.42016653, 1,   7.17383997,  0.,  1.1931319 ,  0.,  -53.64195598, -4.64681160e+01,  3.56106795,  4.75419985),\n",
       "       ( 9,  90., 10.04784883, 1, 131.86955184,  0.,  0.51522403,  0.,   36.47860502,  1.68348157e+02,  1.29672248,  1.8119465 ),\n",
       "       (10, 100.,  1.27628012, 0, 136.81216015,  0.,  1.32421492,  0.,  166.74843883,  2.99362787e+01,  4.84965576,  6.17387069),\n",
       "       (11, 110.,  3.27308695, 0,  97.49904983,  0.,  0.91693766,  0.,  178.69288385,  8.11938340e+01,  2.34547189,  3.26240955),\n",
       "       (12, 140.,  7.24504608, 0,  83.62199707,  0.,  4.60714306,  0., -100.04317267,  1.76334830e+02, 13.04983192,  8.44268885),\n",
       "       (13, 150., 12.56064258, 1,  60.78479659,  0.,  2.01254154,  0.,  -76.35126229, -1.37136059e+02,  7.18976637,  9.20230791),\n",
       "       (14, 160., 12.10834501, 1,  38.47646216,  0.,  6.08322657,  0.,  -25.49681025,  1.29796519e+01, 10.08102453,  3.99779796),\n",
       "       (15, 170., 10.37200356, 0,  12.36084734,  0.,  0.59330108,  0.,  -19.03428126, -6.67343392e+00,  6.32694688,  5.73364581),\n",
       "       (16, 180.,  9.76015796, 1,  24.98172329,  0.,  6.82038539,  0.,  -25.95620107, -5.09379244e+01, 12.99289101,  6.17250562),\n",
       "       (17, 190., 12.25544374, 1,  51.72246596,  0.,  2.76437719,  0.,    1.79742726, -4.99250387e+01,  4.47844067,  1.71406348),\n",
       "       (18, 200.,  1.75375664, 0,  14.62935258,  0., 10.33701061,  0.,  118.28435318,  1.32913706e+02,  1.65204829, 11.9890589 ),\n",
       "       (19, 210.,  2.48113014, 0,   9.14971102,  0.,  1.16145289,  0.,   20.21720088,  2.93669119e+01,  6.24100973,  7.40246262),\n",
       "       (20, 220.,  2.88513481, 0,  41.01754563,  0.,  2.87722016,  0.,   13.3855624 ,  5.44031080e+01,  7.53524807, 10.41246823),\n",
       "       (21, 230.,  2.85690086, 0,  47.80551841,  0.,  3.42729346,  0.,    1.97666097,  4.97821794e+01,  6.92257625,  3.49528279),\n",
       "       (22, 240.,  9.55076413, 1,  12.89395186,  0.,  7.5438297 ,  0.,    4.87072368, -8.02322818e+00,  3.37995101, 10.92378071),\n",
       "       (23, 250., 10.96935163, 1,  93.30735814,  0.,  1.7696208 ,  0.,   88.89337637, -4.41398177e+00,  0.78981452,  2.55943532),\n",
       "       (24, 260.,  4.13622764, 0,  80.61020146,  0.,  5.34565501,  0.,  -30.15314054, -1.10763342e+02,  6.21967117,  0.87401616),\n",
       "       (25, 270.,  7.75417095, 1, 165.64551814,  0.,  4.24138116,  0.,  -84.17042839,  8.14750898e+01,  1.1034783 ,  5.34485946),\n",
       "       (26, 280., 12.99231869, 1,  19.47013452,  0.,  2.35462209,  0.,  -19.33131677,  1.38817747e-01,  4.28536849,  6.63999058),\n",
       "       (27, 290., 14.68682401, 1,  23.7269192 ,  0.,  2.09755909,  0.,  -13.72049914, -3.74474183e+01,  4.44747577,  2.34991668),\n",
       "       (28, 300., 15.26602045, 1,   4.80145942,  0.,  0.35885121,  0.,   24.27153433,  2.90729938e+01,  0.6993831 ,  1.05823431),\n",
       "       (29, 310., 17.30984083, 1, 157.92156199,  0.,  4.96831715,  0.,  -11.90241956,  1.46019142e+02,  5.99610155,  1.0277844 ),\n",
       "       (30, 320., 16.59466527, 1, 119.05850118,  0.,  2.0502648 ,  0.,   -2.57830762,  1.16480194e+02,  9.5877143 ,  7.5374495 ),\n",
       "       (31, 330.,  6.88231266, 0,   0.92600962,  0., 20.31993121,  0.,   40.30036702,  4.12263766e+01,  4.41481935, 24.73475056),\n",
       "       (32, 340.,  7.26261204, 0,   3.12453727,  0.,  5.51389764,  0.,   38.10183936,  4.12263766e+01,  5.51389764,  0.        ),\n",
       "       (33, 400.,  0.80044817, 0, 100.71226385,  0.,  7.7830945 ,  0., -123.33461722,  1.35953119e+02, 27.57572848, 19.79263398),\n",
       "       (34, 410.,  6.40258534, 0,  39.44427154,  0.,  0.74354762,  0., -161.01223616,  1.59543492e+02,  8.87297295,  8.12942533),\n",
       "       (35, 420.,  9.31292913, 0,  37.23871483,  0.,  6.06608894,  0.,  -22.19181213,  1.50469027e+01,  8.42805251, 14.49414145),\n",
       "       (36, 430.,  5.93813715, 0,  18.51066032,  0.,  1.86442343,  0.,  -20.91008269, -2.39942237e+00, 13.73519826, 11.87077483)],\n",
       "      dtype=[('00_no', '<i2'), ('01_tstop', '<f2'), ('10_spa_pol_dif', '<f8'), ('11_spa_pol_tes', 'i1'), ('20_ang_seg_dif', '<f8'), ('21_ang_seg_tes', '<f4'), ('30_len_seg_dif', '<f8'), ('31_len_seg_tes', '<f4'), ('22_course_seg1', '<f8'), ('23_course_seg2', '<f8'), ('32_len_seg1', '<f8'), ('33_len_seg2', '<f8')])"
      ]
     },
     "execution_count": 2,
     "metadata": {},
     "output_type": "execute_result"
    }
   ],
   "source": [
    "## calculate pair Baltica and Laurentia's difference scores in terms of space (coeval poles),\n",
    "## length (coeval segments) and angle (coeval orientation change)\n",
    "copy_tree(\"data/rot_version/Laurentia_RM_GMAP2015BALcoord\",\"/tmp/Laurentia_RM_GMAP2015BALcoord\")\n",
    "copy_tree(\"data/Baltica_StableEurope_RM_NoIntp\",\"/tmp/Baltica_StableEurope_RM_NoIntp\")\n",
    "cmp.spa_angpre_len_dif('data/rot_version/Laurentia_RM_GMAP2015BALcoord.txt',\n",
    "                       'data/Baltica_StableEurope_RM_NoIntp.txt',\n",
    "                       pnh1=0,pnh2=1)\n",
    "# the results should be the same as stored in\n",
    "# data/0.result_tables/LaureRMgmap2015BALcoord_BalRM.txt"
   ]
  },
  {
   "cell_type": "code",
   "execution_count": 6,
   "metadata": {},
   "outputs": [
    {
     "name": "stdout",
     "output_type": "stream",
     "text": [
      "ds\tda\tdl\tno\tt0\tt1\tequalWeighCPD\n",
      "0.103919\t0.623628\t0.0417716\t0\t0\t100\t0.256439\n",
      "0.156899\t0.227443\t0.126521\t1\t100\t200\t0.170288\n",
      "0.123066\t0.365675\t0.133068\t2\t200\t280\t0.20727\n",
      "0.307399\t0.521818\t0.0877977\t3\t280\t320\t0.305671\n",
      "0.151982\t0.221145\t0.142501\t4\t320\t430\t0.171876\n",
      "0.151657\t0.376146\t0.108516\t5\t0\t430\t0.212106\n"
     ]
    }
   ],
   "source": [
    "## reproduce d_notest results for the APWP pair in Figure 10(a) using the output above\n",
    "## from the function cmp.spa_angpre_len_dif\n",
    "pair_10a=cmp.ppf3('data/0.result_tables/LaureRMgmap2015BALcoord_BalRM.txt')\n",
    "#10a_ntest.txt\n",
    "print('ds\\tda\\tdl\\tno\\tt0\\tt1\\tequalWeighCPD')\n",
    "cmp.calc_nt(pair_10a,'0',0,100)\n",
    "cmp.calc_nt(pair_10a,'1',100,200)\n",
    "cmp.calc_nt(pair_10a,'2',200,280)\n",
    "cmp.calc_nt(pair_10a,'3',280,320)\n",
    "cmp.calc_nt(pair_10a,'4',320,430)\n",
    "cmp.calc_nt(pair_10a,'5',0,430)"
   ]
  },
  {
   "cell_type": "code",
   "execution_count": 7,
   "metadata": {},
   "outputs": [
    {
     "name": "stdout",
     "output_type": "stream",
     "text": [
      "ds\tda\tdl\tno\tt0\tt1\tequalWeighCPD\n",
      "0.0609611\t0\t0\t0\t0\t100\t0.0203204\n",
      "0.103744\t0\t0\t1\t100\t200\t0.0345812\n",
      "0.0917036\t0\t0\t2\t200\t280\t0.0305679\n",
      "0.307399\t0\t0\t3\t280\t320\t0.102466\n",
      "0.0474133\t0\t0\t4\t320\t430\t0.0158044\n",
      "0.100182\t0\t0\t5\t0\t430\t0.0333941\n"
     ]
    }
   ],
   "source": [
    "## significant results\n",
    "#10a_test.txt\n",
    "print('ds\\tda\\tdl\\tno\\tt0\\tt1\\tequalWeighCPD')\n",
    "cmp.calc(pair_10a,'0',0,100)\n",
    "cmp.calc(pair_10a,'1',100,200)\n",
    "cmp.calc(pair_10a,'2',200,280)\n",
    "cmp.calc(pair_10a,'3',280,320)\n",
    "cmp.calc(pair_10a,'4',320,430)\n",
    "cmp.calc(pair_10a,'5',0,430)"
   ]
  },
  {
   "cell_type": "markdown",
   "metadata": {},
   "source": [
    "## Figure 10 pair (b)"
   ]
  },
  {
   "cell_type": "code",
   "execution_count": 8,
   "metadata": {
    "scrolled": true
   },
   "outputs": [
    {
     "name": "stdout",
     "output_type": "stream",
     "text": [
      "00_no\t01_tstop\t10_spa_pol_dif\t11_spa_pol_tes\t20_ang_seg_dif\t21_ang_seg_tes\t30_len_seg_dif\t31_len_seg_tes\t22_course_seg1\t23_course_seg2\t32_len_seg1\t33_len_seg2\n",
      "0\t0.0\t5.511605279531963\t1\tnan\tnan\tnan\tnan\tnan\tnan\tnan\tnan\n",
      "1\t10.0\t6.838840981689385\t1\tnan\tnan\t1.4007267098175318\t0\t223.662074975\t77.8897393668\t0.7770389303206573\t2.177765640138189\n",
      "2\t20.0\t6.131170778282259\t0\t164.7897193518\t0\t0.6779218946133092\t0\t147.5883118936\t-47.621968754600005\t3.9271423527523797\t3.2492204581390705\n",
      "3\t30.0\t3.6295793119117548\t0\t153.23538056100003\t0\t0.8706639618492285\t0\t9.883786493999992\t163.11916705500002\t0.8388566638504635\t1.709520625699692\n",
      "4\t40.0\t5.24200286568283\t1\t44.19072628300003\t0\t3.9727608013639077\t0\t-18.777015226999993\t-62.967741510000025\t0.8242126305540449\t4.7969734319179524\n",
      "5\t50.0\t1.5761918278308356\t0\t148.86528379919997\t0\t2.4815400896795192\t0\t53.11391558979999\t-158.02080061100003\t5.747157815932648\t3.265617726253129\n",
      "6\t60.0\t0.8449292600628675\t0\t125.61853399120999\t0\t0.9144896783851173\t0\t-59.276632990999985\t66.34190100021\t0.5235372760235217\t1.438026954408639\n",
      "7\t70.0\t6.0702700690756135\t0\t170.45138298645\t0\t1.0418946110297655\t0\t-173.870001127\t-3.418618140549995\t3.520844095420636\t2.4789494843908706\n",
      "8\t80.0\t12.226679039276421\t1\t3.5835120669999867\t0\t2.341270273124522\t0\t-57.545795102\t-53.96228303500001\t2.412929575196812\t4.754199848321334\n",
      "9\t90.0\t10.047848832337825\t1\t67.85186860100004\t0\t1.268090176202651\t0\t-123.79997452999999\t168.34815686899998\t0.543856327440773\t1.811946503643424\n",
      "10\t100.0\t1.2762801178234944\t0\t66.10619759000002\t0\t1.324214922033966\t0\t-36.16991892500002\t29.936278665000003\t4.849655764008953\t6.173870686042919\n",
      "11\t110.0\t3.2730869472180966\t0\t97.499049842\t0\t0.9169376623740595\t0\t178.69288386\t81.19383401799999\t2.3454718852070924\t3.262409547581152\n",
      "12\t140.0\t9.354172190939595\t1\t126.22849182530001\t0\t5.034430507334813\t0\t-57.4366833121\t176.3348248626\t13.47711723722411\t8.442686729889298\n",
      "13\t150.0\t13.128304782497606\t0\t19.099309253999962\t0\t0.8423453233785612\t0\t-118.03673895400001\t-137.13604820799998\t8.35996048913475\t9.20230581251331\n",
      "14\t160.0\t9.425844122815437\t0\t36.994867666999966\t0\t5.403494138772406\t0\t-24.01522115999998\t12.979646506999984\t9.401292098319214\t3.9977979595468076\n",
      "15\t170.0\t8.146722956940526\t0\t2.2280704740000488\t0\t2.783036624958121\t0\t-4.4453634429999624\t-6.673433917000011\t8.516682430163328\t5.7336458052052075\n",
      "16\t180.0\t7.804026042011393\t0\t21.174431736999992\t0\t8.532228436274398\t0\t-29.76349262100001\t-50.937924358000004\t14.704734059820497\t6.172505623546099\n",
      "17\t190.0\t11.006049868754095\t1\t45.0026487865\t0\t3.2471226536735873\t0\t-4.922389919000011\t-49.925038705500015\t4.961186132103543\t1.7140634784299553\n",
      "18\t200.0\t2.1688105007678047\t0\t26.443276570900025\t0\t8.557310840585092\t0\t96.8553972931\t123.29867386400002\t2.064994302569347\t10.62230514315444\n",
      "19\t210.0\t4.212861928776948\t0\t10.460040622099996\t0\t0.6907039919969424\t0\t41.07937156769998\t30.619330945599984\t5.831743792614043\t5.141039800617101\n",
      "20\t220.0\t2.1974118481800446\t0\t45.9248527964\t0\t4.976958108017754\t0\t10.9037597743\t56.8286125707\t7.370443726644472\t12.347401834662225\n",
      "21\t230.0\t3.1844879568040416\t0\t34.74311465520003\t0\t3.525818974894486\t0\t2.9443571447999943\t37.687471800000026\t6.971278051791999\t3.445459076897513\n",
      "22\t240.0\t7.351643112843208\t0\t9.378071741600024\t0\t6.754391509588386\t0\t13.715703594399997\t23.09377533600002\t3.385607130947291\t10.139998640535676\n",
      "23\t250.0\t8.855091610231327\t0\t95.68863342419999\t0\t2.3175812167798195\t0\t-128.260965411\t-32.57233198680001\t0.340295646051904\t2.6578768628317238\n",
      "24\t260.0\t2.317668515550227\t0\t113.12234607299999\t0\t5.2927492796544\t0\t173.08999029900002\t-73.78766362799999\t6.450794212952311\t1.1580449332979108\n",
      "25\t270.0\t5.506070129351344\t0\t160.84953025151995\t0\t3.9754954217530756\t0\t-103.49569039131995\t57.3538398602\t1.7529272313229944\t5.72842265307607\n",
      "26\t280.0\t11.96199835738572\t1\t0.5367814723300057\t0\t3.814139280977061\t0\t-2.8003327079300107\t-2.263551235600005\t4.575130992187644\t8.389270273164705\n",
      "27\t290.0\t13.035614551340469\t1\t30.39412961865\t0\t2.1741586874388275\t0\t-7.895310590999998\t-38.289440209649996\t4.187165313942274\t2.0130066265034467\n",
      "28\t300.0\t13.150812771318336\t1\t1.387087268800002\t0\t0.21490696451135005\t0\t32.68396174829999\t31.29687447949999\t0.8643057621668402\t0.6493987976554901\n",
      "29\t310.0\t16.731280176118577\t1\t171.290712707398\t0\t6.31630368062216\t0\t-28.123117447397988\t143.16759526\t7.261574114396675\t0.9452704337745147\n",
      "30\t320.0\t17.611086240519946\t1\t132.504217589\t0\t3.150957065360041\t0\t-0.5547716250000008\t131.949445964\t10.798693550670473\t7.647736485310432\n",
      "31\t330.0\t5.040752658015366\t0\t5.974757564200019\t0\t19.75759192550258\t1\t38.682322763200006\t32.70756519899999\t4.977158633217887\t24.734750558720467\n",
      "32\t340.0\t5.155580301156969\t0\t1.4655278619999876\t0\t5.864673404333482\t0\t31.242037337\t32.70756519899999\t5.864673404333482\t0.0\n",
      "33\t400.0\t0.8004481652833396\t0\t107.92343301400004\t0\t5.652498937370652\t0\t-116.12344805199999\t135.95311893399997\t25.445132914821304\t19.792633977450652\n",
      "34\t410.0\t4.351940165754866\t0\t18.696732064000003\t0\t3.1611037737482865\t0\t178.24022436500002\t159.54349230100001\t4.96832155868666\t8.129425332434947\n",
      "35\t420.0\t9.824083778859928\t0\t10.943527690999986\t0\t5.784030706709505\t0\t3.0131432940000025\t13.956670984999988\t8.49391969737266\t14.277950404082164\n",
      "36\t430.0\t7.677754573202039\t0\t8.900421767999944\t0\t1.9476358149957314\t0\t-11.022777272999974\t-2.12235550500003\t13.705492229744458\t11.757856414748726\n"
     ]
    },
    {
     "data": {
      "text/plain": [
       "array([( 0,   0.,  5.51160528, 1,          nan, nan,         nan, nan,           nan,           nan,         nan,         nan),\n",
       "       ( 1,  10.,  6.83884098, 1,          nan, nan,  1.40072671,  0.,  223.66207497,   77.88973937,  0.77703893,  2.17776564),\n",
       "       ( 2,  20.,  6.13117078, 0, 164.78971935,  0.,  0.67792189,  0.,  147.58831189,  -47.62196875,  3.92714235,  3.24922046),\n",
       "       ( 3,  30.,  3.62957931, 0, 153.23538056,  0.,  0.87066396,  0.,    9.88378649,  163.11916706,  0.83885666,  1.70952063),\n",
       "       ( 4,  40.,  5.24200287, 1,  44.19072628,  0.,  3.9727608 ,  0.,  -18.77701523,  -62.96774151,  0.82421263,  4.79697343),\n",
       "       ( 5,  50.,  1.57619183, 0, 148.8652838 ,  0.,  2.48154009,  0.,   53.11391559, -158.02080061,  5.74715782,  3.26561773),\n",
       "       ( 6,  60.,  0.84492926, 0, 125.61853399,  0.,  0.91448968,  0.,  -59.27663299,   66.341901  ,  0.52353728,  1.43802695),\n",
       "       ( 7,  70.,  6.07027007, 0, 170.45138299,  0.,  1.04189461,  0., -173.87000113,   -3.41861814,  3.5208441 ,  2.47894948),\n",
       "       ( 8,  80., 12.22667904, 1,   3.58351207,  0.,  2.34127027,  0.,  -57.5457951 ,  -53.96228304,  2.41292958,  4.75419985),\n",
       "       ( 9,  90., 10.04784883, 1,  67.8518686 ,  0.,  1.26809018,  0., -123.79997453,  168.34815687,  0.54385633,  1.8119465 ),\n",
       "       (10, 100.,  1.27628012, 0,  66.10619759,  0.,  1.32421492,  0.,  -36.16991893,   29.93627867,  4.84965576,  6.17387069),\n",
       "       (11, 110.,  3.27308695, 0,  97.49904984,  0.,  0.91693766,  0.,  178.69288386,   81.19383402,  2.34547189,  3.26240955),\n",
       "       (12, 140.,  9.35417219, 1, 126.22849183,  0.,  5.03443051,  0.,  -57.43668331,  176.33482486, 13.47711724,  8.44268673),\n",
       "       (13, 150., 13.12830478, 0,  19.09930925,  0.,  0.84234532,  0., -118.03673895, -137.13604821,  8.35996049,  9.20230581),\n",
       "       (14, 160.,  9.42584412, 0,  36.99486767,  0.,  5.40349414,  0.,  -24.01522116,   12.97964651,  9.4012921 ,  3.99779796),\n",
       "       (15, 170.,  8.14672296, 0,   2.22807047,  0.,  2.78303662,  0.,   -4.44536344,   -6.67343392,  8.51668243,  5.73364581),\n",
       "       (16, 180.,  7.80402604, 0,  21.17443174,  0.,  8.53222844,  0.,  -29.76349262,  -50.93792436, 14.70473406,  6.17250562),\n",
       "       (17, 190., 11.00604987, 1,  45.00264879,  0.,  3.24712265,  0.,   -4.92238992,  -49.92503871,  4.96118613,  1.71406348),\n",
       "       (18, 200.,  2.1688105 , 0,  26.44327657,  0.,  8.55731084,  0.,   96.85539729,  123.29867386,  2.0649943 , 10.62230514),\n",
       "       (19, 210.,  4.21286193, 0,  10.46004062,  0.,  0.69070399,  0.,   41.07937157,   30.61933095,  5.83174379,  5.1410398 ),\n",
       "       (20, 220.,  2.19741185, 0,  45.9248528 ,  0.,  4.97695811,  0.,   10.90375977,   56.82861257,  7.37044373, 12.34740183),\n",
       "       (21, 230.,  3.18448796, 0,  34.74311466,  0.,  3.52581897,  0.,    2.94435714,   37.6874718 ,  6.97127805,  3.44545908),\n",
       "       (22, 240.,  7.35164311, 0,   9.37807174,  0.,  6.75439151,  0.,   13.71570359,   23.09377534,  3.38560713, 10.13999864),\n",
       "       (23, 250.,  8.85509161, 0,  95.68863342,  0.,  2.31758122,  0., -128.26096541,  -32.57233199,  0.34029565,  2.65787686),\n",
       "       (24, 260.,  2.31766852, 0, 113.12234607,  0.,  5.29274928,  0.,  173.0899903 ,  -73.78766363,  6.45079421,  1.15804493),\n",
       "       (25, 270.,  5.50607013, 0, 160.84953025,  0.,  3.97549542,  0., -103.49569039,   57.35383986,  1.75292723,  5.72842265),\n",
       "       (26, 280., 11.96199836, 1,   0.53678147,  0.,  3.81413928,  0.,   -2.80033271,   -2.26355124,  4.57513099,  8.38927027),\n",
       "       (27, 290., 13.03561455, 1,  30.39412962,  0.,  2.17415869,  0.,   -7.89531059,  -38.28944021,  4.18716531,  2.01300663),\n",
       "       (28, 300., 13.15081277, 1,   1.38708727,  0.,  0.21490696,  0.,   32.68396175,   31.29687448,  0.86430576,  0.6493988 ),\n",
       "       (29, 310., 16.73128018, 1, 171.29071271,  0.,  6.31630368,  0.,  -28.12311745,  143.16759526,  7.26157411,  0.94527043),\n",
       "       (30, 320., 17.61108624, 1, 132.50421759,  0.,  3.15095707,  0.,   -0.55477163,  131.94944596, 10.79869355,  7.64773649),\n",
       "       (31, 330.,  5.04075266, 0,   5.97475756,  0., 19.75759193,  1.,   38.68232276,   32.7075652 ,  4.97715863, 24.73475056),\n",
       "       (32, 340.,  5.1555803 , 0,   1.46552786,  0.,  5.8646734 ,  0.,   31.24203734,   32.7075652 ,  5.8646734 ,  0.        ),\n",
       "       (33, 400.,  0.80044817, 0, 107.92343301,  0.,  5.65249894,  0., -116.12344805,  135.95311893, 25.44513291, 19.79263398),\n",
       "       (34, 410.,  4.35194017, 0,  18.69673206,  0.,  3.16110377,  0.,  178.24022437,  159.5434923 ,  4.96832156,  8.12942533),\n",
       "       (35, 420.,  9.82408378, 0,  10.94352769,  0.,  5.78403071,  0.,    3.01314329,   13.95667098,  8.4939197 , 14.2779504 ),\n",
       "       (36, 430.,  7.67775457, 0,   8.90042177,  0.,  1.94763581,  0.,  -11.02277727,   -2.12235551, 13.70549223, 11.75785641)],\n",
       "      dtype=[('00_no', '<i2'), ('01_tstop', '<f2'), ('10_spa_pol_dif', '<f8'), ('11_spa_pol_tes', 'i1'), ('20_ang_seg_dif', '<f8'), ('21_ang_seg_tes', '<f4'), ('30_len_seg_dif', '<f8'), ('31_len_seg_tes', '<f4'), ('22_course_seg1', '<f8'), ('23_course_seg2', '<f8'), ('32_len_seg1', '<f8'), ('33_len_seg2', '<f8')])"
      ]
     },
     "execution_count": 8,
     "metadata": {},
     "output_type": "execute_result"
    }
   ],
   "source": [
    "## calculate pair Baltica and Laurentia (I-error corrected)'s difference scores in terms of\n",
    "## space (coeval poles), length (coeval segments) and angle (coeval orientation change)\n",
    "copy_tree(\"data/rot_version/Laurentia_F6_RM_GMAP2015BALcoord\",\"/tmp/Laurentia_F6_RM_GMAP2015BALcoord\")\n",
    "copy_tree(\"data/Baltica_StableEurope_F6_RM_NoIntp\",\"/tmp/Baltica_StableEurope_F6_RM_NoIntp\")\n",
    "cmp.spa_angpre_len_dif('data/rot_version/Laurentia_F6_RM_GMAP2015BALcoord.txt',\n",
    "                       'data/Baltica_StableEurope_F6_RM_NoIntp.txt',\n",
    "                       pnh1=0,pnh2=1)\n",
    "# the results should be the same as stored in\n",
    "# data/0.result_tables/LaureF6RMgmap2015BALcoord_BalF6RM.txt"
   ]
  },
  {
   "cell_type": "code",
   "execution_count": 9,
   "metadata": {},
   "outputs": [
    {
     "name": "stdout",
     "output_type": "stream",
     "text": [
      "ds\tda\tdl\tno\tt0\tt1\tequalWeighCPD\n",
      "0.107992\t0.583144\t0.0603922\t0\t0\t100\t0.250509\n",
      "0.145741\t0.219977\t0.130902\t1\t100\t200\t0.16554\n",
      "0.106125\t0.365272\t0.145239\t2\t200\t280\t0.205545\n",
      "0.289963\t0.565152\t0.109864\t3\t280\t320\t0.32166\n",
      "0.144176\t0.164366\t0.142085\t4\t320\t430\t0.150209\n",
      "0.141983\t0.361833\t0.118076\t5\t0\t430\t0.207297\n"
     ]
    }
   ],
   "source": [
    "## reproduce d_notest results for pair (b) in Figure 10(b) using the output above\n",
    "## from the function cmp.spa_angpre_len_dif\n",
    "pair_10b=cmp.ppf3('data/0.result_tables/LaureF6RMgmap2015BALcoord_BalF6RM.txt')\n",
    "#10b_ntest.txt\n",
    "print('ds\\tda\\tdl\\tno\\tt0\\tt1\\tequalWeighCPD')\n",
    "cmp.calc_nt(pair_10b,'0',0,100)\n",
    "cmp.calc_nt(pair_10b,'1',100,200)\n",
    "cmp.calc_nt(pair_10b,'2',200,280)\n",
    "cmp.calc_nt(pair_10b,'3',280,320)\n",
    "cmp.calc_nt(pair_10b,'4',320,430)\n",
    "cmp.calc_nt(pair_10b,'5',0,430)"
   ]
  },
  {
   "cell_type": "code",
   "execution_count": 10,
   "metadata": {},
   "outputs": [
    {
     "name": "stdout",
     "output_type": "stream",
     "text": [
      "ds\tda\tdl\tno\tt0\tt1\tequalWeighCPD\n",
      "0.0724854\t0\t0\t0\t0\t100\t0.0241618\n",
      "0.0452449\t0\t0\t1\t100\t200\t0.0150816\n",
      "0.0265822\t0\t0\t2\t200\t280\t0.00886074\n",
      "0.289963\t0\t0\t3\t280\t320\t0.0966544\n",
      "0.0503174\t0\t0.0665741\t4\t320\t430\t0.0389638\n",
      "0.0717395\t0\t0.0170306\t5\t0\t430\t0.02959\n"
     ]
    }
   ],
   "source": [
    "## significant results\n",
    "#10b_test.txt\n",
    "print('ds\\tda\\tdl\\tno\\tt0\\tt1\\tequalWeighCPD')\n",
    "cmp.calc(pair_10b,'0',0,100)\n",
    "cmp.calc(pair_10b,'1',100,200)\n",
    "cmp.calc(pair_10b,'2',200,280)\n",
    "cmp.calc(pair_10b,'3',280,320)\n",
    "cmp.calc(pair_10b,'4',320,430)\n",
    "cmp.calc(pair_10b,'5',0,430)"
   ]
  },
  {
   "cell_type": "markdown",
   "metadata": {},
   "source": [
    "## Figure 10 pair (a)'s Baltica (Uncorrected) vs pair (b)'s Laurentia (Corrected)"
   ]
  },
  {
   "cell_type": "code",
   "execution_count": 3,
   "metadata": {
    "scrolled": true
   },
   "outputs": [
    {
     "name": "stdout",
     "output_type": "stream",
     "text": [
      "00_no\t01_tstop\t10_spa_pol_dif\t11_spa_pol_tes\t20_ang_seg_dif\t21_ang_seg_tes\t30_len_seg_dif\t31_len_seg_tes\t22_course_seg1\t23_course_seg2\t32_len_seg1\t33_len_seg2\n",
      "0\t0.0\t5.5116052791749235\t1\tnan\tnan\tnan\tnan\tnan\tnan\tnan\tnan\n",
      "1\t10.0\t6.838840981328586\t1\tnan\tnan\t1.4007267096809353\t0\t223.662074975\t77.8897393654\t0.7770389303206573\t2.1777656400015926\n",
      "2\t20.0\t6.131170777853502\t0\t164.78971935279998\t0\t0.6779218946827794\t0\t147.5883118936\t-47.621968753600015\t3.9271423527523797\t3.2492204580696002\n",
      "3\t30.0\t3.6295793118554847\t0\t153.23538056\t0\t0.8706639614679756\t0\t9.883786493999992\t163.119167054\t0.8388566638504635\t1.7095206253184392\n",
      "4\t40.0\t5.24200286568283\t1\t44.19072628300003\t0\t3.972760801419131\t0\t-18.777015226999993\t-62.967741510000025\t0.8242126305540449\t4.796973431973176\n",
      "5\t50.0\t1.00981254598451\t0\t171.65785309219996\t0\t1.736665469345188\t0\t53.11391558979999\t-135.22823131800004\t5.747157815932648\t4.01049234658746\n",
      "6\t60.0\t1.1105263534761594\t0\t96.84087854600003\t0\t0.30804018433407554\t0\t-59.276632990999985\t37.56424555500004\t0.5235372760235217\t0.8315774603575973\n",
      "7\t70.0\t6.070270069389073\t0\t168.99545201699996\t0\t2.003487926921679\t0\t-173.870001127\t-4.874549110000032\t3.520844095420636\t1.517356168498957\n",
      "8\t80.0\t12.226679039144893\t1\t11.077679098999994\t0\t2.341270272766179\t0\t-57.545795102\t-46.468116003000006\t2.412929575196812\t4.754199847962991\n",
      "9\t90.0\t10.047848832446258\t1\t67.851868604\t0\t1.2680901760465364\t0\t-123.79997452999999\t168.348156866\t0.543856327440773\t1.8119465034873092\n",
      "10\t100.0\t1.2762801177920793\t0\t66.106197597\t0\t1.3242149220863713\t0\t-36.16991892500002\t29.936278671999986\t4.849655764008953\t6.1738706860953245\n",
      "11\t110.0\t3.2730869472180966\t0\t97.499049843\t0\t0.9169376623742829\t0\t178.69288386\t81.193834017\t2.3454718852070924\t3.2624095475813752\n",
      "12\t140.0\t9.354170061353008\t1\t126.2284864307\t0\t5.034428384472861\t0\t-57.4366833121\t176.3348302572\t13.47711723722411\t8.44268885275125\n",
      "13\t150.0\t13.128304782621672\t0\t19.099319923999985\t0\t0.8423474179951427\t0\t-118.03673895400001\t-137.136058878\t8.35996048913475\t9.202307907129892\n",
      "14\t160.0\t9.425844122876574\t0\t36.99487307499999\t0\t5.4034941385511495\t0\t-24.01522115999998\t12.979651915000005\t9.401292098319214\t3.997797959768065\n",
      "15\t170.0\t8.146722956925936\t0\t2.2280704790000527\t0\t2.7830366248818414\t0\t-4.4453634429999624\t-6.673433922000015\t8.516682430163328\t5.733645805281487\n",
      "16\t180.0\t7.804026042369257\t1\t21.174431743000014\t0\t8.532228436266173\t0\t-29.76349262100001\t-50.937924364000025\t14.704734059820497\t6.172505623554323\n",
      "17\t190.0\t11.006049869086121\t1\t45.002648785199995\t0\t3.2471226538171356\t0\t-4.922389919000011\t-49.925038704200006\t4.961186132103543\t1.7140634782864073\n",
      "18\t200.0\t1.3746171609236177\t0\t36.05830846591999\t0\t9.924064598888435\t0\t96.8553972931\t132.91370575902\t2.064994302569347\t11.989058901457783\n",
      "19\t210.0\t3.934552795609692\t0\t11.71245966319998\t0\t1.570718828892769\t0\t41.07937156769998\t29.3669119045\t5.831743792614043\t7.402462621506812\n",
      "20\t220.0\t4.542293375448131\t0\t43.499348257299985\t0\t3.042024501640726\t0\t10.9037597743\t54.403108031599984\t7.370443726644472\t10.412468228285197\n",
      "21\t230.0\t2.051729175044187\t0\t46.83782223719999\t0\t3.4759952602927453\t0\t2.9443571447999943\t49.78217938199998\t6.971278051791999\t3.4952827914992537\n",
      "22\t240.0\t6.409239079304716\t0\t21.738931774399987\t0\t7.53817358278684\t0\t13.715703594399997\t-8.02322817999999\t3.385607130947291\t10.92378071373413\n",
      "23\t250.0\t9.129680526254326\t0\t123.84698364340002\t0\t2.2191396705905078\t0\t-128.260965411\t-4.413981767599978\t0.340295646051904\t2.559435316642412\n",
      "24\t260.0\t2.339247191624865\t0\t76.14666770299999\t0\t5.57677805336703\t0\t173.08999029900002\t-110.76334199799999\t6.450794212952311\t0.8740161595852812\n",
      "25\t270.0\t6.851850042922681\t0\t175.02921985828004\t0\t3.591932227244114\t0\t-103.49569039131995\t81.47508975039999\t1.7529272313229944\t5.344859458567108\n",
      "26\t280.0\t12.164006150207465\t1\t2.9391504549300294\t0\t2.0648595891054295\t0\t-2.8003327079300107\t0.1388177470000187\t4.575130992187644\t6.639990581293073\n",
      "27\t290.0\t13.454386649261023\t1\t29.552107753220014\t0\t1.8372486335000597\t0\t-7.895310590999998\t-37.44741834422001\t4.187165313942274\t2.3499166804422145\n",
      "28\t300.0\t13.859652428872266\t1\t3.610967997399996\t0\t0.19392855218304317\t0\t32.68396174829999\t29.072993750899997\t0.8643057621668402\t1.0582343143498834\n",
      "29\t310.0\t16.767688219519165\t1\t174.142259870398\t0\t6.233789717415125\t0\t-28.123117447397988\t146.019142423\t7.261574114396675\t1.0277843969815494\n",
      "30\t320.0\t17.611086240519946\t1\t117.03496519119\t0\t3.2612440517185215\t0\t-0.5547716250000008\t116.48019356619\t10.798693550670473\t7.537449498951951\n",
      "31\t330.0\t5.040752658289027\t0\t2.544053874799971\t0\t19.75759192567828\t1\t38.682322763200006\t41.22637663799998\t4.977158633217887\t24.734750558896167\n",
      "32\t340.0\t5.155580301065368\t0\t9.984339300999977\t0\t5.864673404333482\t0\t31.242037337\t41.22637663799998\t5.864673404333482\t0.0\n",
      "33\t400.0\t0.8004481655902393\t0\t107.923433013\t0\t5.652498937248698\t0\t-116.12344805199999\t135.95311893500002\t25.445132914821304\t19.792633977572606\n",
      "34\t410.0\t4.351940165435732\t0\t18.69673205700002\t0\t3.1611037735221545\t0\t178.24022436500002\t159.543492308\t4.96832155868666\t8.129425332208815\n",
      "35\t420.0\t9.948405242110494\t0\t12.033759408999998\t0\t6.000221749808791\t0\t3.0131432940000025\t15.046902703\t8.49391969737266\t14.49414144718145\n",
      "36\t430.0\t7.931860361530049\t0\t8.623354901999988\t0\t1.8347174021789225\t0\t-11.022777272999974\t-2.399422370999986\t13.705492229744458\t11.870774827565535\n"
     ]
    },
    {
     "data": {
      "text/plain": [
       "array([( 0,   0.,  5.51160528, 1,          nan, nan,         nan, nan,           nan,             nan,         nan,         nan),\n",
       "       ( 1,  10.,  6.83884098, 1,          nan, nan,  1.40072671,  0.,  223.66207497,  7.78897394e+01,  0.77703893,  2.17776564),\n",
       "       ( 2,  20.,  6.13117078, 0, 164.78971935,  0.,  0.67792189,  0.,  147.58831189, -4.76219688e+01,  3.92714235,  3.24922046),\n",
       "       ( 3,  30.,  3.62957931, 0, 153.23538056,  0.,  0.87066396,  0.,    9.88378649,  1.63119167e+02,  0.83885666,  1.70952063),\n",
       "       ( 4,  40.,  5.24200287, 1,  44.19072628,  0.,  3.9727608 ,  0.,  -18.77701523, -6.29677415e+01,  0.82421263,  4.79697343),\n",
       "       ( 5,  50.,  1.00981255, 0, 171.65785309,  0.,  1.73666547,  0.,   53.11391559, -1.35228231e+02,  5.74715782,  4.01049235),\n",
       "       ( 6,  60.,  1.11052635, 0,  96.84087855,  0.,  0.30804018,  0.,  -59.27663299,  3.75642456e+01,  0.52353728,  0.83157746),\n",
       "       ( 7,  70.,  6.07027007, 0, 168.99545202,  0.,  2.00348793,  0., -173.87000113, -4.87454911e+00,  3.5208441 ,  1.51735617),\n",
       "       ( 8,  80., 12.22667904, 1,  11.0776791 ,  0.,  2.34127027,  0.,  -57.5457951 , -4.64681160e+01,  2.41292958,  4.75419985),\n",
       "       ( 9,  90., 10.04784883, 1,  67.8518686 ,  0.,  1.26809018,  0., -123.79997453,  1.68348157e+02,  0.54385633,  1.8119465 ),\n",
       "       (10, 100.,  1.27628012, 0,  66.1061976 ,  0.,  1.32421492,  0.,  -36.16991893,  2.99362787e+01,  4.84965576,  6.17387069),\n",
       "       (11, 110.,  3.27308695, 0,  97.49904984,  0.,  0.91693766,  0.,  178.69288386,  8.11938340e+01,  2.34547189,  3.26240955),\n",
       "       (12, 140.,  9.35417006, 1, 126.22848643,  0.,  5.03442838,  0.,  -57.43668331,  1.76334830e+02, 13.47711724,  8.44268885),\n",
       "       (13, 150., 13.12830478, 0,  19.09931992,  0.,  0.84234742,  0., -118.03673895, -1.37136059e+02,  8.35996049,  9.20230791),\n",
       "       (14, 160.,  9.42584412, 0,  36.99487307,  0.,  5.40349414,  0.,  -24.01522116,  1.29796519e+01,  9.4012921 ,  3.99779796),\n",
       "       (15, 170.,  8.14672296, 0,   2.22807048,  0.,  2.78303662,  0.,   -4.44536344, -6.67343392e+00,  8.51668243,  5.73364581),\n",
       "       (16, 180.,  7.80402604, 1,  21.17443174,  0.,  8.53222844,  0.,  -29.76349262, -5.09379244e+01, 14.70473406,  6.17250562),\n",
       "       (17, 190., 11.00604987, 1,  45.00264879,  0.,  3.24712265,  0.,   -4.92238992, -4.99250387e+01,  4.96118613,  1.71406348),\n",
       "       (18, 200.,  1.37461716, 0,  36.05830847,  0.,  9.9240646 ,  0.,   96.85539729,  1.32913706e+02,  2.0649943 , 11.9890589 ),\n",
       "       (19, 210.,  3.9345528 , 0,  11.71245966,  0.,  1.57071883,  0.,   41.07937157,  2.93669119e+01,  5.83174379,  7.40246262),\n",
       "       (20, 220.,  4.54229338, 0,  43.49934826,  0.,  3.0420245 ,  0.,   10.90375977,  5.44031080e+01,  7.37044373, 10.41246823),\n",
       "       (21, 230.,  2.05172918, 0,  46.83782224,  0.,  3.47599526,  0.,    2.94435714,  4.97821794e+01,  6.97127805,  3.49528279),\n",
       "       (22, 240.,  6.40923908, 0,  21.73893177,  0.,  7.53817358,  0.,   13.71570359, -8.02322818e+00,  3.38560713, 10.92378071),\n",
       "       (23, 250.,  9.12968053, 0, 123.84698364,  0.,  2.21913967,  0., -128.26096541, -4.41398177e+00,  0.34029565,  2.55943532),\n",
       "       (24, 260.,  2.33924719, 0,  76.1466677 ,  0.,  5.57677805,  0.,  173.0899903 , -1.10763342e+02,  6.45079421,  0.87401616),\n",
       "       (25, 270.,  6.85185004, 0, 175.02921986,  0.,  3.59193223,  0., -103.49569039,  8.14750898e+01,  1.75292723,  5.34485946),\n",
       "       (26, 280., 12.16400615, 1,   2.93915045,  0.,  2.06485959,  0.,   -2.80033271,  1.38817747e-01,  4.57513099,  6.63999058),\n",
       "       (27, 290., 13.45438665, 1,  29.55210775,  0.,  1.83724863,  0.,   -7.89531059, -3.74474183e+01,  4.18716531,  2.34991668),\n",
       "       (28, 300., 13.85965243, 1,   3.610968  ,  0.,  0.19392855,  0.,   32.68396175,  2.90729938e+01,  0.86430576,  1.05823431),\n",
       "       (29, 310., 16.76768822, 1, 174.14225987,  0.,  6.23378972,  0.,  -28.12311745,  1.46019142e+02,  7.26157411,  1.0277844 ),\n",
       "       (30, 320., 17.61108624, 1, 117.03496519,  0.,  3.26124405,  0.,   -0.55477163,  1.16480194e+02, 10.79869355,  7.5374495 ),\n",
       "       (31, 330.,  5.04075266, 0,   2.54405387,  0., 19.75759193,  1.,   38.68232276,  4.12263766e+01,  4.97715863, 24.73475056),\n",
       "       (32, 340.,  5.1555803 , 0,   9.9843393 ,  0.,  5.8646734 ,  0.,   31.24203734,  4.12263766e+01,  5.8646734 ,  0.        ),\n",
       "       (33, 400.,  0.80044817, 0, 107.92343301,  0.,  5.65249894,  0., -116.12344805,  1.35953119e+02, 25.44513291, 19.79263398),\n",
       "       (34, 410.,  4.35194017, 0,  18.69673206,  0.,  3.16110377,  0.,  178.24022437,  1.59543492e+02,  4.96832156,  8.12942533),\n",
       "       (35, 420.,  9.94840524, 0,  12.03375941,  0.,  6.00022175,  0.,    3.01314329,  1.50469027e+01,  8.4939197 , 14.49414145),\n",
       "       (36, 430.,  7.93186036, 0,   8.6233549 ,  0.,  1.8347174 ,  0.,  -11.02277727, -2.39942237e+00, 13.70549223, 11.87077483)],\n",
       "      dtype=[('00_no', '<i2'), ('01_tstop', '<f2'), ('10_spa_pol_dif', '<f8'), ('11_spa_pol_tes', 'i1'), ('20_ang_seg_dif', '<f8'), ('21_ang_seg_tes', '<f4'), ('30_len_seg_dif', '<f8'), ('31_len_seg_tes', '<f4'), ('22_course_seg1', '<f8'), ('23_course_seg2', '<f8'), ('32_len_seg1', '<f8'), ('33_len_seg2', '<f8')])"
      ]
     },
     "execution_count": 3,
     "metadata": {},
     "output_type": "execute_result"
    }
   ],
   "source": [
    "## calculate pair Baltica (Uncorrected) and Laurentia (Corrected)'s difference scores in terms of\n",
    "## space (coeval poles), length (coeval segments) and angle (coeval orientation change)\n",
    "copy_tree(\"data/rot_version/Laurentia_F6_RM_GMAP2015BALcoord\",\"/tmp/Laurentia_F6_RM_GMAP2015BALcoord\")\n",
    "copy_tree(\"data/Baltica_StableEurope_RM_NoIntp\",\"/tmp/Baltica_StableEurope_RM_NoIntp\")\n",
    "cmp.spa_angpre_len_dif('data/rot_version/Laurentia_F6_RM_GMAP2015BALcoord.txt',\n",
    "                       'data/Baltica_StableEurope_RM_NoIntp.txt',\n",
    "                       pnh1=0,pnh2=1)\n",
    "# the results should be the same as stored in\n",
    "# data/0.result_tables/LaureF6RMgmap2015BALcoord_BalRM.txt"
   ]
  },
  {
   "cell_type": "code",
   "execution_count": 7,
   "metadata": {},
   "outputs": [
    {
     "name": "stdout",
     "output_type": "stream",
     "text": [
      "ds\tda\tdl\tno\tt0\tt1\tequalWeighCPD\n",
      "0.107445\t0.583176\t0.0589476\t0\t0\t100\t0.249856\n",
      "0.143976\t0.227608\t0.135968\t1\t100\t200\t0.169184\n",
      "0.108438\t0.388919\t0.13473\t2\t200\t280\t0.210696\n",
      "0.295427\t0.545904\t0.106805\t3\t280\t320\t0.316045\n",
      "0.145257\t0.174735\t0.142433\t4\t320\t430\t0.154142\n",
      "0.143217\t0.367449\t0.116767\t5\t0\t430\t0.209144\n"
     ]
    }
   ],
   "source": [
    "pair_10aB10bL=cmp.ppf3('data/0.result_tables/LaureF6RMgmap2015BALcoord_BalRM.txt')\n",
    "#10aB10bL_ntest.txt\n",
    "print('ds\\tda\\tdl\\tno\\tt0\\tt1\\tequalWeighCPD')\n",
    "cmp.calc_nt(pair_10aB10bL,'0',0,100)\n",
    "cmp.calc_nt(pair_10aB10bL,'1',100,200)\n",
    "cmp.calc_nt(pair_10aB10bL,'2',200,280)\n",
    "cmp.calc_nt(pair_10aB10bL,'3',280,320)\n",
    "cmp.calc_nt(pair_10aB10bL,'4',320,430)\n",
    "cmp.calc_nt(pair_10aB10bL,'5',0,430)"
   ]
  },
  {
   "cell_type": "code",
   "execution_count": 8,
   "metadata": {},
   "outputs": [
    {
     "name": "stdout",
     "output_type": "stream",
     "text": [
      "ds\tda\tdl\tno\tt0\tt1\tequalWeighCPD\n",
      "0.0724854\t0\t0\t0\t0\t100\t0.0241618\n",
      "0.0625872\t0\t0\t1\t100\t200\t0.0208624\n",
      "0.0270311\t0\t0\t2\t200\t280\t0.00901037\n",
      "0.295427\t0\t0\t3\t280\t320\t0.0984758\n",
      "0.0503174\t0\t0.0665741\t4\t320\t430\t0.0389638\n",
      "0.0766962\t0\t0.0170306\t5\t0\t430\t0.0312423\n"
     ]
    }
   ],
   "source": [
    "## significant results\n",
    "#10aB10bL_test.txt\n",
    "print('ds\\tda\\tdl\\tno\\tt0\\tt1\\tequalWeighCPD')\n",
    "cmp.calc(pair_10aB10bL,'0',0,100)\n",
    "cmp.calc(pair_10aB10bL,'1',100,200)\n",
    "cmp.calc(pair_10aB10bL,'2',200,280)\n",
    "cmp.calc(pair_10aB10bL,'3',280,320)\n",
    "cmp.calc(pair_10aB10bL,'4',320,430)\n",
    "cmp.calc(pair_10aB10bL,'5',0,430)"
   ]
  },
  {
   "cell_type": "markdown",
   "metadata": {},
   "source": [
    "## Figure 10 pair (a)'s Laurentia (Uncorrected) vs pair (b)'s Baltica (Corrected)"
   ]
  },
  {
   "cell_type": "code",
   "execution_count": 4,
   "metadata": {
    "scrolled": true
   },
   "outputs": [
    {
     "name": "stdout",
     "output_type": "stream",
     "text": [
      "00_no\t01_tstop\t10_spa_pol_dif\t11_spa_pol_tes\t20_ang_seg_dif\t21_ang_seg_tes\t30_len_seg_dif\t31_len_seg_tes\t22_course_seg1\t23_course_seg2\t32_len_seg1\t33_len_seg2\n",
      "0\t0.0\t5.147335987865811\t1\tnan\tnan\tnan\tnan\tnan\tnan\tnan\tnan\n",
      "1\t10.0\t7.001796297776876\t1\tnan\tnan\t0.8161605556976237\t0\t285.020779667\t77.8897393668\t1.3616050844405654\t2.177765640138189\n",
      "2\t20.0\t6.180885121950783\t0\t170.8737504743\t0\t0.8169389443031663\t0\t123.2517817197\t-47.621968754600005\t4.066159402442237\t3.2492204581390705\n",
      "3\t30.0\t3.6295793117047612\t0\t107.51717069760001\t0\t0.10955290035458876\t0\t55.60199635740001\t163.11916705500002\t1.5999677253451032\t1.709520625699692\n",
      "4\t40.0\t6.05879741900248\t1\t44.17952569899998\t0\t3.2576549669195893\t0\t-107.147267209\t-62.967741510000025\t1.5393184649983633\t4.7969734319179524\n",
      "5\t50.0\t1.7415656577726388\t0\t128.1894056311\t0\t2.268528508410825\t0\t73.7897937579\t-158.02080061100003\t5.534146234663954\t3.265617726253129\n",
      "6\t60.0\t1.844676598606582\t0\t121.52303708421003\t0\t0.4181906412225278\t0\t-55.18113608400003\t66.34190100021\t1.0198363131861112\t1.438026954408639\n",
      "7\t70.0\t4.279312576519637\t0\t169.57978479745\t0\t0.5634312162525004\t0\t-172.998402938\t-3.418618140549995\t3.042380700643371\t2.4789494843908706\n",
      "8\t80.0\t10.420166527988895\t1\t0.3203270580000037\t0\t1.1931318970300886\t0\t-53.64195597700001\t-53.96228303500001\t3.5610679512912453\t4.754199848321334\n",
      "9\t90.0\t10.047848832278254\t1\t131.86955184599998\t0\t0.5152240277856344\t0\t36.478605023\t168.34815686899998\t1.2967224758577895\t1.811946503643424\n",
      "10\t100.0\t1.2762801180582506\t0\t136.81216016100004\t0\t1.3242149218765586\t0\t166.74843882600004\t29.936278665000003\t4.849655764166361\t6.173870686042919\n",
      "11\t110.0\t3.273086947537739\t0\t97.499049834\t0\t0.9169376621976415\t0\t178.692883852\t81.19383401799999\t2.3454718853835104\t3.262409547581152\n",
      "12\t140.0\t7.245047560420097\t0\t83.62200246513999\t0\t4.607145186755483\t0\t-100.04317267226003\t176.3348248626\t13.04983191664478\t8.442686729889298\n",
      "13\t150.0\t12.560642580410194\t1\t60.78478591800001\t0\t2.012539441696169\t0\t-76.35126228999997\t-137.13604820799998\t7.189766370817142\t9.20230581251331\n",
      "14\t160.0\t12.108345013568501\t1\t38.47645675299998\t0\t6.083226572072774\t0\t-25.496810245999995\t12.979646506999984\t10.081024531619581\t3.9977979595468076\n",
      "15\t170.0\t10.37200355550302\t0\t12.36084734000002\t0\t0.593301079627512\t0\t-19.034281257000032\t-6.673433917000011\t6.3269468848327195\t5.7336458052052075\n",
      "16\t180.0\t9.760157963550341\t1\t24.981723288000012\t0\t6.820385389370502\t0\t-25.95620106999999\t-50.937924358000004\t12.992891012916601\t6.172505623546099\n",
      "17\t190.0\t12.255443736429683\t1\t51.72246596050002\t0\t2.7643771915392517\t0\t1.7974272550000023\t-49.925038705500015\t4.478440669969207\t1.7140634784299553\n",
      "18\t200.0\t2.8166586898529364\t0\t5.014320686400026\t0\t8.970256848963192\t0\t118.2843531776\t123.29867386400002\t1.6520482941912484\t10.62230514315444\n",
      "19\t210.0\t4.317262503550316\t0\t10.402130062299989\t0\t1.0999699292280134\t0\t20.217200883299995\t30.619330945599984\t6.241009729845114\t5.141039800617101\n",
      "20\t220.0\t0.5117445575146169\t0\t43.44305017320001\t0\t4.812153764741921\t0\t13.385562397499996\t56.8286125707\t7.535248069920304\t12.347401834662225\n",
      "21\t230.0\t4.286938559387266\t0\t35.71081082520004\t0\t3.477117171282833\t0\t1.9766609747999837\t37.687471800000026\t6.922576248180346\t3.445459076897513\n",
      "22\t240.0\t10.880075602484284\t1\t18.22305165710003\t0\t6.760047627317841\t0\t4.870723678899992\t23.09377533600002\t3.379951013217835\t10.139998640535676\n",
      "23\t250.0\t11.132662386745043\t1\t121.46570835480003\t0\t1.8680623467544755\t0\t88.89337636800002\t-32.57233198680001\t0.7898145160772484\t2.6578768628317238\n",
      "24\t260.0\t4.921684263271691\t1\t43.634523089\t0\t5.061626235608191\t0\t-30.153140538999992\t-73.78766362799999\t6.219671168906102\t1.1580449332979108\n",
      "25\t270.0\t6.851086907086009\t1\t141.5242682538\t0\t4.6249443502195415\t0\t-84.17042839359999\t57.3538398602\t1.1034783028565278\t5.72842265307607\n",
      "26\t280.0\t12.831475524232411\t1\t17.067765538829974\t0\t4.103901782226309\t0\t-19.33131677442998\t-2.263551235600005\t4.285368490938396\t8.389270273164705\n",
      "27\t290.0\t14.33632677773105\t1\t24.56894106765\t0\t2.434469143428433\t0\t-13.720499141999994\t-38.289440209649996\t4.44747576993188\t2.0130066265034467\n",
      "28\t300.0\t14.639017978535502\t1\t7.025340145099989\t0\t0.0499843\t0\t24.271534334400002\t31.29687447949999\t0.6993831008881712\t0.6493987976554901\n",
      "29\t310.0\t17.250684582501528\t1\t155.07001482423001\t0\t5.050831115675123\t0\t-11.902419564230001\t143.16759526\t5.996101549449638\t0.9452704337745147\n",
      "30\t320.0\t16.594665272278135\t1\t134.52775358138\t0\t1.9399778121696816\t0\t-2.5783076173800055\t131.949445964\t9.587714297480114\t7.647736485310432\n",
      "31\t330.0\t6.882312663949162\t0\t7.592801823200034\t0\t20.31993120750107\t1\t40.30036702220002\t32.70756519899999\t4.414819351219395\t24.734750558720467\n",
      "32\t340.0\t7.262612038231281\t0\t5.394274164300015\t0\t5.51389764314098\t0\t38.1018393633\t32.70756519899999\t5.51389764314098\t0.0\n",
      "33\t400.0\t0.8004481652833396\t0\t100.71226384900001\t0\t7.783094502805071\t0\t-123.33461721700002\t135.95311893399997\t27.575728480255723\t19.792633977450652\n",
      "34\t410.0\t6.402585336057916\t0\t39.44427154300001\t0\t0.7435476181987113\t0\t-161.012236156\t159.54349230100001\t8.872972950633658\t8.129425332434947\n",
      "35\t420.0\t9.362751315477693\t0\t36.148483113\t0\t5.849897895379074\t0\t-22.19181212800001\t13.956670984999988\t8.42805250870309\t14.277950404082164\n",
      "36\t430.0\t5.838919005756956\t0\t18.787727184999994\t0\t1.9773418458271266\t0\t-20.910082690000024\t-2.12235550500003\t13.735198260575853\t11.757856414748726\n"
     ]
    },
    {
     "data": {
      "text/plain": [
       "array([( 0,   0.,  5.14733599, 1,          nan, nan,         nan, nan,           nan,           nan,         nan,         nan),\n",
       "       ( 1,  10.,  7.0017963 , 1,          nan, nan,  0.81616056,  0.,  285.02077967,   77.88973937,  1.36160508,  2.17776564),\n",
       "       ( 2,  20.,  6.18088512, 0, 170.87375047,  0.,  0.81693894,  0.,  123.25178172,  -47.62196875,  4.0661594 ,  3.24922046),\n",
       "       ( 3,  30.,  3.62957931, 0, 107.5171707 ,  0.,  0.1095529 ,  0.,   55.60199636,  163.11916706,  1.59996773,  1.70952063),\n",
       "       ( 4,  40.,  6.05879742, 1,  44.1795257 ,  0.,  3.25765497,  0., -107.14726721,  -62.96774151,  1.53931846,  4.79697343),\n",
       "       ( 5,  50.,  1.74156566, 0, 128.18940563,  0.,  2.26852851,  0.,   73.78979376, -158.02080061,  5.53414623,  3.26561773),\n",
       "       ( 6,  60.,  1.8446766 , 0, 121.52303708,  0.,  0.41819064,  0.,  -55.18113608,   66.341901  ,  1.01983631,  1.43802695),\n",
       "       ( 7,  70.,  4.27931258, 0, 169.5797848 ,  0.,  0.56343122,  0., -172.99840294,   -3.41861814,  3.0423807 ,  2.47894948),\n",
       "       ( 8,  80., 10.42016653, 1,   0.32032706,  0.,  1.1931319 ,  0.,  -53.64195598,  -53.96228304,  3.56106795,  4.75419985),\n",
       "       ( 9,  90., 10.04784883, 1, 131.86955185,  0.,  0.51522403,  0.,   36.47860502,  168.34815687,  1.29672248,  1.8119465 ),\n",
       "       (10, 100.,  1.27628012, 0, 136.81216016,  0.,  1.32421492,  0.,  166.74843883,   29.93627867,  4.84965576,  6.17387069),\n",
       "       (11, 110.,  3.27308695, 0,  97.49904983,  0.,  0.91693766,  0.,  178.69288385,   81.19383402,  2.34547189,  3.26240955),\n",
       "       (12, 140.,  7.24504756, 0,  83.62200247,  0.,  4.60714519,  0., -100.04317267,  176.33482486, 13.04983192,  8.44268673),\n",
       "       (13, 150., 12.56064258, 1,  60.78478592,  0.,  2.01253944,  0.,  -76.35126229, -137.13604821,  7.18976637,  9.20230581),\n",
       "       (14, 160., 12.10834501, 1,  38.47645675,  0.,  6.08322657,  0.,  -25.49681025,   12.97964651, 10.08102453,  3.99779796),\n",
       "       (15, 170., 10.37200356, 0,  12.36084734,  0.,  0.59330108,  0.,  -19.03428126,   -6.67343392,  6.32694688,  5.73364581),\n",
       "       (16, 180.,  9.76015796, 1,  24.98172329,  0.,  6.82038539,  0.,  -25.95620107,  -50.93792436, 12.99289101,  6.17250562),\n",
       "       (17, 190., 12.25544374, 1,  51.72246596,  0.,  2.76437719,  0.,    1.79742726,  -49.92503871,  4.47844067,  1.71406348),\n",
       "       (18, 200.,  2.81665869, 0,   5.01432069,  0.,  8.97025685,  0.,  118.28435318,  123.29867386,  1.65204829, 10.62230514),\n",
       "       (19, 210.,  4.3172625 , 0,  10.40213006,  0.,  1.09996993,  0.,   20.21720088,   30.61933095,  6.24100973,  5.1410398 ),\n",
       "       (20, 220.,  0.51174456, 0,  43.44305017,  0.,  4.81215376,  0.,   13.3855624 ,   56.82861257,  7.53524807, 12.34740183),\n",
       "       (21, 230.,  4.28693856, 0,  35.71081083,  0.,  3.47711717,  0.,    1.97666097,   37.6874718 ,  6.92257625,  3.44545908),\n",
       "       (22, 240., 10.8800756 , 1,  18.22305166,  0.,  6.76004763,  0.,    4.87072368,   23.09377534,  3.37995101, 10.13999864),\n",
       "       (23, 250., 11.13266239, 1, 121.46570835,  0.,  1.86806235,  0.,   88.89337637,  -32.57233199,  0.78981452,  2.65787686),\n",
       "       (24, 260.,  4.92168426, 1,  43.63452309,  0.,  5.06162624,  0.,  -30.15314054,  -73.78766363,  6.21967117,  1.15804493),\n",
       "       (25, 270.,  6.85108691, 1, 141.52426825,  0.,  4.62494435,  0.,  -84.17042839,   57.35383986,  1.1034783 ,  5.72842265),\n",
       "       (26, 280., 12.83147552, 1,  17.06776554,  0.,  4.10390178,  0.,  -19.33131677,   -2.26355124,  4.28536849,  8.38927027),\n",
       "       (27, 290., 14.33632678, 1,  24.56894107,  0.,  2.43446914,  0.,  -13.72049914,  -38.28944021,  4.44747577,  2.01300663),\n",
       "       (28, 300., 14.63901798, 1,   7.02534015,  0.,  0.0499843 ,  0.,   24.27153433,   31.29687448,  0.6993831 ,  0.6493988 ),\n",
       "       (29, 310., 17.25068458, 1, 155.07001482,  0.,  5.05083112,  0.,  -11.90241956,  143.16759526,  5.99610155,  0.94527043),\n",
       "       (30, 320., 16.59466527, 1, 134.52775358,  0.,  1.93997781,  0.,   -2.57830762,  131.94944596,  9.5877143 ,  7.64773649),\n",
       "       (31, 330.,  6.88231266, 0,   7.59280182,  0., 20.31993121,  1.,   40.30036702,   32.7075652 ,  4.41481935, 24.73475056),\n",
       "       (32, 340.,  7.26261204, 0,   5.39427416,  0.,  5.51389764,  0.,   38.10183936,   32.7075652 ,  5.51389764,  0.        ),\n",
       "       (33, 400.,  0.80044817, 0, 100.71226385,  0.,  7.7830945 ,  0., -123.33461722,  135.95311893, 27.57572848, 19.79263398),\n",
       "       (34, 410.,  6.40258534, 0,  39.44427154,  0.,  0.74354762,  0., -161.01223616,  159.5434923 ,  8.87297295,  8.12942533),\n",
       "       (35, 420.,  9.36275132, 0,  36.14848311,  0.,  5.8498979 ,  0.,  -22.19181213,   13.95667098,  8.42805251, 14.2779504 ),\n",
       "       (36, 430.,  5.83891901, 0,  18.78772718,  0.,  1.97734185,  0.,  -20.91008269,   -2.12235551, 13.73519826, 11.75785641)],\n",
       "      dtype=[('00_no', '<i2'), ('01_tstop', '<f2'), ('10_spa_pol_dif', '<f8'), ('11_spa_pol_tes', 'i1'), ('20_ang_seg_dif', '<f8'), ('21_ang_seg_tes', '<f4'), ('30_len_seg_dif', '<f8'), ('31_len_seg_tes', '<f4'), ('22_course_seg1', '<f8'), ('23_course_seg2', '<f8'), ('32_len_seg1', '<f8'), ('33_len_seg2', '<f8')])"
      ]
     },
     "execution_count": 4,
     "metadata": {},
     "output_type": "execute_result"
    }
   ],
   "source": [
    "## calculate pair Baltica (Corrected) and Laurentia (Uncorrected)'s difference scores in terms of\n",
    "## space (coeval poles), length (coeval segments) and angle (coeval orientation change)\n",
    "copy_tree(\"data/rot_version/Laurentia_RM_GMAP2015BALcoord\",\"/tmp/Laurentia_RM_GMAP2015BALcoord\")\n",
    "copy_tree(\"data/Baltica_StableEurope_F6_RM_NoIntp\",\"/tmp/Baltica_StableEurope_F6_RM_NoIntp\")\n",
    "cmp.spa_angpre_len_dif('data/rot_version/Laurentia_RM_GMAP2015BALcoord.txt',\n",
    "                       'data/Baltica_StableEurope_F6_RM_NoIntp.txt',\n",
    "                       pnh1=0,pnh2=1)\n",
    "# the results should be the same as stored in\n",
    "# data/0.result_tables/LaureRMgmap2015BALcoord_BalF6RM.txt"
   ]
  },
  {
   "cell_type": "code",
   "execution_count": 9,
   "metadata": {},
   "outputs": [
    {
     "name": "stdout",
     "output_type": "stream",
     "text": [
      "ds\tda\tdl\tno\tt0\tt1\tequalWeighCPD\n",
      "0.104779\t0.623991\t0.0418206\t0\t0\t100\t0.256863\n",
      "0.159261\t0.219812\t0.121455\t1\t100\t200\t0.166843\n",
      "0.13011\t0.334182\t0.14737\t2\t200\t280\t0.203887\n",
      "0.302609\t0.549302\t0.0878002\t3\t280\t320\t0.313237\n",
      "0.151841\t0.222763\t0.142153\t4\t320\t430\t0.172253\n",
      "0.153039\t0.372392\t0.109921\t5\t0\t430\t0.211784\n"
     ]
    }
   ],
   "source": [
    "pair_10aL10bB=cmp.ppf3('data/0.result_tables/LaureRMgmap2015BALcoord_BalF6RM.txt')\n",
    "#10aL10bB_ntest.txt\n",
    "print('ds\\tda\\tdl\\tno\\tt0\\tt1\\tequalWeighCPD')\n",
    "cmp.calc_nt(pair_10aL10bB,'0',0,100)\n",
    "cmp.calc_nt(pair_10aL10bB,'1',100,200)\n",
    "cmp.calc_nt(pair_10aL10bB,'2',200,280)\n",
    "cmp.calc_nt(pair_10aL10bB,'3',280,320)\n",
    "cmp.calc_nt(pair_10aL10bB,'4',320,430)\n",
    "cmp.calc_nt(pair_10aL10bB,'5',0,430)"
   ]
  },
  {
   "cell_type": "code",
   "execution_count": 10,
   "metadata": {},
   "outputs": [
    {
     "name": "stdout",
     "output_type": "stream",
     "text": [
      "ds\tda\tdl\tno\tt0\tt1\tequalWeighCPD\n",
      "0.0703199\t0\t0\t0\t0\t100\t0.02344\n",
      "0.103744\t0\t0\t1\t100\t200\t0.0345812\n",
      "0.103593\t0\t0\t2\t200\t280\t0.0345311\n",
      "0.302609\t0\t0\t3\t280\t320\t0.10087\n",
      "0.0474133\t0\t0.068469\t4\t320\t430\t0.0386274\n",
      "0.105296\t0\t0.0175153\t5\t0\t430\t0.0409372\n"
     ]
    }
   ],
   "source": [
    "## significant results\n",
    "#10aL10bB_test.txt\n",
    "print('ds\\tda\\tdl\\tno\\tt0\\tt1\\tequalWeighCPD')\n",
    "cmp.calc(pair_10aL10bB,'0',0,100)\n",
    "cmp.calc(pair_10aL10bB,'1',100,200)\n",
    "cmp.calc(pair_10aL10bB,'2',200,280)\n",
    "cmp.calc(pair_10aL10bB,'3',280,320)\n",
    "cmp.calc(pair_10aL10bB,'4',320,430)\n",
    "cmp.calc(pair_10aL10bB,'5',0,430)"
   ]
  },
  {
   "cell_type": "markdown",
   "metadata": {},
   "source": [
    "## Figure 10 pair (c)"
   ]
  },
  {
   "cell_type": "code",
   "execution_count": 2,
   "metadata": {
    "scrolled": true
   },
   "outputs": [
    {
     "name": "stdout",
     "output_type": "stream",
     "text": [
      "00_no\t01_tstop\t10_spa_pol_dif\t11_spa_pol_tes\t20_ang_seg_dif\t21_ang_seg_tes\t30_len_seg_dif\t31_len_seg_tes\t22_course_seg1\t23_course_seg2\t32_len_seg1\t33_len_seg2\n",
      "0\t0.0\t3.9209716311135963\t1\tnan\tnan\tnan\tnan\tnan\tnan\tnan\tnan\n",
      "1\t10.0\t2.923070336235969\t0\tnan\tnan\t0.20949366544288406\t0\t104.121754999\t336.727180306\t1.3865707946920662\t1.5960644601349503\n",
      "2\t20.0\t3.4535080673406227\t0\t72.87133315618001\t0\t0.6560356732675037\t0\t-48.616204214200025\t24.25512894197999\t3.4814463776676807\t2.825410704400177\n",
      "3\t30.0\t3.0085830415898305\t0\t104.95835750380002\t0\t0.0344466\t0\t81.81912663579999\t-23.139230868000027\t2.9316817046579016\t2.8972350920285095\n",
      "4\t40.0\t6.708841718277162\t0\t16.66452436909998\t0\t2.3236914871705427\t0\t-22.0037360691\t-5.339211700000021\t2.0134271947293167\t4.3371186818998595\n",
      "5\t50.0\t4.687857595481811\t0\t104.25899320419998\t0\t4.697997764202508\t0\t-27.024318764899988\t77.2346744393\t6.340342837162063\t1.6423450729595543\n",
      "6\t60.0\t5.795266709596411\t1\t0.378223292499996\t0\t9.907339666940917\t1\t33.4424536082\t33.82067690069999\t2.8062043441640783\t12.713544011104995\n",
      "7\t70.0\t3.815612063911052\t1\t73.35123346809999\t0\t1.8177450350931132\t0\t42.03642504299998\t-31.31480842510001\t3.1591790491520526\t1.3414340140589394\n",
      "8\t80.0\t4.330584595023981\t0\t134.7663242205\t0\t0.5146162084831727\t0\t-42.535051515500015\t92.231272705\t1.9680420868731527\t2.4826582953563254\n",
      "9\t90.0\t4.237410190011141\t0\t48.88827260730005\t0\t3.2243676507000654\t0\t28.383099324400007\t-20.505173282900046\t4.841806956508209\t1.617439305808143\n",
      "10\t100.0\t5.419115294075718\t0\t37.51822649349995\t0\t3.5267528779546415\t0\t16.17838038399998\t-21.339846109499973\t6.0114619467587405\t2.484709068804099\n",
      "11\t110.0\t6.342760400064902\t0\t20.272526816599992\t0\t8.405618662694003\t0\t12.4790406802\t-7.793486136399991\t6.729403698387402\t15.135022361081404\n",
      "12\t120.0\t1.8483758856431145\t0\t30.00521653469997\t0\t5.948142233414233\t0\t-15.483282896300011\t-45.48849943099998\t8.58792720304416\t2.6397849696299267\n",
      "13\t130.0\t4.691818502062274\t0\t18.27798235030002\t0\t0.551098707600219\t0\t12.092604201299991\t-6.18537814900003\t5.069662610377057\t5.6207613179772755\n",
      "14\t140.0\t5.57415688857077\t0\t17.496631958999984\t0\t6.106961812706706\t0\t-98.23869093100001\t-115.73532288999999\t7.634094802636613\t1.527132989929908\n",
      "15\t150.0\t13.511712664893967\t0\t88.44308155859997\t0\t8.507816306016704\t0\t-108.68598649999998\t-20.242904941400013\t6.3973302497274895\t14.905146555744194\n",
      "16\t160.0\t7.267804552250987\t0\t157.2872564486\t0\t0.3370936687636492\t0\t17.282932136400007\t-140.0043243122\t5.06211862630721\t5.39921229507086\n",
      "17\t170.0\t6.708166767409256\t0\t51.86658740200002\t0\t1.979690744908286\t0\t-2.0962497713999824\t-53.962837173400004\t3.514671547766972\t5.494362292675258\n",
      "18\t180.0\t9.464527346857992\t1\t179.9808023106\t0\t2.921101887742415\t0\t-40.80280329460001\t139.177999016\t8.619086814044435\t5.69798492630202\n",
      "19\t190.0\t6.2776592951129615\t1\t65.35172464400006\t0\t4.458376119570137\t0\t-29.800174897000034\t35.551549747000024\t1.2236716204143356\t5.682047739984473\n",
      "20\t200.0\t5.119844472679776\t0\t71.16208958088998\t0\t5.519096285249995\t0\t108.34575488899998\t37.183665308109994\t2.8668514724142433\t8.385947757664239\n",
      "21\t210.0\t6.190936480968686\t1\t71.67927840339999\t0\t0.4876419896681039\t0\t49.46124568709999\t121.14052409049998\t4.994037812409392\t5.481679802077496\n",
      "22\t220.0\t3.6958043541155305\t0\t48.409515929000065\t0\t3.353189070819573\t0\t15.039052424000033\t-33.37046350500003\t5.644831302772653\t8.998020373592226\n",
      "23\t230.0\t6.687848857170889\t0\t30.610687030699992\t0\t3.178184679010341\t0\t24.636499455900008\t55.2471864866\t6.608054023175407\t3.4298693441650654\n",
      "24\t240.0\t10.001465313024829\t1\t1.512752504100007\t0\t1.5947872325860395\t0\t29.287917697300003\t27.775165193199996\t5.746172757637984\t7.3409599902240235\n",
      "25\t250.0\t9.762041687490736\t1\t22.816990117100033\t0\t1.0759428907397295\t0\t30.877169986900014\t8.060179869799981\t5.93852201923952\t4.862579128499791\n",
      "26\t260.0\t8.503621532260812\t1\t89.28226584900003\t0\t0.6589788073766022\t0\t-38.57969415599999\t-127.86196000500001\t0.9200863946802945\t1.5790652020568967\n",
      "27\t270.0\t3.7644525721588447\t0\t74.26564818699995\t0\t6.3925740881485655\t0\t-24.516293038999976\t49.74935514799998\t3.8183503843351905\t10.210924472483756\n",
      "28\t280.0\t4.50208960926038\t0\t52.35032324900001\t0\t2.7644472124856794\t0\t1.93389456700001\t-50.416428682\t5.980811949827462\t3.2163647373417827\n",
      "29\t290.0\t9.562680143919923\t1\t48.40889814399998\t0\t0.469769429520865\t0\t-30.254254885000023\t-78.663153029\t2.8548340498195963\t3.3246034793404613\n",
      "30\t300.0\t2.462671688769995\t0\t158.9023616694\t0\t5.829088448137941\t0\t-63.810006043000016\t137.2876322876\t1.3867342958866284\t7.215822744024569\n",
      "31\t310.0\t6.840614533749906\t0\t9.428745806300014\t0\t0.5112642730330714\t0\t-0.1082964112999889\t9.320449395000026\t5.115540480896129\t4.604276207863058\n",
      "32\t320.0\t16.03177235144463\t1\t63.64186491129999\t0\t9.21464699408266\t0\t22.96285224730002\t-40.67901266399997\t12.182306883146854\t2.9676598890641936\n"
     ]
    },
    {
     "data": {
      "text/plain": [
       "array([( 0,   0.,  3.92097163, 1,          nan, nan,        nan, nan,             nan,           nan,         nan,         nan),\n",
       "       ( 1,  10.,  2.92307034, 0,          nan, nan, 0.20949367,  0.,  1.04121755e+02,  336.72718031,  1.38657079,  1.59606446),\n",
       "       ( 2,  20.,  3.45350807, 0,  72.87133316,  0., 0.65603567,  0., -4.86162042e+01,   24.25512894,  3.48144638,  2.8254107 ),\n",
       "       ( 3,  30.,  3.00858304, 0, 104.9583575 ,  0., 0.0344466 ,  0.,  8.18191266e+01,  -23.13923087,  2.9316817 ,  2.89723509),\n",
       "       ( 4,  40.,  6.70884172, 0,  16.66452437,  0., 2.32369149,  0., -2.20037361e+01,   -5.3392117 ,  2.01342719,  4.33711868),\n",
       "       ( 5,  50.,  4.6878576 , 0, 104.2589932 ,  0., 4.69799776,  0., -2.70243188e+01,   77.23467444,  6.34034284,  1.64234507),\n",
       "       ( 6,  60.,  5.79526671, 1,   0.37822329,  0., 9.90733967,  1.,  3.34424536e+01,   33.8206769 ,  2.80620434, 12.71354401),\n",
       "       ( 7,  70.,  3.81561206, 1,  73.35123347,  0., 1.81774504,  0.,  4.20364250e+01,  -31.31480843,  3.15917905,  1.34143401),\n",
       "       ( 8,  80.,  4.3305846 , 0, 134.76632422,  0., 0.51461621,  0., -4.25350515e+01,   92.2312727 ,  1.96804209,  2.4826583 ),\n",
       "       ( 9,  90.,  4.23741019, 0,  48.88827261,  0., 3.22436765,  0.,  2.83830993e+01,  -20.50517328,  4.84180696,  1.61743931),\n",
       "       (10, 100.,  5.41911529, 0,  37.51822649,  0., 3.52675288,  0.,  1.61783804e+01,  -21.33984611,  6.01146195,  2.48470907),\n",
       "       (11, 110.,  6.3427604 , 0,  20.27252682,  0., 8.40561866,  0.,  1.24790407e+01,   -7.79348614,  6.7294037 , 15.13502236),\n",
       "       (12, 120.,  1.84837589, 0,  30.00521653,  0., 5.94814223,  0., -1.54832829e+01,  -45.48849943,  8.5879272 ,  2.63978497),\n",
       "       (13, 130.,  4.6918185 , 0,  18.27798235,  0., 0.55109871,  0.,  1.20926042e+01,   -6.18537815,  5.06966261,  5.62076132),\n",
       "       (14, 140.,  5.57415689, 0,  17.49663196,  0., 6.10696181,  0., -9.82386909e+01, -115.73532289,  7.6340948 ,  1.52713299),\n",
       "       (15, 150., 13.51171266, 0,  88.44308156,  0., 8.50781631,  0., -1.08685986e+02,  -20.24290494,  6.39733025, 14.90514656),\n",
       "       (16, 160.,  7.26780455, 0, 157.28725645,  0., 0.33709367,  0.,  1.72829321e+01, -140.00432431,  5.06211863,  5.3992123 ),\n",
       "       (17, 170.,  6.70816677, 0,  51.8665874 ,  0., 1.97969074,  0., -2.09624977e+00,  -53.96283717,  3.51467155,  5.49436229),\n",
       "       (18, 180.,  9.46452735, 1, 179.98080231,  0., 2.92110189,  0., -4.08028033e+01,  139.17799902,  8.61908681,  5.69798493),\n",
       "       (19, 190.,  6.2776593 , 1,  65.35172464,  0., 4.45837612,  0., -2.98001749e+01,   35.55154975,  1.22367162,  5.68204774),\n",
       "       (20, 200.,  5.11984447, 0,  71.16208958,  0., 5.51909629,  0.,  1.08345755e+02,   37.18366531,  2.86685147,  8.38594776),\n",
       "       (21, 210.,  6.19093648, 1,  71.6792784 ,  0., 0.48764199,  0.,  4.94612457e+01,  121.14052409,  4.99403781,  5.4816798 ),\n",
       "       (22, 220.,  3.69580435, 0,  48.40951593,  0., 3.35318907,  0.,  1.50390524e+01,  -33.37046351,  5.6448313 ,  8.99802037),\n",
       "       (23, 230.,  6.68784886, 0,  30.61068703,  0., 3.17818468,  0.,  2.46364995e+01,   55.24718649,  6.60805402,  3.42986934),\n",
       "       (24, 240., 10.00146531, 1,   1.5127525 ,  0., 1.59478723,  0.,  2.92879177e+01,   27.77516519,  5.74617276,  7.34095999),\n",
       "       (25, 250.,  9.76204169, 1,  22.81699012,  0., 1.07594289,  0.,  3.08771700e+01,    8.06017987,  5.93852202,  4.86257913),\n",
       "       (26, 260.,  8.50362153, 1,  89.28226585,  0., 0.65897881,  0., -3.85796942e+01, -127.86196001,  0.92008639,  1.5790652 ),\n",
       "       (27, 270.,  3.76445257, 0,  74.26564819,  0., 6.39257409,  0., -2.45162930e+01,   49.74935515,  3.81835038, 10.21092447),\n",
       "       (28, 280.,  4.50208961, 0,  52.35032325,  0., 2.76444721,  0.,  1.93389457e+00,  -50.41642868,  5.98081195,  3.21636474),\n",
       "       (29, 290.,  9.56268014, 1,  48.40889814,  0., 0.46976943,  0., -3.02542549e+01,  -78.66315303,  2.85483405,  3.32460348),\n",
       "       (30, 300.,  2.46267169, 0, 158.90236167,  0., 5.82908845,  0., -6.38100060e+01,  137.28763229,  1.3867343 ,  7.21582274),\n",
       "       (31, 310.,  6.84061453, 0,   9.42874581,  0., 0.51126427,  0., -1.08296411e-01,    9.3204494 ,  5.11554048,  4.60427621),\n",
       "       (32, 320., 16.03177235, 1,  63.64186491,  0., 9.21464699,  0.,  2.29628522e+01,  -40.67901266, 12.18230688,  2.96765989)],\n",
       "      dtype=[('00_no', '<i2'), ('01_tstop', '<f2'), ('10_spa_pol_dif', '<f8'), ('11_spa_pol_tes', 'i1'), ('20_ang_seg_dif', '<f8'), ('21_ang_seg_tes', '<f4'), ('30_len_seg_dif', '<f8'), ('31_len_seg_tes', '<f4'), ('22_course_seg1', '<f8'), ('23_course_seg2', '<f8'), ('32_len_seg1', '<f8'), ('33_len_seg2', '<f8')])"
      ]
     },
     "execution_count": 2,
     "metadata": {},
     "output_type": "execute_result"
    }
   ],
   "source": [
    "## calculate pair Gondwana and Laurussia (I-error corrected)'s difference scores in terms of\n",
    "## space (coeval poles), length (coeval segments) and angle (coeval orientation change)\n",
    "copy_tree(\"data/rot_version/Laurussia_RM_GMAP2015AFRcoord\",\"/tmp/Laurussia_RM_GMAP2015AFRcoord\")\n",
    "copy_tree(\"data/Gondwana_RM\",\"/tmp/Gondwana_RM\")\n",
    "cmp.spa_angpre_len_dif('data/rot_version/Laurussia_RM_GMAP2015AFRcoord.txt',\n",
    "                       'data/Gondwana_RM.txt',\n",
    "                       pnh1=0,pnh2=1)\n",
    "# the results should be the same as stored in\n",
    "# data/0.result_tables/LauruRMgmap2015AFRcoord_GonRM.txt"
   ]
  },
  {
   "cell_type": "code",
   "execution_count": 4,
   "metadata": {},
   "outputs": [
    {
     "name": "stdout",
     "output_type": "stream",
     "text": [
      "ds\tda\tdl\tno\tt0\tt1\tequalWeighCPD\n",
      "0.109626\t0.378304\t0.132781\t0\t0\t200\t0.206904\n",
      "0.143271\t0.302843\t0.109745\t1\t200\t320\t0.185286\n",
      "0.128525\t0.463788\t0.119459\t2\t250\t300\t0.237258\n",
      "0.123099\t0.35217\t0.124142\t3\t0\t320\t0.199804\n"
     ]
    }
   ],
   "source": [
    "## reproduce d_notest results for pair (c) in Figure 10(c) using the output above\n",
    "## from the function cmp.spa_angpre_len_dif\n",
    "pair_10c=cmp.ppf3('data/0.result_tables/LauruRMgmap2015AFRcoord_GonRM.txt')\n",
    "#10c_ntest.txt\n",
    "print('ds\\tda\\tdl\\tno\\tt0\\tt1\\tequalWeighCPD')\n",
    "cmp.calc_nt(pair_10c,'0',0,200)\n",
    "cmp.calc_nt(pair_10c,'1',200,320)\n",
    "cmp.calc_nt(pair_10c,'2',250,300)\n",
    "cmp.calc_nt(pair_10c,'3',0,320)"
   ]
  },
  {
   "cell_type": "code",
   "execution_count": 5,
   "metadata": {},
   "outputs": [
    {
     "name": "stdout",
     "output_type": "stream",
     "text": [
      "ds\tda\tdl\tno\tt0\tt1\tequalWeighCPD\n",
      "0.02788\t0\t0.0183608\t0\t0\t200\t0.0154136\n",
      "0.0923885\t0\t0\t1\t200\t320\t0.0307962\n",
      "0.0927611\t0\t0\t2\t250\t300\t0.0309204\n",
      "0.0541373\t0\t0.0114755\t3\t0\t320\t0.0218709\n"
     ]
    }
   ],
   "source": [
    "## significant results\n",
    "#10c_test.txt\n",
    "print('ds\\tda\\tdl\\tno\\tt0\\tt1\\tequalWeighCPD')\n",
    "cmp.calc(pair_10c,'0',0,200)\n",
    "cmp.calc(pair_10c,'1',200,320)\n",
    "cmp.calc(pair_10c,'2',250,300)\n",
    "cmp.calc(pair_10c,'3',0,320)"
   ]
  },
  {
   "cell_type": "markdown",
   "metadata": {},
   "source": [
    "## Figure 10 pair (d)"
   ]
  },
  {
   "cell_type": "code",
   "execution_count": 3,
   "metadata": {},
   "outputs": [
    {
     "name": "stdout",
     "output_type": "stream",
     "text": [
      "00_no\t01_tstop\t10_spa_pol_dif\t11_spa_pol_tes\t20_ang_seg_dif\t21_ang_seg_tes\t30_len_seg_dif\t31_len_seg_tes\t22_course_seg1\t23_course_seg2\t32_len_seg1\t33_len_seg2\n",
      "0\t0.0\t3.080020996588883\t0\tnan\tnan\tnan\tnan\tnan\tnan\tnan\tnan\n",
      "1\t10.0\t1.1789780715118492\t0\tnan\tnan\t1.0961851623054866\t0\t98.7616384223\t317.905412915\t1.8646867964967404\t0.768501634191254\n",
      "2\t20.0\t2.6518793211637584\t0\t101.87501125341998\t0\t1.7901085075634389\t0\t-62.44383090957999\t39.43118034384\t3.2918822931761658\t1.501773785612727\n",
      "3\t30.0\t1.2994941926563437\t0\t128.7507706435\t0\t0.7798868675393249\t0\t92.2005280465\t-36.55024259699999\t1.9761147379270099\t2.7560016054663348\n",
      "4\t40.0\t6.105374347249766\t0\t31.299042656300003\t0\t1.8130781516300853\t0\t-16.08364257330001\t15.215400082999992\t2.8163868193386588\t4.629464970968744\n",
      "5\t50.0\t6.788319603666374\t1\t92.72399001190001\t0\t4.0541584141548785\t0\t-29.181761119000015\t63.5422288929\t6.196125633664609\t2.1419672195097306\n",
      "6\t60.0\t4.159621900080581\t1\t7.925520201799998\t0\t10.653621670992345\t1\t28.616422325499997\t36.541942527299994\t2.7784351474119346\t13.43205681840428\n",
      "7\t70.0\t2.3665978805812258\t0\t64.44694290659999\t0\t1.9138115225058523\t0\t40.63004869349999\t-23.8168942131\t3.2552455365647917\t1.3414340140589394\n",
      "8\t80.0\t3.190323256721108\t0\t150.92654996073998\t0\t1.2114612438291654\t0\t-58.695277255739995\t92.231272705\t1.27119705152716\t2.4826582953563254\n",
      "9\t90.0\t4.262433520377067\t0\t52.46528922110005\t0\t2.4988652761184085\t0\t31.960115938200005\t-20.505173282900046\t4.116304581926552\t1.617439305808143\n",
      "10\t100.0\t5.454709516094788\t0\t48.88670076509996\t0\t3.5294323110531813\t0\t27.546854655599986\t-21.339846109499973\t6.01414137985728\t2.484709068804099\n",
      "11\t110.0\t5.604936267850672\t0\t23.494110009299987\t0\t7.938009886391983\t0\t12.95898233669999\t-10.535127672599998\t6.735008112534448\t14.673017998926431\n",
      "12\t120.0\t1.7665336469589434\t0\t21.999663000699968\t0\t5.976140969453791\t0\t-15.8249050023\t-37.82456800299997\t8.58792720304416\t2.6117862335903688\n",
      "13\t130.0\t4.703026269690905\t0\t17.376320535199994\t0\t0.3929938476621393\t0\t12.23487638520001\t-5.141444149999984\t5.072890783171889\t5.4658846308340285\n",
      "14\t140.0\t10.28245142849356\t0\t82.19195371200001\t0\t5.483388872396684\t0\t-39.66323527099999\t-121.855188983\t7.010521862326592\t1.527132989929908\n",
      "15\t150.0\t16.10996588945696\t1\t130.2384244326\t0\t5.941031191125598\t0\t-150.481329374\t-20.242904941400013\t8.964115364618596\t14.905146555744194\n",
      "16\t160.0\t8.177111683364874\t0\t134.44621719859998\t0\t1.1881751204531446\t0\t-5.558107113600016\t-140.0043243122\t4.211037174617715\t5.39921229507086\n",
      "17\t170.0\t2.8752763554823284\t0\t66.07643060269999\t0\t1.3025481989440415\t0\t12.113593429299982\t-53.962837173400004\t4.1918140937312165\t5.494362292675258\n",
      "18\t180.0\t8.017721149414042\t0\t174.5359979861\t0\t3.734909555652978\t0\t-35.3579989701\t139.177999016\t9.432894481954998\t5.69798492630202\n",
      "19\t190.0\t5.301812584381774\t1\t57.704774057700035\t0\t4.36242960631557\t0\t-22.15322431070001\t35.551549747000024\t1.3196181336689026\t5.682047739984473\n",
      "20\t200.0\t3.1546547293044\t0\t31.407284712890032\t0\t4.880987598237121\t0\t77.33367758300002\t45.92639287010999\t3.0933897177769554\t7.974377316014077\n",
      "21\t210.0\t3.5111078843123935\t0\t46.31684784479998\t0\t2.028745035261161\t0\t65.1748664673\t111.49171431209999\t4.239285713324616\t6.268030748585777\n",
      "22\t220.0\t3.648810052691948\t0\t66.32340371799998\t0\t5.843604503739918\t0\t12.626402229999997\t-53.697001487999984\t5.832521160277295\t11.676125664017214\n",
      "23\t230.0\t3.230916600356667\t0\t49.40351428601001\t0\t4.202564069297205\t0\t22.042347157889992\t71.4458614439\t6.639680410354924\t2.437116341057719\n",
      "24\t240.0\t0.20918346198552876\t0\t23.816279411100027\t0\t3.2234148894508072\t0\t39.5622145735\t15.745935162399974\t5.268793334490444\t8.492208223941251\n",
      "25\t250.0\t3.7970721139447865\t0\t33.37431746569999\t0\t2.062585853505822\t0\t22.641194894299986\t-10.733122571400003\t4.177241181636783\t6.239827035142605\n",
      "26\t260.0\t2.3079464016173876\t0\t117.75318170536\t0\t0.38834597984150854\t0\t-50.34164045896\t67.4115412464\t1.2915173365087802\t1.6798633163502887\n",
      "27\t270.0\t2.5582325275653166\t0\t94.147157859\t0\t0.45491199325352394\t0\t-18.78635164299999\t-112.93350950199999\t4.420382999907582\t4.875294993161106\n",
      "28\t280.0\t5.381406038132794\t0\t52.136210534999975\t0\t1.8391454446898265\t0\t0.3302230580000014\t-51.805987476999974\t7.234203297467541\t5.395057852777715\n",
      "29\t290.0\t9.747777952340344\t1\t26.73207026000003\t0\t1.623111087749734\t0\t-29.061236677999972\t-55.793306938\t2.560412719940772\t4.183523807690506\n",
      "30\t300.0\t6.435758497686366\t0\t172.761880947\t0\t7.974973964452021\t0\t-66.80114048799999\t120.436978565\t1.2366526926669734\t9.211626657118995\n",
      "31\t310.0\t7.571835545244096\t0\t14.294929740300006\t0\t0.18188599637833303\t0\t12.940287203300016\t-1.3546425369999895\t5.450278036096594\t5.268392039718261\n",
      "32\t320.0\t10.5050536899222\t1\t108.90567200969997\t0\t11.847968806824067\t0\t18.343047705700002\t-90.56262430399997\t13.51849419138622\t1.6705253845621528\n"
     ]
    },
    {
     "data": {
      "text/plain": [
       "array([( 0,   0.,  3.080021  , 0,          nan, nan,         nan, nan,           nan,           nan,         nan,         nan),\n",
       "       ( 1,  10.,  1.17897807, 0,          nan, nan,  1.09618516,  0.,   98.76163842,  317.90541291,  1.8646868 ,  0.76850163),\n",
       "       ( 2,  20.,  2.65187932, 0, 101.87501125,  0.,  1.79010851,  0.,  -62.44383091,   39.43118034,  3.29188229,  1.50177379),\n",
       "       ( 3,  30.,  1.29949419, 0, 128.75077064,  0.,  0.77988687,  0.,   92.20052805,  -36.5502426 ,  1.97611474,  2.75600161),\n",
       "       ( 4,  40.,  6.10537435, 0,  31.29904266,  0.,  1.81307815,  0.,  -16.08364257,   15.21540008,  2.81638682,  4.62946497),\n",
       "       ( 5,  50.,  6.7883196 , 1,  92.72399001,  0.,  4.05415841,  0.,  -29.18176112,   63.54222889,  6.19612563,  2.14196722),\n",
       "       ( 6,  60.,  4.1596219 , 1,   7.9255202 ,  0., 10.65362167,  1.,   28.61642233,   36.54194253,  2.77843515, 13.43205682),\n",
       "       ( 7,  70.,  2.36659788, 0,  64.44694291,  0.,  1.91381152,  0.,   40.63004869,  -23.81689421,  3.25524554,  1.34143401),\n",
       "       ( 8,  80.,  3.19032326, 0, 150.92654996,  0.,  1.21146124,  0.,  -58.69527726,   92.2312727 ,  1.27119705,  2.4826583 ),\n",
       "       ( 9,  90.,  4.26243352, 0,  52.46528922,  0.,  2.49886528,  0.,   31.96011594,  -20.50517328,  4.11630458,  1.61743931),\n",
       "       (10, 100.,  5.45470952, 0,  48.88670077,  0.,  3.52943231,  0.,   27.54685466,  -21.33984611,  6.01414138,  2.48470907),\n",
       "       (11, 110.,  5.60493627, 0,  23.49411001,  0.,  7.93800989,  0.,   12.95898234,  -10.53512767,  6.73500811, 14.673018  ),\n",
       "       (12, 120.,  1.76653365, 0,  21.999663  ,  0.,  5.97614097,  0.,  -15.824905  ,  -37.824568  ,  8.5879272 ,  2.61178623),\n",
       "       (13, 130.,  4.70302627, 0,  17.37632054,  0.,  0.39299385,  0.,   12.23487639,   -5.14144415,  5.07289078,  5.46588463),\n",
       "       (14, 140., 10.28245143, 0,  82.19195371,  0.,  5.48338887,  0.,  -39.66323527, -121.85518898,  7.01052186,  1.52713299),\n",
       "       (15, 150., 16.10996589, 1, 130.23842443,  0.,  5.94103119,  0., -150.48132937,  -20.24290494,  8.96411536, 14.90514656),\n",
       "       (16, 160.,  8.17711168, 0, 134.4462172 ,  0.,  1.18817512,  0.,   -5.55810711, -140.00432431,  4.21103717,  5.3992123 ),\n",
       "       (17, 170.,  2.87527636, 0,  66.0764306 ,  0.,  1.3025482 ,  0.,   12.11359343,  -53.96283717,  4.19181409,  5.49436229),\n",
       "       (18, 180.,  8.01772115, 0, 174.53599799,  0.,  3.73490956,  0.,  -35.35799897,  139.17799902,  9.43289448,  5.69798493),\n",
       "       (19, 190.,  5.30181258, 1,  57.70477406,  0.,  4.36242961,  0.,  -22.15322431,   35.55154975,  1.31961813,  5.68204774),\n",
       "       (20, 200.,  3.15465473, 0,  31.40728471,  0.,  4.8809876 ,  0.,   77.33367758,   45.92639287,  3.09338972,  7.97437732),\n",
       "       (21, 210.,  3.51110788, 0,  46.31684784,  0.,  2.02874504,  0.,   65.17486647,  111.49171431,  4.23928571,  6.26803075),\n",
       "       (22, 220.,  3.64881005, 0,  66.32340372,  0.,  5.8436045 ,  0.,   12.62640223,  -53.69700149,  5.83252116, 11.67612566),\n",
       "       (23, 230.,  3.2309166 , 0,  49.40351429,  0.,  4.20256407,  0.,   22.04234716,   71.44586144,  6.63968041,  2.43711634),\n",
       "       (24, 240.,  0.20918346, 0,  23.81627941,  0.,  3.22341489,  0.,   39.56221457,   15.74593516,  5.26879333,  8.49220822),\n",
       "       (25, 250.,  3.79707211, 0,  33.37431747,  0.,  2.06258585,  0.,   22.64119489,  -10.73312257,  4.17724118,  6.23982704),\n",
       "       (26, 260.,  2.3079464 , 0, 117.75318171,  0.,  0.38834598,  0.,  -50.34164046,   67.41154125,  1.29151734,  1.67986332),\n",
       "       (27, 270.,  2.55823253, 0,  94.14715786,  0.,  0.45491199,  0.,  -18.78635164, -112.9335095 ,  4.420383  ,  4.87529499),\n",
       "       (28, 280.,  5.38140604, 0,  52.13621053,  0.,  1.83914544,  0.,    0.33022306,  -51.80598748,  7.2342033 ,  5.39505785),\n",
       "       (29, 290.,  9.74777795, 1,  26.73207026,  0.,  1.62311109,  0.,  -29.06123668,  -55.79330694,  2.56041272,  4.18352381),\n",
       "       (30, 300.,  6.4357585 , 0, 172.76188095,  0.,  7.97497396,  0.,  -66.80114049,  120.43697857,  1.23665269,  9.21162666),\n",
       "       (31, 310.,  7.57183555, 0,  14.29492974,  0.,  0.181886  ,  0.,   12.9402872 ,   -1.35464254,  5.45027804,  5.26839204),\n",
       "       (32, 320., 10.50505369, 1, 108.90567201,  0., 11.84796881,  0.,   18.34304771,  -90.5626243 , 13.51849419,  1.67052538)],\n",
       "      dtype=[('00_no', '<i2'), ('01_tstop', '<f2'), ('10_spa_pol_dif', '<f8'), ('11_spa_pol_tes', 'i1'), ('20_ang_seg_dif', '<f8'), ('21_ang_seg_tes', '<f4'), ('30_len_seg_dif', '<f8'), ('31_len_seg_tes', '<f4'), ('22_course_seg1', '<f8'), ('23_course_seg2', '<f8'), ('32_len_seg1', '<f8'), ('33_len_seg2', '<f8')])"
      ]
     },
     "execution_count": 3,
     "metadata": {},
     "output_type": "execute_result"
    }
   ],
   "source": [
    "## calculate pair Gondwana and Laurussia's difference scores in terms of space (coeval poles),\n",
    "## length (coeval segments) and angle (coeval orientation change)\n",
    "copy_tree(\"data/rot_version/Laurussia_F6_RM_GMAP2015AFRcoord\",\"/tmp/Laurussia_F6_RM_GMAP2015AFRcoord\")\n",
    "copy_tree(\"data/Gondwana_F6_RM\",\"/tmp/Gondwana_F6_RM\")\n",
    "cmp.spa_angpre_len_dif('data/rot_version/Laurussia_F6_RM_GMAP2015AFRcoord.txt',\n",
    "                       'data/Gondwana_F6_RM.txt',\n",
    "                       pnh1=0,pnh2=1)\n",
    "# the results should be the same as stored in\n",
    "# data/0.result_tables/LauruF6RMgmap2015AFRcoord_GonF6RM.txt"
   ]
  },
  {
   "cell_type": "code",
   "execution_count": 6,
   "metadata": {},
   "outputs": [
    {
     "name": "stdout",
     "output_type": "stream",
     "text": [
      "ds\tda\tdl\tno\tt0\tt1\tequalWeighCPD\n",
      "0.101458\t0.414845\t0.130731\t0\t0\t200\t0.215678\n",
      "0.0954765\t0.383661\t0.128712\t1\t200\t320\t0.202617\n",
      "0.100761\t0.480246\t0.0910353\t2\t250\t300\t0.224014\n",
      "0.100264\t0.398698\t0.129974\t3\t0\t320\t0.209645\n"
     ]
    }
   ],
   "source": [
    "## reproduce d_notest results for pair (d) in Figure 10(d) using the output above\n",
    "## from the function cmp.spa_angpre_len_dif\n",
    "pair_10d=cmp.ppf3('data/0.result_tables/LauruF6RMgmap2015AFRcoord_GonF6RM.txt')\n",
    "#10d_ntest.txt\n",
    "print('ds\\tda\\tdl\\tno\\tt0\\tt1\\tequalWeighCPD')\n",
    "cmp.calc_nt(pair_10d,'0',0,200)\n",
    "cmp.calc_nt(pair_10d,'1',200,320)\n",
    "cmp.calc_nt(pair_10d,'2',250,300)\n",
    "cmp.calc_nt(pair_10d,'3',0,320)"
   ]
  },
  {
   "cell_type": "code",
   "execution_count": 7,
   "metadata": {},
   "outputs": [
    {
     "name": "stdout",
     "output_type": "stream",
     "text": [
      "ds\tda\tdl\tno\tt0\tt1\tequalWeighCPD\n",
      "0.0308188\t0\t0.0197438\t0\t0\t200\t0.0168542\n",
      "0.0311582\t0\t0\t1\t200\t320\t0.0103861\n",
      "0.0324926\t0\t0\t2\t250\t300\t0.0108309\n",
      "0.0318864\t0\t0.0123399\t3\t0\t320\t0.0147421\n"
     ]
    }
   ],
   "source": [
    "## significant results\n",
    "#10d_test.txt\n",
    "print('ds\\tda\\tdl\\tno\\tt0\\tt1\\tequalWeighCPD')\n",
    "cmp.calc(pair_10d,'0',0,200)\n",
    "cmp.calc(pair_10d,'1',200,320)\n",
    "cmp.calc(pair_10d,'2',250,300)\n",
    "cmp.calc(pair_10d,'3',0,320)"
   ]
  },
  {
   "cell_type": "markdown",
   "metadata": {},
   "source": [
    "## Figure 10 pair (c)'s Gondwana (Uncorrected) vs pair (d)'s Laurussia (Corrected)"
   ]
  },
  {
   "cell_type": "code",
   "execution_count": 5,
   "metadata": {
    "scrolled": true
   },
   "outputs": [
    {
     "name": "stdout",
     "output_type": "stream",
     "text": [
      "00_no\t01_tstop\t10_spa_pol_dif\t11_spa_pol_tes\t20_ang_seg_dif\t21_ang_seg_tes\t30_len_seg_dif\t31_len_seg_tes\t22_course_seg1\t23_course_seg2\t32_len_seg1\t33_len_seg2\n",
      "0\t0.0\t3.080020996588883\t0\tnan\tnan\tnan\tnan\tnan\tnan\tnan\tnan\n",
      "1\t10.0\t1.549773250676106\t0\tnan\tnan\t0.2686223363617901\t0\t98.7616384223\t336.727180306\t1.8646867964967404\t1.5960644601349503\n",
      "2\t20.0\t2.494365061057607\t0\t86.69895985155998\t0\t0.4664715887759887\t0\t-62.44383090957999\t24.25512894197999\t3.2918822931761658\t2.825410704400177\n",
      "3\t30.0\t3.0085830415898305\t0\t115.33975891450002\t0\t0.9211203541014996\t0\t92.2005280465\t-23.139230868000027\t1.9761147379270099\t2.8972350920285095\n",
      "4\t40.0\t7.114946556426819\t0\t10.74443087329999\t0\t1.5207318625612007\t0\t-16.08364257330001\t-5.339211700000021\t2.8163868193386588\t4.3371186818998595\n",
      "5\t50.0\t6.289108295930069\t0\t106.41643555830001\t0\t4.5537805607050545\t0\t-29.181761119000015\t77.2346744393\t6.196125633664609\t1.6423450729595543\n",
      "6\t60.0\t4.159621900080581\t1\t5.204254575199997\t0\t9.93510886369306\t1\t28.616422325499997\t33.82067690069999\t2.7784351474119346\t12.713544011104995\n",
      "7\t70.0\t2.3665978805812258\t0\t71.9448571186\t0\t1.9138115225058523\t0\t40.63004869349999\t-31.31480842510001\t3.2552455365647917\t1.3414340140589394\n",
      "8\t80.0\t3.190323256721108\t0\t150.92654996073998\t0\t1.2114612438291654\t0\t-58.695277255739995\t92.231272705\t1.27119705152716\t2.4826582953563254\n",
      "9\t90.0\t4.262433520377067\t0\t52.46528922110005\t0\t2.4988652761184085\t0\t31.960115938200005\t-20.505173282900046\t4.116304581926552\t1.617439305808143\n",
      "10\t100.0\t5.454709516094788\t0\t48.88670076509996\t0\t3.5294323110531813\t0\t27.546854655599986\t-21.339846109499973\t6.01414137985728\t2.484709068804099\n",
      "11\t110.0\t6.342760400064902\t0\t20.75246847309998\t0\t8.400014248546956\t0\t12.95898233669999\t-7.793486136399991\t6.735008112534448\t15.135022361081404\n",
      "12\t120.0\t1.8483758856431145\t0\t29.66359442869998\t0\t5.948142233414233\t0\t-15.8249050023\t-45.48849943099998\t8.58792720304416\t2.6397849696299267\n",
      "13\t130.0\t4.703026269690905\t0\t18.42025453420004\t0\t0.5478705348053863\t0\t12.23487638520001\t-6.18537814900003\t5.072890783171889\t5.6207613179772755\n",
      "14\t140.0\t10.28245142849356\t0\t76.072087619\t0\t5.483388872396684\t0\t-39.66323527099999\t-115.73532288999999\t7.010521862326592\t1.527132989929908\n",
      "15\t150.0\t16.10996588945696\t1\t130.2384244326\t0\t5.941031191125598\t0\t-150.481329374\t-20.242904941400013\t8.964115364618596\t14.905146555744194\n",
      "16\t160.0\t8.177111683364874\t0\t134.44621719859998\t0\t1.1881751204531446\t0\t-5.558107113600016\t-140.0043243122\t4.211037174617715\t5.39921229507086\n",
      "17\t170.0\t2.8752763554823284\t0\t66.07643060269999\t0\t1.3025481989440415\t0\t12.113593429299982\t-53.962837173400004\t4.1918140937312165\t5.494362292675258\n",
      "18\t180.0\t8.017721149414042\t0\t174.5359979861\t0\t3.734909555652978\t0\t-35.3579989701\t139.177999016\t9.432894481954998\t5.69798492630202\n",
      "19\t190.0\t5.301812584381774\t1\t57.704774057700035\t0\t4.36242960631557\t0\t-22.15322431070001\t35.551549747000024\t1.3196181336689026\t5.682047739984473\n",
      "20\t200.0\t4.456595346015349\t0\t40.15001227489003\t0\t5.292558039887283\t0\t77.33367758300002\t37.183665308109994\t3.0933897177769554\t8.385947757664239\n",
      "21\t210.0\t4.333054697089147\t0\t55.965657623199974\t0\t1.2423940887528797\t0\t65.1748664673\t121.14052409049998\t4.239285713324616\t5.481679802077496\n",
      "22\t220.0\t1.6405286870216773\t0\t45.99686573500003\t0\t3.1654992133149307\t0\t12.626402229999997\t-33.37046350500003\t5.832521160277295\t8.998020373592226\n",
      "23\t230.0\t4.737948247845215\t0\t33.20483932871001\t0\t3.2098110661898582\t0\t22.042347157889992\t55.2471864866\t6.639680410354924\t3.4298693441650654\n",
      "24\t240.0\t6.775864695572005\t0\t11.787049380300004\t0\t2.0721666557335796\t0\t39.5622145735\t27.775165193199996\t5.268793334490444\t7.3409599902240235\n",
      "25\t250.0\t7.201843744985341\t0\t14.581015024500005\t0\t0.6853379468630072\t0\t22.641194894299986\t8.060179869799981\t4.177241181636783\t4.862579128499791\n",
      "26\t260.0\t6.0379976831014375\t0\t77.52031954604001\t0\t0.2875478655481165\t0\t-50.34164045896\t-127.86196000500001\t1.2915173365087802\t1.5790652020568967\n",
      "27\t270.0\t3.168057701829144\t0\t68.53570679099997\t0\t5.790541472576174\t0\t-18.78635164299999\t49.74935514799998\t4.420382999907582\t10.210924472483756\n",
      "28\t280.0\t4.089729157102674\t0\t50.746651740000004\t0\t4.0178385601257585\t0\t0.3302230580000014\t-50.416428682\t7.234203297467541\t3.2163647373417827\n",
      "29\t290.0\t8.87847993955787\t1\t49.60191635100003\t0\t0.7641907593996895\t0\t-29.061236677999972\t-78.663153029\t2.560412719940772\t3.3246034793404613\n",
      "30\t300.0\t1.4857366129875946\t0\t155.91122722440002\t0\t5.979170051357595\t0\t-66.80114048799999\t137.2876322876\t1.2366526926669734\t7.215822744024569\n",
      "31\t310.0\t6.597478639927836\t0\t3.619837808299991\t0\t0.8460018282335362\t0\t12.940287203300016\t9.320449395000026\t5.450278036096594\t4.604276207863058\n",
      "32\t320.0\t16.7410393539003\t1\t59.02206036969997\t0\t10.550834302322025\t0\t18.343047705700002\t-40.67901266399997\t13.51849419138622\t2.9676598890641936\n"
     ]
    },
    {
     "data": {
      "text/plain": [
       "array([( 0,   0.,  3.080021  , 0,          nan, nan,         nan, nan,           nan,           nan,         nan,         nan),\n",
       "       ( 1,  10.,  1.54977325, 0,          nan, nan,  0.26862234,  0.,   98.76163842,  336.72718031,  1.8646868 ,  1.59606446),\n",
       "       ( 2,  20.,  2.49436506, 0,  86.69895985,  0.,  0.46647159,  0.,  -62.44383091,   24.25512894,  3.29188229,  2.8254107 ),\n",
       "       ( 3,  30.,  3.00858304, 0, 115.33975891,  0.,  0.92112035,  0.,   92.20052805,  -23.13923087,  1.97611474,  2.89723509),\n",
       "       ( 4,  40.,  7.11494656, 0,  10.74443087,  0.,  1.52073186,  0.,  -16.08364257,   -5.3392117 ,  2.81638682,  4.33711868),\n",
       "       ( 5,  50.,  6.2891083 , 0, 106.41643556,  0.,  4.55378056,  0.,  -29.18176112,   77.23467444,  6.19612563,  1.64234507),\n",
       "       ( 6,  60.,  4.1596219 , 1,   5.20425458,  0.,  9.93510886,  1.,   28.61642233,   33.8206769 ,  2.77843515, 12.71354401),\n",
       "       ( 7,  70.,  2.36659788, 0,  71.94485712,  0.,  1.91381152,  0.,   40.63004869,  -31.31480843,  3.25524554,  1.34143401),\n",
       "       ( 8,  80.,  3.19032326, 0, 150.92654996,  0.,  1.21146124,  0.,  -58.69527726,   92.2312727 ,  1.27119705,  2.4826583 ),\n",
       "       ( 9,  90.,  4.26243352, 0,  52.46528922,  0.,  2.49886528,  0.,   31.96011594,  -20.50517328,  4.11630458,  1.61743931),\n",
       "       (10, 100.,  5.45470952, 0,  48.88670077,  0.,  3.52943231,  0.,   27.54685466,  -21.33984611,  6.01414138,  2.48470907),\n",
       "       (11, 110.,  6.3427604 , 0,  20.75246847,  0.,  8.40001425,  0.,   12.95898234,   -7.79348614,  6.73500811, 15.13502236),\n",
       "       (12, 120.,  1.84837589, 0,  29.66359443,  0.,  5.94814223,  0.,  -15.824905  ,  -45.48849943,  8.5879272 ,  2.63978497),\n",
       "       (13, 130.,  4.70302627, 0,  18.42025453,  0.,  0.54787053,  0.,   12.23487639,   -6.18537815,  5.07289078,  5.62076132),\n",
       "       (14, 140., 10.28245143, 0,  76.07208762,  0.,  5.48338887,  0.,  -39.66323527, -115.73532289,  7.01052186,  1.52713299),\n",
       "       (15, 150., 16.10996589, 1, 130.23842443,  0.,  5.94103119,  0., -150.48132937,  -20.24290494,  8.96411536, 14.90514656),\n",
       "       (16, 160.,  8.17711168, 0, 134.4462172 ,  0.,  1.18817512,  0.,   -5.55810711, -140.00432431,  4.21103717,  5.3992123 ),\n",
       "       (17, 170.,  2.87527636, 0,  66.0764306 ,  0.,  1.3025482 ,  0.,   12.11359343,  -53.96283717,  4.19181409,  5.49436229),\n",
       "       (18, 180.,  8.01772115, 0, 174.53599799,  0.,  3.73490956,  0.,  -35.35799897,  139.17799902,  9.43289448,  5.69798493),\n",
       "       (19, 190.,  5.30181258, 1,  57.70477406,  0.,  4.36242961,  0.,  -22.15322431,   35.55154975,  1.31961813,  5.68204774),\n",
       "       (20, 200.,  4.45659535, 0,  40.15001227,  0.,  5.29255804,  0.,   77.33367758,   37.18366531,  3.09338972,  8.38594776),\n",
       "       (21, 210.,  4.3330547 , 0,  55.96565762,  0.,  1.24239409,  0.,   65.17486647,  121.14052409,  4.23928571,  5.4816798 ),\n",
       "       (22, 220.,  1.64052869, 0,  45.99686574,  0.,  3.16549921,  0.,   12.62640223,  -33.37046351,  5.83252116,  8.99802037),\n",
       "       (23, 230.,  4.73794825, 0,  33.20483933,  0.,  3.20981107,  0.,   22.04234716,   55.24718649,  6.63968041,  3.42986934),\n",
       "       (24, 240.,  6.7758647 , 0,  11.78704938,  0.,  2.07216666,  0.,   39.56221457,   27.77516519,  5.26879333,  7.34095999),\n",
       "       (25, 250.,  7.20184374, 0,  14.58101502,  0.,  0.68533795,  0.,   22.64119489,    8.06017987,  4.17724118,  4.86257913),\n",
       "       (26, 260.,  6.03799768, 0,  77.52031955,  0.,  0.28754787,  0.,  -50.34164046, -127.86196001,  1.29151734,  1.5790652 ),\n",
       "       (27, 270.,  3.1680577 , 0,  68.53570679,  0.,  5.79054147,  0.,  -18.78635164,   49.74935515,  4.420383  , 10.21092447),\n",
       "       (28, 280.,  4.08972916, 0,  50.74665174,  0.,  4.01783856,  0.,    0.33022306,  -50.41642868,  7.2342033 ,  3.21636474),\n",
       "       (29, 290.,  8.87847994, 1,  49.60191635,  0.,  0.76419076,  0.,  -29.06123668,  -78.66315303,  2.56041272,  3.32460348),\n",
       "       (30, 300.,  1.48573661, 0, 155.91122722,  0.,  5.97917005,  0.,  -66.80114049,  137.28763229,  1.23665269,  7.21582274),\n",
       "       (31, 310.,  6.59747864, 0,   3.61983781,  0.,  0.84600183,  0.,   12.9402872 ,    9.3204494 ,  5.45027804,  4.60427621),\n",
       "       (32, 320., 16.74103935, 1,  59.02206037,  0., 10.5508343 ,  0.,   18.34304771,  -40.67901266, 13.51849419,  2.96765989)],\n",
       "      dtype=[('00_no', '<i2'), ('01_tstop', '<f2'), ('10_spa_pol_dif', '<f8'), ('11_spa_pol_tes', 'i1'), ('20_ang_seg_dif', '<f8'), ('21_ang_seg_tes', '<f4'), ('30_len_seg_dif', '<f8'), ('31_len_seg_tes', '<f4'), ('22_course_seg1', '<f8'), ('23_course_seg2', '<f8'), ('32_len_seg1', '<f8'), ('33_len_seg2', '<f8')])"
      ]
     },
     "execution_count": 5,
     "metadata": {},
     "output_type": "execute_result"
    }
   ],
   "source": [
    "## calculate pair Gondwana (Uncorrected) and Laurussia (Corrected)'s difference scores in terms of\n",
    "## space (coeval poles), length (coeval segments) and angle (coeval orientation change)\n",
    "copy_tree(\"data/rot_version/Laurussia_F6_RM_GMAP2015AFRcoord\",\"/tmp/Laurussia_F6_RM_GMAP2015AFRcoord\")\n",
    "copy_tree(\"data/Gondwana_RM\",\"/tmp/Gondwana_RM\")\n",
    "cmp.spa_angpre_len_dif('data/rot_version/Laurussia_F6_RM_GMAP2015AFRcoord.txt',\n",
    "                       'data/Gondwana_RM.txt',\n",
    "                       pnh1=0,pnh2=1)\n",
    "# the results should be the same as stored in\n",
    "# data/0.result_tables/LauruF6RMgmap2015AFRcoord_GonRM.txt"
   ]
  },
  {
   "cell_type": "code",
   "execution_count": 13,
   "metadata": {},
   "outputs": [
    {
     "name": "stdout",
     "output_type": "stream",
     "text": [
      "ds\tda\tdl\tno\tt0\tt1\tequalWeighCPD\n",
      "0.105796\t0.408388\t0.127912\t0\t0\t200\t0.214032\n",
      "0.117145\t0.288145\t0.119261\t1\t200\t320\t0.17485\n",
      "0.102873\t0.451105\t0.12483\t2\t250\t300\t0.226269\n",
      "0.110772\t0.362577\t0.124668\t3\t0\t320\t0.199339\n"
     ]
    }
   ],
   "source": [
    "pair_10cG10dL=cmp.ppf3('data/0.result_tables/LauruF6RMgmap2015AFRcoord_GonRM.txt')\n",
    "#10cG10dL_ntest.txt\n",
    "print('ds\\tda\\tdl\\tno\\tt0\\tt1\\tequalWeighCPD')\n",
    "cmp.calc_nt(pair_10cG10dL,'0',0,200)\n",
    "cmp.calc_nt(pair_10cG10dL,'1',200,320)\n",
    "cmp.calc_nt(pair_10cG10dL,'2',250,300)\n",
    "cmp.calc_nt(pair_10cG10dL,'3',0,320)"
   ]
  },
  {
   "cell_type": "code",
   "execution_count": 14,
   "metadata": {},
   "outputs": [
    {
     "name": "stdout",
     "output_type": "stream",
     "text": [
      "ds\tda\tdl\tno\tt0\tt1\tequalWeighCPD\n",
      "0.0243537\t0\t0.0184122\t0\t0\t200\t0.0142553\n",
      "0.0394146\t0\t0\t1\t200\t320\t0.0131382\n",
      "0.0295949\t0\t0\t2\t250\t300\t0.00986498\n",
      "0.0310248\t0\t0.0115077\t3\t0\t320\t0.0141775\n"
     ]
    }
   ],
   "source": [
    "## significant results\n",
    "#10cG10dL_test.txt\n",
    "print('ds\\tda\\tdl\\tno\\tt0\\tt1\\tequalWeighCPD')\n",
    "cmp.calc(pair_10cG10dL,'0',0,200)\n",
    "cmp.calc(pair_10cG10dL,'1',200,320)\n",
    "cmp.calc(pair_10cG10dL,'2',250,300)\n",
    "cmp.calc(pair_10cG10dL,'3',0,320)"
   ]
  },
  {
   "cell_type": "markdown",
   "metadata": {},
   "source": [
    "## Figure 10 pair (c)'s Laurussia (Uncorrected) vs pair (d)'s Gondwana (Corrected)"
   ]
  },
  {
   "cell_type": "code",
   "execution_count": 6,
   "metadata": {},
   "outputs": [
    {
     "name": "stdout",
     "output_type": "stream",
     "text": [
      "00_no\t01_tstop\t10_spa_pol_dif\t11_spa_pol_tes\t20_ang_seg_dif\t21_ang_seg_tes\t30_len_seg_dif\t31_len_seg_tes\t22_course_seg1\t23_course_seg2\t32_len_seg1\t33_len_seg2\n",
      "0\t0.0\t3.9209716311135963\t1\tnan\tnan\tnan\tnan\tnan\tnan\tnan\tnan\n",
      "1\t10.0\t2.5185444395338887\t0\tnan\tnan\t0.6180691605008123\t0\t104.121754999\t317.905412915\t1.3865707946920662\t0.768501634191254\n",
      "2\t20.0\t3.239031150781701\t0\t88.04738455804002\t0\t1.9796725920549538\t0\t-48.616204214200025\t39.43118034384\t3.4814463776676807\t1.501773785612727\n",
      "3\t30.0\t1.2994941926563437\t0\t118.36936923279998\t0\t0.1756800991915668\t0\t81.81912663579999\t-36.55024259699999\t2.9316817046579016\t2.7560016054663348\n",
      "4\t40.0\t5.452613672290489\t0\t37.21913615209999\t0\t2.6160377762394273\t0\t-22.0037360691\t15.215400082999992\t2.0134271947293167\t4.629464970968744\n",
      "5\t50.0\t5.287172335509594\t0\t90.56654765779999\t0\t4.198375617652332\t0\t-27.024318764899988\t63.5422288929\t6.340342837162063\t2.1419672195097306\n",
      "6\t60.0\t5.795266709596411\t1\t3.099488919099997\t0\t10.625852474240203\t1\t33.4424536082\t36.541942527299994\t2.8062043441640783\t13.43205681840428\n",
      "7\t70.0\t3.815612063911052\t0\t65.85331925609998\t0\t1.8177450350931132\t0\t42.03642504299998\t-23.8168942131\t3.1591790491520526\t1.3414340140589394\n",
      "8\t80.0\t4.330584595023981\t0\t134.7663242205\t0\t0.5146162084831727\t0\t-42.535051515500015\t92.231272705\t1.9680420868731527\t2.4826582953563254\n",
      "9\t90.0\t4.237410190011141\t0\t48.88827260730005\t0\t3.2243676507000654\t0\t28.383099324400007\t-20.505173282900046\t4.841806956508209\t1.617439305808143\n",
      "10\t100.0\t5.419115294075718\t0\t37.51822649349995\t0\t3.5267528779546415\t0\t16.17838038399998\t-21.339846109499973\t6.0114619467587405\t2.484709068804099\n",
      "11\t110.0\t5.604936267850672\t0\t23.0141683528\t0\t7.943614300539029\t0\t12.4790406802\t-10.535127672599998\t6.729403698387402\t14.673017998926431\n",
      "12\t120.0\t1.7665336469589434\t0\t22.341285106699956\t0\t5.976140969453791\t0\t-15.483282896300011\t-37.82456800299997\t8.58792720304416\t2.6117862335903688\n",
      "13\t130.0\t4.691818502062274\t0\t17.234048351299975\t0\t0.39622202045697197\t0\t12.092604201299991\t-5.141444149999984\t5.069662610377057\t5.4658846308340285\n",
      "14\t140.0\t5.57415688857077\t0\t23.616498051999997\t0\t6.106961812706706\t0\t-98.23869093100001\t-121.855188983\t7.634094802636613\t1.527132989929908\n",
      "15\t150.0\t13.511712664893967\t1\t88.44308155859997\t0\t8.507816306016704\t0\t-108.68598649999998\t-20.242904941400013\t6.3973302497274895\t14.905146555744194\n",
      "16\t160.0\t7.267804552250987\t0\t157.2872564486\t0\t0.3370936687636492\t0\t17.282932136400007\t-140.0043243122\t5.06211862630721\t5.39921229507086\n",
      "17\t170.0\t6.708166767409256\t0\t51.86658740200002\t0\t1.979690744908286\t0\t-2.0962497713999824\t-53.962837173400004\t3.514671547766972\t5.494362292675258\n",
      "18\t180.0\t9.464527346857992\t0\t179.9808023106\t0\t2.921101887742415\t0\t-40.80280329460001\t139.177999016\t8.619086814044435\t5.69798492630202\n",
      "19\t190.0\t6.2776592951129615\t1\t65.35172464400006\t0\t4.458376119570137\t0\t-29.800174897000034\t35.551549747000024\t1.2236716204143356\t5.682047739984473\n",
      "20\t200.0\t3.858006227904503\t0\t62.419362018889984\t0\t5.107525843599833\t0\t108.34575488899998\t45.92639287010999\t2.8668514724142433\t7.974377316014077\n",
      "21\t210.0\t5.3326488551395075\t0\t62.030468625\t0\t1.273992936176385\t0\t49.46124568709999\t111.49171431209999\t4.994037812409392\t6.268030748585777\n",
      "22\t220.0\t1.8623315835128476\t0\t68.73605391200002\t0\t6.03129436124456\t0\t15.039052424000033\t-53.697001487999984\t5.644831302772653\t11.676125664017214\n",
      "23\t230.0\t2.8077220283849993\t0\t46.80936198799999\t0\t4.170937682117687\t0\t24.636499455900008\t71.4458614439\t6.608054023175407\t2.437116341057719\n",
      "24\t240.0\t3.0253141316023733\t0\t13.54198253490003\t0\t2.746035466303267\t0\t29.287917697300003\t15.745935162399974\t5.746172757637984\t8.492208223941251\n",
      "25\t250.0\t1.3119070280666096\t0\t41.61029255830002\t0\t0.3013050159030852\t0\t30.877169986900014\t-10.733122571400003\t5.93852201923952\t6.239827035142605\n",
      "26\t260.0\t1.9476048136064215\t0\t105.9912354024\t0\t0.7597769216699942\t0\t-38.57969415599999\t67.4115412464\t0.9200863946802945\t1.6798633163502887\n",
      "27\t270.0\t1.2401727792906991\t0\t88.41721646300002\t0\t1.0569446088259151\t0\t-24.516293038999976\t-112.93350950199999\t3.8183503843351905\t4.875294993161106\n",
      "28\t280.0\t5.110763049642176\t0\t53.739882043999984\t0\t0.5857540970497475\t0\t1.93389456700001\t-51.805987476999974\t5.980811949827462\t5.395057852777715\n",
      "29\t290.0\t9.892644020197801\t1\t25.539052052999978\t0\t1.3286897578709094\t0\t-30.254254885000023\t-55.793306938\t2.8548340498195963\t4.183523807690506\n",
      "30\t300.0\t5.4853987291564215\t0\t175.75301539199998\t0\t7.824892361232366\t0\t-63.810006043000016\t120.436978565\t1.3867342958866284\t9.211626657118995\n",
      "31\t310.0\t7.3259789863513785\t0\t1.2463461257000006\t0\t0.15285155882213175\t0\t-0.1082964112999889\t-1.3546425369999895\t5.115540480896129\t5.268392039718261\n",
      "32\t320.0\t9.979376144349546\t0\t113.52547655129999\t0\t10.511781498584702\t0\t22.96285224730002\t-90.56262430399997\t12.182306883146854\t1.6705253845621528\n"
     ]
    },
    {
     "data": {
      "text/plain": [
       "array([( 0,   0.,  3.92097163, 1,          nan, nan,         nan, nan,             nan,           nan,         nan,         nan),\n",
       "       ( 1,  10.,  2.51854444, 0,          nan, nan,  0.61806916,  0.,  1.04121755e+02,  317.90541291,  1.38657079,  0.76850163),\n",
       "       ( 2,  20.,  3.23903115, 0,  88.04738456,  0.,  1.97967259,  0., -4.86162042e+01,   39.43118034,  3.48144638,  1.50177379),\n",
       "       ( 3,  30.,  1.29949419, 0, 118.36936923,  0.,  0.1756801 ,  0.,  8.18191266e+01,  -36.5502426 ,  2.9316817 ,  2.75600161),\n",
       "       ( 4,  40.,  5.45261367, 0,  37.21913615,  0.,  2.61603778,  0., -2.20037361e+01,   15.21540008,  2.01342719,  4.62946497),\n",
       "       ( 5,  50.,  5.28717234, 0,  90.56654766,  0.,  4.19837562,  0., -2.70243188e+01,   63.54222889,  6.34034284,  2.14196722),\n",
       "       ( 6,  60.,  5.79526671, 1,   3.09948892,  0., 10.62585247,  1.,  3.34424536e+01,   36.54194253,  2.80620434, 13.43205682),\n",
       "       ( 7,  70.,  3.81561206, 0,  65.85331926,  0.,  1.81774504,  0.,  4.20364250e+01,  -23.81689421,  3.15917905,  1.34143401),\n",
       "       ( 8,  80.,  4.3305846 , 0, 134.76632422,  0.,  0.51461621,  0., -4.25350515e+01,   92.2312727 ,  1.96804209,  2.4826583 ),\n",
       "       ( 9,  90.,  4.23741019, 0,  48.88827261,  0.,  3.22436765,  0.,  2.83830993e+01,  -20.50517328,  4.84180696,  1.61743931),\n",
       "       (10, 100.,  5.41911529, 0,  37.51822649,  0.,  3.52675288,  0.,  1.61783804e+01,  -21.33984611,  6.01146195,  2.48470907),\n",
       "       (11, 110.,  5.60493627, 0,  23.01416835,  0.,  7.9436143 ,  0.,  1.24790407e+01,  -10.53512767,  6.7294037 , 14.673018  ),\n",
       "       (12, 120.,  1.76653365, 0,  22.34128511,  0.,  5.97614097,  0., -1.54832829e+01,  -37.824568  ,  8.5879272 ,  2.61178623),\n",
       "       (13, 130.,  4.6918185 , 0,  17.23404835,  0.,  0.39622202,  0.,  1.20926042e+01,   -5.14144415,  5.06966261,  5.46588463),\n",
       "       (14, 140.,  5.57415689, 0,  23.61649805,  0.,  6.10696181,  0., -9.82386909e+01, -121.85518898,  7.6340948 ,  1.52713299),\n",
       "       (15, 150., 13.51171266, 1,  88.44308156,  0.,  8.50781631,  0., -1.08685986e+02,  -20.24290494,  6.39733025, 14.90514656),\n",
       "       (16, 160.,  7.26780455, 0, 157.28725645,  0.,  0.33709367,  0.,  1.72829321e+01, -140.00432431,  5.06211863,  5.3992123 ),\n",
       "       (17, 170.,  6.70816677, 0,  51.8665874 ,  0.,  1.97969074,  0., -2.09624977e+00,  -53.96283717,  3.51467155,  5.49436229),\n",
       "       (18, 180.,  9.46452735, 0, 179.98080231,  0.,  2.92110189,  0., -4.08028033e+01,  139.17799902,  8.61908681,  5.69798493),\n",
       "       (19, 190.,  6.2776593 , 1,  65.35172464,  0.,  4.45837612,  0., -2.98001749e+01,   35.55154975,  1.22367162,  5.68204774),\n",
       "       (20, 200.,  3.85800623, 0,  62.41936202,  0.,  5.10752584,  0.,  1.08345755e+02,   45.92639287,  2.86685147,  7.97437732),\n",
       "       (21, 210.,  5.33264886, 0,  62.03046862,  0.,  1.27399294,  0.,  4.94612457e+01,  111.49171431,  4.99403781,  6.26803075),\n",
       "       (22, 220.,  1.86233158, 0,  68.73605391,  0.,  6.03129436,  0.,  1.50390524e+01,  -53.69700149,  5.6448313 , 11.67612566),\n",
       "       (23, 230.,  2.80772203, 0,  46.80936199,  0.,  4.17093768,  0.,  2.46364995e+01,   71.44586144,  6.60805402,  2.43711634),\n",
       "       (24, 240.,  3.02531413, 0,  13.54198253,  0.,  2.74603547,  0.,  2.92879177e+01,   15.74593516,  5.74617276,  8.49220822),\n",
       "       (25, 250.,  1.31190703, 0,  41.61029256,  0.,  0.30130502,  0.,  3.08771700e+01,  -10.73312257,  5.93852202,  6.23982704),\n",
       "       (26, 260.,  1.94760481, 0, 105.9912354 ,  0.,  0.75977692,  0., -3.85796942e+01,   67.41154125,  0.92008639,  1.67986332),\n",
       "       (27, 270.,  1.24017278, 0,  88.41721646,  0.,  1.05694461,  0., -2.45162930e+01, -112.9335095 ,  3.81835038,  4.87529499),\n",
       "       (28, 280.,  5.11076305, 0,  53.73988204,  0.,  0.5857541 ,  0.,  1.93389457e+00,  -51.80598748,  5.98081195,  5.39505785),\n",
       "       (29, 290.,  9.89264402, 1,  25.53905205,  0.,  1.32868976,  0., -3.02542549e+01,  -55.79330694,  2.85483405,  4.18352381),\n",
       "       (30, 300.,  5.48539873, 0, 175.75301539,  0.,  7.82489236,  0., -6.38100060e+01,  120.43697857,  1.3867343 ,  9.21162666),\n",
       "       (31, 310.,  7.32597899, 0,   1.24634613,  0.,  0.15285156,  0., -1.08296411e-01,   -1.35464254,  5.11554048,  5.26839204),\n",
       "       (32, 320.,  9.97937614, 0, 113.52547655,  0., 10.5117815 ,  0.,  2.29628522e+01,  -90.5626243 , 12.18230688,  1.67052538)],\n",
       "      dtype=[('00_no', '<i2'), ('01_tstop', '<f2'), ('10_spa_pol_dif', '<f8'), ('11_spa_pol_tes', 'i1'), ('20_ang_seg_dif', '<f8'), ('21_ang_seg_tes', '<f4'), ('30_len_seg_dif', '<f8'), ('31_len_seg_tes', '<f4'), ('22_course_seg1', '<f8'), ('23_course_seg2', '<f8'), ('32_len_seg1', '<f8'), ('33_len_seg2', '<f8')])"
      ]
     },
     "execution_count": 6,
     "metadata": {},
     "output_type": "execute_result"
    }
   ],
   "source": [
    "## calculate pair Gondwana (Corrected) and Laurussia (Uncorrected)'s difference scores in terms of\n",
    "## space (coeval poles), length (coeval segments) and angle (coeval orientation change)\n",
    "copy_tree(\"data/rot_version/Laurussia_RM_GMAP2015AFRcoord\",\"/tmp/Laurussia_RM_GMAP2015AFRcoord\")\n",
    "copy_tree(\"data/Gondwana_F6_RM\",\"/tmp/Gondwana_F6_RM\")\n",
    "cmp.spa_angpre_len_dif('data/rot_version/Laurussia_RM_GMAP2015AFRcoord.txt',\n",
    "                       'data/Gondwana_F6_RM.txt',\n",
    "                       pnh1=0,pnh2=1)\n",
    "# the results should be the same as stored in\n",
    "# data/0.result_tables/LauruRMgmap2015AFRcoord_GonF6RM.txt"
   ]
  },
  {
   "cell_type": "code",
   "execution_count": 15,
   "metadata": {},
   "outputs": [
    {
     "name": "stdout",
     "output_type": "stream",
     "text": [
      "ds\tda\tdl\tno\tt0\tt1\tequalWeighCPD\n",
      "0.104801\t0.384761\t0.135346\t0\t0\t200\t0.208303\n",
      "0.091046\t0.371167\t0.113494\t1\t200\t320\t0.191902\n",
      "0.083295\t0.477013\t0.0856651\t2\t250\t300\t0.215324\n",
      "0.10022\t0.378642\t0.127152\t3\t0\t320\t0.202005\n"
     ]
    }
   ],
   "source": [
    "pair_10cL10dG=cmp.ppf3('data/0.result_tables/LauruRMgmap2015AFRcoord_GonF6RM.txt')\n",
    "#10cL10dG_ntest.txt\n",
    "print('ds\\tda\\tdl\\tno\\tt0\\tt1\\tequalWeighCPD')\n",
    "cmp.calc_nt(pair_10cL10dG,'0',0,200)\n",
    "cmp.calc_nt(pair_10cL10dG,'1',200,320)\n",
    "cmp.calc_nt(pair_10cL10dG,'2',250,300)\n",
    "cmp.calc_nt(pair_10cL10dG,'3',0,320)"
   ]
  },
  {
   "cell_type": "code",
   "execution_count": 16,
   "metadata": {},
   "outputs": [
    {
     "name": "stdout",
     "output_type": "stream",
     "text": [
      "ds\tda\tdl\tno\tt0\tt1\tequalWeighCPD\n",
      "0.0281006\t0\t0.0196924\t0\t0\t200\t0.015931\n",
      "0.0152195\t0\t0\t1\t200\t320\t0.00507315\n",
      "0.0329755\t0\t0\t2\t250\t300\t0.0109918\n",
      "0.0238777\t0\t0.0123077\t3\t0\t320\t0.0120618\n"
     ]
    }
   ],
   "source": [
    "## significant results\n",
    "#10cL10dG_test.txt\n",
    "print('ds\\tda\\tdl\\tno\\tt0\\tt1\\tequalWeighCPD')\n",
    "cmp.calc(pair_10cL10dG,'0',0,200)\n",
    "cmp.calc(pair_10cL10dG,'1',200,320)\n",
    "cmp.calc(pair_10cL10dG,'2',250,300)\n",
    "cmp.calc(pair_10cL10dG,'3',0,320)"
   ]
  },
  {
   "cell_type": "markdown",
   "metadata": {},
   "source": [
    "## pair v-i (uninterpolated; bin 8 Myr, step 4 Myr)"
   ]
  },
  {
   "cell_type": "code",
   "execution_count": null,
   "metadata": {},
   "outputs": [],
   "source": [
    "## calculate pair v-i (uninterpolated; bin 8 step 4)'s difference scores in terms of\n",
    "## space (coeval poles), angle and length (coeval segments)\n",
    "cmp.spa_angpre_len_dif('data/rot_version/Laurentia_F6_RM_stp4_GMAP2015BALcoord.txt',\n",
    "                       'data/Baltica_StableEurope_F6_RM_stp4.txt',\n",
    "                       pnh1=0,pnh2=1)\n",
    "# the results should be the same as stored in data/0.result_tables/stp4.txt"
   ]
  },
  {
   "cell_type": "code",
   "execution_count": 22,
   "metadata": {},
   "outputs": [
    {
     "name": "stdout",
     "output_type": "stream",
     "text": [
      "ds\tda\tdl\tno\tt0\tt1\n",
      "0.14101349557151108\t0.5247688276161536\t0.20612139692150436\t0\t0\t100\n",
      "0.20297305051719985\t0.3634743520500222\t0.24661701866046506\t1\t100\t200\n",
      "0.137961759115263\t0.4142267703688271\t0.3586361600698007\t2\t200\t280\n",
      "0.2798104052617373\t0.5234872479065209\t0.26449830440346284\t3\t280\t320\n",
      "0.16900667438700645\t0.5714621622488194\t0.08206255168904339\t4\t320\t432\n",
      "0.17761638644017358\t0.4572953237546528\t0.21706487492383217\t5\t0\t432\n"
     ]
    }
   ],
   "source": [
    "## reproduce d_notest results for pair v-i (uninterpolated; bin 8 step 4) in Figure\n",
    "## 11a using the output above from the function cmp.spa_angpre_len_dif\n",
    "pair_v_i_stp4=cmp.ppf3('data/0.result_tables/stp4.txt')\n",
    "#v_i stp4_ntest.txt\n",
    "print('ds\\tda\\tdl\\tno\\tt0\\tt1')\n",
    "cmp.calc_nt(pair_v_i_stp4,0,0,100)\n",
    "cmp.calc_nt(pair_v_i_stp4,1,100,200)\n",
    "cmp.calc_nt(pair_v_i_stp4,2,200,280)\n",
    "cmp.calc_nt(pair_v_i_stp4,3,280,320)\n",
    "cmp.calc_nt(pair_v_i_stp4,4,320,432)\n",
    "cmp.calc_nt(pair_v_i_stp4,5,0,432)"
   ]
  },
  {
   "cell_type": "code",
   "execution_count": 23,
   "metadata": {},
   "outputs": [
    {
     "name": "stdout",
     "output_type": "stream",
     "text": [
      "ds\tda\tdl\tno\tt0\tt1\n",
      "0.07089586421508128\t0.0\t0.0\t0\t0\t100\n",
      "0.11845957944546535\t0.0\t0.036389452384814995\t1\t100\t200\n",
      "0.04195924779303895\t0.0\t0.032186433697426915\t2\t200\t280\n",
      "0.2622782694793313\t0.0\t0.07203052825801613\t3\t280\t320\n",
      "0.13862466446386373\t0.0\t0.0\t4\t320\t432\n",
      "0.11093308872908357\t0.0\t0.02582081487119092\t5\t0\t432\n"
     ]
    }
   ],
   "source": [
    "## reproduce d_tested results for pair v-i (uninterpolated; bin 8 step 4) in Figure\n",
    "## 11a using the same output above from the function cmp.spa_angpre_len_dif\n",
    "#v_i stp4_test.txt\n",
    "print('ds\\tda\\tdl\\tno\\tt0\\tt1')\n",
    "cmp.calc(pair_v_i_stp4,0,0,100)\n",
    "cmp.calc(pair_v_i_stp4,1,100,200)\n",
    "cmp.calc(pair_v_i_stp4,2,200,280)\n",
    "cmp.calc(pair_v_i_stp4,3,280,320)\n",
    "cmp.calc(pair_v_i_stp4,4,320,432)\n",
    "cmp.calc(pair_v_i_stp4,5,0,432)"
   ]
  },
  {
   "cell_type": "markdown",
   "metadata": {},
   "source": [
    "## pair v-i (uninterpolated; bin 12 Myr, step 6 Myr)"
   ]
  },
  {
   "cell_type": "code",
   "execution_count": null,
   "metadata": {},
   "outputs": [],
   "source": [
    "## calculate pair v-i (uninterpolated; bin 12 step 6)'s difference scores in terms of\n",
    "## space (coeval poles), angle and length (coeval segments)\n",
    "copy_tree(\"data/Baltica_StableEurope_F6_RM_stp6\",\"/tmp/Baltica_StableEurope_F6_RM_stp6\")\n",
    "cmp.spa_angpre_len_dif('data/rot_version/Laurentia_F6_RM_stp6_GMAP2015BALcoord.txt',\n",
    "                       'data/Baltica_StableEurope_F6_RM_stp6.txt',\n",
    "                       pnh1=0,pnh2=1)\n",
    "# the results should be the same as stored in data/0.result_tables/stp6.txt"
   ]
  },
  {
   "cell_type": "code",
   "execution_count": 24,
   "metadata": {},
   "outputs": [
    {
     "name": "stdout",
     "output_type": "stream",
     "text": [
      "ds\tda\tdl\tno\tt0\tt1\n",
      "0.13479526029554387\t0.4867079097798532\t0.16696593446115385\t0\t0\t102\n",
      "0.17516323730799446\t0.28708755113419193\t0.1784577464625825\t1\t102\t198\n",
      "0.11446606473210975\t0.38349057501707273\t0.1546803621316973\t2\t198\t282\n",
      "0.2863871758464745\t0.45186958304647773\t0.16868394721492916\t3\t282\t324\n",
      "0.13790886848679304\t0.14300401581240743\t0.13360093644690493\t4\t324\t432\n",
      "0.15905167428991887\t0.3773495158281903\t0.16373516116353126\t5\t0\t432\n"
     ]
    }
   ],
   "source": [
    "## reproduce d_notest results for pair v-i (uninterpolated; bin 12 step 6) in Figure\n",
    "## 11b using the output above from the function cmp.spa_angpre_len_dif\n",
    "pair_v_i_stp6=cmp.ppf3('data/0.result_tables/stp6.txt')\n",
    "#v_i stp6_ntest.txt\n",
    "print('ds\\tda\\tdl\\tno\\tt0\\tt1')\n",
    "cmp.calc_nt(pair_v_i_stp6,0,0,102)\n",
    "cmp.calc_nt(pair_v_i_stp6,1,102,198)\n",
    "cmp.calc_nt(pair_v_i_stp6,2,198,282)\n",
    "cmp.calc_nt(pair_v_i_stp6,3,282,324)\n",
    "cmp.calc_nt(pair_v_i_stp6,4,324,432)\n",
    "cmp.calc_nt(pair_v_i_stp6,5,0,432)"
   ]
  },
  {
   "cell_type": "code",
   "execution_count": 25,
   "metadata": {},
   "outputs": [
    {
     "name": "stdout",
     "output_type": "stream",
     "text": [
      "ds\tda\tdl\tno\tt0\tt1\n",
      "0.0796366211957521\t0.0\t0.0\t0\t0\t102\n",
      "0.09507983827926063\t0.0\t0.034369626045534236\t1\t102\t198\n",
      "0.026787580509494133\t0.0\t0.0\t2\t198\t282\n",
      "0.2863871758464745\t0.0\t0.0\t3\t282\t324\n",
      "0.043346964380049764\t0.0\t0.044544736735248724\t4\t324\t432\n",
      "0.09020193986950878\t0.0\t0.027132175597644026\t5\t0\t432\n"
     ]
    }
   ],
   "source": [
    "## reproduce d_tested results for pair v-i (uninterpolated; bin 12 step 6) in Figure\n",
    "## 11b using the same output above from the function cmp.spa_angpre_len_dif\n",
    "#v_i stp6_test.txt\n",
    "print('ds\\tda\\tdl\\tno\\tt0\\tt1')\n",
    "cmp.calc(pair_v_i_stp6,0,0,102)\n",
    "cmp.calc(pair_v_i_stp6,1,102,198)\n",
    "cmp.calc(pair_v_i_stp6,2,198,282)\n",
    "cmp.calc(pair_v_i_stp6,3,282,324)\n",
    "cmp.calc(pair_v_i_stp6,4,324,432)\n",
    "cmp.calc(pair_v_i_stp6,5,0,432)"
   ]
  },
  {
   "cell_type": "markdown",
   "metadata": {},
   "source": [
    "## pair v-i (uninterpolated; bin 16 Myr, step 8 Myr)"
   ]
  },
  {
   "cell_type": "code",
   "execution_count": null,
   "metadata": {},
   "outputs": [],
   "source": [
    "## calculate pair v-i (uninterpolated; bin 16 step 8)'s difference scores in terms of\n",
    "## space (coeval poles), angle and length (coeval segments)\n",
    "copy_tree(\"data/Baltica_StableEurope_F6_RM_stp8\",\"/tmp/Baltica_StableEurope_F6_RM_stp8\")\n",
    "cmp.spa_angpre_len_dif('data/rot_version/Laurentia_F6_RM_stp8_GMAP2015BALcoord.txt',\n",
    "                       'data/Baltica_StableEurope_F6_RM_stp8.txt',\n",
    "                       pnh1=0,pnh2=1)\n",
    "# the results should be the same as stored in data/0.result_tables/stp8.txt"
   ]
  },
  {
   "cell_type": "code",
   "execution_count": 26,
   "metadata": {},
   "outputs": [
    {
     "name": "stdout",
     "output_type": "stream",
     "text": [
      "ds\tda\tdl\tno\tt0\tt1\n",
      "0.11215826253805945\t0.5138513685563888\t0.10712709007575096\t0\t0\t104\n",
      "0.16511983276071432\t0.35231170481395074\t0.21916664555662618\t1\t104\t200\n",
      "0.10967789212354384\t0.3967831561728149\t0.13890111882128364\t2\t200\t280\n",
      "0.3081426483535621\t0.42848785261708316\t0.1802621667260313\t3\t280\t320\n",
      "0.16813929604791303\t0.375796316450635\t0.13350135644622085\t4\t320\t432\n",
      "0.15359673256539183\t0.40000166800647285\t0.15151838758804373\t5\t0\t432\n"
     ]
    }
   ],
   "source": [
    "## reproduce d_notest results for pair v-i (uninterpolated; bin 16 step 8) in Figure\n",
    "## 11c using the output above from the function cmp.spa_angpre_len_dif\n",
    "pair_v_i_stp8=cmp.ppf3('data/0.result_tables/stp8.txt')\n",
    "#v_i stp8_ntest.txt\n",
    "print('ds\\tda\\tdl\\tno\\tt0\\tt1')\n",
    "cmp.calc_nt(pair_v_i_stp8,0,0,104)\n",
    "cmp.calc_nt(pair_v_i_stp8,1,104,200)\n",
    "cmp.calc_nt(pair_v_i_stp8,2,200,280)\n",
    "cmp.calc_nt(pair_v_i_stp8,3,280,320)\n",
    "cmp.calc_nt(pair_v_i_stp8,4,320,432)\n",
    "cmp.calc_nt(pair_v_i_stp8,5,0,432)"
   ]
  },
  {
   "cell_type": "code",
   "execution_count": 27,
   "metadata": {},
   "outputs": [
    {
     "name": "stdout",
     "output_type": "stream",
     "text": [
      "ds\tda\tdl\tno\tt0\tt1\n",
      "0.047911641984121636\t0.0\t0.0\t0\t0\t104\n",
      "0.11956535291688482\t0.0\t0.04188406190880708\t1\t104\t200\n",
      "0.021298455611132472\t0.0\t0.0\t2\t200\t280\n",
      "0.3081426483535621\t0.0\t0.0\t3\t280\t320\n",
      "0.0947402639756929\t0.0\t0.053967404491233904\t4\t320\t432\n",
      "0.09117627892481336\t0.0\t0.023299118625610366\t5\t0\t432\n"
     ]
    }
   ],
   "source": [
    "## reproduce d_tested results for pair v-i (uninterpolated; bin 16 step 8) in Figure\n",
    "## 11c using the same output above from the function cmp.spa_angpre_len_dif\n",
    "#v_i stp8_test.txt\n",
    "print('ds\\tda\\tdl\\tno\\tt0\\tt1')\n",
    "cmp.calc(pair_v_i_stp8,0,0,104)\n",
    "cmp.calc(pair_v_i_stp8,1,104,200)\n",
    "cmp.calc(pair_v_i_stp8,2,200,280)\n",
    "cmp.calc(pair_v_i_stp8,3,280,320)\n",
    "cmp.calc(pair_v_i_stp8,4,320,432)\n",
    "cmp.calc(pair_v_i_stp8,5,0,432)"
   ]
  },
  {
   "cell_type": "markdown",
   "metadata": {},
   "source": [
    "## pair v-i (uninterpolated; bin 20 Myr, step 10 Myr)"
   ]
  },
  {
   "cell_type": "code",
   "execution_count": null,
   "metadata": {},
   "outputs": [],
   "source": [
    "## calculate pair v-i (uninterpolated)'s difference scores in terms of\n",
    "## space (coeval poles), angle and length (coeval segments)\n",
    "copy_tree(\"data/rot_version/Laurentia_F6_RM_GMAP2015BALcoord\",\"/tmp/Laurentia_F6_RM_GMAP2015BALcoord\")\n",
    "copy_tree(\"data/Baltica_StableEurope_F6_RM\",\"/tmp/Baltica_StableEurope_F6_RM\")\n",
    "cmp.spa_angpre_len_dif('data/rot_version/Laurentia_F6_RM_GMAP2015BALcoord.txt',\n",
    "                       'data/Baltica_StableEurope_F6_RM.txt',\n",
    "                       pnh1=0,pnh2=1)\n",
    "# the results should be the same as stored in\n",
    "# data/0.result_tables/v_i_LaureF6RMgmap2015BALcoord_BalF6RM.txt"
   ]
  },
  {
   "cell_type": "code",
   "execution_count": 28,
   "metadata": {},
   "outputs": [
    {
     "name": "stdout",
     "output_type": "stream",
     "text": [
      "ds\tda\tdl\tno\tt0\tt1\n",
      "0.10799163338819137\t0.5831435834757162\t0.06039215698680937\t0\t0\t100\n",
      "0.14088555971381247\t0.42435339088256957\t0.1571594779742826\t1\t100\t200\n",
      "0.10612454213309036\t0.365272484455754\t0.14523851880936933\t2\t200\t280\n",
      "0.28996316838673214\t0.5651518843799963\t0.10986373583020166\t3\t280\t320\n",
      "0.13864867060086583\t0.15780966540037025\t0.15275806228831662\t4\t320\t430\n",
      "0.13975708066709464\t0.3957881760300837\t0.12691204950181778\t5\t0\t430\n"
     ]
    }
   ],
   "source": [
    "## reproduce d_notest results for pair v-i (uninterpolated) in Figure\n",
    "## 11d using the output above from the function cmp.spa_angpre_len_dif\n",
    "pair_v_i_stp10=cmp.ppf3('data/0.result_tables/v_i_LaureF6RMgmap2015BALcoord_BalF6RM.txt')\n",
    "#v_i stp10_ntest.txt\n",
    "print('ds\\tda\\tdl\\tno\\tt0\\tt1')\n",
    "cmp.calc_nt(pair_v_i_stp10,0,0,100)\n",
    "cmp.calc_nt(pair_v_i_stp10,1,100,200)\n",
    "cmp.calc_nt(pair_v_i_stp10,2,200,280)\n",
    "cmp.calc_nt(pair_v_i_stp10,3,280,320)\n",
    "cmp.calc_nt(pair_v_i_stp10,4,320,430)\n",
    "cmp.calc_nt(pair_v_i_stp10,5,0,430)"
   ]
  },
  {
   "cell_type": "code",
   "execution_count": 29,
   "metadata": {},
   "outputs": [
    {
     "name": "stdout",
     "output_type": "stream",
     "text": [
      "ds\tda\tdl\tno\tt0\tt1\n",
      "0.04419549615754297\t0.0\t0.0\t0\t0\t100\n",
      "0.06604746085768656\t0.0\t0.03237979956760407\t1\t100\t200\n",
      "0.02658221857196827\t0.0\t0.0\t2\t200\t280\n",
      "0.28996316838673214\t0.0\t0.0\t3\t280\t320\n",
      "0.05652227149518458\t0.0\t0.06657413517909282\t4\t320\t430\n",
      "0.06913839372806609\t0.0\t0.024560778666187482\t5\t0\t430\n"
     ]
    }
   ],
   "source": [
    "## reproduce d_tested results for pair v-i (uninterpolated) in Figure\n",
    "## 11d using the same output above from the function cmp.spa_angpre_len_dif\n",
    "#v_i stp10_test.txt\n",
    "print('ds\\tda\\tdl\\tno\\tt0\\tt1')\n",
    "cmp.calc(pair_v_i_stp10,0,0,100)\n",
    "cmp.calc(pair_v_i_stp10,1,100,200)\n",
    "cmp.calc(pair_v_i_stp10,2,200,280)\n",
    "cmp.calc(pair_v_i_stp10,3,280,320)\n",
    "cmp.calc(pair_v_i_stp10,4,320,430)\n",
    "cmp.calc(pair_v_i_stp10,5,0,430)"
   ]
  },
  {
   "cell_type": "markdown",
   "metadata": {},
   "source": [
    "## pair v-i (uninterpolated; bin 24 Myr, step 12 Myr)"
   ]
  },
  {
   "cell_type": "code",
   "execution_count": null,
   "metadata": {},
   "outputs": [],
   "source": [
    "## calculate pair v-i (uninterpolated; bin 24 step 12)'s difference scores in terms of\n",
    "## space (coeval poles), angle and length (coeval segments)\n",
    "copy_tree(\"data/rot_version/Laurentia_F6_RM_stp12_GMAP2015BALcoord\",\"/tmp/Laurentia_F6_RM_stp12_GMAP2015BALcoord\")\n",
    "copy_tree(\"data/Baltica_StableEurope_F6_RM_stp12\",\"/tmp/Baltica_StableEurope_F6_RM_stp12\")\n",
    "cmp.spa_angpre_len_dif('data/rot_version/Laurentia_F6_RM_stp12_GMAP2015BALcoord.txt',\n",
    "                       'data/Baltica_StableEurope_F6_RM_stp12.txt',\n",
    "                       pnh1=0,pnh2=1)\n",
    "# the results should be the same as stored in data/0.result_tables/stp12.txt"
   ]
  },
  {
   "cell_type": "code",
   "execution_count": 30,
   "metadata": {},
   "outputs": [
    {
     "name": "stdout",
     "output_type": "stream",
     "text": [
      "ds\tda\tdl\tno\tt0\tt1\n",
      "0.1028850067785222\t0.46678587624615875\t0.046231169856320024\t0\t0\t96\n",
      "0.1292373168031566\t0.3091686989006528\t0.17928963066819184\t1\t96\t204\n",
      "0.10165590888284332\t0.30191875889277764\t0.07834646332609962\t2\t204\t276\n",
      "0.23071352626479374\t0.6507660583145556\t0.14480401144417307\t3\t276\t324\n",
      "0.12330830121123898\t0.16951691690000004\t0.06556327001473632\t4\t324\t432\n",
      "0.13281800898076074\t0.3650317824311219\t0.1006338969647279\t5\t0\t432\n"
     ]
    }
   ],
   "source": [
    "## reproduce d_notest results for pair v-i (uninterpolated; bin 24 step 12) in Figure\n",
    "## 11f using the output above from the function cmp.spa_angpre_len_dif\n",
    "pair_v_i_stp12=cmp.ppf3('data/0.result_tables/stp12.txt')\n",
    "#v_i stp12_ntest.txt\n",
    "print('ds\\tda\\tdl\\tno\\tt0\\tt1')\n",
    "cmp.calc_nt(pair_v_i_stp12,0,0,96)\n",
    "cmp.calc_nt(pair_v_i_stp12,1,96,204)\n",
    "cmp.calc_nt(pair_v_i_stp12,2,204,276)\n",
    "cmp.calc_nt(pair_v_i_stp12,3,276,324)\n",
    "cmp.calc_nt(pair_v_i_stp12,4,324,432)\n",
    "cmp.calc_nt(pair_v_i_stp12,5,0,432)"
   ]
  },
  {
   "cell_type": "code",
   "execution_count": 31,
   "metadata": {},
   "outputs": [
    {
     "name": "stdout",
     "output_type": "stream",
     "text": [
      "ds\tda\tdl\tno\tt0\tt1\n",
      "0.02810811353344097\t0.0\t0.0\t0\t0\t96\n",
      "0.053439917581842876\t0.0\t0.05101169608468492\t1\t96\t204\n",
      "0.06325661153384379\t0.0\t0.0\t2\t204\t276\n",
      "0.21382472114043094\t0.0\t0.0\t3\t276\t324\n",
      "0.0\t0.0\t0.0\t4\t324\t432\n",
      "0.06372734435578983\t0.0\t0.01275292402117123\t5\t0\t432\n"
     ]
    }
   ],
   "source": [
    "## reproduce d_tested results for pair v-i (uninterpolated; bin 24 step 12) in Figure\n",
    "## 11f using the same output above from the function cmp.spa_angpre_len_dif\n",
    "#v_i stp12_test.txt\n",
    "print('ds\\tda\\tdl\\tno\\tt0\\tt1')\n",
    "cmp.calc(pair_v_i_stp12,0,0,96)\n",
    "cmp.calc(pair_v_i_stp12,1,96,204)\n",
    "cmp.calc(pair_v_i_stp12,2,204,276)\n",
    "cmp.calc(pair_v_i_stp12,3,276,324)\n",
    "cmp.calc(pair_v_i_stp12,4,324,432)\n",
    "cmp.calc(pair_v_i_stp12,5,0,432)"
   ]
  },
  {
   "cell_type": "markdown",
   "metadata": {},
   "source": [
    "# Random Spacial Uncertainty Cases Based on pair C\n",
    "\n",
    "The 4th and 5th columns in data/Laurentia_RM.txt and data/Laurentia_RM_NoIntp.txt are dm and dp or A95. There are 49 dm, dp and A95 values (interpolated mean poles got zero uncertainty).\n",
    "\n",
    "    2.1773837818506814\n",
    "    2.2431473270377436\n",
    "    3.71750970800317\n",
    "    3.1023530620806334\n",
    "    2.8113017709316428\n",
    "    4.0134175890381663\n",
    "    3.786531931743133\n",
    "    4.5900107578669189\n",
    "    6.9666509571459523\n",
    "    6.2557646831508871\n",
    "    13.141908846033042\n",
    "    4.7347372014471407\n",
    "    3.2057231363612635\n",
    "    4.0213091346077938\n",
    "    18.271260010761665\n",
    "    12.517051610516857\n",
    "    9.1878895238294351\n",
    "    10.590469280126225\n",
    "    6.8263580723427415\n",
    "    3.4874695224517662\n",
    "    2.8244769407192094\n",
    "    2.2721366843710524\n",
    "    2.5041569487865676\n",
    "    3.3001616168940293\n",
    "    4.3553494144442579\n",
    "    12.536533258858929\n",
    "    3.4473456784553647\n",
    "    4.1990565047872881\n",
    "    4.8146324156324543\n",
    "    3.8476198382425539\n",
    "    4.3540409528317152\n",
    "    6.9558423063127517\n",
    "    9.4254454138432369\n",
    "    8.8446407802130125\n",
    "    10.948879612191245\n",
    "    16.\n",
    "    11.39999962\n",
    "    5.9\n",
    "    19.183628069179896\n",
    "    19.258717698236371\n",
    "    17.534201407505424\n",
    "    7.3\n",
    "    11.123232589\n",
    "    14.720652226\n",
    "    7.847140921\n",
    "    6.22406599\n",
    "    12.912932754\n",
    "    6.9\n",
    "    3.8\n",
    "\n",
    "Based on these values, the distribution is identified through \"fitter\" package."
   ]
  },
  {
   "cell_type": "code",
   "execution_count": 1,
   "metadata": {},
   "outputs": [
    {
     "name": "stderr",
     "output_type": "stream",
     "text": [
      "/home/g/conda/lib/python3.7/site-packages/scipy/stats/_distn_infrastructure.py:2316: RuntimeWarning: invalid value encountered in double_scalars\n",
      "  Lhat = muhat - Shat*mu\n",
      "/home/g/conda/lib/python3.7/site-packages/scipy/stats/_continuous_distns.py:390: RuntimeWarning: divide by zero encountered in true_divide\n",
      "  return 1.0/np.pi/np.sqrt(x*(1-x))\n"
     ]
    },
    {
     "name": "stdout",
     "output_type": "stream",
     "text": [
      "Fitted alpha distribution with error=0.8054883204060229)\n",
      "Fitted anglit distribution with error=0.9783152028002629)\n",
      "Fitted arcsine distribution with error=0.9800587959867477)\n",
      "Fitted argus distribution with error=1.154706248227962)\n",
      "Fitted beta distribution with error=0.7667207751926125)\n",
      "Fitted betaprime distribution with error=0.7909193629623349)\n",
      "Fitted bradford distribution with error=0.7650505445992828)\n",
      "Fitted burr distribution with error=0.7876811565832144)\n"
     ]
    },
    {
     "name": "stderr",
     "output_type": "stream",
     "text": [
      "/home/g/conda/lib/python3.7/site-packages/scipy/stats/_continuous_distns.py:515: RuntimeWarning: invalid value encountered in sqrt\n",
      "  sk = 2*(b-a)*np.sqrt(a + b + 1) / (a + b + 2) / np.sqrt(a*b)\n",
      "/home/g/conda/lib/python3.7/site-packages/scipy/stats/_continuous_distns.py:667: RuntimeWarning: divide by zero encountered in true_divide\n",
      "  a/(b-1.0),\n",
      "/home/g/conda/lib/python3.7/site-packages/scipy/stats/_continuous_distns.py:671: RuntimeWarning: divide by zero encountered in true_divide\n",
      "  a*(a+1.0)/((b-2.0)*(b-1.0)),\n",
      "/home/g/conda/lib/python3.7/site-packages/scipy/stats/_distn_infrastructure.py:1035: RuntimeWarning: invalid value encountered in subtract\n",
      "  mu2 = mu2p - mu * mu\n"
     ]
    },
    {
     "name": "stdout",
     "output_type": "stream",
     "text": [
      "Fitted burr12 distribution with error=0.7892562247711464)\n",
      "Fitted cauchy distribution with error=0.8884916404818229)\n",
      "Fitted chi distribution with error=0.7499172215925255)\n",
      "Fitted chi2 distribution with error=0.8105384856608353)\n",
      "Fitted cosine distribution with error=0.9651196943618614)\n",
      "Fitted crystalball distribution with error=0.9480924680188824)\n",
      "Fitted dgamma distribution with error=0.8539592640471295)\n",
      "Fitted dweibull distribution with error=0.9109835755431281)\n"
     ]
    },
    {
     "name": "stderr",
     "output_type": "stream",
     "text": [
      "/home/g/conda/lib/python3.7/site-packages/scipy/stats/_continuous_distns.py:2651: RuntimeWarning: The shape parameter of the erlang distribution has been given a non-integer value 4.2.\n",
      "  RuntimeWarning)\n",
      "/home/g/conda/lib/python3.7/site-packages/scipy/stats/_continuous_distns.py:2651: RuntimeWarning: The shape parameter of the erlang distribution has been given a non-integer value 4.133333333333333.\n",
      "  RuntimeWarning)\n",
      "/home/g/conda/lib/python3.7/site-packages/scipy/stats/_continuous_distns.py:2651: RuntimeWarning: The shape parameter of the erlang distribution has been given a non-integer value 4.222222222222221.\n",
      "  RuntimeWarning)\n",
      "/home/g/conda/lib/python3.7/site-packages/scipy/stats/_continuous_distns.py:2651: RuntimeWarning: The shape parameter of the erlang distribution has been given a non-integer value 4.333333333333332.\n",
      "  RuntimeWarning)\n",
      "/home/g/conda/lib/python3.7/site-packages/scipy/stats/_continuous_distns.py:2651: RuntimeWarning: The shape parameter of the erlang distribution has been given a non-integer value 4.037037037037035.\n",
      "  RuntimeWarning)\n",
      "/home/g/conda/lib/python3.7/site-packages/scipy/stats/_continuous_distns.py:2651: RuntimeWarning: The shape parameter of the erlang distribution has been given a non-integer value 4.159259259259259.\n",
      "  RuntimeWarning)\n",
      "/home/g/conda/lib/python3.7/site-packages/scipy/stats/_continuous_distns.py:2651: RuntimeWarning: The shape parameter of the erlang distribution has been given a non-integer value 4.120987654320986.\n",
      "  RuntimeWarning)\n",
      "/home/g/conda/lib/python3.7/site-packages/scipy/stats/_continuous_distns.py:2651: RuntimeWarning: The shape parameter of the erlang distribution has been given a non-integer value 4.130246913580246.\n",
      "  RuntimeWarning)\n",
      "/home/g/conda/lib/python3.7/site-packages/scipy/stats/_continuous_distns.py:2651: RuntimeWarning: The shape parameter of the erlang distribution has been given a non-integer value 4.341152263374484.\n",
      "  RuntimeWarning)\n",
      "/home/g/conda/lib/python3.7/site-packages/scipy/stats/_continuous_distns.py:2651: RuntimeWarning: The shape parameter of the erlang distribution has been given a non-integer value 4.3031550068587086.\n",
      "  RuntimeWarning)\n",
      "/home/g/conda/lib/python3.7/site-packages/scipy/stats/_continuous_distns.py:2651: RuntimeWarning: The shape parameter of the erlang distribution has been given a non-integer value 4.375102880658433.\n",
      "  RuntimeWarning)\n",
      "/home/g/conda/lib/python3.7/site-packages/scipy/stats/_continuous_distns.py:2651: RuntimeWarning: The shape parameter of the erlang distribution has been given a non-integer value 4.49540466392318.\n",
      "  RuntimeWarning)\n",
      "/home/g/conda/lib/python3.7/site-packages/scipy/stats/_continuous_distns.py:2651: RuntimeWarning: The shape parameter of the erlang distribution has been given a non-integer value 4.387334247828072.\n",
      "  RuntimeWarning)\n",
      "/home/g/conda/lib/python3.7/site-packages/scipy/stats/_continuous_distns.py:2651: RuntimeWarning: The shape parameter of the erlang distribution has been given a non-integer value 4.410425240054867.\n",
      "  RuntimeWarning)\n",
      "/home/g/conda/lib/python3.7/site-packages/scipy/stats/_continuous_distns.py:2651: RuntimeWarning: The shape parameter of the erlang distribution has been given a non-integer value 4.1764288980338335.\n",
      "  RuntimeWarning)\n",
      "/home/g/conda/lib/python3.7/site-packages/scipy/stats/_continuous_distns.py:2651: RuntimeWarning: The shape parameter of the erlang distribution has been given a non-integer value 4.419082456942535.\n",
      "  RuntimeWarning)\n",
      "/home/g/conda/lib/python3.7/site-packages/scipy/stats/_continuous_distns.py:2651: RuntimeWarning: The shape parameter of the erlang distribution has been given a non-integer value 4.62664482040339.\n",
      "  RuntimeWarning)\n",
      "/home/g/conda/lib/python3.7/site-packages/scipy/stats/_continuous_distns.py:2651: RuntimeWarning: The shape parameter of the erlang distribution has been given a non-integer value 4.522366170468592.\n",
      "  RuntimeWarning)\n",
      "/home/g/conda/lib/python3.7/site-packages/scipy/stats/_continuous_distns.py:2651: RuntimeWarning: The shape parameter of the erlang distribution has been given a non-integer value 4.444903385324049.\n",
      "  RuntimeWarning)\n",
      "/home/g/conda/lib/python3.7/site-packages/scipy/stats/_continuous_distns.py:2651: RuntimeWarning: The shape parameter of the erlang distribution has been given a non-integer value 4.61287941652977.\n",
      "  RuntimeWarning)\n",
      "/home/g/conda/lib/python3.7/site-packages/scipy/stats/_continuous_distns.py:2651: RuntimeWarning: The shape parameter of the erlang distribution has been given a non-integer value 4.6550629326679696.\n",
      "  RuntimeWarning)\n",
      "/home/g/conda/lib/python3.7/site-packages/scipy/stats/_continuous_distns.py:2651: RuntimeWarning: The shape parameter of the erlang distribution has been given a non-integer value 4.492266905765014.\n",
      "  RuntimeWarning)\n",
      "/home/g/conda/lib/python3.7/site-packages/scipy/stats/_continuous_distns.py:2651: RuntimeWarning: The shape parameter of the erlang distribution has been given a non-integer value 4.425077948445825.\n",
      "  RuntimeWarning)\n",
      "/home/g/conda/lib/python3.7/site-packages/scipy/stats/_continuous_distns.py:2651: RuntimeWarning: The shape parameter of the erlang distribution has been given a non-integer value 4.310525470685671.\n",
      "  RuntimeWarning)\n",
      "/home/g/conda/lib/python3.7/site-packages/scipy/stats/_continuous_distns.py:2651: RuntimeWarning: The shape parameter of the erlang distribution has been given a non-integer value 4.138256739694521.\n",
      "  RuntimeWarning)\n",
      "/home/g/conda/lib/python3.7/site-packages/scipy/stats/_continuous_distns.py:2651: RuntimeWarning: The shape parameter of the erlang distribution has been given a non-integer value 4.151139689594473.\n",
      "  RuntimeWarning)\n",
      "/home/g/conda/lib/python3.7/site-packages/scipy/stats/_continuous_distns.py:2651: RuntimeWarning: The shape parameter of the erlang distribution has been given a non-integer value 4.180736832429114.\n",
      "  RuntimeWarning)\n",
      "/home/g/conda/lib/python3.7/site-packages/scipy/stats/_continuous_distns.py:2651: RuntimeWarning: The shape parameter of the erlang distribution has been given a non-integer value 4.065892628616236.\n",
      "  RuntimeWarning)\n",
      "/home/g/conda/lib/python3.7/site-packages/scipy/stats/_continuous_distns.py:2651: RuntimeWarning: The shape parameter of the erlang distribution has been given a non-integer value 4.383191008904015.\n",
      "  RuntimeWarning)\n",
      "/home/g/conda/lib/python3.7/site-packages/scipy/stats/_continuous_distns.py:2651: RuntimeWarning: The shape parameter of the erlang distribution has been given a non-integer value 4.081328123691456.\n",
      "  RuntimeWarning)\n",
      "/home/g/conda/lib/python3.7/site-packages/scipy/stats/_continuous_distns.py:2651: RuntimeWarning: The shape parameter of the erlang distribution has been given a non-integer value 3.909453211314272.\n",
      "  RuntimeWarning)\n",
      "/home/g/conda/lib/python3.7/site-packages/scipy/stats/_continuous_distns.py:2651: RuntimeWarning: The shape parameter of the erlang distribution has been given a non-integer value 3.9284990952040113.\n",
      "  RuntimeWarning)\n",
      "/home/g/conda/lib/python3.7/site-packages/scipy/stats/_continuous_distns.py:2651: RuntimeWarning: The shape parameter of the erlang distribution has been given a non-integer value 3.7374859074631814.\n",
      "  RuntimeWarning)\n",
      "/home/g/conda/lib/python3.7/site-packages/scipy/stats/_continuous_distns.py:2651: RuntimeWarning: The shape parameter of the erlang distribution has been given a non-integer value 3.4253634893584444.\n",
      "  RuntimeWarning)\n",
      "/home/g/conda/lib/python3.7/site-packages/scipy/stats/_continuous_distns.py:2651: RuntimeWarning: The shape parameter of the erlang distribution has been given a non-integer value 2.946449729585659.\n",
      "  RuntimeWarning)\n",
      "/home/g/conda/lib/python3.7/site-packages/scipy/stats/_continuous_distns.py:2651: RuntimeWarning: The shape parameter of the erlang distribution has been given a non-integer value 2.9963666036258383.\n",
      "  RuntimeWarning)\n",
      "/home/g/conda/lib/python3.7/site-packages/scipy/stats/_continuous_distns.py:2651: RuntimeWarning: The shape parameter of the erlang distribution has been given a non-integer value 2.4616035911306398.\n",
      "  RuntimeWarning)\n",
      "/home/g/conda/lib/python3.7/site-packages/scipy/stats/_continuous_distns.py:2651: RuntimeWarning: The shape parameter of the erlang distribution has been given a non-integer value 2.1875729408053814.\n",
      "  RuntimeWarning)\n",
      "/home/g/conda/lib/python3.7/site-packages/scipy/stats/_continuous_distns.py:2651: RuntimeWarning: The shape parameter of the erlang distribution has been given a non-integer value 1.3266328055509362.\n",
      "  RuntimeWarning)\n",
      "/home/g/conda/lib/python3.7/site-packages/scipy/stats/_continuous_distns.py:2651: RuntimeWarning: The shape parameter of the erlang distribution has been given a non-integer value 1.326264933551272.\n",
      "  RuntimeWarning)\n",
      "/home/g/conda/lib/python3.7/site-packages/scipy/stats/_continuous_distns.py:2651: RuntimeWarning: The shape parameter of the erlang distribution has been given a non-integer value 3.134680663985204.\n",
      "  RuntimeWarning)\n",
      "/home/g/conda/lib/python3.7/site-packages/scipy/stats/_continuous_distns.py:2651: RuntimeWarning: The shape parameter of the erlang distribution has been given a non-integer value 2.2427884010284913.\n",
      "  RuntimeWarning)\n",
      "/home/g/conda/lib/python3.7/site-packages/scipy/stats/_continuous_distns.py:2651: RuntimeWarning: The shape parameter of the erlang distribution has been given a non-integer value 1.8909577367499075.\n",
      "  RuntimeWarning)\n",
      "/home/g/conda/lib/python3.7/site-packages/scipy/stats/_continuous_distns.py:2651: RuntimeWarning: The shape parameter of the erlang distribution has been given a non-integer value 1.2254088484720818.\n",
      "  RuntimeWarning)\n",
      "/home/g/conda/lib/python3.7/site-packages/scipy/stats/_continuous_distns.py:2651: RuntimeWarning: The shape parameter of the erlang distribution has been given a non-integer value 1.7027268023503623.\n",
      "  RuntimeWarning)\n",
      "/home/g/conda/lib/python3.7/site-packages/scipy/stats/_continuous_distns.py:2651: RuntimeWarning: The shape parameter of the erlang distribution has been given a non-integer value 1.3925680621397944.\n",
      "  RuntimeWarning)\n",
      "/home/g/conda/lib/python3.7/site-packages/scipy/stats/_continuous_distns.py:2651: RuntimeWarning: The shape parameter of the erlang distribution has been given a non-integer value 2.1943447088829284.\n",
      "  RuntimeWarning)\n",
      "/home/g/conda/lib/python3.7/site-packages/scipy/stats/_continuous_distns.py:2651: RuntimeWarning: The shape parameter of the erlang distribution has been given a non-integer value 1.6598269443875058.\n",
      "  RuntimeWarning)\n",
      "/home/g/conda/lib/python3.7/site-packages/scipy/stats/_continuous_distns.py:2651: RuntimeWarning: The shape parameter of the erlang distribution has been given a non-integer value 1.314768048186469.\n",
      "  RuntimeWarning)\n",
      "/home/g/conda/lib/python3.7/site-packages/scipy/stats/_continuous_distns.py:2651: RuntimeWarning: The shape parameter of the erlang distribution has been given a non-integer value 1.9693717176506533.\n",
      "  RuntimeWarning)\n",
      "/home/g/conda/lib/python3.7/site-packages/scipy/stats/_continuous_distns.py:2651: RuntimeWarning: The shape parameter of the erlang distribution has been given a non-integer value 1.9773774635083488.\n",
      "  RuntimeWarning)\n",
      "/home/g/conda/lib/python3.7/site-packages/scipy/stats/_continuous_distns.py:2651: RuntimeWarning: The shape parameter of the erlang distribution has been given a non-integer value 1.716069712113188.\n",
      "  RuntimeWarning)\n",
      "/home/g/conda/lib/python3.7/site-packages/scipy/stats/_continuous_distns.py:2651: RuntimeWarning: The shape parameter of the erlang distribution has been given a non-integer value 1.906046216266287.\n",
      "  RuntimeWarning)\n",
      "/home/g/conda/lib/python3.7/site-packages/scipy/stats/_continuous_distns.py:2651: RuntimeWarning: The shape parameter of the erlang distribution has been given a non-integer value 1.8045426793581867.\n",
      "  RuntimeWarning)\n",
      "/home/g/conda/lib/python3.7/site-packages/scipy/stats/_continuous_distns.py:2651: RuntimeWarning: The shape parameter of the erlang distribution has been given a non-integer value 1.761335150662326.\n",
      "  RuntimeWarning)\n",
      "/home/g/conda/lib/python3.7/site-packages/scipy/stats/_continuous_distns.py:2651: RuntimeWarning: The shape parameter of the erlang distribution has been given a non-integer value 1.6929801561058335.\n",
      "  RuntimeWarning)\n",
      "/home/g/conda/lib/python3.7/site-packages/scipy/stats/_continuous_distns.py:2651: RuntimeWarning: The shape parameter of the erlang distribution has been given a non-integer value 1.5864471260256066.\n",
      "  RuntimeWarning)\n",
      "/home/g/conda/lib/python3.7/site-packages/scipy/stats/_continuous_distns.py:2651: RuntimeWarning: The shape parameter of the erlang distribution has been given a non-integer value 1.4320507039287613.\n",
      "  RuntimeWarning)\n",
      "/home/g/conda/lib/python3.7/site-packages/scipy/stats/_continuous_distns.py:2651: RuntimeWarning: The shape parameter of the erlang distribution has been given a non-integer value 1.8410457736134518.\n",
      "  RuntimeWarning)\n",
      "/home/g/conda/lib/python3.7/site-packages/scipy/stats/_continuous_distns.py:2651: RuntimeWarning: The shape parameter of the erlang distribution has been given a non-integer value 1.870413775866902.\n",
      "  RuntimeWarning)\n",
      "/home/g/conda/lib/python3.7/site-packages/scipy/stats/_continuous_distns.py:2651: RuntimeWarning: The shape parameter of the erlang distribution has been given a non-integer value 1.8416246530617983.\n",
      "  RuntimeWarning)\n",
      "/home/g/conda/lib/python3.7/site-packages/scipy/stats/_continuous_distns.py:2651: RuntimeWarning: The shape parameter of the erlang distribution has been given a non-integer value 1.781407526262194.\n",
      "  RuntimeWarning)\n",
      "/home/g/conda/lib/python3.7/site-packages/scipy/stats/_continuous_distns.py:2651: RuntimeWarning: The shape parameter of the erlang distribution has been given a non-integer value 1.722155198543168.\n",
      "  RuntimeWarning)\n",
      "/home/g/conda/lib/python3.7/site-packages/scipy/stats/_continuous_distns.py:2651: RuntimeWarning: The shape parameter of the erlang distribution has been given a non-integer value 1.662709911008026.\n",
      "  RuntimeWarning)\n",
      "/home/g/conda/lib/python3.7/site-packages/scipy/stats/_continuous_distns.py:2651: RuntimeWarning: The shape parameter of the erlang distribution has been given a non-integer value 1.7026617023916466.\n",
      "  RuntimeWarning)\n",
      "/home/g/conda/lib/python3.7/site-packages/scipy/stats/_continuous_distns.py:2651: RuntimeWarning: The shape parameter of the erlang distribution has been given a non-integer value 1.663288790456373.\n",
      "  RuntimeWarning)\n",
      "/home/g/conda/lib/python3.7/site-packages/scipy/stats/_continuous_distns.py:2651: RuntimeWarning: The shape parameter of the erlang distribution has been given a non-integer value 1.4755721291799198.\n",
      "  RuntimeWarning)\n",
      "/home/g/conda/lib/python3.7/site-packages/scipy/stats/_continuous_distns.py:2651: RuntimeWarning: The shape parameter of the erlang distribution has been given a non-integer value 1.2781513058364284.\n",
      "  RuntimeWarning)\n",
      "/home/g/conda/lib/python3.7/site-packages/scipy/stats/_continuous_distns.py:2651: RuntimeWarning: The shape parameter of the erlang distribution has been given a non-integer value 1.5080670643237122.\n",
      "  RuntimeWarning)\n",
      "/home/g/conda/lib/python3.7/site-packages/scipy/stats/_continuous_distns.py:2651: RuntimeWarning: The shape parameter of the erlang distribution has been given a non-integer value 1.4156105184326515.\n",
      "  RuntimeWarning)\n",
      "/home/g/conda/lib/python3.7/site-packages/scipy/stats/_continuous_distns.py:2651: RuntimeWarning: The shape parameter of the erlang distribution has been given a non-integer value 1.4352420782986441.\n",
      "  RuntimeWarning)\n",
      "/home/g/conda/lib/python3.7/site-packages/scipy/stats/_continuous_distns.py:2651: RuntimeWarning: The shape parameter of the erlang distribution has been given a non-integer value 1.321508161943953.\n",
      "  RuntimeWarning)\n",
      "/home/g/conda/lib/python3.7/site-packages/scipy/stats/_continuous_distns.py:2651: RuntimeWarning: The shape parameter of the erlang distribution has been given a non-integer value 1.2826320574118109.\n",
      "  RuntimeWarning)\n",
      "/home/g/conda/lib/python3.7/site-packages/scipy/stats/_continuous_distns.py:2651: RuntimeWarning: The shape parameter of the erlang distribution has been given a non-integer value 1.0923036908895298.\n",
      "  RuntimeWarning)\n",
      "/home/g/conda/lib/python3.7/site-packages/scipy/stats/_continuous_distns.py:2651: RuntimeWarning: The shape parameter of the erlang distribution has been given a non-integer value 1.3417220041761921.\n",
      "  RuntimeWarning)\n",
      "/home/g/conda/lib/python3.7/site-packages/scipy/stats/_continuous_distns.py:2651: RuntimeWarning: The shape parameter of the erlang distribution has been given a non-integer value 1.274796941674328.\n",
      "  RuntimeWarning)\n",
      "/home/g/conda/lib/python3.7/site-packages/scipy/stats/_continuous_distns.py:2651: RuntimeWarning: The shape parameter of the erlang distribution has been given a non-integer value 1.15371365393281.\n",
      "  RuntimeWarning)\n",
      "/home/g/conda/lib/python3.7/site-packages/scipy/stats/_continuous_distns.py:2651: RuntimeWarning: The shape parameter of the erlang distribution has been given a non-integer value 1.4194787117259866.\n",
      "  RuntimeWarning)\n",
      "/home/g/conda/lib/python3.7/site-packages/scipy/stats/_continuous_distns.py:2651: RuntimeWarning: The shape parameter of the erlang distribution has been given a non-integer value 1.2160297289094393.\n",
      "  RuntimeWarning)\n",
      "/home/g/conda/lib/python3.7/site-packages/scipy/stats/_continuous_distns.py:2651: RuntimeWarning: The shape parameter of the erlang distribution has been given a non-integer value 1.380438990951343.\n",
      "  RuntimeWarning)\n",
      "/home/g/conda/lib/python3.7/site-packages/scipy/stats/_continuous_distns.py:2651: RuntimeWarning: The shape parameter of the erlang distribution has been given a non-integer value 1.205766614965668.\n",
      "  RuntimeWarning)\n",
      "/home/g/conda/lib/python3.7/site-packages/scipy/stats/_continuous_distns.py:2651: RuntimeWarning: The shape parameter of the erlang distribution has been given a non-integer value 1.0989105665855088.\n",
      "  RuntimeWarning)\n",
      "/home/g/conda/lib/python3.7/site-packages/scipy/stats/_continuous_distns.py:2651: RuntimeWarning: The shape parameter of the erlang distribution has been given a non-integer value 1.2913696409824156.\n",
      "  RuntimeWarning)\n",
      "/home/g/conda/lib/python3.7/site-packages/scipy/stats/_continuous_distns.py:2651: RuntimeWarning: The shape parameter of the erlang distribution has been given a non-integer value 1.2957384327677177.\n",
      "  RuntimeWarning)\n",
      "/home/g/conda/lib/python3.7/site-packages/scipy/stats/_continuous_distns.py:2651: RuntimeWarning: The shape parameter of the erlang distribution has been given a non-integer value 1.1370956686537999.\n",
      "  RuntimeWarning)\n",
      "/home/g/conda/lib/python3.7/site-packages/scipy/stats/_continuous_distns.py:2651: RuntimeWarning: The shape parameter of the erlang distribution has been given a non-integer value 1.150936869250462.\n",
      "  RuntimeWarning)\n",
      "/home/g/conda/lib/python3.7/site-packages/scipy/stats/_continuous_distns.py:2651: RuntimeWarning: The shape parameter of the erlang distribution has been given a non-integer value 1.0890068330385292.\n",
      "  RuntimeWarning)\n",
      "/home/g/conda/lib/python3.7/site-packages/scipy/stats/_continuous_distns.py:2651: RuntimeWarning: The shape parameter of the erlang distribution has been given a non-integer value 1.183414032148985.\n",
      "  RuntimeWarning)\n",
      "/home/g/conda/lib/python3.7/site-packages/scipy/stats/_continuous_distns.py:2651: RuntimeWarning: The shape parameter of the erlang distribution has been given a non-integer value 1.2001784692614974.\n",
      "  RuntimeWarning)\n",
      "/home/g/conda/lib/python3.7/site-packages/scipy/stats/_continuous_distns.py:2651: RuntimeWarning: The shape parameter of the erlang distribution has been given a non-integer value 1.2941401788659848.\n",
      "  RuntimeWarning)\n",
      "/home/g/conda/lib/python3.7/site-packages/scipy/stats/_continuous_distns.py:2651: RuntimeWarning: The shape parameter of the erlang distribution has been given a non-integer value 1.1344319121509119.\n",
      "  RuntimeWarning)\n",
      "/home/g/conda/lib/python3.7/site-packages/scipy/stats/_continuous_distns.py:2651: RuntimeWarning: The shape parameter of the erlang distribution has been given a non-integer value 1.2554118026135161.\n",
      "  RuntimeWarning)\n",
      "/home/g/conda/lib/python3.7/site-packages/scipy/stats/_continuous_distns.py:2651: RuntimeWarning: The shape parameter of the erlang distribution has been given a non-integer value 1.110211248550999.\n",
      "  RuntimeWarning)\n",
      "/home/g/conda/lib/python3.7/site-packages/scipy/stats/_continuous_distns.py:2651: RuntimeWarning: The shape parameter of the erlang distribution has been given a non-integer value 1.2481579462872383.\n",
      "  RuntimeWarning)\n",
      "/home/g/conda/lib/python3.7/site-packages/scipy/stats/_continuous_distns.py:2651: RuntimeWarning: The shape parameter of the erlang distribution has been given a non-integer value 1.2361592761726468.\n",
      "  RuntimeWarning)\n",
      "/home/g/conda/lib/python3.7/site-packages/scipy/stats/_continuous_distns.py:2651: RuntimeWarning: The shape parameter of the erlang distribution has been given a non-integer value 1.1680909251933818.\n",
      "  RuntimeWarning)\n",
      "/home/g/conda/lib/python3.7/site-packages/scipy/stats/_continuous_distns.py:2651: RuntimeWarning: The shape parameter of the erlang distribution has been given a non-integer value 1.1244304864833143.\n",
      "  RuntimeWarning)\n",
      "/home/g/conda/lib/python3.7/site-packages/scipy/stats/_continuous_distns.py:2651: RuntimeWarning: The shape parameter of the erlang distribution has been given a non-integer value 1.1219667674570886.\n",
      "  RuntimeWarning)\n",
      "/home/g/conda/lib/python3.7/site-packages/scipy/stats/_continuous_distns.py:2651: RuntimeWarning: The shape parameter of the erlang distribution has been given a non-integer value 1.058871178042014.\n",
      "  RuntimeWarning)\n",
      "/home/g/conda/lib/python3.7/site-packages/scipy/stats/_continuous_distns.py:2651: RuntimeWarning: The shape parameter of the erlang distribution has been given a non-integer value 1.0157733721512585.\n",
      "  RuntimeWarning)\n",
      "/home/g/conda/lib/python3.7/site-packages/scipy/stats/_continuous_distns.py:2651: RuntimeWarning: The shape parameter of the erlang distribution has been given a non-integer value 1.1810628001672998.\n",
      "  RuntimeWarning)\n",
      "/home/g/conda/lib/python3.7/site-packages/scipy/stats/_continuous_distns.py:2651: RuntimeWarning: The shape parameter of the erlang distribution has been given a non-integer value 1.1210797330180018.\n",
      "  RuntimeWarning)\n",
      "/home/g/conda/lib/python3.7/site-packages/scipy/stats/_continuous_distns.py:2651: RuntimeWarning: The shape parameter of the erlang distribution has been given a non-integer value 1.143472585192347.\n",
      "  RuntimeWarning)\n",
      "/home/g/conda/lib/python3.7/site-packages/scipy/stats/_continuous_distns.py:2651: RuntimeWarning: The shape parameter of the erlang distribution has been given a non-integer value 1.0658936587845287.\n",
      "  RuntimeWarning)\n",
      "/home/g/conda/lib/python3.7/site-packages/scipy/stats/_continuous_distns.py:2651: RuntimeWarning: The shape parameter of the erlang distribution has been given a non-integer value 1.152270514821607.\n",
      "  RuntimeWarning)\n",
      "/home/g/conda/lib/python3.7/site-packages/scipy/stats/_continuous_distns.py:2651: RuntimeWarning: The shape parameter of the erlang distribution has been given a non-integer value 1.0683185935105972.\n",
      "  RuntimeWarning)\n",
      "/home/g/conda/lib/python3.7/site-packages/scipy/stats/_continuous_distns.py:2651: RuntimeWarning: The shape parameter of the erlang distribution has been given a non-integer value 1.042834272390465.\n",
      "  RuntimeWarning)\n",
      "/home/g/conda/lib/python3.7/site-packages/scipy/stats/_continuous_distns.py:2651: RuntimeWarning: The shape parameter of the erlang distribution has been given a non-integer value 0.9925151159895238.\n",
      "  RuntimeWarning)\n",
      "/home/g/conda/lib/python3.7/site-packages/scipy/stats/_continuous_distns.py:2651: RuntimeWarning: The shape parameter of the erlang distribution has been given a non-integer value 0.9610788478071102.\n",
      "  RuntimeWarning)\n",
      "/home/g/conda/lib/python3.7/site-packages/scipy/stats/_continuous_distns.py:2651: RuntimeWarning: The shape parameter of the erlang distribution has been given a non-integer value 1.1044725980679828.\n",
      "  RuntimeWarning)\n",
      "/home/g/conda/lib/python3.7/site-packages/scipy/stats/_continuous_distns.py:2651: RuntimeWarning: The shape parameter of the erlang distribution has been given a non-integer value 1.0088767645607344.\n",
      "  RuntimeWarning)\n",
      "/home/g/conda/lib/python3.7/site-packages/scipy/stats/_continuous_distns.py:2651: RuntimeWarning: The shape parameter of the erlang distribution has been given a non-integer value 0.96107884780711.\n",
      "  RuntimeWarning)\n",
      "/home/g/conda/lib/python3.7/site-packages/scipy/stats/_continuous_distns.py:2651: RuntimeWarning: The shape parameter of the erlang distribution has been given a non-integer value 1.005402883151545.\n",
      "  RuntimeWarning)\n",
      "/home/g/conda/lib/python3.7/site-packages/scipy/stats/_continuous_distns.py:2651: RuntimeWarning: The shape parameter of the erlang distribution has been given a non-integer value 1.0525896659208342.\n",
      "  RuntimeWarning)\n",
      "/home/g/conda/lib/python3.7/site-packages/scipy/stats/_continuous_distns.py:2651: RuntimeWarning: The shape parameter of the erlang distribution has been given a non-integer value 1.0211318107413079.\n",
      "  RuntimeWarning)\n",
      "/home/g/conda/lib/python3.7/site-packages/scipy/stats/_continuous_distns.py:2651: RuntimeWarning: The shape parameter of the erlang distribution has been given a non-integer value 1.0447252021259525.\n",
      "  RuntimeWarning)\n",
      "/home/g/conda/lib/python3.7/site-packages/scipy/stats/_continuous_distns.py:2651: RuntimeWarning: The shape parameter of the erlang distribution has been given a non-integer value 1.0054196480094206.\n",
      "  RuntimeWarning)\n",
      "/home/g/conda/lib/python3.7/site-packages/scipy/stats/_continuous_distns.py:2651: RuntimeWarning: The shape parameter of the erlang distribution has been given a non-integer value 0.9933619211811271.\n",
      "  RuntimeWarning)\n",
      "/home/g/conda/lib/python3.7/site-packages/scipy/stats/_continuous_distns.py:2651: RuntimeWarning: The shape parameter of the erlang distribution has been given a non-integer value 0.9676802807087146.\n",
      "  RuntimeWarning)\n",
      "/home/g/conda/lib/python3.7/site-packages/scipy/stats/_continuous_distns.py:2651: RuntimeWarning: The shape parameter of the erlang distribution has been given a non-integer value 0.945150189795448.\n",
      "  RuntimeWarning)\n",
      "/home/g/conda/lib/python3.7/site-packages/scipy/stats/_continuous_distns.py:2651: RuntimeWarning: The shape parameter of the erlang distribution has been given a non-integer value 0.9423851753671773.\n",
      "  RuntimeWarning)\n",
      "/home/g/conda/lib/python3.7/site-packages/scipy/stats/_continuous_distns.py:2651: RuntimeWarning: The shape parameter of the erlang distribution has been given a non-integer value 0.9896610298488597.\n",
      "  RuntimeWarning)\n",
      "/home/g/conda/lib/python3.7/site-packages/scipy/stats/_continuous_distns.py:2651: RuntimeWarning: The shape parameter of the erlang distribution has been given a non-integer value 0.9581437935277382.\n",
      "  RuntimeWarning)\n",
      "/home/g/conda/lib/python3.7/site-packages/scipy/stats/_continuous_distns.py:2651: RuntimeWarning: The shape parameter of the erlang distribution has been given a non-integer value 0.9423851753671775.\n",
      "  RuntimeWarning)\n",
      "/home/g/conda/lib/python3.7/site-packages/scipy/stats/_continuous_distns.py:2651: RuntimeWarning: The shape parameter of the erlang distribution has been given a non-integer value 0.9051060781271993.\n",
      "  RuntimeWarning)\n",
      "/home/g/conda/lib/python3.7/site-packages/scipy/stats/_continuous_distns.py:2651: RuntimeWarning: The shape parameter of the erlang distribution has been given a non-integer value 0.9421365784469866.\n",
      "  RuntimeWarning)\n",
      "/home/g/conda/lib/python3.7/site-packages/scipy/stats/_continuous_distns.py:2651: RuntimeWarning: The shape parameter of the erlang distribution has been given a non-integer value 0.9443967869583326.\n",
      "  RuntimeWarning)\n",
      "/home/g/conda/lib/python3.7/site-packages/scipy/stats/_continuous_distns.py:2651: RuntimeWarning: The shape parameter of the erlang distribution has been given a non-integer value 0.9040841583667989.\n",
      "  RuntimeWarning)\n",
      "/home/g/conda/lib/python3.7/site-packages/scipy/stats/_continuous_distns.py:2651: RuntimeWarning: The shape parameter of the erlang distribution has been given a non-integer value 0.872286097195841.\n",
      "  RuntimeWarning)\n",
      "/home/g/conda/lib/python3.7/site-packages/scipy/stats/_continuous_distns.py:2651: RuntimeWarning: The shape parameter of the erlang distribution has been given a non-integer value 0.8792938589421865.\n",
      "  RuntimeWarning)\n",
      "/home/g/conda/lib/python3.7/site-packages/scipy/stats/_continuous_distns.py:2651: RuntimeWarning: The shape parameter of the erlang distribution has been given a non-integer value 0.9281210549542961.\n",
      "  RuntimeWarning)\n",
      "/home/g/conda/lib/python3.7/site-packages/scipy/stats/_continuous_distns.py:2651: RuntimeWarning: The shape parameter of the erlang distribution has been given a non-integer value 0.895569590946223.\n",
      "  RuntimeWarning)\n",
      "/home/g/conda/lib/python3.7/site-packages/scipy/stats/_continuous_distns.py:2651: RuntimeWarning: The shape parameter of the erlang distribution has been given a non-integer value 0.9199831889522778.\n",
      "  RuntimeWarning)\n",
      "/home/g/conda/lib/python3.7/site-packages/scipy/stats/_continuous_distns.py:2651: RuntimeWarning: The shape parameter of the erlang distribution has been given a non-integer value 0.9037074569482413.\n",
      "  RuntimeWarning)\n",
      "/home/g/conda/lib/python3.7/site-packages/scipy/stats/_continuous_distns.py:2651: RuntimeWarning: The shape parameter of the erlang distribution has been given a non-integer value 0.8955695909462231.\n",
      "  RuntimeWarning)\n",
      "/home/g/conda/lib/python3.7/site-packages/scipy/stats/_continuous_distns.py:2651: RuntimeWarning: The shape parameter of the erlang distribution has been given a non-integer value 0.9176521536540145.\n",
      "  RuntimeWarning)\n",
      "/home/g/conda/lib/python3.7/site-packages/scipy/stats/_continuous_distns.py:2651: RuntimeWarning: The shape parameter of the erlang distribution has been given a non-integer value 0.9082425970089032.\n",
      "  RuntimeWarning)\n",
      "/home/g/conda/lib/python3.7/site-packages/scipy/stats/_continuous_distns.py:2651: RuntimeWarning: The shape parameter of the erlang distribution has been given a non-integer value 0.8313469739075856.\n",
      "  RuntimeWarning)\n",
      "/home/g/conda/lib/python3.7/site-packages/scipy/stats/_continuous_distns.py:2651: RuntimeWarning: The shape parameter of the erlang distribution has been given a non-integer value 0.8630461788126237.\n",
      "  RuntimeWarning)\n",
      "/home/g/conda/lib/python3.7/site-packages/scipy/stats/_continuous_distns.py:2651: RuntimeWarning: The shape parameter of the erlang distribution has been given a non-integer value 0.8511172249622341.\n",
      "  RuntimeWarning)\n",
      "/home/g/conda/lib/python3.7/site-packages/scipy/stats/_continuous_distns.py:2651: RuntimeWarning: The shape parameter of the erlang distribution has been given a non-integer value 0.8225545389388995.\n",
      "  RuntimeWarning)\n",
      "/home/g/conda/lib/python3.7/site-packages/scipy/stats/_continuous_distns.py:2651: RuntimeWarning: The shape parameter of the erlang distribution has been given a non-integer value 0.8883610072582538.\n",
      "  RuntimeWarning)\n",
      "/home/g/conda/lib/python3.7/site-packages/scipy/stats/_continuous_distns.py:2651: RuntimeWarning: The shape parameter of the erlang distribution has been given a non-integer value 0.8693748859240312.\n",
      "  RuntimeWarning)\n",
      "/home/g/conda/lib/python3.7/site-packages/scipy/stats/_continuous_distns.py:2651: RuntimeWarning: The shape parameter of the erlang distribution has been given a non-integer value 0.8771802813604965.\n",
      "  RuntimeWarning)\n",
      "/home/g/conda/lib/python3.7/site-packages/scipy/stats/_continuous_distns.py:2651: RuntimeWarning: The shape parameter of the erlang distribution has been given a non-integer value 0.8735096432370049.\n",
      "  RuntimeWarning)\n",
      "/home/g/conda/lib/python3.7/site-packages/scipy/stats/_continuous_distns.py:2651: RuntimeWarning: The shape parameter of the erlang distribution has been given a non-integer value 0.8828479975076223.\n",
      "  RuntimeWarning)\n",
      "/home/g/conda/lib/python3.7/site-packages/scipy/stats/_continuous_distns.py:2651: RuntimeWarning: The shape parameter of the erlang distribution has been given a non-integer value 0.8895845532994178.\n",
      "  RuntimeWarning)\n",
      "/home/g/conda/lib/python3.7/site-packages/scipy/stats/_continuous_distns.py:2651: RuntimeWarning: The shape parameter of the erlang distribution has been given a non-integer value 0.8849388097083934.\n",
      "  RuntimeWarning)\n",
      "/home/g/conda/lib/python3.7/site-packages/scipy/stats/_continuous_distns.py:2651: RuntimeWarning: The shape parameter of the erlang distribution has been given a non-integer value 0.876366934854852.\n",
      "  RuntimeWarning)\n",
      "/home/g/conda/lib/python3.7/site-packages/scipy/stats/_continuous_distns.py:2651: RuntimeWarning: The shape parameter of the erlang distribution has been given a non-integer value 0.8820815180905464.\n",
      "  RuntimeWarning)\n",
      "/home/g/conda/lib/python3.7/site-packages/scipy/stats/_continuous_distns.py:2651: RuntimeWarning: The shape parameter of the erlang distribution has been given a non-integer value 0.8777955806637756.\n",
      "  RuntimeWarning)\n",
      "/home/g/conda/lib/python3.7/site-packages/scipy/stats/_continuous_distns.py:2651: RuntimeWarning: The shape parameter of the erlang distribution has been given a non-integer value 0.8374664118075132.\n",
      "  RuntimeWarning)\n",
      "/home/g/conda/lib/python3.7/site-packages/scipy/stats/_continuous_distns.py:2651: RuntimeWarning: The shape parameter of the erlang distribution has been given a non-integer value 0.8364921755211376.\n",
      "  RuntimeWarning)\n",
      "/home/g/conda/lib/python3.7/site-packages/scipy/stats/_continuous_distns.py:2651: RuntimeWarning: The shape parameter of the erlang distribution has been given a non-integer value 0.8674697293781162.\n",
      "  RuntimeWarning)\n",
      "/home/g/conda/lib/python3.7/site-packages/scipy/stats/_continuous_distns.py:2651: RuntimeWarning: The shape parameter of the erlang distribution has been given a non-integer value 0.8740722008332671.\n",
      "  RuntimeWarning)\n",
      "/home/g/conda/lib/python3.7/site-packages/scipy/stats/_continuous_distns.py:2651: RuntimeWarning: The shape parameter of the erlang distribution has been given a non-integer value 0.8568559689299924.\n",
      "  RuntimeWarning)\n",
      "/home/g/conda/lib/python3.7/site-packages/scipy/stats/_continuous_distns.py:2651: RuntimeWarning: The shape parameter of the erlang distribution has been given a non-integer value 0.850643856118636.\n",
      "  RuntimeWarning)\n",
      "/home/g/conda/lib/python3.7/site-packages/scipy/stats/_continuous_distns.py:2651: RuntimeWarning: The shape parameter of the erlang distribution has been given a non-integer value 0.842230919488896.\n",
      "  RuntimeWarning)\n",
      "/home/g/conda/lib/python3.7/site-packages/scipy/stats/_continuous_distns.py:2651: RuntimeWarning: The shape parameter of the erlang distribution has been given a non-integer value 0.8571162080258556.\n",
      "  RuntimeWarning)\n",
      "/home/g/conda/lib/python3.7/site-packages/scipy/stats/_continuous_distns.py:2651: RuntimeWarning: The shape parameter of the erlang distribution has been given a non-integer value 0.8569210287039581.\n",
      "  RuntimeWarning)\n",
      "/home/g/conda/lib/python3.7/site-packages/scipy/stats/_continuous_distns.py:2651: RuntimeWarning: The shape parameter of the erlang distribution has been given a non-integer value 0.8894755097459646.\n",
      "  RuntimeWarning)\n",
      "/home/g/conda/lib/python3.7/site-packages/scipy/stats/_continuous_distns.py:2651: RuntimeWarning: The shape parameter of the erlang distribution has been given a non-integer value 0.850468686292126.\n",
      "  RuntimeWarning)\n",
      "/home/g/conda/lib/python3.7/site-packages/scipy/stats/_continuous_distns.py:2651: RuntimeWarning: The shape parameter of the erlang distribution has been given a non-integer value 0.8657193312416316.\n",
      "  RuntimeWarning)\n",
      "/home/g/conda/lib/python3.7/site-packages/scipy/stats/_continuous_distns.py:2651: RuntimeWarning: The shape parameter of the erlang distribution has been given a non-integer value 0.8591206043383766.\n",
      "  RuntimeWarning)\n",
      "/home/g/conda/lib/python3.7/site-packages/scipy/stats/_continuous_distns.py:2651: RuntimeWarning: The shape parameter of the erlang distribution has been given a non-integer value 0.8779396190176307.\n",
      "  RuntimeWarning)\n",
      "/home/g/conda/lib/python3.7/site-packages/scipy/stats/_continuous_distns.py:2651: RuntimeWarning: The shape parameter of the erlang distribution has been given a non-integer value 0.8573364194735023.\n",
      "  RuntimeWarning)\n",
      "/home/g/conda/lib/python3.7/site-packages/scipy/stats/_continuous_distns.py:2651: RuntimeWarning: The shape parameter of the erlang distribution has been given a non-integer value 0.8680982443947973.\n",
      "  RuntimeWarning)\n",
      "/home/g/conda/lib/python3.7/site-packages/scipy/stats/_continuous_distns.py:2651: RuntimeWarning: The shape parameter of the erlang distribution has been given a non-integer value 0.8613650143524818.\n",
      "  RuntimeWarning)\n",
      "/home/g/conda/lib/python3.7/site-packages/scipy/stats/_continuous_distns.py:2651: RuntimeWarning: The shape parameter of the erlang distribution has been given a non-integer value 0.8725681591789913.\n",
      "  RuntimeWarning)\n",
      "/home/g/conda/lib/python3.7/site-packages/scipy/stats/_continuous_distns.py:2651: RuntimeWarning: The shape parameter of the erlang distribution has been given a non-integer value 0.8611443543998745.\n",
      "  RuntimeWarning)\n",
      "/home/g/conda/lib/python3.7/site-packages/scipy/stats/_continuous_distns.py:2651: RuntimeWarning: The shape parameter of the erlang distribution has been given a non-integer value 0.86839245766494.\n",
      "  RuntimeWarning)\n",
      "/home/g/conda/lib/python3.7/site-packages/scipy/stats/_continuous_distns.py:2651: RuntimeWarning: The shape parameter of the erlang distribution has been given a non-integer value 0.8631218751805964.\n",
      "  RuntimeWarning)\n",
      "/home/g/conda/lib/python3.7/site-packages/scipy/stats/_continuous_distns.py:2651: RuntimeWarning: The shape parameter of the erlang distribution has been given a non-integer value 0.8699314648046954.\n",
      "  RuntimeWarning)\n",
      "/home/g/conda/lib/python3.7/site-packages/scipy/stats/_continuous_distns.py:2651: RuntimeWarning: The shape parameter of the erlang distribution has been given a non-integer value 0.8633411320010798.\n",
      "  RuntimeWarning)\n",
      "/home/g/conda/lib/python3.7/site-packages/scipy/stats/_continuous_distns.py:2651: RuntimeWarning: The shape parameter of the erlang distribution has been given a non-integer value 0.868100115237629.\n",
      "  RuntimeWarning)\n",
      "/home/g/conda/lib/python3.7/site-packages/scipy/stats/_continuous_distns.py:2651: RuntimeWarning: The shape parameter of the erlang distribution has been given a non-integer value 0.8643664351948546.\n",
      "  RuntimeWarning)\n",
      "/home/g/conda/lib/python3.7/site-packages/scipy/stats/_continuous_distns.py:2651: RuntimeWarning: The shape parameter of the erlang distribution has been given a non-integer value 0.8685643938796621.\n",
      "  RuntimeWarning)\n",
      "/home/g/conda/lib/python3.7/site-packages/scipy/stats/_continuous_distns.py:2651: RuntimeWarning: The shape parameter of the erlang distribution has been given a non-integer value 0.8711760248189533.\n",
      "  RuntimeWarning)\n",
      "/home/g/conda/lib/python3.7/site-packages/scipy/stats/_continuous_distns.py:2651: RuntimeWarning: The shape parameter of the erlang distribution has been given a non-integer value 0.8395351259544793.\n",
      "  RuntimeWarning)\n",
      "/home/g/conda/lib/python3.7/site-packages/scipy/stats/_continuous_distns.py:2651: RuntimeWarning: The shape parameter of the erlang distribution has been given a non-integer value 0.8414624821069969.\n",
      "  RuntimeWarning)\n",
      "/home/g/conda/lib/python3.7/site-packages/scipy/stats/_continuous_distns.py:2651: RuntimeWarning: The shape parameter of the erlang distribution has been given a non-integer value 0.8586404469228901.\n",
      "  RuntimeWarning)\n",
      "/home/g/conda/lib/python3.7/site-packages/scipy/stats/_continuous_distns.py:2651: RuntimeWarning: The shape parameter of the erlang distribution has been given a non-integer value 0.8471884703789614.\n",
      "  RuntimeWarning)\n",
      "/home/g/conda/lib/python3.7/site-packages/scipy/stats/_continuous_distns.py:2651: RuntimeWarning: The shape parameter of the erlang distribution has been given a non-integer value 0.855777452786908.\n",
      "  RuntimeWarning)\n",
      "/home/g/conda/lib/python3.7/site-packages/scipy/stats/_continuous_distns.py:2651: RuntimeWarning: The shape parameter of the erlang distribution has been given a non-integer value 0.8500514645149435.\n",
      "  RuntimeWarning)\n",
      "/home/g/conda/lib/python3.7/site-packages/scipy/stats/_continuous_distns.py:2651: RuntimeWarning: The shape parameter of the erlang distribution has been given a non-integer value 0.8543459557189168.\n",
      "  RuntimeWarning)\n",
      "/home/g/conda/lib/python3.7/site-packages/scipy/stats/_continuous_distns.py:2651: RuntimeWarning: The shape parameter of the erlang distribution has been given a non-integer value 0.8514829615829347.\n",
      "  RuntimeWarning)\n",
      "/home/g/conda/lib/python3.7/site-packages/scipy/stats/_continuous_distns.py:2651: RuntimeWarning: The shape parameter of the erlang distribution has been given a non-integer value 0.8557444648260815.\n",
      "  RuntimeWarning)\n",
      "/home/g/conda/lib/python3.7/site-packages/scipy/stats/_continuous_distns.py:2651: RuntimeWarning: The shape parameter of the erlang distribution has been given a non-integer value 0.8582947691798042.\n",
      "  RuntimeWarning)\n",
      "/home/g/conda/lib/python3.7/site-packages/scipy/stats/_continuous_distns.py:2651: RuntimeWarning: The shape parameter of the erlang distribution has been given a non-integer value 0.8776594209046397.\n",
      "  RuntimeWarning)\n",
      "/home/g/conda/lib/python3.7/site-packages/scipy/stats/_continuous_distns.py:2651: RuntimeWarning: The shape parameter of the erlang distribution has been given a non-integer value 0.8490661996920195.\n",
      "  RuntimeWarning)\n",
      "/home/g/conda/lib/python3.7/site-packages/scipy/stats/_continuous_distns.py:2651: RuntimeWarning: The shape parameter of the erlang distribution has been given a non-integer value 0.8356313568543616.\n",
      "  RuntimeWarning)\n",
      "/home/g/conda/lib/python3.7/site-packages/scipy/stats/_continuous_distns.py:2651: RuntimeWarning: The shape parameter of the erlang distribution has been given a non-integer value 0.8461729891502323.\n",
      "  RuntimeWarning)\n",
      "/home/g/conda/lib/python3.7/site-packages/scipy/stats/_continuous_distns.py:2651: RuntimeWarning: The shape parameter of the erlang distribution has been given a non-integer value 0.8483428970565727.\n",
      "  RuntimeWarning)\n",
      "/home/g/conda/lib/python3.7/site-packages/scipy/stats/_continuous_distns.py:2651: RuntimeWarning: The shape parameter of the erlang distribution has been given a non-integer value 0.846896291785679.\n",
      "  RuntimeWarning)\n",
      "/home/g/conda/lib/python3.7/site-packages/scipy/stats/_continuous_distns.py:2651: RuntimeWarning: The shape parameter of the erlang distribution has been given a non-integer value 0.8461729891502321.\n",
      "  RuntimeWarning)\n",
      "/home/g/conda/lib/python3.7/site-packages/scipy/stats/_continuous_distns.py:2651: RuntimeWarning: The shape parameter of the erlang distribution has been given a non-integer value 0.8406984473944799.\n",
      "  RuntimeWarning)\n",
      "/home/g/conda/lib/python3.7/site-packages/scipy/stats/_continuous_distns.py:2651: RuntimeWarning: The shape parameter of the erlang distribution has been given a non-integer value 0.859928112483132.\n",
      "  RuntimeWarning)\n",
      "/home/g/conda/lib/python3.7/site-packages/scipy/stats/_continuous_distns.py:2651: RuntimeWarning: The shape parameter of the erlang distribution has been given a non-integer value 0.8417055457615542.\n",
      "  RuntimeWarning)\n",
      "/home/g/conda/lib/python3.7/site-packages/scipy/stats/_continuous_distns.py:2651: RuntimeWarning: The shape parameter of the erlang distribution has been given a non-integer value 0.8304557251350606.\n",
      "  RuntimeWarning)\n",
      "/home/g/conda/lib/python3.7/site-packages/scipy/stats/_continuous_distns.py:2651: RuntimeWarning: The shape parameter of the erlang distribution has been given a non-integer value 0.8369947637819256.\n",
      "  RuntimeWarning)\n",
      "/home/g/conda/lib/python3.7/site-packages/scipy/stats/_continuous_distns.py:2651: RuntimeWarning: The shape parameter of the erlang distribution has been given a non-integer value 0.8346393727921113.\n",
      "  RuntimeWarning)\n",
      "/home/g/conda/lib/python3.7/site-packages/scipy/stats/_continuous_distns.py:2651: RuntimeWarning: The shape parameter of the erlang distribution has been given a non-integer value 0.8355327397406305.\n",
      "  RuntimeWarning)\n",
      "/home/g/conda/lib/python3.7/site-packages/scipy/stats/_continuous_distns.py:2651: RuntimeWarning: The shape parameter of the erlang distribution has been given a non-integer value 0.8329498859137057.\n",
      "  RuntimeWarning)\n",
      "/home/g/conda/lib/python3.7/site-packages/scipy/stats/_continuous_distns.py:2651: RuntimeWarning: The shape parameter of the erlang distribution has been given a non-integer value 0.8491601384037628.\n",
      "  RuntimeWarning)\n",
      "/home/g/conda/lib/python3.7/site-packages/scipy/stats/_continuous_distns.py:2651: RuntimeWarning: The shape parameter of the erlang distribution has been given a non-integer value 0.8351318284522362.\n",
      "  RuntimeWarning)\n",
      "/home/g/conda/lib/python3.7/site-packages/scipy/stats/_continuous_distns.py:2651: RuntimeWarning: The shape parameter of the erlang distribution has been given a non-integer value 0.824876596197516.\n",
      "  RuntimeWarning)\n",
      "/home/g/conda/lib/python3.7/site-packages/scipy/stats/_continuous_distns.py:2651: RuntimeWarning: The shape parameter of the erlang distribution has been given a non-integer value 0.8138667484034343.\n",
      "  RuntimeWarning)\n",
      "/home/g/conda/lib/python3.7/site-packages/scipy/stats/_continuous_distns.py:2651: RuntimeWarning: The shape parameter of the erlang distribution has been given a non-integer value 0.8298042380278119.\n",
      "  RuntimeWarning)\n",
      "/home/g/conda/lib/python3.7/site-packages/scipy/stats/_continuous_distns.py:2651: RuntimeWarning: The shape parameter of the erlang distribution has been given a non-integer value 0.8337999308461301.\n",
      "  RuntimeWarning)\n",
      "/home/g/conda/lib/python3.7/site-packages/scipy/stats/_continuous_distns.py:2651: RuntimeWarning: The shape parameter of the erlang distribution has been given a non-integer value 0.831136135633918.\n",
      "  RuntimeWarning)\n",
      "/home/g/conda/lib/python3.7/site-packages/scipy/stats/_continuous_distns.py:2651: RuntimeWarning: The shape parameter of the erlang distribution has been given a non-integer value 0.8331339820430771.\n",
      "  RuntimeWarning)\n",
      "/home/g/conda/lib/python3.7/site-packages/scipy/stats/_continuous_distns.py:2651: RuntimeWarning: The shape parameter of the erlang distribution has been given a non-integer value 0.831802084436971.\n",
      "  RuntimeWarning)\n",
      "/home/g/conda/lib/python3.7/site-packages/scipy/stats/_continuous_distns.py:2651: RuntimeWarning: The shape parameter of the erlang distribution has been given a non-integer value 0.8244795164681525.\n",
      "  RuntimeWarning)\n",
      "/home/g/conda/lib/python3.7/site-packages/scipy/stats/_continuous_distns.py:2651: RuntimeWarning: The shape parameter of the erlang distribution has been given a non-integer value 0.8338659519534823.\n",
      "  RuntimeWarning)\n",
      "/home/g/conda/lib/python3.7/site-packages/scipy/stats/_continuous_distns.py:2651: RuntimeWarning: The shape parameter of the erlang distribution has been given a non-integer value 0.8276083282965958.\n",
      "  RuntimeWarning)\n",
      "/home/g/conda/lib/python3.7/site-packages/scipy/stats/_continuous_distns.py:2651: RuntimeWarning: The shape parameter of the erlang distribution has been given a non-integer value 0.8244795164681524.\n",
      "  RuntimeWarning)\n",
      "/home/g/conda/lib/python3.7/site-packages/scipy/stats/_continuous_distns.py:2651: RuntimeWarning: The shape parameter of the erlang distribution has been given a non-integer value 0.8206585995467579.\n",
      "  RuntimeWarning)\n",
      "/home/g/conda/lib/python3.7/site-packages/scipy/stats/_continuous_distns.py:2651: RuntimeWarning: The shape parameter of the erlang distribution has been given a non-integer value 0.8132215294498217.\n",
      "  RuntimeWarning)\n",
      "/home/g/conda/lib/python3.7/site-packages/scipy/stats/_continuous_distns.py:2651: RuntimeWarning: The shape parameter of the erlang distribution has been given a non-integer value 0.8285027453227005.\n",
      "  RuntimeWarning)\n",
      "/home/g/conda/lib/python3.7/site-packages/scipy/stats/_continuous_distns.py:2651: RuntimeWarning: The shape parameter of the erlang distribution has been given a non-integer value 0.8257831334788122.\n",
      "  RuntimeWarning)\n",
      "/home/g/conda/lib/python3.7/site-packages/scipy/stats/_continuous_distns.py:2651: RuntimeWarning: The shape parameter of the erlang distribution has been given a non-integer value 0.8275962080414043.\n",
      "  RuntimeWarning)\n",
      "/home/g/conda/lib/python3.7/site-packages/scipy/stats/_continuous_distns.py:2651: RuntimeWarning: The shape parameter of the erlang distribution has been given a non-integer value 0.8262364021194601.\n",
      "  RuntimeWarning)\n",
      "/home/g/conda/lib/python3.7/site-packages/scipy/stats/_continuous_distns.py:2651: RuntimeWarning: The shape parameter of the erlang distribution has been given a non-integer value 0.8271429394007563.\n",
      "  RuntimeWarning)\n",
      "/home/g/conda/lib/python3.7/site-packages/scipy/stats/_continuous_distns.py:2651: RuntimeWarning: The shape parameter of the erlang distribution has been given a non-integer value 0.8184711603924358.\n",
      "  RuntimeWarning)\n",
      "/home/g/conda/lib/python3.7/site-packages/scipy/stats/_continuous_distns.py:2651: RuntimeWarning: The shape parameter of the erlang distribution has been given a non-integer value 0.8118056983701682.\n",
      "  RuntimeWarning)\n",
      "/home/g/conda/lib/python3.7/site-packages/scipy/stats/_continuous_distns.py:2651: RuntimeWarning: The shape parameter of the erlang distribution has been given a non-integer value 0.8165734712633708.\n",
      "  RuntimeWarning)\n",
      "/home/g/conda/lib/python3.7/site-packages/scipy/stats/_continuous_distns.py:2651: RuntimeWarning: The shape parameter of the erlang distribution has been given a non-integer value 0.8248496140382895.\n",
      "  RuntimeWarning)\n",
      "/home/g/conda/lib/python3.7/site-packages/scipy/stats/_continuous_distns.py:2651: RuntimeWarning: The shape parameter of the erlang distribution has been given a non-integer value 0.8193321855216771.\n",
      "  RuntimeWarning)\n",
      "/home/g/conda/lib/python3.7/site-packages/scipy/stats/_continuous_distns.py:2651: RuntimeWarning: The shape parameter of the erlang distribution has been given a non-integer value 0.816573471263371.\n",
      "  RuntimeWarning)\n",
      "/home/g/conda/lib/python3.7/site-packages/scipy/stats/_continuous_distns.py:2651: RuntimeWarning: The shape parameter of the erlang distribution has been given a non-integer value 0.822638923996488.\n",
      "  RuntimeWarning)\n",
      "/home/g/conda/lib/python3.7/site-packages/scipy/stats/_continuous_distns.py:2651: RuntimeWarning: The shape parameter of the erlang distribution has been given a non-integer value 0.8211536806591904.\n",
      "  RuntimeWarning)\n",
      "/home/g/conda/lib/python3.7/site-packages/scipy/stats/_continuous_distns.py:2651: RuntimeWarning: The shape parameter of the erlang distribution has been given a non-integer value 0.812161744981446.\n",
      "  RuntimeWarning)\n",
      "/home/g/conda/lib/python3.7/site-packages/scipy/stats/_continuous_distns.py:2651: RuntimeWarning: The shape parameter of the erlang distribution has been given a non-integer value 0.8046711477717907.\n",
      "  RuntimeWarning)\n",
      "/home/g/conda/lib/python3.7/site-packages/scipy/stats/_continuous_distns.py:2651: RuntimeWarning: The shape parameter of the erlang distribution has been given a non-integer value 0.8071626484647454.\n",
      "  RuntimeWarning)\n",
      "/home/g/conda/lib/python3.7/site-packages/scipy/stats/_continuous_distns.py:2651: RuntimeWarning: The shape parameter of the erlang distribution has been given a non-integer value 0.8176559226105791.\n",
      "  RuntimeWarning)\n",
      "/home/g/conda/lib/python3.7/site-packages/scipy/stats/_continuous_distns.py:2651: RuntimeWarning: The shape parameter of the erlang distribution has been given a non-integer value 0.8106604065133567.\n",
      "  RuntimeWarning)\n",
      "/home/g/conda/lib/python3.7/site-packages/scipy/stats/_continuous_distns.py:2651: RuntimeWarning: The shape parameter of the erlang distribution has been given a non-integer value 0.8046379994787803.\n",
      "  RuntimeWarning)\n",
      "/home/g/conda/lib/python3.7/site-packages/scipy/stats/_continuous_distns.py:2651: RuntimeWarning: The shape parameter of the erlang distribution has been given a non-integer value 0.815012870164022.\n",
      "  RuntimeWarning)\n",
      "/home/g/conda/lib/python3.7/site-packages/scipy/stats/_continuous_distns.py:2651: RuntimeWarning: The shape parameter of the erlang distribution has been given a non-integer value 0.8008974307777692.\n",
      "  RuntimeWarning)\n",
      "/home/g/conda/lib/python3.7/site-packages/scipy/stats/_continuous_distns.py:2651: RuntimeWarning: The shape parameter of the erlang distribution has been given a non-integer value 0.7958064532112559.\n",
      "  RuntimeWarning)\n",
      "/home/g/conda/lib/python3.7/site-packages/scipy/stats/_continuous_distns.py:2651: RuntimeWarning: The shape parameter of the erlang distribution has been given a non-integer value 0.8102112659258305.\n",
      "  RuntimeWarning)\n",
      "/home/g/conda/lib/python3.7/site-packages/scipy/stats/_continuous_distns.py:2651: RuntimeWarning: The shape parameter of the erlang distribution has been given a non-integer value 0.8006080574494474.\n",
      "  RuntimeWarning)\n",
      "/home/g/conda/lib/python3.7/site-packages/scipy/stats/_continuous_distns.py:2651: RuntimeWarning: The shape parameter of the erlang distribution has been given a non-integer value 0.8034394487219247.\n",
      "  RuntimeWarning)\n",
      "/home/g/conda/lib/python3.7/site-packages/scipy/stats/_continuous_distns.py:2651: RuntimeWarning: The shape parameter of the erlang distribution has been given a non-integer value 0.8043632230093243.\n",
      "  RuntimeWarning)\n",
      "/home/g/conda/lib/python3.7/site-packages/scipy/stats/_continuous_distns.py:2651: RuntimeWarning: The shape parameter of the erlang distribution has been given a non-integer value 0.8037473734843912.\n",
      "  RuntimeWarning)\n",
      "/home/g/conda/lib/python3.7/site-packages/scipy/stats/_continuous_distns.py:2651: RuntimeWarning: The shape parameter of the erlang distribution has been given a non-integer value 0.8042092606280911.\n",
      "  RuntimeWarning)\n",
      "/home/g/conda/lib/python3.7/site-packages/scipy/stats/_continuous_distns.py:2651: RuntimeWarning: The shape parameter of the erlang distribution has been given a non-integer value 0.8039013358656244.\n",
      "  RuntimeWarning)\n",
      "/home/g/conda/lib/python3.7/site-packages/scipy/stats/_continuous_distns.py:2651: RuntimeWarning: The shape parameter of the erlang distribution has been given a non-integer value 0.8041322794374743.\n",
      "  RuntimeWarning)\n",
      "/home/g/conda/lib/python3.7/site-packages/scipy/stats/_continuous_distns.py:2651: RuntimeWarning: The shape parameter of the erlang distribution has been given a non-integer value 0.8039783170562411.\n",
      "  RuntimeWarning)\n",
      "/home/g/conda/lib/python3.7/site-packages/scipy/stats/_continuous_distns.py:2651: RuntimeWarning: The shape parameter of the erlang distribution has been given a non-integer value 0.804093788842166.\n",
      "  RuntimeWarning)\n",
      "/home/g/conda/lib/python3.7/site-packages/scipy/stats/_continuous_distns.py:2651: RuntimeWarning: The shape parameter of the erlang distribution has been given a non-integer value 0.8093440710922106.\n",
      "  RuntimeWarning)\n",
      "/home/g/conda/lib/python3.7/site-packages/scipy/stats/_continuous_distns.py:2651: RuntimeWarning: The shape parameter of the erlang distribution has been given a non-integer value 0.8030090908563796.\n",
      "  RuntimeWarning)\n",
      "/home/g/conda/lib/python3.7/site-packages/scipy/stats/_continuous_distns.py:2651: RuntimeWarning: The shape parameter of the erlang distribution has been given a non-integer value 0.8054245810372898.\n",
      "  RuntimeWarning)\n",
      "/home/g/conda/lib/python3.7/site-packages/scipy/stats/_continuous_distns.py:2651: RuntimeWarning: The shape parameter of the erlang distribution has been given a non-integer value 0.7953674130487212.\n",
      "  RuntimeWarning)\n",
      "/home/g/conda/lib/python3.7/site-packages/scipy/stats/_continuous_distns.py:2651: RuntimeWarning: The shape parameter of the erlang distribution has been given a non-integer value 0.7877209163164034.\n",
      "  RuntimeWarning)\n",
      "/home/g/conda/lib/python3.7/site-packages/scipy/stats/_continuous_distns.py:2651: RuntimeWarning: The shape parameter of the erlang distribution has been given a non-integer value 0.7979242768339259.\n",
      "  RuntimeWarning)\n",
      "/home/g/conda/lib/python3.7/site-packages/scipy/stats/_continuous_distns.py:2651: RuntimeWarning: The shape parameter of the erlang distribution has been given a non-integer value 0.8017378873507661.\n",
      "  RuntimeWarning)\n",
      "/home/g/conda/lib/python3.7/site-packages/scipy/stats/_continuous_distns.py:2651: RuntimeWarning: The shape parameter of the erlang distribution has been given a non-integer value 0.7991954803395394.\n",
      "  RuntimeWarning)\n",
      "/home/g/conda/lib/python3.7/site-packages/scipy/stats/_continuous_distns.py:2651: RuntimeWarning: The shape parameter of the erlang distribution has been given a non-integer value 0.8011022855979595.\n",
      "  RuntimeWarning)\n",
      "/home/g/conda/lib/python3.7/site-packages/scipy/stats/_continuous_distns.py:2651: RuntimeWarning: The shape parameter of the erlang distribution has been given a non-integer value 0.799831082092346.\n",
      "  RuntimeWarning)\n",
      "/home/g/conda/lib/python3.7/site-packages/scipy/stats/_continuous_distns.py:2651: RuntimeWarning: The shape parameter of the erlang distribution has been given a non-integer value 0.8007844847215562.\n",
      "  RuntimeWarning)\n",
      "/home/g/conda/lib/python3.7/site-packages/scipy/stats/_continuous_distns.py:2651: RuntimeWarning: The shape parameter of the erlang distribution has been given a non-integer value 0.8001488829687493.\n",
      "  RuntimeWarning)\n",
      "/home/g/conda/lib/python3.7/site-packages/scipy/stats/_continuous_distns.py:2651: RuntimeWarning: The shape parameter of the erlang distribution has been given a non-integer value 0.8006255842833545.\n",
      "  RuntimeWarning)\n",
      "/home/g/conda/lib/python3.7/site-packages/scipy/stats/_continuous_distns.py:2651: RuntimeWarning: The shape parameter of the erlang distribution has been given a non-integer value 0.7923094554837256.\n",
      "  RuntimeWarning)\n",
      "/home/g/conda/lib/python3.7/site-packages/scipy/stats/_continuous_distns.py:2651: RuntimeWarning: The shape parameter of the erlang distribution has been given a non-integer value 0.7915643663712417.\n",
      "  RuntimeWarning)\n",
      "/home/g/conda/lib/python3.7/site-packages/scipy/stats/_continuous_distns.py:2651: RuntimeWarning: The shape parameter of the erlang distribution has been given a non-integer value 0.7870337574151853.\n",
      "  RuntimeWarning)\n",
      "/home/g/conda/lib/python3.7/site-packages/scipy/stats/_continuous_distns.py:2651: RuntimeWarning: The shape parameter of the erlang distribution has been given a non-integer value 0.7855527658196781.\n",
      "  RuntimeWarning)\n",
      "/home/g/conda/lib/python3.7/site-packages/scipy/stats/_continuous_distns.py:2651: RuntimeWarning: The shape parameter of the erlang distribution has been given a non-integer value 0.7780251200047936.\n",
      "  RuntimeWarning)\n",
      "/home/g/conda/lib/python3.7/site-packages/scipy/stats/_continuous_distns.py:2651: RuntimeWarning: The shape parameter of the erlang distribution has been given a non-integer value 0.7893469080093685.\n",
      "  RuntimeWarning)\n",
      "/home/g/conda/lib/python3.7/site-packages/scipy/stats/_continuous_distns.py:2651: RuntimeWarning: The shape parameter of the erlang distribution has been given a non-integer value 0.7915688186151363.\n",
      "  RuntimeWarning)\n",
      "/home/g/conda/lib/python3.7/site-packages/scipy/stats/_continuous_distns.py:2651: RuntimeWarning: The shape parameter of the erlang distribution has been given a non-integer value 0.7837565541553164.\n",
      "  RuntimeWarning)\n",
      "/home/g/conda/lib/python3.7/site-packages/scipy/stats/_continuous_distns.py:2651: RuntimeWarning: The shape parameter of the erlang distribution has been given a non-integer value 0.7779511247086139.\n",
      "  RuntimeWarning)\n",
      "/home/g/conda/lib/python3.7/site-packages/scipy/stats/_continuous_distns.py:2651: RuntimeWarning: The shape parameter of the erlang distribution has been given a non-integer value 0.7823469722823547.\n",
      "  RuntimeWarning)\n",
      "/home/g/conda/lib/python3.7/site-packages/scipy/stats/_continuous_distns.py:2651: RuntimeWarning: The shape parameter of the erlang distribution has been given a non-integer value 0.789263357031941.\n",
      "  RuntimeWarning)\n",
      "/home/g/conda/lib/python3.7/site-packages/scipy/stats/_continuous_distns.py:2651: RuntimeWarning: The shape parameter of the erlang distribution has been given a non-integer value 0.7846524338655501.\n",
      "  RuntimeWarning)\n",
      "/home/g/conda/lib/python3.7/site-packages/scipy/stats/_continuous_distns.py:2651: RuntimeWarning: The shape parameter of the erlang distribution has been given a non-integer value 0.7881106262403432.\n",
      "  RuntimeWarning)\n",
      "/home/g/conda/lib/python3.7/site-packages/scipy/stats/_continuous_distns.py:2651: RuntimeWarning: The shape parameter of the erlang distribution has been given a non-integer value 0.7858051646571478.\n",
      "  RuntimeWarning)\n",
      "/home/g/conda/lib/python3.7/site-packages/scipy/stats/_continuous_distns.py:2651: RuntimeWarning: The shape parameter of the erlang distribution has been given a non-integer value 0.7785119567168532.\n",
      "  RuntimeWarning)\n",
      "/home/g/conda/lib/python3.7/site-packages/scipy/stats/_continuous_distns.py:2651: RuntimeWarning: The shape parameter of the erlang distribution has been given a non-integer value 0.7883012639576445.\n",
      "  RuntimeWarning)\n",
      "/home/g/conda/lib/python3.7/site-packages/scipy/stats/_continuous_distns.py:2651: RuntimeWarning: The shape parameter of the erlang distribution has been given a non-integer value 0.7863558893603944.\n",
      "  RuntimeWarning)\n",
      "/home/g/conda/lib/python3.7/site-packages/scipy/stats/_continuous_distns.py:2651: RuntimeWarning: The shape parameter of the erlang distribution has been given a non-integer value 0.7857535467048572.\n",
      "  RuntimeWarning)\n",
      "/home/g/conda/lib/python3.7/site-packages/scipy/stats/_continuous_distns.py:2651: RuntimeWarning: The shape parameter of the erlang distribution has been given a non-integer value 0.7819089130539032.\n",
      "  RuntimeWarning)\n",
      "/home/g/conda/lib/python3.7/site-packages/scipy/stats/_continuous_distns.py:2651: RuntimeWarning: The shape parameter of the erlang distribution has been given a non-integer value 0.7867031762317092.\n",
      "  RuntimeWarning)\n",
      "/home/g/conda/lib/python3.7/site-packages/scipy/stats/_continuous_distns.py:2651: RuntimeWarning: The shape parameter of the erlang distribution has been given a non-integer value 0.785089716657925.\n",
      "  RuntimeWarning)\n",
      "/home/g/conda/lib/python3.7/site-packages/scipy/stats/_continuous_distns.py:2651: RuntimeWarning: The shape parameter of the erlang distribution has been given a non-integer value 0.7855875891931241.\n",
      "  RuntimeWarning)\n",
      "/home/g/conda/lib/python3.7/site-packages/scipy/stats/_continuous_distns.py:2651: RuntimeWarning: The shape parameter of the erlang distribution has been given a non-integer value 0.7833963624386828.\n",
      "  RuntimeWarning)\n",
      "/home/g/conda/lib/python3.7/site-packages/scipy/stats/_continuous_distns.py:2651: RuntimeWarning: The shape parameter of the erlang distribution has been given a non-integer value 0.7858764727834526.\n",
      "  RuntimeWarning)\n",
      "/home/g/conda/lib/python3.7/site-packages/scipy/stats/_continuous_distns.py:2651: RuntimeWarning: The shape parameter of the erlang distribution has been given a non-integer value 0.7847045385374871.\n",
      "  RuntimeWarning)\n",
      "/home/g/conda/lib/python3.7/site-packages/scipy/stats/_continuous_distns.py:2651: RuntimeWarning: The shape parameter of the erlang distribution has been given a non-integer value 0.7853668265292149.\n",
      "  RuntimeWarning)\n",
      "/home/g/conda/lib/python3.7/site-packages/scipy/stats/_continuous_distns.py:2651: RuntimeWarning: The shape parameter of the erlang distribution has been given a non-integer value 0.7840758907776668.\n",
      "  RuntimeWarning)\n",
      "/home/g/conda/lib/python3.7/site-packages/scipy/stats/_continuous_distns.py:2651: RuntimeWarning: The shape parameter of the erlang distribution has been given a non-integer value 0.7854263272820061.\n",
      "  RuntimeWarning)\n",
      "/home/g/conda/lib/python3.7/site-packages/scipy/stats/_continuous_distns.py:2651: RuntimeWarning: The shape parameter of the erlang distribution has been given a non-integer value 0.7846252042004318.\n",
      "  RuntimeWarning)\n",
      "/home/g/conda/lib/python3.7/site-packages/scipy/stats/_continuous_distns.py:2651: RuntimeWarning: The shape parameter of the erlang distribution has been given a non-integer value 0.7851814209470191.\n",
      "  RuntimeWarning)\n",
      "/home/g/conda/lib/python3.7/site-packages/scipy/stats/_continuous_distns.py:2651: RuntimeWarning: The shape parameter of the erlang distribution has been given a non-integer value 0.7844024325576493.\n",
      "  RuntimeWarning)\n",
      "/home/g/conda/lib/python3.7/site-packages/scipy/stats/_continuous_distns.py:2651: RuntimeWarning: The shape parameter of the erlang distribution has been given a non-integer value 0.7851703536009169.\n",
      "  RuntimeWarning)\n",
      "/home/g/conda/lib/python3.7/site-packages/scipy/stats/_continuous_distns.py:2651: RuntimeWarning: The shape parameter of the erlang distribution has been given a non-integer value 0.7846399606619017.\n",
      "  RuntimeWarning)\n",
      "/home/g/conda/lib/python3.7/site-packages/scipy/stats/_continuous_distns.py:2651: RuntimeWarning: The shape parameter of the erlang distribution has been given a non-integer value 0.7850460558757397.\n",
      "  RuntimeWarning)\n",
      "/home/g/conda/lib/python3.7/site-packages/scipy/stats/_continuous_distns.py:2651: RuntimeWarning: The shape parameter of the erlang distribution has been given a non-integer value 0.7845681628578858.\n",
      "  RuntimeWarning)\n",
      "/home/g/conda/lib/python3.7/site-packages/scipy/stats/_continuous_distns.py:2651: RuntimeWarning: The shape parameter of the erlang distribution has been given a non-integer value 0.7843738652378269.\n",
      "  RuntimeWarning)\n",
      "/home/g/conda/lib/python3.7/site-packages/scipy/stats/_continuous_distns.py:2651: RuntimeWarning: The shape parameter of the erlang distribution has been given a non-integer value 0.7848780082162615.\n",
      "  RuntimeWarning)\n",
      "/home/g/conda/lib/python3.7/site-packages/scipy/stats/_continuous_distns.py:2651: RuntimeWarning: The shape parameter of the erlang distribution has been given a non-integer value 0.7829966521624947.\n",
      "  RuntimeWarning)\n",
      "/home/g/conda/lib/python3.7/site-packages/scipy/stats/_continuous_distns.py:2651: RuntimeWarning: The shape parameter of the erlang distribution has been given a non-integer value 0.7851030365334846.\n",
      "  RuntimeWarning)\n",
      "/home/g/conda/lib/python3.7/site-packages/scipy/stats/_continuous_distns.py:2651: RuntimeWarning: The shape parameter of the erlang distribution has been given a non-integer value 0.7840738274815297.\n",
      "  RuntimeWarning)\n",
      "/home/g/conda/lib/python3.7/site-packages/scipy/stats/_continuous_distns.py:2651: RuntimeWarning: The shape parameter of the erlang distribution has been given a non-integer value 0.7846769630325785.\n",
      "  RuntimeWarning)\n",
      "/home/g/conda/lib/python3.7/site-packages/scipy/stats/_continuous_distns.py:2651: RuntimeWarning: The shape parameter of the erlang distribution has been given a non-integer value 0.7835647501637024.\n",
      "  RuntimeWarning)\n",
      "/home/g/conda/lib/python3.7/site-packages/scipy/stats/_continuous_distns.py:2651: RuntimeWarning: The shape parameter of the erlang distribution has been given a non-integer value 0.784718464941039.\n",
      "  RuntimeWarning)\n",
      "/home/g/conda/lib/python3.7/site-packages/scipy/stats/_continuous_distns.py:2651: RuntimeWarning: The shape parameter of the erlang distribution has been given a non-integer value 0.7840184916035824.\n",
      "  RuntimeWarning)\n",
      "/home/g/conda/lib/python3.7/site-packages/scipy/stats/_continuous_distns.py:2651: RuntimeWarning: The shape parameter of the erlang distribution has been given a non-integer value 0.7845123451753295.\n",
      "  RuntimeWarning)\n",
      "/home/g/conda/lib/python3.7/site-packages/scipy/stats/_continuous_distns.py:2651: RuntimeWarning: The shape parameter of the erlang distribution has been given a non-integer value 0.7838395765179822.\n",
      "  RuntimeWarning)\n",
      "/home/g/conda/lib/python3.7/site-packages/scipy/stats/_continuous_distns.py:2651: RuntimeWarning: The shape parameter of the erlang distribution has been given a non-integer value 0.7844987428352748.\n",
      "  RuntimeWarning)\n",
      "/home/g/conda/lib/python3.7/site-packages/scipy/stats/_continuous_distns.py:2651: RuntimeWarning: The shape parameter of the erlang distribution has been given a non-integer value 0.7840366280569884.\n",
      "  RuntimeWarning)\n",
      "/home/g/conda/lib/python3.7/site-packages/scipy/stats/_continuous_distns.py:2651: RuntimeWarning: The shape parameter of the erlang distribution has been given a non-integer value 0.7843934158957442.\n",
      "  RuntimeWarning)\n",
      "/home/g/conda/lib/python3.7/site-packages/scipy/stats/_continuous_distns.py:2651: RuntimeWarning: The shape parameter of the erlang distribution has been given a non-integer value 0.7839800124373562.\n",
      "  RuntimeWarning)\n",
      "/home/g/conda/lib/python3.7/site-packages/scipy/stats/_continuous_distns.py:2651: RuntimeWarning: The shape parameter of the erlang distribution has been given a non-integer value 0.7843690602357951.\n",
      "  RuntimeWarning)\n",
      "/home/g/conda/lib/python3.7/site-packages/scipy/stats/_continuous_distns.py:2651: RuntimeWarning: The shape parameter of the erlang distribution has been given a non-integer value 0.784069102270254.\n",
      "  RuntimeWarning)\n",
      "/home/g/conda/lib/python3.7/site-packages/scipy/stats/_continuous_distns.py:2651: RuntimeWarning: The shape parameter of the erlang distribution has been given a non-integer value 0.7843123374893717.\n",
      "  RuntimeWarning)\n",
      "/home/g/conda/lib/python3.7/site-packages/scipy/stats/_continuous_distns.py:2651: RuntimeWarning: The shape parameter of the erlang distribution has been given a non-integer value 0.7840556427659207.\n",
      "  RuntimeWarning)\n",
      "/home/g/conda/lib/python3.7/site-packages/scipy/stats/_continuous_distns.py:2651: RuntimeWarning: The shape parameter of the erlang distribution has been given a non-integer value 0.7842907058683265.\n",
      "  RuntimeWarning)\n",
      "/home/g/conda/lib/python3.7/site-packages/scipy/stats/_continuous_distns.py:2651: RuntimeWarning: The shape parameter of the erlang distribution has been given a non-integer value 0.7840979444316474.\n",
      "  RuntimeWarning)\n",
      "/home/g/conda/lib/python3.7/site-packages/scipy/stats/_continuous_distns.py:2651: RuntimeWarning: The shape parameter of the erlang distribution has been given a non-integer value 0.7842587392249406.\n",
      "  RuntimeWarning)\n",
      "/home/g/conda/lib/python3.7/site-packages/scipy/stats/_continuous_distns.py:2651: RuntimeWarning: The shape parameter of the erlang distribution has been given a non-integer value 0.7840982649571021.\n",
      "  RuntimeWarning)\n",
      "/home/g/conda/lib/python3.7/site-packages/scipy/stats/_continuous_distns.py:2651: RuntimeWarning: The shape parameter of the erlang distribution has been given a non-integer value 0.7840020445014899.\n",
      "  RuntimeWarning)\n",
      "/home/g/conda/lib/python3.7/site-packages/scipy/stats/_continuous_distns.py:2651: RuntimeWarning: The shape parameter of the erlang distribution has been given a non-integer value 0.784023248755262.\n",
      "  RuntimeWarning)\n",
      "/home/g/conda/lib/python3.7/site-packages/scipy/stats/_continuous_distns.py:2651: RuntimeWarning: The shape parameter of the erlang distribution has been given a non-integer value 0.784199866607521.\n",
      "  RuntimeWarning)\n",
      "/home/g/conda/lib/python3.7/site-packages/scipy/stats/_continuous_distns.py:2651: RuntimeWarning: The shape parameter of the erlang distribution has been given a non-integer value 0.7840821213726816.\n",
      "  RuntimeWarning)\n",
      "/home/g/conda/lib/python3.7/site-packages/scipy/stats/_continuous_distns.py:2651: RuntimeWarning: The shape parameter of the erlang distribution has been given a non-integer value 0.7841704302988111.\n",
      "  RuntimeWarning)\n",
      "/home/g/conda/lib/python3.7/site-packages/scipy/stats/_continuous_distns.py:2651: RuntimeWarning: The shape parameter of the erlang distribution has been given a non-integer value 0.783448670082934.\n",
      "  RuntimeWarning)\n",
      "/home/g/conda/lib/python3.7/site-packages/scipy/stats/_continuous_distns.py:2651: RuntimeWarning: The shape parameter of the erlang distribution has been given a non-integer value 0.7842882896641479.\n",
      "  RuntimeWarning)\n",
      "/home/g/conda/lib/python3.7/site-packages/scipy/stats/_continuous_distns.py:2651: RuntimeWarning: The shape parameter of the erlang distribution has been given a non-integer value 0.7839249755522331.\n",
      "  RuntimeWarning)\n",
      "/home/g/conda/lib/python3.7/site-packages/scipy/stats/_continuous_distns.py:2651: RuntimeWarning: The shape parameter of the erlang distribution has been given a non-integer value 0.7841090666121666.\n",
      "  RuntimeWarning)\n",
      "/home/g/conda/lib/python3.7/site-packages/scipy/stats/_continuous_distns.py:2651: RuntimeWarning: The shape parameter of the erlang distribution has been given a non-integer value 0.7836876341522421.\n",
      "  RuntimeWarning)\n",
      "/home/g/conda/lib/python3.7/site-packages/scipy/stats/_continuous_distns.py:2651: RuntimeWarning: The shape parameter of the erlang distribution has been given a non-integer value 0.7833873063962891.\n",
      "  RuntimeWarning)\n",
      "/home/g/conda/lib/python3.7/site-packages/scipy/stats/_continuous_distns.py:2651: RuntimeWarning: The shape parameter of the erlang distribution has been given a non-integer value 0.7835859022309406.\n",
      "  RuntimeWarning)\n",
      "/home/g/conda/lib/python3.7/site-packages/scipy/stats/_continuous_distns.py:2651: RuntimeWarning: The shape parameter of the erlang distribution has been given a non-integer value 0.7839782755168601.\n",
      "  RuntimeWarning)\n",
      "/home/g/conda/lib/python3.7/site-packages/scipy/stats/_continuous_distns.py:2651: RuntimeWarning: The shape parameter of the erlang distribution has been given a non-integer value 0.7840862289288197.\n",
      "  RuntimeWarning)\n",
      "/home/g/conda/lib/python3.7/site-packages/scipy/stats/_continuous_distns.py:2651: RuntimeWarning: The shape parameter of the erlang distribution has been given a non-integer value 0.7838389728486923.\n",
      "  RuntimeWarning)\n",
      "/home/g/conda/lib/python3.7/site-packages/scipy/stats/_continuous_distns.py:2651: RuntimeWarning: The shape parameter of the erlang distribution has been given a non-integer value 0.783771639121831.\n",
      "  RuntimeWarning)\n",
      "/home/g/conda/lib/python3.7/site-packages/scipy/stats/_continuous_distns.py:2651: RuntimeWarning: The shape parameter of the erlang distribution has been given a non-integer value 0.7839266164181028.\n",
      "  RuntimeWarning)\n",
      "/home/g/conda/lib/python3.7/site-packages/scipy/stats/_continuous_distns.py:2651: RuntimeWarning: The shape parameter of the erlang distribution has been given a non-integer value 0.7839693708362723.\n",
      "  RuntimeWarning)\n",
      "/home/g/conda/lib/python3.7/site-packages/scipy/stats/_continuous_distns.py:2651: RuntimeWarning: The shape parameter of the erlang distribution has been given a non-integer value 0.7838715723455874.\n",
      "  RuntimeWarning)\n",
      "/home/g/conda/lib/python3.7/site-packages/scipy/stats/_continuous_distns.py:2651: RuntimeWarning: The shape parameter of the erlang distribution has been given a non-integer value 0.7838450312185182.\n",
      "  RuntimeWarning)\n",
      "/home/g/conda/lib/python3.7/site-packages/scipy/stats/_continuous_distns.py:2651: RuntimeWarning: The shape parameter of the erlang distribution has been given a non-integer value 0.7839062201182067.\n",
      "  RuntimeWarning)\n",
      "/home/g/conda/lib/python3.7/site-packages/scipy/stats/_continuous_distns.py:2651: RuntimeWarning: The shape parameter of the erlang distribution has been given a non-integer value 0.7839231738061132.\n",
      "  RuntimeWarning)\n",
      "/home/g/conda/lib/python3.7/site-packages/scipy/stats/_continuous_distns.py:2651: RuntimeWarning: The shape parameter of the erlang distribution has been given a non-integer value 0.7838844727107188.\n",
      "  RuntimeWarning)\n",
      "/home/g/conda/lib/python3.7/site-packages/scipy/stats/_continuous_distns.py:2651: RuntimeWarning: The shape parameter of the erlang distribution has been given a non-integer value 0.7838740277618353.\n",
      "  RuntimeWarning)\n",
      "/home/g/conda/lib/python3.7/site-packages/scipy/stats/_continuous_distns.py:2651: RuntimeWarning: The shape parameter of the erlang distribution has been given a non-integer value 0.7838981720291138.\n",
      "  RuntimeWarning)\n",
      "/home/g/conda/lib/python3.7/site-packages/scipy/stats/_continuous_distns.py:2651: RuntimeWarning: The shape parameter of the erlang distribution has been given a non-integer value 0.7839049080482532.\n",
      "  RuntimeWarning)\n",
      "/home/g/conda/lib/python3.7/site-packages/scipy/stats/_continuous_distns.py:2651: RuntimeWarning: The shape parameter of the erlang distribution has been given a non-integer value 0.7838895815451024.\n",
      "  RuntimeWarning)\n",
      "/home/g/conda/lib/python3.7/site-packages/scipy/stats/_continuous_distns.py:2651: RuntimeWarning: The shape parameter of the erlang distribution has been given a non-integer value 0.783885481740517.\n",
      "  RuntimeWarning)\n",
      "/home/g/conda/lib/python3.7/site-packages/scipy/stats/_continuous_distns.py:2651: RuntimeWarning: The shape parameter of the erlang distribution has been given a non-integer value 0.7838949994569646.\n",
      "  RuntimeWarning)\n",
      "/home/g/conda/lib/python3.7/site-packages/scipy/stats/_continuous_distns.py:2651: RuntimeWarning: The shape parameter of the erlang distribution has been given a non-integer value 0.7838976841657699.\n",
      "  RuntimeWarning)\n",
      "/home/g/conda/lib/python3.7/site-packages/scipy/stats/_continuous_distns.py:2651: RuntimeWarning: The shape parameter of the erlang distribution has been given a non-integer value 0.7838916072002693.\n",
      "  RuntimeWarning)\n",
      "/home/g/conda/lib/python3.7/site-packages/scipy/stats/_continuous_distns.py:2651: RuntimeWarning: The shape parameter of the erlang distribution has been given a non-integer value 0.7838900047494444.\n",
      "  RuntimeWarning)\n",
      "/home/g/conda/lib/python3.7/site-packages/scipy/stats/_continuous_distns.py:2651: RuntimeWarning: The shape parameter of the erlang distribution has been given a non-integer value 0.7838937507800845.\n",
      "  RuntimeWarning)\n",
      "/home/g/conda/lib/python3.7/site-packages/scipy/stats/_continuous_distns.py:2651: RuntimeWarning: The shape parameter of the erlang distribution has been given a non-integer value 0.7838948260593497.\n",
      "  RuntimeWarning)\n",
      "/home/g/conda/lib/python3.7/site-packages/scipy/stats/_continuous_distns.py:2651: RuntimeWarning: The shape parameter of the erlang distribution has been given a non-integer value 0.7838964354888898.\n",
      "  RuntimeWarning)\n",
      "/home/g/conda/lib/python3.7/site-packages/scipy/stats/_continuous_distns.py:2651: RuntimeWarning: The shape parameter of the erlang distribution has been given a non-integer value 0.7838933993323782.\n",
      "  RuntimeWarning)\n",
      "/home/g/conda/lib/python3.7/site-packages/scipy/stats/_continuous_distns.py:2651: RuntimeWarning: The shape parameter of the erlang distribution has been given a non-integer value 0.7838936629181579.\n",
      "  RuntimeWarning)\n",
      "/home/g/conda/lib/python3.7/site-packages/scipy/stats/_continuous_distns.py:2651: RuntimeWarning: The shape parameter of the erlang distribution has been given a non-integer value 0.7838934871943048.\n",
      "  RuntimeWarning)\n",
      "/home/g/conda/lib/python3.7/site-packages/scipy/stats/_continuous_distns.py:2651: RuntimeWarning: The shape parameter of the erlang distribution has been given a non-integer value 0.7838936189871946.\n",
      "  RuntimeWarning)\n",
      "/home/g/conda/lib/python3.7/site-packages/scipy/stats/_continuous_distns.py:2651: RuntimeWarning: The shape parameter of the erlang distribution has been given a non-integer value 0.7835524545087552.\n",
      "  RuntimeWarning)\n",
      "/home/g/conda/lib/python3.7/site-packages/scipy/stats/_continuous_distns.py:2651: RuntimeWarning: The shape parameter of the erlang distribution has been given a non-integer value 0.7839618123450154.\n",
      "  RuntimeWarning)\n",
      "/home/g/conda/lib/python3.7/site-packages/scipy/stats/_continuous_distns.py:2651: RuntimeWarning: The shape parameter of the erlang distribution has been given a non-integer value 0.7838025627172103.\n",
      "  RuntimeWarning)\n",
      "/home/g/conda/lib/python3.7/site-packages/scipy/stats/_continuous_distns.py:2651: RuntimeWarning: The shape parameter of the erlang distribution has been given a non-integer value 0.783757034582218.\n",
      "  RuntimeWarning)\n",
      "/home/g/conda/lib/python3.7/site-packages/scipy/stats/_continuous_distns.py:2651: RuntimeWarning: The shape parameter of the erlang distribution has been given a non-integer value 0.7836282029408526.\n",
      "  RuntimeWarning)\n",
      "/home/g/conda/lib/python3.7/site-packages/scipy/stats/_continuous_distns.py:2651: RuntimeWarning: The shape parameter of the erlang distribution has been given a non-integer value 0.7838784099939746.\n",
      "  RuntimeWarning)\n",
      "/home/g/conda/lib/python3.7/site-packages/scipy/stats/_continuous_distns.py:2651: RuntimeWarning: The shape parameter of the erlang distribution has been given a non-integer value 0.7837116052918933.\n",
      "  RuntimeWarning)\n",
      "/home/g/conda/lib/python3.7/site-packages/scipy/stats/_continuous_distns.py:2651: RuntimeWarning: The shape parameter of the erlang distribution has been given a non-integer value 0.7838367088184544.\n",
      "  RuntimeWarning)\n",
      "/home/g/conda/lib/python3.7/site-packages/scipy/stats/_continuous_distns.py:2651: RuntimeWarning: The shape parameter of the erlang distribution has been given a non-integer value 0.7837533064674136.\n",
      "  RuntimeWarning)\n",
      "/home/g/conda/lib/python3.7/site-packages/scipy/stats/_continuous_distns.py:2651: RuntimeWarning: The shape parameter of the erlang distribution has been given a non-integer value 0.7839461626770734.\n",
      "  RuntimeWarning)\n",
      "/home/g/conda/lib/python3.7/site-packages/scipy/stats/_continuous_distns.py:2651: RuntimeWarning: The shape parameter of the erlang distribution has been given a non-integer value 0.78375226628345.\n",
      "  RuntimeWarning)\n",
      "/home/g/conda/lib/python3.7/site-packages/scipy/stats/_continuous_distns.py:2651: RuntimeWarning: The shape parameter of the erlang distribution has been given a non-integer value 0.7838815305458655.\n",
      "  RuntimeWarning)\n",
      "/home/g/conda/lib/python3.7/site-packages/scipy/stats/_continuous_distns.py:2651: RuntimeWarning: The shape parameter of the erlang distribution has been given a non-integer value 0.7837845823490539.\n",
      "  RuntimeWarning)\n",
      "/home/g/conda/lib/python3.7/site-packages/scipy/stats/_continuous_distns.py:2651: RuntimeWarning: The shape parameter of the erlang distribution has been given a non-integer value 0.783665474963102.\n",
      "  RuntimeWarning)\n",
      "/home/g/conda/lib/python3.7/site-packages/scipy/stats/_continuous_distns.py:2651: RuntimeWarning: The shape parameter of the erlang distribution has been given a non-integer value 0.7835507994149782.\n",
      "  RuntimeWarning)\n",
      "/home/g/conda/lib/python3.7/site-packages/scipy/stats/_continuous_distns.py:2651: RuntimeWarning: The shape parameter of the erlang distribution has been given a non-integer value 0.7836198633840141.\n",
      "  RuntimeWarning)\n",
      "/home/g/conda/lib/python3.7/site-packages/scipy/stats/_continuous_distns.py:2651: RuntimeWarning: The shape parameter of the erlang distribution has been given a non-integer value 0.783743402607794.\n",
      "  RuntimeWarning)\n",
      "/home/g/conda/lib/python3.7/site-packages/scipy/stats/_continuous_distns.py:2651: RuntimeWarning: The shape parameter of the erlang distribution has been given a non-integer value 0.7836610431252741.\n",
      "  RuntimeWarning)\n",
      "/home/g/conda/lib/python3.7/site-packages/scipy/stats/_continuous_distns.py:2651: RuntimeWarning: The shape parameter of the erlang distribution has been given a non-integer value 0.783722812737164.\n",
      "  RuntimeWarning)\n",
      "/home/g/conda/lib/python3.7/site-packages/scipy/stats/_continuous_distns.py:2651: RuntimeWarning: The shape parameter of the erlang distribution has been given a non-integer value 0.7835487163624935.\n",
      "  RuntimeWarning)\n",
      "/home/g/conda/lib/python3.7/site-packages/scipy/stats/_continuous_distns.py:2651: RuntimeWarning: The shape parameter of the erlang distribution has been given a non-integer value 0.783421793185135.\n",
      "  RuntimeWarning)\n",
      "/home/g/conda/lib/python3.7/site-packages/scipy/stats/_continuous_distns.py:2651: RuntimeWarning: The shape parameter of the erlang distribution has been given a non-integer value 0.7833769637574381.\n",
      "  RuntimeWarning)\n",
      "/home/g/conda/lib/python3.7/site-packages/scipy/stats/_continuous_distns.py:2651: RuntimeWarning: The shape parameter of the erlang distribution has been given a non-integer value 0.7831887924024503.\n",
      "  RuntimeWarning)\n",
      "/home/g/conda/lib/python3.7/site-packages/scipy/stats/_continuous_distns.py:2651: RuntimeWarning: The shape parameter of the erlang distribution has been given a non-integer value 0.7830514439312117.\n",
      "  RuntimeWarning)\n",
      "/home/g/conda/lib/python3.7/site-packages/scipy/stats/_continuous_distns.py:2651: RuntimeWarning: The shape parameter of the erlang distribution has been given a non-integer value 0.7827157595282355.\n",
      "  RuntimeWarning)\n",
      "/home/g/conda/lib/python3.7/site-packages/scipy/stats/_continuous_distns.py:2651: RuntimeWarning: The shape parameter of the erlang distribution has been given a non-integer value 0.7826667639955691.\n",
      "  RuntimeWarning)\n",
      "/home/g/conda/lib/python3.7/site-packages/scipy/stats/_continuous_distns.py:2651: RuntimeWarning: The shape parameter of the erlang distribution has been given a non-integer value 0.7822247462858645.\n",
      "  RuntimeWarning)\n",
      "/home/g/conda/lib/python3.7/site-packages/scipy/stats/_continuous_distns.py:2651: RuntimeWarning: The shape parameter of the erlang distribution has been given a non-integer value 0.7819977389592319.\n",
      "  RuntimeWarning)\n",
      "/home/g/conda/lib/python3.7/site-packages/scipy/stats/_continuous_distns.py:2651: RuntimeWarning: The shape parameter of the erlang distribution has been given a non-integer value 0.7812857118462802.\n",
      "  RuntimeWarning)\n",
      "/home/g/conda/lib/python3.7/site-packages/scipy/stats/_continuous_distns.py:2651: RuntimeWarning: The shape parameter of the erlang distribution has been given a non-integer value 0.7809620193711364.\n",
      "  RuntimeWarning)\n",
      "/home/g/conda/lib/python3.7/site-packages/scipy/stats/_continuous_distns.py:2651: RuntimeWarning: The shape parameter of the erlang distribution has been given a non-integer value 0.7798486328554795.\n",
      "  RuntimeWarning)\n",
      "/home/g/conda/lib/python3.7/site-packages/scipy/stats/_continuous_distns.py:2651: RuntimeWarning: The shape parameter of the erlang distribution has been given a non-integer value 0.7795236344635139.\n",
      "  RuntimeWarning)\n",
      "/home/g/conda/lib/python3.7/site-packages/scipy/stats/_continuous_distns.py:2651: RuntimeWarning: The shape parameter of the erlang distribution has been given a non-integer value 0.7779275719311531.\n",
      "  RuntimeWarning)\n",
      "/home/g/conda/lib/python3.7/site-packages/scipy/stats/_continuous_distns.py:2651: RuntimeWarning: The shape parameter of the erlang distribution has been given a non-integer value 0.777149864802744.\n",
      "  RuntimeWarning)\n",
      "/home/g/conda/lib/python3.7/site-packages/scipy/stats/_continuous_distns.py:2651: RuntimeWarning: The shape parameter of the erlang distribution has been given a non-integer value 0.7746124240611838.\n",
      "  RuntimeWarning)\n",
      "/home/g/conda/lib/python3.7/site-packages/scipy/stats/_continuous_distns.py:2651: RuntimeWarning: The shape parameter of the erlang distribution has been given a non-integer value 0.7736400407189308.\n",
      "  RuntimeWarning)\n",
      "/home/g/conda/lib/python3.7/site-packages/scipy/stats/_continuous_distns.py:2651: RuntimeWarning: The shape parameter of the erlang distribution has been given a non-integer value 0.7698172051552561.\n",
      "  RuntimeWarning)\n",
      "/home/g/conda/lib/python3.7/site-packages/scipy/stats/_continuous_distns.py:2651: RuntimeWarning: The shape parameter of the erlang distribution has been given a non-integer value 0.7683895012429158.\n",
      "  RuntimeWarning)\n",
      "/home/g/conda/lib/python3.7/site-packages/scipy/stats/_continuous_distns.py:2651: RuntimeWarning: The shape parameter of the erlang distribution has been given a non-integer value 0.7626599354366341.\n",
      "  RuntimeWarning)\n",
      "/home/g/conda/lib/python3.7/site-packages/scipy/stats/_continuous_distns.py:2651: RuntimeWarning: The shape parameter of the erlang distribution has been given a non-integer value 0.760132137837563.\n",
      "  RuntimeWarning)\n",
      "/home/g/conda/lib/python3.7/site-packages/scipy/stats/_continuous_distns.py:2651: RuntimeWarning: The shape parameter of the erlang distribution has been given a non-integer value 0.7512344207907677.\n",
      "  RuntimeWarning)\n",
      "/home/g/conda/lib/python3.7/site-packages/scipy/stats/_continuous_distns.py:2651: RuntimeWarning: The shape parameter of the erlang distribution has been given a non-integer value 0.7478619501939214.\n",
      "  RuntimeWarning)\n",
      "/home/g/conda/lib/python3.7/site-packages/scipy/stats/_continuous_distns.py:2651: RuntimeWarning: The shape parameter of the erlang distribution has been given a non-integer value 0.7344867132602904.\n",
      "  RuntimeWarning)\n",
      "/home/g/conda/lib/python3.7/site-packages/scipy/stats/_continuous_distns.py:2651: RuntimeWarning: The shape parameter of the erlang distribution has been given a non-integer value 0.7291035078365387.\n",
      "  RuntimeWarning)\n",
      "/home/g/conda/lib/python3.7/site-packages/scipy/stats/_continuous_distns.py:2651: RuntimeWarning: The shape parameter of the erlang distribution has been given a non-integer value 0.70874665917718.\n",
      "  RuntimeWarning)\n",
      "/home/g/conda/lib/python3.7/site-packages/scipy/stats/_continuous_distns.py:2651: RuntimeWarning: The shape parameter of the erlang distribution has been given a non-integer value 0.7003185933821914.\n",
      "  RuntimeWarning)\n",
      "/home/g/conda/lib/python3.7/site-packages/scipy/stats/_continuous_distns.py:2651: RuntimeWarning: The shape parameter of the erlang distribution has been given a non-integer value 0.6691479223549699.\n",
      "  RuntimeWarning)\n",
      "/home/g/conda/lib/python3.7/site-packages/scipy/stats/_continuous_distns.py:2651: RuntimeWarning: The shape parameter of the erlang distribution has been given a non-integer value 0.6570197757375258.\n",
      "  RuntimeWarning)\n",
      "/home/g/conda/lib/python3.7/site-packages/scipy/stats/_continuous_distns.py:2651: RuntimeWarning: The shape parameter of the erlang distribution has been given a non-integer value 0.6099124532109048.\n",
      "  RuntimeWarning)\n",
      "/home/g/conda/lib/python3.7/site-packages/scipy/stats/_continuous_distns.py:2651: RuntimeWarning: The shape parameter of the erlang distribution has been given a non-integer value 0.5907179765684127.\n",
      "  RuntimeWarning)\n",
      "/home/g/conda/lib/python3.7/site-packages/scipy/stats/_continuous_distns.py:2651: RuntimeWarning: The shape parameter of the erlang distribution has been given a non-integer value 0.518833608222474.\n",
      "  RuntimeWarning)\n",
      "/home/g/conda/lib/python3.7/site-packages/scipy/stats/_continuous_distns.py:2651: RuntimeWarning: The shape parameter of the erlang distribution has been given a non-integer value 0.5377722422456783.\n",
      "  RuntimeWarning)\n",
      "/home/g/conda/lib/python3.7/site-packages/scipy/stats/_continuous_distns.py:2651: RuntimeWarning: The shape parameter of the erlang distribution has been given a non-integer value 0.48978719232836077.\n",
      "  RuntimeWarning)\n",
      "/home/g/conda/lib/python3.7/site-packages/scipy/stats/_continuous_distns.py:2651: RuntimeWarning: The shape parameter of the erlang distribution has been given a non-integer value 0.534627374835013.\n",
      "  RuntimeWarning)\n",
      "/home/g/conda/lib/python3.7/site-packages/scipy/stats/_continuous_distns.py:2651: RuntimeWarning: The shape parameter of the erlang distribution has been given a non-integer value 0.49883260922183115.\n",
      "  RuntimeWarning)\n",
      "/home/g/conda/lib/python3.7/site-packages/scipy/stats/_continuous_distns.py:2651: RuntimeWarning: The shape parameter of the erlang distribution has been given a non-integer value 0.5821424922136365.\n",
      "  RuntimeWarning)\n",
      "/home/g/conda/lib/python3.7/site-packages/scipy/stats/_continuous_distns.py:2651: RuntimeWarning: The shape parameter of the erlang distribution has been given a non-integer value 0.6057944325168054.\n",
      "  RuntimeWarning)\n",
      "/home/g/conda/lib/python3.7/site-packages/scipy/stats/_continuous_distns.py:2651: RuntimeWarning: The shape parameter of the erlang distribution has been given a non-integer value 0.5524191392554612.\n",
      "  RuntimeWarning)\n",
      "/home/g/conda/lib/python3.7/site-packages/scipy/stats/_continuous_distns.py:2651: RuntimeWarning: The shape parameter of the erlang distribution has been given a non-integer value 0.6124141631126618.\n",
      "  RuntimeWarning)\n",
      "/home/g/conda/lib/python3.7/site-packages/scipy/stats/_continuous_distns.py:2651: RuntimeWarning: The shape parameter of the erlang distribution has been given a non-integer value 0.5564327224624241.\n",
      "  RuntimeWarning)\n",
      "/home/g/conda/lib/python3.7/site-packages/scipy/stats/_continuous_distns.py:2651: RuntimeWarning: The shape parameter of the erlang distribution has been given a non-integer value 0.5366115927192685.\n",
      "  RuntimeWarning)\n",
      "/home/g/conda/lib/python3.7/site-packages/scipy/stats/_continuous_distns.py:2651: RuntimeWarning: The shape parameter of the erlang distribution has been given a non-integer value 0.5771913806061266.\n",
      "  RuntimeWarning)\n",
      "/home/g/conda/lib/python3.7/site-packages/scipy/stats/_continuous_distns.py:2651: RuntimeWarning: The shape parameter of the erlang distribution has been given a non-integer value 0.5418863360023716.\n",
      "  RuntimeWarning)\n",
      "/home/g/conda/lib/python3.7/site-packages/scipy/stats/_continuous_distns.py:2651: RuntimeWarning: The shape parameter of the erlang distribution has been given a non-integer value 0.5720784531608203.\n",
      "  RuntimeWarning)\n",
      "/home/g/conda/lib/python3.7/site-packages/scipy/stats/_continuous_distns.py:2651: RuntimeWarning: The shape parameter of the erlang distribution has been given a non-integer value 0.5434288293130105.\n",
      "  RuntimeWarning)\n",
      "/home/g/conda/lib/python3.7/site-packages/scipy/stats/_continuous_distns.py:2651: RuntimeWarning: The shape parameter of the erlang distribution has been given a non-integer value 0.5687507427828475.\n",
      "  RuntimeWarning)\n",
      "/home/g/conda/lib/python3.7/site-packages/scipy/stats/_continuous_distns.py:2651: RuntimeWarning: The shape parameter of the erlang distribution has been given a non-integer value 0.5790888063486002.\n",
      "  RuntimeWarning)\n",
      "/home/g/conda/lib/python3.7/site-packages/scipy/stats/_continuous_distns.py:2651: RuntimeWarning: The shape parameter of the erlang distribution has been given a non-integer value 0.5590865560287459.\n",
      "  RuntimeWarning)\n",
      "/home/g/conda/lib/python3.7/site-packages/scipy/stats/_continuous_distns.py:2651: RuntimeWarning: The shape parameter of the erlang distribution has been given a non-integer value 0.5507682276885248.\n",
      "  RuntimeWarning)\n",
      "/home/g/conda/lib/python3.7/site-packages/scipy/stats/_continuous_distns.py:2651: RuntimeWarning: The shape parameter of the erlang distribution has been given a non-integer value 0.5667508967927464.\n",
      "  RuntimeWarning)\n",
      "/home/g/conda/lib/python3.7/site-packages/scipy/stats/_continuous_distns.py:2651: RuntimeWarning: The shape parameter of the erlang distribution has been given a non-integer value 0.5732927412738025.\n",
      "  RuntimeWarning)\n",
      "/home/g/conda/lib/python3.7/site-packages/scipy/stats/_continuous_distns.py:2651: RuntimeWarning: The shape parameter of the erlang distribution has been given a non-integer value 0.5606477271652688.\n",
      "  RuntimeWarning)\n",
      "/home/g/conda/lib/python3.7/site-packages/scipy/stats/_continuous_distns.py:2651: RuntimeWarning: The shape parameter of the erlang distribution has been given a non-integer value 0.5555727105416599.\n",
      "  RuntimeWarning)\n",
      "/home/g/conda/lib/python3.7/site-packages/scipy/stats/_continuous_distns.py:2651: RuntimeWarning: The shape parameter of the erlang distribution has been given a non-integer value 0.5654562347225507.\n",
      "  RuntimeWarning)\n",
      "/home/g/conda/lib/python3.7/site-packages/scipy/stats/_continuous_distns.py:2651: RuntimeWarning: The shape parameter of the erlang distribution has been given a non-integer value 0.5694833497582981.\n",
      "  RuntimeWarning)\n",
      "/home/g/conda/lib/python3.7/site-packages/scipy/stats/_continuous_distns.py:2651: RuntimeWarning: The shape parameter of the erlang distribution has been given a non-integer value 0.561685754461134.\n",
      "  RuntimeWarning)\n",
      "/home/g/conda/lib/python3.7/site-packages/scipy/stats/_continuous_distns.py:2651: RuntimeWarning: The shape parameter of the erlang distribution has been given a non-integer value 0.5686141968190186.\n",
      "  RuntimeWarning)\n",
      "/home/g/conda/lib/python3.7/site-packages/scipy/stats/_continuous_distns.py:2651: RuntimeWarning: The shape parameter of the erlang distribution has been given a non-integer value 0.5626393445787062.\n",
      "  RuntimeWarning)\n",
      "/home/g/conda/lib/python3.7/site-packages/scipy/stats/_continuous_distns.py:2651: RuntimeWarning: The shape parameter of the erlang distribution has been given a non-integer value 0.5597699923821808.\n",
      "  RuntimeWarning)\n",
      "/home/g/conda/lib/python3.7/site-packages/scipy/stats/_continuous_distns.py:2651: RuntimeWarning: The shape parameter of the erlang distribution has been given a non-integer value 0.565005670690105.\n",
      "  RuntimeWarning)\n",
      "/home/g/conda/lib/python3.7/site-packages/scipy/stats/_continuous_distns.py:2651: RuntimeWarning: The shape parameter of the erlang distribution has been given a non-integer value 0.5670484121997741.\n",
      "  RuntimeWarning)\n",
      "/home/g/conda/lib/python3.7/site-packages/scipy/stats/_continuous_distns.py:2651: RuntimeWarning: The shape parameter of the erlang distribution has been given a non-integer value 0.5630264188957941.\n",
      "  RuntimeWarning)\n",
      "/home/g/conda/lib/python3.7/site-packages/scipy/stats/_continuous_distns.py:2651: RuntimeWarning: The shape parameter of the erlang distribution has been given a non-integer value 0.5616580547205194.\n",
      "  RuntimeWarning)\n",
      "/home/g/conda/lib/python3.7/site-packages/scipy/stats/_continuous_distns.py:2651: RuntimeWarning: The shape parameter of the erlang distribution has been given a non-integer value 0.5645066897220429.\n",
      "  RuntimeWarning)\n",
      "/home/g/conda/lib/python3.7/site-packages/scipy/stats/_continuous_distns.py:2651: RuntimeWarning: The shape parameter of the erlang distribution has been given a non-integer value 0.5657198416265884.\n",
      "  RuntimeWarning)\n",
      "/home/g/conda/lib/python3.7/site-packages/scipy/stats/_continuous_distns.py:2651: RuntimeWarning: The shape parameter of the erlang distribution has been given a non-integer value 0.5634094688406768.\n",
      "  RuntimeWarning)\n",
      "/home/g/conda/lib/python3.7/site-packages/scipy/stats/_continuous_distns.py:2651: RuntimeWarning: The shape parameter of the erlang distribution has been given a non-integer value 0.5622893809489042.\n",
      "  RuntimeWarning)\n",
      "/home/g/conda/lib/python3.7/site-packages/scipy/stats/_continuous_distns.py:2651: RuntimeWarning: The shape parameter of the erlang distribution has been given a non-integer value 0.5643265982548048.\n",
      "  RuntimeWarning)\n",
      "/home/g/conda/lib/python3.7/site-packages/scipy/stats/_continuous_distns.py:2651: RuntimeWarning: The shape parameter of the erlang distribution has been given a non-integer value 0.5651354189825555.\n",
      "  RuntimeWarning)\n",
      "/home/g/conda/lib/python3.7/site-packages/scipy/stats/_continuous_distns.py:2651: RuntimeWarning: The shape parameter of the erlang distribution has been given a non-integer value 0.5635536689174845.\n",
      "  RuntimeWarning)\n",
      "/home/g/conda/lib/python3.7/site-packages/scipy/stats/_continuous_distns.py:2651: RuntimeWarning: The shape parameter of the erlang distribution has been given a non-integer value 0.563019800953268.\n",
      "  RuntimeWarning)\n",
      "/home/g/conda/lib/python3.7/site-packages/scipy/stats/_continuous_distns.py:2651: RuntimeWarning: The shape parameter of the erlang distribution has been given a non-integer value 0.5641349675298492.\n",
      "  RuntimeWarning)\n",
      "/home/g/conda/lib/python3.7/site-packages/scipy/stats/_continuous_distns.py:2651: RuntimeWarning: The shape parameter of the erlang distribution has been given a non-integer value 0.5646006876274154.\n",
      "  RuntimeWarning)\n",
      "/home/g/conda/lib/python3.7/site-packages/scipy/stats/_continuous_distns.py:2651: RuntimeWarning: The shape parameter of the erlang distribution has been given a non-integer value 0.5637072735373614.\n",
      "  RuntimeWarning)\n",
      "/home/g/conda/lib/python3.7/site-packages/scipy/stats/_continuous_distns.py:2651: RuntimeWarning: The shape parameter of the erlang distribution has been given a non-integer value 0.5632706750683251.\n",
      "  RuntimeWarning)\n",
      "/home/g/conda/lib/python3.7/site-packages/scipy/stats/_continuous_distns.py:2651: RuntimeWarning: The shape parameter of the erlang distribution has been given a non-integer value 0.5640626174581849.\n",
      "  RuntimeWarning)\n",
      "/home/g/conda/lib/python3.7/site-packages/scipy/stats/_continuous_distns.py:2651: RuntimeWarning: The shape parameter of the erlang distribution has been given a non-integer value 0.564382903432779.\n",
      "  RuntimeWarning)\n",
      "/home/g/conda/lib/python3.7/site-packages/scipy/stats/_continuous_distns.py:2651: RuntimeWarning: The shape parameter of the erlang distribution has been given a non-integer value 0.5637609775463082.\n",
      "  RuntimeWarning)\n",
      "/home/g/conda/lib/python3.7/site-packages/scipy/stats/_continuous_distns.py:2651: RuntimeWarning: The shape parameter of the erlang distribution has been given a non-integer value 0.5635522781647205.\n",
      "  RuntimeWarning)\n",
      "/home/g/conda/lib/python3.7/site-packages/scipy/stats/_continuous_distns.py:2651: RuntimeWarning: The shape parameter of the erlang distribution has been given a non-integer value 0.563989295188567.\n",
      "  RuntimeWarning)\n",
      "/home/g/conda/lib/python3.7/site-packages/scipy/stats/_continuous_distns.py:2651: RuntimeWarning: The shape parameter of the erlang distribution has been given a non-integer value 0.5635757467233062.\n",
      "  RuntimeWarning)\n",
      "/home/g/conda/lib/python3.7/site-packages/scipy/stats/_continuous_distns.py:2651: RuntimeWarning: The shape parameter of the erlang distribution has been given a non-integer value 0.5639408997744653.\n",
      "  RuntimeWarning)\n",
      "/home/g/conda/lib/python3.7/site-packages/scipy/stats/_continuous_distns.py:2651: RuntimeWarning: The shape parameter of the erlang distribution has been given a non-integer value 0.5640868414688656.\n",
      "  RuntimeWarning)\n",
      "/home/g/conda/lib/python3.7/site-packages/scipy/stats/_continuous_distns.py:2651: RuntimeWarning: The shape parameter of the erlang distribution has been given a non-integer value 0.5638021655202374.\n",
      "  RuntimeWarning)\n",
      "/home/g/conda/lib/python3.7/site-packages/scipy/stats/_continuous_distns.py:2651: RuntimeWarning: The shape parameter of the erlang distribution has been given a non-integer value 0.5636800667054402.\n",
      "  RuntimeWarning)\n",
      "/home/g/conda/lib/python3.7/site-packages/scipy/stats/_continuous_distns.py:2651: RuntimeWarning: The shape parameter of the erlang distribution has been given a non-integer value 0.5639119880677853.\n",
      "  RuntimeWarning)\n",
      "/home/g/conda/lib/python3.7/site-packages/scipy/stats/_continuous_distns.py:2651: RuntimeWarning: The shape parameter of the erlang distribution has been given a non-integer value 0.5640090580286838.\n",
      "  RuntimeWarning)\n",
      "/home/g/conda/lib/python3.7/site-packages/scipy/stats/_continuous_distns.py:2651: RuntimeWarning: The shape parameter of the erlang distribution has been given a non-integer value 0.563822997666902.\n",
      "  RuntimeWarning)\n",
      "/home/g/conda/lib/python3.7/site-packages/scipy/stats/_continuous_distns.py:2651: RuntimeWarning: The shape parameter of the erlang distribution has been given a non-integer value 0.5637505343954847.\n",
      "  RuntimeWarning)\n",
      "/home/g/conda/lib/python3.7/site-packages/scipy/stats/_continuous_distns.py:2651: RuntimeWarning: The shape parameter of the erlang distribution has been given a non-integer value 0.5638933084297202.\n",
      "  RuntimeWarning)\n",
      "/home/g/conda/lib/python3.7/site-packages/scipy/stats/_continuous_distns.py:2651: RuntimeWarning: The shape parameter of the erlang distribution has been given a non-integer value 0.5639500305893677.\n",
      "  RuntimeWarning)\n",
      "/home/g/conda/lib/python3.7/site-packages/scipy/stats/_continuous_distns.py:2651: RuntimeWarning: The shape parameter of the erlang distribution has been given a non-integer value 0.56383913178752.\n",
      "  RuntimeWarning)\n",
      "/home/g/conda/lib/python3.7/site-packages/scipy/stats/_continuous_distns.py:2651: RuntimeWarning: The shape parameter of the erlang distribution has been given a non-integer value 0.563939954523115.\n",
      "  RuntimeWarning)\n",
      "/home/g/conda/lib/python3.7/site-packages/scipy/stats/_continuous_distns.py:2651: RuntimeWarning: The shape parameter of the erlang distribution has been given a non-integer value 0.5638522368809553.\n",
      "  RuntimeWarning)\n",
      "/home/g/conda/lib/python3.7/site-packages/scipy/stats/_continuous_distns.py:2651: RuntimeWarning: The shape parameter of the erlang distribution has been given a non-integer value 0.5638111299976784.\n",
      "  RuntimeWarning)\n",
      "/home/g/conda/lib/python3.7/site-packages/scipy/stats/_continuous_distns.py:2651: RuntimeWarning: The shape parameter of the erlang distribution has been given a non-integer value 0.5638867735502586.\n",
      "  RuntimeWarning)\n",
      "/home/g/conda/lib/python3.7/site-packages/scipy/stats/_continuous_distns.py:2651: RuntimeWarning: The shape parameter of the erlang distribution has been given a non-integer value 0.5639157474531027.\n",
      "  RuntimeWarning)\n",
      "/home/g/conda/lib/python3.7/site-packages/scipy/stats/_continuous_distns.py:2651: RuntimeWarning: The shape parameter of the erlang distribution has been given a non-integer value 0.5638582857039156.\n",
      "  RuntimeWarning)\n",
      "/home/g/conda/lib/python3.7/site-packages/scipy/stats/_continuous_distns.py:2651: RuntimeWarning: The shape parameter of the erlang distribution has been given a non-integer value 0.5638382223270328.\n",
      "  RuntimeWarning)\n",
      "/home/g/conda/lib/python3.7/site-packages/scipy/stats/_continuous_distns.py:2651: RuntimeWarning: The shape parameter of the erlang distribution has been given a non-integer value 0.5638795369040484.\n",
      "  RuntimeWarning)\n",
      "/home/g/conda/lib/python3.7/site-packages/scipy/stats/_continuous_distns.py:2651: RuntimeWarning: The shape parameter of the erlang distribution has been given a non-integer value 0.5638974938911931.\n",
      "  RuntimeWarning)\n",
      "/home/g/conda/lib/python3.7/site-packages/scipy/stats/_continuous_distns.py:2651: RuntimeWarning: The shape parameter of the erlang distribution has been given a non-integer value 0.5638635511335148.\n",
      "  RuntimeWarning)\n",
      "/home/g/conda/lib/python3.7/site-packages/scipy/stats/_continuous_distns.py:2651: RuntimeWarning: The shape parameter of the erlang distribution has been given a non-integer value 0.5638474756107272.\n",
      "  RuntimeWarning)\n",
      "/home/g/conda/lib/python3.7/site-packages/scipy/stats/_continuous_distns.py:2651: RuntimeWarning: The shape parameter of the erlang distribution has been given a non-integer value 0.5638769490653758.\n",
      "  RuntimeWarning)\n",
      "/home/g/conda/lib/python3.7/site-packages/scipy/stats/_continuous_distns.py:2651: RuntimeWarning: The shape parameter of the erlang distribution has been given a non-integer value array(0.56387695).\n",
      "  RuntimeWarning)\n"
     ]
    },
    {
     "name": "stdout",
     "output_type": "stream",
     "text": [
      "Fitted erlang distribution with error=0.9004743519574526)\n",
      "Fitted expon distribution with error=0.7580789352039634)\n",
      "Fitted exponnorm distribution with error=0.7580685201697166)\n",
      "Fitted exponpow distribution with error=0.7539538664100945)\n"
     ]
    },
    {
     "name": "stderr",
     "output_type": "stream",
     "text": [
      "/home/g/conda/lib/python3.7/site-packages/scipy/stats/_continuous_distns.py:1469: RuntimeWarning: invalid value encountered in add\n",
      "  negxc + sc.xlogy(c - 1.0, x))\n"
     ]
    },
    {
     "name": "stdout",
     "output_type": "stream",
     "text": [
      "Fitted exponweib distribution with error=0.9117040583072723)\n",
      "Fitted f distribution with error=0.7543848882177319)\n",
      "Fitted fatiguelife distribution with error=0.7753376844194321)\n",
      "Fitted fisk distribution with error=0.778467129910108)\n",
      "Fitted foldcauchy distribution with error=0.757924077936547)\n",
      "Fitted foldnorm distribution with error=0.8130914155969623)\n",
      "Fitted frechet_l distribution with error=2.1466416913764683)\n",
      "Fitted frechet_r distribution with error=0.78802929482801)\n",
      "Fitted gamma distribution with error=0.7521724094362768)\n",
      "Fitted gausshyper distribution with error=0.8276198251121927)\n"
     ]
    },
    {
     "name": "stderr",
     "output_type": "stream",
     "text": [
      "/home/g/conda/lib/python3.7/site-packages/scipy/stats/_continuous_distns.py:3175: RuntimeWarning: divide by zero encountered in power\n",
      "  return 1.0/Cinv * x**(a-1.0) * (1.0-x)**(b-1.0) / (1.0+z*x)**c\n"
     ]
    },
    {
     "name": "stdout",
     "output_type": "stream",
     "text": [
      "Fitted genexpon distribution with error=0.765454522888268)\n",
      "Fitted genextreme distribution with error=0.7915351578736389)\n",
      "Fitted gengamma distribution with error=0.7721391036306233)\n",
      "Fitted genhalflogistic distribution with error=0.7953108091952219)\n",
      "Fitted genlogistic distribution with error=0.8798316598476352)\n",
      "Fitted gennorm distribution with error=0.9562577328650591)\n"
     ]
    },
    {
     "name": "stderr",
     "output_type": "stream",
     "text": [
      "/home/g/conda/lib/python3.7/site-packages/scipy/stats/_continuous_distns.py:2248: RuntimeWarning: divide by zero encountered in true_divide\n",
      "  val = val + cnk * (-1) ** ki / (1.0 - c * ki)\n"
     ]
    },
    {
     "name": "stdout",
     "output_type": "stream",
     "text": [
      "Fitted genpareto distribution with error=0.7739649136897396)\n",
      "Fitted gilbrat distribution with error=0.7768966566353368)\n",
      "Fitted gompertz distribution with error=0.7676882870606342)\n",
      "Fitted gumbel_l distribution with error=1.0070829443472151)\n",
      "Fitted gumbel_r distribution with error=0.8804797274716167)\n",
      "Fitted halfcauchy distribution with error=0.755981795649219)\n",
      "Fitted halfgennorm distribution with error=0.7967603341789506)\n",
      "Fitted halflogistic distribution with error=0.7948349374983947)\n",
      "Fitted halfnorm distribution with error=0.8161096776082977)\n",
      "Fitted hypsecant distribution with error=0.9268536774069684)\n",
      "Fitted invgamma distribution with error=0.7911227272963223)\n",
      "Fitted invgauss distribution with error=0.7797764131634809)\n",
      "Fitted invweibull distribution with error=0.7915393275543918)\n",
      "Fitted johnsonsb distribution with error=0.7687267560941016)\n",
      "Fitted johnsonsu distribution with error=0.7797043696958079)\n",
      "Fitted kappa3 distribution with error=0.7772424183710336)\n",
      "Fitted kappa4 distribution with error=0.907091082862516)\n",
      "Fitted ksone distribution with error=nan)\n",
      "Fitted kstwobign distribution with error=0.8809988778218738)\n",
      "Fitted laplace distribution with error=0.9427227188075261)\n",
      "Fitted levy distribution with error=0.8253878873053739)\n",
      "Fitted levy_l distribution with error=1.1707295910953013)\n"
     ]
    },
    {
     "name": "stderr",
     "output_type": "stream",
     "text": [
      "/home/g/conda/lib/python3.7/site-packages/scipy/stats/_continuous_distns.py:79: RuntimeWarning: floating point number truncated to an integer\n",
      "  return -scu._smirnovp(n, x)\n"
     ]
    },
    {
     "name": "stdout",
     "output_type": "stream",
     "text": [
      "Fitted levy_stable distribution with error=0.9127796719776363)\n",
      "Fitted loggamma distribution with error=0.9476739975014272)\n",
      "Fitted logistic distribution with error=0.9353142982899302)\n",
      "Fitted loglaplace distribution with error=0.8983609785224554)\n",
      "Fitted lognorm distribution with error=0.7797366194914643)\n",
      "Fitted lomax distribution with error=0.7568135439575983)\n",
      "Fitted maxwell distribution with error=0.9208622984596819)\n"
     ]
    },
    {
     "name": "stderr",
     "output_type": "stream",
     "text": [
      "/home/g/conda/lib/python3.7/site-packages/scipy/stats/_continuous_distns.py:4299: RuntimeWarning: divide by zero encountered in true_divide\n",
      "  return c**2 / (c**2 - n**2)\n",
      "/home/g/conda/lib/python3.7/site-packages/scipy/stats/_distn_infrastructure.py:1618: IntegrationWarning: Extremely bad integrand behavior occurs at some points of the\n",
      "  integration interval.\n",
      "  return integrate.quad(self._mom_integ1, 0, 1, args=(m,)+args)[0]\n",
      "/home/g/conda/lib/python3.7/site-packages/scipy/stats/_distn_infrastructure.py:1618: IntegrationWarning: The integral is probably divergent, or slowly convergent.\n",
      "  return integrate.quad(self._mom_integ1, 0, 1, args=(m,)+args)[0]\n",
      "/home/g/conda/lib/python3.7/site-packages/scipy/stats/_continuous_distns.py:4578: RuntimeWarning: overflow encountered in power\n",
      "  return k*x**(k-1.0) / (1.0+x**s)**(1.0+k*1.0/s)\n",
      "/home/g/conda/lib/python3.7/site-packages/scipy/stats/_distn_infrastructure.py:1625: RuntimeWarning: divide by zero encountered in log\n",
      "  return log(self._pdf(x, *args))\n",
      "/home/g/conda/lib/python3.7/site-packages/scipy/stats/_continuous_distns.py:5014: RuntimeWarning: divide by zero encountered in power\n",
      "  return 2*nu**nu/sc.gamma(nu)*(x**(2*nu-1.0))*np.exp(-nu*x*x)\n"
     ]
    },
    {
     "name": "stdout",
     "output_type": "stream",
     "text": [
      "Fitted mielke distribution with error=0.7923637013029168)\n",
      "Fitted moyal distribution with error=0.8512331624907457)\n",
      "Fitted nakagami distribution with error=0.7596787312831463)\n",
      "Fitted ncf distribution with error=0.8041256027470239)\n",
      "Fitted nct distribution with error=0.789941301357097)\n"
     ]
    },
    {
     "name": "stderr",
     "output_type": "stream",
     "text": [
      "/home/g/conda/lib/python3.7/site-packages/scipy/stats/_continuous_distns.py:5286: RuntimeWarning: overflow encountered in multiply\n",
      "  trm1 = np.sqrt(2)*nc*x*sc.hyp1f1(n/2+1, 1.5, valF)\n"
     ]
    },
    {
     "name": "stdout",
     "output_type": "stream",
     "text": [
      "Fitted ncx2 distribution with error=0.8652713697069289)\n",
      "Fitted norm distribution with error=0.9480924657989177)\n",
      "Fitted norminvgauss distribution with error=0.7795141168056093)\n",
      "Fitted pareto distribution with error=0.8761642086398547)\n",
      "Fitted pearson3 distribution with error=0.7523590631912731)\n",
      "Fitted powerlaw distribution with error=0.7817321402516422)\n"
     ]
    },
    {
     "name": "stderr",
     "output_type": "stream",
     "text": [
      "/home/g/conda/lib/python3.7/site-packages/scipy/stats/_continuous_distns.py:5689: RuntimeWarning: divide by zero encountered in power\n",
      "  pow(_norm_cdf(-np.log(x)/s), c*1.0-1.0))\n",
      "/home/g/conda/lib/python3.7/site-packages/scipy/stats/_continuous_distns.py:5689: RuntimeWarning: invalid value encountered in multiply\n",
      "  pow(_norm_cdf(-np.log(x)/s), c*1.0-1.0))\n",
      "/home/g/conda/lib/python3.7/site-packages/scipy/stats/_continuous_distns.py:5689: RuntimeWarning: overflow encountered in power\n",
      "  pow(_norm_cdf(-np.log(x)/s), c*1.0-1.0))\n",
      "/home/g/conda/lib/python3.7/site-packages/scipy/stats/_continuous_distns.py:5726: RuntimeWarning: divide by zero encountered in power\n",
      "  return c*_norm_pdf(x) * (_norm_cdf(-x)**(c-1.0))\n",
      "/home/g/conda/lib/python3.7/site-packages/scipy/stats/_continuous_distns.py:5726: RuntimeWarning: invalid value encountered in multiply\n",
      "  return c*_norm_pdf(x) * (_norm_cdf(-x)**(c-1.0))\n",
      "/home/g/conda/lib/python3.7/site-packages/scipy/stats/_continuous_distns.py:5773: RuntimeWarning: divide by zero encountered in power\n",
      "  return np.power((1.0 - x**2), c / 2.0 - 1) / sc.beta(0.5, c / 2.0)\n"
     ]
    },
    {
     "name": "stdout",
     "output_type": "stream",
     "text": [
      "Fitted powerlognorm distribution with error=0.7832275547754222)\n",
      "Fitted powernorm distribution with error=nan)\n",
      "Fitted rayleigh distribution with error=0.9101218153493682)\n",
      "Fitted rdist distribution with error=1.0334904035626156)\n",
      "Fitted recipinvgauss distribution with error=0.7725024579665051)\n",
      "Fitted reciprocal distribution with error=1.298991695636648)\n",
      "Fitted rice distribution with error=0.9101233470801018)\n",
      "SKIPPED rv_continuous distribution (taking more than 30 seconds)\n",
      "SKIPPED rv_histogram distribution (taking more than 30 seconds)\n",
      "Fitted semicircular distribution with error=0.9865793958408592)\n",
      "Fitted skewnorm distribution with error=0.8161156217923726)\n",
      "Fitted t distribution with error=0.9480949837640171)\n",
      "Fitted trapz distribution with error=1.1973832109310898)\n",
      "Fitted triang distribution with error=0.8246262354390209)\n",
      "Fitted truncexpon distribution with error=0.8689560435836432)\n",
      "Fitted truncnorm distribution with error=1.298991695636648)\n"
     ]
    },
    {
     "name": "stderr",
     "output_type": "stream",
     "text": [
      "/home/g/conda/lib/python3.7/site-packages/scipy/stats/_continuous_distns.py:6348: RuntimeWarning: divide by zero encountered in log\n",
      "  self._logdelta = np.log(self._delta)\n",
      "/home/g/conda/lib/python3.7/site-packages/scipy/stats/_continuous_distns.py:6348: RuntimeWarning: invalid value encountered in log\n",
      "  self._logdelta = np.log(self._delta)\n",
      "/home/g/conda/lib/python3.7/site-packages/scipy/stats/_continuous_distns.py:6408: RuntimeWarning: divide by zero encountered in power\n",
      "  Px = Fx**(lam-1.0) + (np.asarray(1-Fx))**(lam-1.0)\n"
     ]
    },
    {
     "name": "stdout",
     "output_type": "stream",
     "text": [
      "Fitted tukeylambda distribution with error=0.9366334353222865)\n",
      "Fitted uniform distribution with error=0.9562577328648245)\n",
      "Fitted vonmises distribution with error=1.3833584804376924e+61)\n",
      "Fitted vonmises_line distribution with error=0.9253542704201618)\n",
      "Fitted wald distribution with error=0.7781082263191528)\n",
      "Fitted weibull_max distribution with error=2.1466416913764683)\n",
      "Fitted weibull_min distribution with error=0.78802929482801)\n",
      "Fitted wrapcauchy distribution with error=nan)\n"
     ]
    },
    {
     "name": "stderr",
     "output_type": "stream",
     "text": [
      "/home/g/conda/lib/python3.7/site-packages/scipy/optimize/optimize.py:570: RuntimeWarning: invalid value encountered in subtract\n",
      "  numpy.max(numpy.abs(fsim[0] - fsim[1:])) <= fatol):\n"
     ]
    },
    {
     "data": {
      "text/plain": [
       "{'chi': (0.6994672964288513, 2.1773799999999994, 8.624383899041122)}"
      ]
     },
     "execution_count": 1,
     "metadata": {},
     "output_type": "execute_result"
    }
   ],
   "source": [
    "from fitter import Fitter\n",
    "\n",
    "f = Fitter([2.17738,2.24315,3.71751,3.10235,2.8113,4.01342,3.78653,4.59001,6.96665,6.25576,13.1419,4.73474,3.20572,4.02131,18.2713,12.5171,9.18789,10.5905,6.82636,3.48747,2.82448,2.27214,2.50416,3.30016,4.35535,12.5365,3.44735,4.19906,4.81463,3.84762,4.35404,6.95584,9.42545,8.84464,10.9489,16,11.4,5.9,19.1836,19.2587,17.5342,7.3,11.1232,14.7207,7.84714,6.22407,12.9129,6.9,3.8])\n",
    "\n",
    "f.fit()\n",
    "\n",
    "f.get_best()"
   ]
  },
  {
   "cell_type": "markdown",
   "metadata": {},
   "source": [
    "So the distribution of the 49 uncertainty values is close to a Chi distribution (degrees of freedom [df]: 0.6994672964288513; shift [loc]: 2.17738; scale: 8.624383899041122). Then we use the same \"df\" and \"loc\" parameters from this Chi distribution, and a different \"scale\" parameter, e.g. here 2, to regenerate 49 random variates (2 mean poles own actually oval spacial uncertainties)."
   ]
  },
  {
   "cell_type": "code",
   "execution_count": 4,
   "metadata": {},
   "outputs": [
    {
     "data": {
      "text/plain": [
       "array([3.34768645, 5.74106438, 2.98062202, 2.81983593, 4.5748303 ,\n",
       "       4.45594926, 2.3146175 , 2.78750108, 2.29648684, 3.68447742,\n",
       "       2.26313146, 3.20705208, 2.18819118, 2.45410824, 4.29518793,\n",
       "       2.50129803, 3.70427124, 2.30540412, 2.25618714, 2.68798882,\n",
       "       2.87903861, 3.35817813, 3.28486568, 3.55397227, 3.77051584,\n",
       "       3.44572636, 2.41503632, 4.92909196, 5.19927303, 2.60833878,\n",
       "       3.93066969, 3.12165022, 2.93741435, 2.30992913, 2.58564085,\n",
       "       4.33245737, 2.60947676, 2.26452186, 2.17740061, 2.48414874,\n",
       "       3.60984599, 6.08072785, 2.64560573, 2.64028049, 5.05128373,\n",
       "       2.70394219, 3.02698954, 2.73149277, 2.17742105])"
      ]
     },
     "execution_count": 4,
     "metadata": {},
     "output_type": "execute_result"
    }
   ],
   "source": [
    "from scipy import stats\n",
    "\n",
    "#rvs(df, loc=0, scale=1, size=1, random_state=None)\tRandom variates.\n",
    "#To shift and/or scale the distribution use the loc and scale parameters.\n",
    "stats.chi.rvs(0.6994672964288513, loc=2.1773799999999994, scale=2, size=49)\n",
    "#every time you run this line, you get different sets of values. I got:"
   ]
  },
  {
   "cell_type": "markdown",
   "metadata": {},
   "source": [
    "Their azimuths for dm (semi-major axis) are randomly derived from -180 to 180."
   ]
  },
  {
   "cell_type": "code",
   "execution_count": 5,
   "metadata": {
    "scrolled": true
   },
   "outputs": [
    {
     "name": "stdout",
     "output_type": "stream",
     "text": [
      "-84.72106956847605\n",
      "-101.67129380485784\n",
      "-9.908942198398535\n",
      "-155.61561918364177\n",
      "-170.36597906590882\n",
      "30.63018866620851\n",
      "-78.84581679275597\n",
      "134.0124349726517\n",
      "23.266315427792307\n",
      "-158.95240647211077\n",
      "161.97308974176053\n",
      "84.34176986714999\n",
      "176.42344557623835\n",
      "20.744878806802888\n",
      "-166.806699218913\n",
      "139.64225953183643\n",
      "72.38494527694868\n",
      "22.57207231148334\n",
      "87.39496610789644\n",
      "43.16046830066307\n",
      "37.81815181449781\n",
      "-11.8669793965353\n",
      "-144.9509258977978\n",
      "151.51046216163576\n",
      "179.9324729169341\n",
      "78.6313530511473\n",
      "-95.7881310357444\n",
      "-104.39448099531899\n",
      "-158.68250793466308\n",
      "99.94164126774814\n",
      "-92.94616105506496\n",
      "-59.701741651557\n",
      "-47.95273336831514\n",
      "144.68462876734742\n",
      "4.924119906921305\n",
      "31.349376766926127\n",
      "-153.88034550770487\n",
      "11.786332659454843\n",
      "-90.21439682714195\n",
      "4.978574247163493\n",
      "37.814221660250325\n",
      "-110.02560265399627\n",
      "144.16335529334316\n",
      "-165.35684482740345\n",
      "-42.424739108462944\n",
      "36.880291808951256\n",
      "17.80332730716131\n",
      "-168.35450723995373\n",
      "112.36410106795745\n",
      "82.27700471064878\n",
      "169.81806129197668\n",
      "-88.07628120065495\n",
      "121.9648045040139\n",
      "10.103883756010305\n"
     ]
    }
   ],
   "source": [
    "import random\n",
    "\n",
    "for i in range(47):\n",
    "    print(random.uniform(-180,180))"
   ]
  },
  {
   "cell_type": "markdown",
   "metadata": {},
   "source": [
    "Then do not forget to change the \"Number of Paleopoles\" column to 0 or 1, in order to use dm/dp or A95 to generate random points for testing (see the function \"common_dir_elliptical\")."
   ]
  },
  {
   "cell_type": "markdown",
   "metadata": {},
   "source": [
    "## pair H"
   ]
  },
  {
   "cell_type": "code",
   "execution_count": 5,
   "metadata": {},
   "outputs": [
    {
     "data": {
      "text/plain": [
       "['/tmp/Laurentia_RM/210.0.txt', '/tmp/Laurentia_RM/220.0.txt']"
      ]
     },
     "execution_count": 5,
     "metadata": {},
     "output_type": "execute_result"
    }
   ],
   "source": [
    "copy_tree(\"data/Laurentia_RM\", \"/tmp/Laurentia_RM\")"
   ]
  },
  {
   "cell_type": "code",
   "execution_count": 7,
   "metadata": {},
   "outputs": [
    {
     "name": "stdout",
     "output_type": "stream",
     "text": [
      "00_no\t01_tstop\t10_spa_pol_dif\t11_spa_pol_tes\t20_ang_seg_dif\t21_ang_seg_tes\t30_len_seg_dif\t31_len_seg_tes\t22_course_seg1\t23_course_seg2\t32_len_seg1\t33_len_seg2\n",
      "0\t0.0\t1.0396087803797036\t0\tnan\tnan\tnan\tnan\tnan\tnan\tnan\tnan\n",
      "1\t10.0\t1.0488574183293418\t0\tnan\tnan\t0.000005\t0\t273.743775125\t157.610292419\t0.5238885648671224\t0.523883588268831\n",
      "2\t20.0\t1.939251148514321\t0\t84.64397175799996\t0\t0.0003675\t0\t139.00062497750002\t-136.3554032645\t4.4390170905897985\t4.438649608107905\n",
      "3\t30.0\t2.186441670519566\t0\t91.63317308890001\t0\t0.0001424\t0\t44.63274003309999\t136.265913122\t2.1924434711123775\t2.192301096824105\n",
      "4\t40.0\t2.4982177538741293\t0\t78.66120356299999\t0\t0.0000185\t0\t-76.27212559900002\t-154.933329162\t1.2697772061265127\t1.2697587232430259\n",
      "5\t50.0\t3.9097779362449967\t0\t4.176170072699989\t0\t0.0016097\t0\t48.33596726459999\t44.1597971919\t6.10989037717161\t6.108280717431453\n",
      "6\t60.0\t4.327311114762276\t1\t61.14791328780001\t0\t0.0000348\t0\t28.536529299199998\t89.684442587\t2.361571050429561\t2.361536244952255\n",
      "7\t70.0\t3.973852719130925\t0\t48.81874560900002\t0\t0.0003833\t0\t77.79573930800001\t28.97699369899999\t3.3378718721186993\t3.3374885295515395\n",
      "8\t80.0\t4.167336487859132\t0\t13.642800530100004\t0\t0.0000212\t0\t-38.121318621800015\t-24.47851809170001\t2.0597953431761193\t2.0597741065387143\n",
      "9\t90.0\t4.071779999038122\t0\t12.120052285999975\t0\t0.0000096\t0\t47.17290377799998\t35.052851492\t1.1082224940957084\t1.1082128996941318\n",
      "10\t100.0\t3.936303497223753\t0\t6.765838564999967\t0\t0.0003503\t0\t146.81618227700002\t153.582020842\t4.659741413869781\t4.65939111484222\n",
      "11\t110.0\t3.93589641455038\t0\t79.85517593930001\t0\t0.0000763\t0\t-177.5252022572\t102.6196218035\t2.3203489287224306\t2.32027264259474\n",
      "12\t120.0\t4.63267676038993\t1\t60.564221398800015\t0\t0.000462\t0\t-45.60190700940001\t14.962314389400007\t3.467295154685703\t3.4668331996986934\n",
      "13\t130.0\t4.912432193108829\t1\t1.140329022900005\t0\t0.0000253\t0\t-4.255213841\t-3.114884818099995\t1.2807640741986475\t1.280738793627883\n",
      "14\t140.0\t6.934371634470064\t0\t2.9993020569999658\t0\t0.0167484\t0\t-78.58020887699999\t-75.58090682000002\t11.289302074120934\t11.272553661217675\n",
      "15\t150.0\t7.208063539520831\t0\t3.2569656059999943\t0\t0.0002275\t0\t-53.638517672000006\t-50.38155206600001\t7.201467576568715\t7.201240117727909\n",
      "16\t160.0\t7.191343917568772\t0\t5.632668646999974\t0\t0.0000663\t0\t-25.720815862999984\t-20.08814721600001\t10.101169093188554\t10.101102757292745\n",
      "17\t170.0\t7.069940128926248\t0\t0.5855753383999911\t0\t0.0000283\t0\t-19.411659765600007\t-19.997235103999998\t6.352936247002196\t6.352907993201622\n",
      "18\t180.0\t6.416939302708428\t1\t53.90473488729998\t0\t0.0116033\t0\t-25.99648358600001\t-79.90121847329999\t13.015854150774118\t13.004250879606527\n",
      "19\t190.0\t6.546326840149822\t1\t158.4933099859\t0\t0.0002779\t0\t1.8486616394000066\t160.3419716253\t4.478440669961387\t4.478162793362365\n",
      "20\t200.0\t6.934815226415408\t1\t83.40554618000007\t0\t0.0000575\t0\t50.02749045300004\t-33.37805572700003\t1.8745196983539187\t1.874462171452975\n",
      "21\t210.0\t7.812879680882523\t1\t6.333180333499968\t0\t0.0015563\t0\t68.47705286799999\t62.14387253450002\t4.977812347225005\t4.976256000750038\n",
      "22\t220.0\t8.664173868549016\t1\t164.9775928938\t1\t0.0015108\t0\t15.5948197978\t-149.382773096\t5.88307265695577\t5.881561865338046\n",
      "23\t230.0\t9.478085870369634\t1\t96.66948924206\t1\t0.000309\t0\t13.741065826099998\t110.41055506816\t6.9225762482200865\t6.922267217192892\n",
      "24\t240.0\t9.86751867894248\t1\t29.05105822439998\t0\t0.0005016\t0\t4.87072367830001\t33.92178190269999\t3.379951013227869\t3.3794494339511134\n",
      "25\t250.0\t9.748118506438677\t1\t123.54864354259996\t0\t0.0000017\t0\t88.89337637399998\t-34.65526716859998\t0.78981451610909\t0.7898128591880135\n",
      "26\t260.0\t9.362428628372918\t1\t147.179804996\t0\t0.0022237\t0\t-30.153140543999996\t117.026664452\t6.219671168925068\t6.217447493693485\n",
      "27\t270.0\t9.569856639214565\t1\t93.0696832218\t0\t0.0000234\t0\t-84.17042839179999\t8.899254830000018\t1.1034783028377004\t1.1034548980580674\n",
      "28\t280.0\t10.41109503241534\t1\t3.0107895235240107\t0\t0.0000607\t0\t-19.33131677587602\t-22.34210629940003\t4.285368490939332\t4.285307820252384\n",
      "29\t290.0\t11.20155866600332\t1\t24.70504732089998\t0\t0.0011057\t0\t-13.720499141000005\t-38.425546461899984\t4.447475769976013\t4.446370115451748\n",
      "30\t300.0\t11.32042950950615\t1\t111.25556967749998\t0\t0.0000043\t0\t24.271534332499982\t-86.984035345\t0.6993831008652412\t0.6993787532286075\n",
      "31\t310.0\t12.283299255618616\t1\t23.775499612000004\t0\t0.0019402\t0\t-11.902419561000016\t11.873080050999988\t5.996101549380524\t5.994161387824389\n",
      "32\t320.0\t13.544346244055259\t1\t60.256263249900016\t0\t0.0092293\t0\t-2.578307617000007\t57.67795563290001\t9.587714297567688\t9.578484994872055\n",
      "33\t330.0\t13.913886243920436\t1\t113.43906078909998\t0\t0.0011316\t0\t40.30036702209998\t-73.138693767\t4.414819351177746\t4.413687764952212\n",
      "34\t340.0\t14.062721875792274\t1\t83.53352159929999\t0\t0.0003626\t0\t38.101839361900005\t121.63536096119999\t5.513897643095102\t5.513535037753971\n",
      "35\t350.0\t13.927196419682884\t1\t3.9218626759999893\t0\t0.0001396\t0\t156.50310109\t160.424963766\t2.197405681557667\t2.197266084385969\n",
      "36\t360.0\t13.790872800223855\t1\t98.37354224710002\t0\t0.0001347\t1\t-2.042890366699993\t-100.41643261380001\t2.091749545338791\t2.0916148431719517\n",
      "37\t370.0\t13.4590714311215\t1\t49.881147373299996\t0\t0.0000262\t0\t1.38419494339999\t-48.496952429900006\t4.38885070637181\t4.388824503933599\n",
      "38\t380.0\t14.223973823825723\t1\t159.37127813400002\t1\t0.0043768\t0\t96.74982654299998\t-103.878895323\t9.184002449029933\t9.179625679912657\n",
      "39\t390.0\t14.733043244107687\t1\t6.9369244769999625\t0\t0.0059146\t1\t0.4868223429999716\t-6.450102133999991\t9.231863519115207\t9.225948894371125\n",
      "40\t400.0\t14.94990115852101\t1\t4.172119426000052\t0\t0.0065149\t0\t-0.07356488999997168\t-4.245684316000023\t9.139239818217327\t9.13272493131582\n",
      "41\t410.0\t14.768134327134646\t1\t109.10085206810001\t0\t0.00873\t0\t-178.09863362299998\t72.8005143089\t8.799845232370853\t8.791115212345774\n",
      "42\t420.0\t14.477897017557584\t1\t80.01453627999999\t0\t0.0060368\t0\t-22.570469969999976\t-102.58500624999996\t8.27457092575121\t8.268534083196132\n",
      "43\t430.0\t14.197183252982548\t1\t174.212234227\t0\t0.0104625\t0\t-21.847469229000012\t163.94029654399998\t13.531329200399284\t13.520866679314853\n",
      "44\t440.0\t13.830687946691194\t1\t69.91032650500006\t0\t0.0002286\t0\t5.649061976999974\t75.55938848200003\t13.033921559811475\t13.033692987837506\n",
      "45\t450.0\t14.102892985643274\t1\t78.13226939825\t0\t0.0002777\t0\t-77.9182293083\t-156.05049870655\t3.208796915968075\t3.2085191689641714\n",
      "46\t460.0\t14.332616202770911\t1\t0.16384466150000776\t0\t0.0002531\t1\t-0.026916685200006896\t-0.19076134670001466\t3.0946389627525246\t3.0943858615668844\n",
      "47\t470.0\t14.545412573023675\t1\t151.6346378221\t0\t0.000033\t0\t-0.9400560121000012\t150.69458181\t3.147960371729507\t3.1479273573125424\n",
      "48\t480.0\t14.63830712498241\t1\t152.2145811267\t0\t0.0006308\t0\t49.62918563440002\t-102.5853954923\t5.3407706758150555\t5.340139916522897\n",
      "49\t490.0\t14.906622823523016\t1\t0.8256133618000092\t0\t0.0093447\t0\t-25.65192385710003\t-24.82631049530002\t9.023925554078616\t9.014580813037199\n",
      "50\t500.0\t14.98311846214807\t1\t0.14884618509998404\t0\t0.0005898\t0\t-19.60210471299999\t-19.453258527900005\t4.1565942079477285\t4.156004361321864\n",
      "51\t510.0\t14.998702749170107\t1\t0.0556031\t0\t0.0001854\t0\t-2.4043910364999874\t-2.3487879809999868\t2.8855183078347197\t2.885332954131261\n",
      "52\t520.0\t14.902991790983197\t1\t0.34878011239999296\t0\t0.0167341\t0\t31.739825273400015\t32.08860538580001\t11.411978446962493\t11.395244352096878\n",
      "53\t530.0\t14.63066321026624\t1\t0.457687984200021\t0\t0.0165151\t0\t0.277497198399999\t0.73518518260002\t11.457878417709328\t11.441363308915802\n"
     ]
    },
    {
     "data": {
      "text/plain": [
       "array([( 0,   0.,  1.03960878, 0,            nan, nan,         nan, nan,             nan,           nan,         nan,         nan),\n",
       "       ( 1,  10.,  1.04885742, 0,            nan, nan, 5.00000e-06,  0.,  2.73743775e+02,  157.61029242,  0.52388856,  0.52388359),\n",
       "       ( 2,  20.,  1.93925115, 0, 8.46439718e+01,  0., 3.67500e-04,  0.,  1.39000625e+02, -136.35540326,  4.43901709,  4.43864961),\n",
       "       ( 3,  30.,  2.18644167, 0, 9.16331731e+01,  0., 1.42400e-04,  0.,  4.46327400e+01,  136.26591312,  2.19244347,  2.1923011 ),\n",
       "       ( 4,  40.,  2.49821775, 0, 7.86612036e+01,  0., 1.85000e-05,  0., -7.62721256e+01, -154.93332916,  1.26977721,  1.26975872),\n",
       "       ( 5,  50.,  3.90977794, 0, 4.17617007e+00,  0., 1.60970e-03,  0.,  4.83359673e+01,   44.15979719,  6.10989038,  6.10828072),\n",
       "       ( 6,  60.,  4.32731111, 1, 6.11479133e+01,  0., 3.48000e-05,  0.,  2.85365293e+01,   89.68444259,  2.36157105,  2.36153624),\n",
       "       ( 7,  70.,  3.97385272, 0, 4.88187456e+01,  0., 3.83300e-04,  0.,  7.77957393e+01,   28.9769937 ,  3.33787187,  3.33748853),\n",
       "       ( 8,  80.,  4.16733649, 0, 1.36428005e+01,  0., 2.12000e-05,  0., -3.81213186e+01,  -24.47851809,  2.05979534,  2.05977411),\n",
       "       ( 9,  90.,  4.07178   , 0, 1.21200523e+01,  0., 9.60000e-06,  0.,  4.71729038e+01,   35.05285149,  1.10822249,  1.1082129 ),\n",
       "       (10, 100.,  3.9363035 , 0, 6.76583856e+00,  0., 3.50300e-04,  0.,  1.46816182e+02,  153.58202084,  4.65974141,  4.65939111),\n",
       "       (11, 110.,  3.93589641, 0, 7.98551759e+01,  0., 7.63000e-05,  0., -1.77525202e+02,  102.6196218 ,  2.32034893,  2.32027264),\n",
       "       (12, 120.,  4.63267676, 1, 6.05642214e+01,  0., 4.62000e-04,  0., -4.56019070e+01,   14.96231439,  3.46729515,  3.4668332 ),\n",
       "       (13, 130.,  4.91243219, 1, 1.14032902e+00,  0., 2.53000e-05,  0., -4.25521384e+00,   -3.11488482,  1.28076407,  1.28073879),\n",
       "       (14, 140.,  6.93437163, 0, 2.99930206e+00,  0., 1.67484e-02,  0., -7.85802089e+01,  -75.58090682, 11.28930207, 11.27255366),\n",
       "       (15, 150.,  7.20806354, 0, 3.25696561e+00,  0., 2.27500e-04,  0., -5.36385177e+01,  -50.38155207,  7.20146758,  7.20124012),\n",
       "       (16, 160.,  7.19134392, 0, 5.63266865e+00,  0., 6.63000e-05,  0., -2.57208159e+01,  -20.08814722, 10.10116909, 10.10110276),\n",
       "       (17, 170.,  7.06994013, 0, 5.85575338e-01,  0., 2.83000e-05,  0., -1.94116598e+01,  -19.9972351 ,  6.35293625,  6.35290799),\n",
       "       (18, 180.,  6.4169393 , 1, 5.39047349e+01,  0., 1.16033e-02,  0., -2.59964836e+01,  -79.90121847, 13.01585415, 13.00425088),\n",
       "       (19, 190.,  6.54632684, 1, 1.58493310e+02,  0., 2.77900e-04,  0.,  1.84866164e+00,  160.34197163,  4.47844067,  4.47816279),\n",
       "       (20, 200.,  6.93481523, 1, 8.34055462e+01,  0., 5.75000e-05,  0.,  5.00274905e+01,  -33.37805573,  1.8745197 ,  1.87446217),\n",
       "       (21, 210.,  7.81287968, 1, 6.33318033e+00,  0., 1.55630e-03,  0.,  6.84770529e+01,   62.14387253,  4.97781235,  4.976256  ),\n",
       "       (22, 220.,  8.66417387, 1, 1.64977593e+02,  1., 1.51080e-03,  0.,  1.55948198e+01, -149.3827731 ,  5.88307266,  5.88156187),\n",
       "       (23, 230.,  9.47808587, 1, 9.66694892e+01,  1., 3.09000e-04,  0.,  1.37410658e+01,  110.41055507,  6.92257625,  6.92226722),\n",
       "       (24, 240.,  9.86751868, 1, 2.90510582e+01,  0., 5.01600e-04,  0.,  4.87072368e+00,   33.9217819 ,  3.37995101,  3.37944943),\n",
       "       (25, 250.,  9.74811851, 1, 1.23548644e+02,  0., 1.70000e-06,  0.,  8.88933764e+01,  -34.65526717,  0.78981452,  0.78981286),\n",
       "       (26, 260.,  9.36242863, 1, 1.47179805e+02,  0., 2.22370e-03,  0., -3.01531405e+01,  117.02666445,  6.21967117,  6.21744749),\n",
       "       (27, 270.,  9.56985664, 1, 9.30696832e+01,  0., 2.34000e-05,  0., -8.41704284e+01,    8.89925483,  1.1034783 ,  1.1034549 ),\n",
       "       (28, 280., 10.41109503, 1, 3.01078952e+00,  0., 6.07000e-05,  0., -1.93313168e+01,  -22.3421063 ,  4.28536849,  4.28530782),\n",
       "       (29, 290., 11.20155867, 1, 2.47050473e+01,  0., 1.10570e-03,  0., -1.37204991e+01,  -38.42554646,  4.44747577,  4.44637012),\n",
       "       (30, 300., 11.32042951, 1, 1.11255570e+02,  0., 4.30000e-06,  0.,  2.42715343e+01,  -86.98403534,  0.6993831 ,  0.69937875),\n",
       "       (31, 310., 12.28329926, 1, 2.37754996e+01,  0., 1.94020e-03,  0., -1.19024196e+01,   11.87308005,  5.99610155,  5.99416139),\n",
       "       (32, 320., 13.54434624, 1, 6.02562632e+01,  0., 9.22930e-03,  0., -2.57830762e+00,   57.67795563,  9.5877143 ,  9.57848499),\n",
       "       (33, 330., 13.91388624, 1, 1.13439061e+02,  0., 1.13160e-03,  0.,  4.03003670e+01,  -73.13869377,  4.41481935,  4.41368776),\n",
       "       (34, 340., 14.06272188, 1, 8.35335216e+01,  0., 3.62600e-04,  0.,  3.81018394e+01,  121.63536096,  5.51389764,  5.51353504),\n",
       "       (35, 350., 13.92719642, 1, 3.92186268e+00,  0., 1.39600e-04,  0.,  1.56503101e+02,  160.42496377,  2.19740568,  2.19726608),\n",
       "       (36, 360., 13.7908728 , 1, 9.83735422e+01,  0., 1.34700e-04,  1., -2.04289037e+00, -100.41643261,  2.09174955,  2.09161484),\n",
       "       (37, 370., 13.45907143, 1, 4.98811474e+01,  0., 2.62000e-05,  0.,  1.38419494e+00,  -48.49695243,  4.38885071,  4.3888245 ),\n",
       "       (38, 380., 14.22397382, 1, 1.59371278e+02,  1., 4.37680e-03,  0.,  9.67498265e+01, -103.87889532,  9.18400245,  9.17962568),\n",
       "       (39, 390., 14.73304324, 1, 6.93692448e+00,  0., 5.91460e-03,  1.,  4.86822343e-01,   -6.45010213,  9.23186352,  9.22594889),\n",
       "       (40, 400., 14.94990116, 1, 4.17211943e+00,  0., 6.51490e-03,  0., -7.35648900e-02,   -4.24568432,  9.13923982,  9.13272493),\n",
       "       (41, 410., 14.76813433, 1, 1.09100852e+02,  0., 8.73000e-03,  0., -1.78098634e+02,   72.80051431,  8.79984523,  8.79111521),\n",
       "       (42, 420., 14.47789702, 1, 8.00145363e+01,  0., 6.03680e-03,  0., -2.25704700e+01, -102.58500625,  8.27457093,  8.26853408),\n",
       "       (43, 430., 14.19718325, 1, 1.74212234e+02,  0., 1.04625e-02,  0., -2.18474692e+01,  163.94029654, 13.5313292 , 13.52086668),\n",
       "       (44, 440., 13.83068795, 1, 6.99103265e+01,  0., 2.28600e-04,  0.,  5.64906198e+00,   75.55938848, 13.03392156, 13.03369299),\n",
       "       (45, 450., 14.10289299, 1, 7.81322694e+01,  0., 2.77700e-04,  0., -7.79182293e+01, -156.05049871,  3.20879692,  3.20851917),\n",
       "       (46, 460., 14.3326162 , 1, 1.63844662e-01,  0., 2.53100e-04,  1., -2.69166852e-02,   -0.19076135,  3.09463896,  3.09438586),\n",
       "       (47, 470., 14.54541257, 1, 1.51634638e+02,  0., 3.30000e-05,  0., -9.40056012e-01,  150.69458181,  3.14796037,  3.14792736),\n",
       "       (48, 480., 14.63830712, 1, 1.52214581e+02,  0., 6.30800e-04,  0.,  4.96291856e+01, -102.58539549,  5.34077068,  5.34013992),\n",
       "       (49, 490., 14.90662282, 1, 8.25613362e-01,  0., 9.34470e-03,  0., -2.56519239e+01,  -24.8263105 ,  9.02392555,  9.01458081),\n",
       "       (50, 500., 14.98311846, 1, 1.48846185e-01,  0., 5.89800e-04,  0., -1.96021047e+01,  -19.45325853,  4.15659421,  4.15600436),\n",
       "       (51, 510., 14.99870275, 1, 5.56031000e-02,  0., 1.85400e-04,  0., -2.40439104e+00,   -2.34878798,  2.88551831,  2.88533295),\n",
       "       (52, 520., 14.90299179, 1, 3.48780112e-01,  0., 1.67341e-02,  0.,  3.17398253e+01,   32.08860539, 11.41197845, 11.39524435),\n",
       "       (53, 530., 14.63066321, 1, 4.57687984e-01,  0., 1.65151e-02,  0.,  2.77497198e-01,    0.73518518, 11.45787842, 11.44136331)],\n",
       "      dtype=[('00_no', '<i2'), ('01_tstop', '<f2'), ('10_spa_pol_dif', '<f8'), ('11_spa_pol_tes', 'i1'), ('20_ang_seg_dif', '<f8'), ('21_ang_seg_tes', '<f4'), ('30_len_seg_dif', '<f8'), ('31_len_seg_tes', '<f4'), ('22_course_seg1', '<f8'), ('23_course_seg2', '<f8'), ('32_len_seg1', '<f8'), ('33_len_seg2', '<f8')])"
      ]
     },
     "execution_count": 7,
     "metadata": {},
     "output_type": "execute_result"
    }
   ],
   "source": [
    "## calculate pair H's difference scores in terms of space (coeval poles), angle and\n",
    "## length (coeval segments)\n",
    "cmp.spa_angpre_len_dif('data/Laurentia_RM.txt',\n",
    "                       'data/rot_version/Laurentia_RM_po_15deg_re.txt',\n",
    "                       pnh1=1,pnh2=0)\n",
    "# the results should be the same as stored in\n",
    "# data/0.result_tables/pairH_LaurentiaRM_LaurentiaRMpo15degRe.txt"
   ]
  },
  {
   "cell_type": "code",
   "execution_count": 10,
   "metadata": {},
   "outputs": [
    {
     "name": "stdout",
     "output_type": "stream",
     "text": [
      "ds\tda\tdl\tno\tt0\tt1\n",
      "0.0601795\t0.247907\t1.09056e-05\t0\t0\t100\t0.102699\n",
      "0.119489\t0.228384\t0.000109612\t1\t100\t200\t0.115994\n",
      "0.189765\t0.489795\t2.70471e-05\t2\t200\t300\t0.226529\n",
      "0.273107\t0.357954\t0.000110344\t3\t300\t400\t0.21039\n",
      "0.291807\t0.327833\t0.000199642\t4\t400\t530\t0.206613\n",
      "0.192786\t0.328219\t9.76309e-05\t5\t0\t530\t0.173701\n"
     ]
    }
   ],
   "source": [
    "## reproduce results for pair H in Figures 6a, 6c, 6e using the output above\n",
    "## from the function cmp.spa_angpre_len_dif\n",
    "pairH=cmp.ppf3('data/0.result_tables/pairH_LaurentiaRM_LaurentiaRMpo15degRe.txt')\n",
    "#pairH_.txt without test\n",
    "print('ds\\tda\\tdl\\tno\\tt0\\tt1')\n",
    "cmp.calc_nt(pairH,'0',0,100)\n",
    "cmp.calc_nt(pairH,'1',100,200)\n",
    "cmp.calc_nt(pairH,'2',200,300)\n",
    "cmp.calc_nt(pairH,'3',300,400)\n",
    "cmp.calc_nt(pairH,'4',400,530)\n",
    "cmp.calc_nt(pairH,'5',0,530)"
   ]
  },
  {
   "cell_type": "code",
   "execution_count": 11,
   "metadata": {},
   "outputs": [
    {
     "name": "stdout",
     "output_type": "stream",
     "text": [
      "ds\tda\tdl\tno\tt0\tt1\n",
      "0.00786784\t0\t0\t0\t0\t100\t0.00262261\n",
      "0.0535331\t0\t0\t1\t100\t200\t0.0178444\n",
      "0.189765\t0.161511\t0\t2\t200\t300\t0.117092\n",
      "0.273107\t0.0983773\t2.24217e-05\t3\t300\t400\t0.123836\n",
      "0.291807\t0\t7.21627e-07\t4\t400\t530\t0.0972694\n",
      "0.170152\t0.0449806\t4.40752e-06\t5\t0\t530\t0.0717123\n"
     ]
    }
   ],
   "source": [
    "## reproduce results for pair H in Figures 6b, 6d, 6f using the same output above\n",
    "## from the function cmp.spa_angpre_len_dif\n",
    "#pairH.txt with test\n",
    "print('ds\\tda\\tdl\\tno\\tt0\\tt1')\n",
    "cmp.calc(pairH,'0',0,100)\n",
    "cmp.calc(pairH,'1',100,200)\n",
    "cmp.calc(pairH,'2',200,300)\n",
    "cmp.calc(pairH,'3',300,400)\n",
    "cmp.calc(pairH,'4',400,530)\n",
    "cmp.calc(pairH,'5',0,530)"
   ]
  },
  {
   "cell_type": "markdown",
   "metadata": {},
   "source": [
    "# The Above Procedure Applied on APWPs Without Interpolations\n",
    "\n",
    "## pair A without interpolations"
   ]
  },
  {
   "cell_type": "code",
   "execution_count": 2,
   "metadata": {
    "scrolled": true
   },
   "outputs": [
    {
     "name": "stdout",
     "output_type": "stream",
     "text": [
      "00_no\t01_tstop\t10_spa_pol_dif\t11_spa_pol_tes\t20_ang_seg_dif\t21_ang_seg_tes\t30_len_seg_dif\t31_len_seg_tes\t22_course_seg1\t23_course_seg2\t32_len_seg1\t33_len_seg2\n",
      "0\t0.0\t0.06950468110321331\t0\tnan\tnan\tnan\tnan\tnan\tnan\tnan\tnan\n",
      "1\t10.0\t0.07012239182561895\t0\tnan\tnan\t0.\t0\t273.743775125\t273.149982677\t0.5238885648671224\t0.5238885648601654\n",
      "2\t20.0\t0.12965232767905435\t0\t0.\t0\t0.\t0\t139.00062497750002\t139.0006249778\t4.4390170905897985\t4.439017090586511\n",
      "3\t30.0\t0.14617923464677537\t0\t0.\t0\t0.\t0\t44.63274003309999\t44.63274003229998\t2.1924434711123775\t2.1924434710977447\n",
      "4\t40.0\t0.16702373999377892\t0\t0.\t0\t0.\t0\t-76.27212559900002\t-76.272125598\t1.2697772061265127\t1.2697772061747379\n",
      "5\t50.0\t0.2613763607482359\t0\t0.\t0\t0.\t0\t48.33596726459999\t48.33596726339999\t6.10989037717161\t6.109890377109275\n",
      "6\t60.0\t0.28930393757442735\t0\t0.\t0\t0.\t0\t28.536529299199998\t28.53652929750001\t2.361571050429561\t2.3615710504797334\n",
      "7\t70.0\t0.265656369681836\t0\t0.\t0\t0.\t0\t77.79573930800001\t77.79573931\t3.3378718721186993\t3.337871872130717\n",
      "8\t80.0\t0.27857032946795574\t0\t0.\t0\t0.\t0\t-38.121318621800015\t-38.121318622800004\t2.0597953431761193\t2.0597953432049674\n",
      "9\t90.0\t0.2721780392094102\t0\t0.\t0\t0.\t0\t47.17290377799998\t47.17290378199999\t1.1082224940957084\t1.1082224941029442\n",
      "10\t100.0\t0.26315478256342995\t0\t0.\t0\t0.\t0\t146.81618227700002\t146.81618227500002\t4.659741413869781\t4.659741413864926\n",
      "11\t110.0\t0.2631240730130401\t0\t0.\t0\t0.\t0\t-177.5252022572\t-177.52520225720002\t2.3203489287224306\t2.320348928731386\n",
      "12\t120.0\t0.30968609822236937\t0\t0.\t0\t0.\t0\t-45.60190700940001\t-45.60190701009998\t3.467295154685703\t3.467295154714101\n",
      "13\t130.0\t0.328377025917449\t0\t0.\t0\t0.\t0\t-4.255213841\t-4.255213838200007\t1.2807640741986475\t1.2807640741679118\n",
      "14\t140.0\t0.46339994651368427\t0\t0.\t0\t0.\t0\t-78.58020887699999\t-78.58020887800001\t11.289302074120934\t11.289302074166685\n",
      "15\t150.0\t0.4816224018951007\t0\t0.\t0\t0.\t0\t-53.638517672000006\t-53.638517672999996\t7.201467576568715\t7.201467576593072\n",
      "16\t160.0\t0.4804955712392002\t0\t0.\t0\t0.\t0\t-25.720815862999984\t-25.720815862999984\t10.101169093188554\t10.101169093157218\n",
      "17\t170.0\t0.4724626555276975\t0\t0.\t0\t0.\t0\t-19.411659765600007\t-19.41165976580004\t6.352936247002196\t6.352936247001966\n",
      "18\t180.0\t0.4287963043709061\t0\t0.\t0\t0.\t0\t-25.99648358600001\t-25.996483585500016\t13.015854150774118\t13.015854150783808\n",
      "19\t190.0\t0.43761759157517444\t0\t0.\t0\t0.\t0\t1.8486616394000066\t1.8486616401000333\t4.478440669961387\t4.47844066996489\n",
      "20\t200.0\t0.46356730968731225\t0\t0.\t0\t0.\t0\t50.02749045300004\t50.027490450000016\t1.8745196983539187\t1.8745196983140533\n",
      "21\t210.0\t0.5221880358442481\t0\t0.\t0\t0.\t0\t68.47705286799999\t68.47705286909999\t4.977812347225005\t4.977812347286952\n",
      "22\t220.0\t0.5788741088153061\t0\t0.\t0\t0.\t0\t15.5948197978\t15.594819798200007\t5.88307265695577\t5.883072656937153\n",
      "23\t230.0\t0.6336509230471541\t0\t0.\t0\t0.\t0\t13.741065826099998\t13.741065825899994\t6.9225762482200865\t6.922576248214809\n",
      "24\t240.0\t0.6595750318124541\t0\t0.\t0\t0.\t0\t4.87072367830001\t4.870723678099978\t3.379951013227869\t3.379951013222366\n",
      "25\t250.0\t0.6513912606057644\t0\t0.\t0\t0.\t0\t88.89337637399998\t88.89337637\t0.78981451610909\t0.7898145161040139\n",
      "26\t260.0\t0.6257626347007832\t0\t0.\t0\t0.\t0\t-30.153140543999996\t-30.153140541000027\t6.219671168925068\t6.219671168918609\n",
      "27\t270.0\t0.639789846035398\t0\t0.\t0\t0.\t0\t-84.17042839179999\t-84.1704283921\t1.1034783028377004\t1.1034783028482702\n",
      "28\t280.0\t0.6954296567181941\t0\t0.\t0\t0.\t0\t-19.33131677587602\t-19.33131677654302\t4.285368490939332\t4.285368490881701\n",
      "29\t290.0\t0.7477464465757981\t0\t0.\t0\t0.\t0\t-13.720499141000005\t-13.720499139999987\t4.447475769976013\t4.447475770052548\n",
      "30\t300.0\t0.755629222133476\t0\t0.\t0\t0.\t0\t24.271534332499982\t24.27153433250001\t0.6993831008652412\t0.699383100844917\n",
      "31\t310.0\t0.8199165854265309\t0\t0.\t0\t0.\t0\t-11.902419561000016\t-11.902419562000006\t5.996101549380524\t5.996101549391728\n",
      "32\t320.0\t0.9037373980461205\t0\t0.\t0\t0.\t0\t-2.578307617000007\t-2.578307616000018\t9.587714297567688\t9.587714297573607\n",
      "33\t330.0\t0.9283097929733221\t0\t0.\t0\t0.\t0\t40.30036702209998\t40.300367021800014\t4.414819351177746\t4.414819351162788\n",
      "34\t340.0\t0.9380411617826456\t0\t0.\t0\t0.\t0\t38.101839361900005\t38.101839361900005\t5.513897643095102\t5.513897643116485\n",
      "35\t370.0\t0.89962515680127\t0\t0.\t0\t0.\t0\t155.676977057\t155.676977057\t8.677286890892569\t8.6772868909099\n",
      "36\t400.0\t0.9994627988900867\t0\t0.\t0\t0.\t0\t97.22320627260001\t97.22320627269994\t27.55491002510257\t27.554910025106444\n",
      "37\t410.0\t0.9855053154384608\t0\t0.\t0\t0.\t0\t-177.980909495\t-177.980909496\t8.799845232370853\t8.799845232373597\n",
      "38\t420.0\t0.9654164395471175\t0\t0.\t0\t0.\t0\t-22.570469969999976\t-22.570469970000033\t8.27457092575121\t8.274570925720138\n",
      "39\t430.0\t0.9467643410856256\t0\t0.\t0\t0.\t0\t-21.847469229000012\t-21.847469228000023\t13.531329200399284\t13.531329200427152\n",
      "40\t440.0\t0.9232481244644023\t0\t0.\t0\t0.\t0\t5.649061976999974\t5.6490619759999845\t13.033921559811475\t13.033921559782256\n",
      "41\t470.0\t0.9700011991344776\t0\t0.\t0\t0.\t0\t-78.25041901409998\t-78.25041901449998\t9.451104599930273\t9.451104600005623\n",
      "42\t480.0\t0.9761525083482451\t0\t0.\t0\t0.\t0\t48.991471442399984\t48.99147144199998\t5.3407706758150555\t5.340770675768858\n",
      "43\t490.0\t0.9939144594204117\t0\t0.\t0\t0.\t0\t-25.65192385710003\t-25.651923857300005\t9.023925554078616\t9.023925554114426\n",
      "44\t500.0\t0.9989718826409759\t0\t0.\t0\t0.\t0\t-19.60210471299999\t-19.602104713100005\t4.1565942079477285\t4.1565942079351785\n",
      "45\t510.0\t0.9999997416370271\t0\t0.\t0\t0.\t0\t-2.4043910364999874\t-2.4043910361999963\t2.8855183078347197\t2.885518307828149\n",
      "46\t530.0\t0.9755793783251804\t0\t0.\t0\t0.\t0\t31.88166404240002\t31.881664042500006\t22.86978890305212\t22.869788903062137\n"
     ]
    },
    {
     "data": {
      "text/plain": [
       "array([( 0,   0., 0.06950468, 0, nan, nan, nan, nan,           nan,           nan,         nan,         nan),\n",
       "       ( 1,  10., 0.07012239, 0, nan, nan,  0.,  0.,  273.74377513,  273.14998268,  0.52388856,  0.52388856),\n",
       "       ( 2,  20., 0.12965233, 0,  0.,  0.,  0.,  0.,  139.00062498,  139.00062498,  4.43901709,  4.43901709),\n",
       "       ( 3,  30., 0.14617923, 0,  0.,  0.,  0.,  0.,   44.63274003,   44.63274003,  2.19244347,  2.19244347),\n",
       "       ( 4,  40., 0.16702374, 0,  0.,  0.,  0.,  0.,  -76.2721256 ,  -76.2721256 ,  1.26977721,  1.26977721),\n",
       "       ( 5,  50., 0.26137636, 0,  0.,  0.,  0.,  0.,   48.33596726,   48.33596726,  6.10989038,  6.10989038),\n",
       "       ( 6,  60., 0.28930394, 0,  0.,  0.,  0.,  0.,   28.5365293 ,   28.5365293 ,  2.36157105,  2.36157105),\n",
       "       ( 7,  70., 0.26565637, 0,  0.,  0.,  0.,  0.,   77.79573931,   77.79573931,  3.33787187,  3.33787187),\n",
       "       ( 8,  80., 0.27857033, 0,  0.,  0.,  0.,  0.,  -38.12131862,  -38.12131862,  2.05979534,  2.05979534),\n",
       "       ( 9,  90., 0.27217804, 0,  0.,  0.,  0.,  0.,   47.17290378,   47.17290378,  1.10822249,  1.10822249),\n",
       "       (10, 100., 0.26315478, 0,  0.,  0.,  0.,  0.,  146.81618228,  146.81618228,  4.65974141,  4.65974141),\n",
       "       (11, 110., 0.26312407, 0,  0.,  0.,  0.,  0., -177.52520226, -177.52520226,  2.32034893,  2.32034893),\n",
       "       (12, 120., 0.3096861 , 0,  0.,  0.,  0.,  0.,  -45.60190701,  -45.60190701,  3.46729515,  3.46729515),\n",
       "       (13, 130., 0.32837703, 0,  0.,  0.,  0.,  0.,   -4.25521384,   -4.25521384,  1.28076407,  1.28076407),\n",
       "       (14, 140., 0.46339995, 0,  0.,  0.,  0.,  0.,  -78.58020888,  -78.58020888, 11.28930207, 11.28930207),\n",
       "       (15, 150., 0.4816224 , 0,  0.,  0.,  0.,  0.,  -53.63851767,  -53.63851767,  7.20146758,  7.20146758),\n",
       "       (16, 160., 0.48049557, 0,  0.,  0.,  0.,  0.,  -25.72081586,  -25.72081586, 10.10116909, 10.10116909),\n",
       "       (17, 170., 0.47246266, 0,  0.,  0.,  0.,  0.,  -19.41165977,  -19.41165977,  6.35293625,  6.35293625),\n",
       "       (18, 180., 0.4287963 , 0,  0.,  0.,  0.,  0.,  -25.99648359,  -25.99648359, 13.01585415, 13.01585415),\n",
       "       (19, 190., 0.43761759, 0,  0.,  0.,  0.,  0.,    1.84866164,    1.84866164,  4.47844067,  4.47844067),\n",
       "       (20, 200., 0.46356731, 0,  0.,  0.,  0.,  0.,   50.02749045,   50.02749045,  1.8745197 ,  1.8745197 ),\n",
       "       (21, 210., 0.52218804, 0,  0.,  0.,  0.,  0.,   68.47705287,   68.47705287,  4.97781235,  4.97781235),\n",
       "       (22, 220., 0.57887411, 0,  0.,  0.,  0.,  0.,   15.5948198 ,   15.5948198 ,  5.88307266,  5.88307266),\n",
       "       (23, 230., 0.63365092, 0,  0.,  0.,  0.,  0.,   13.74106583,   13.74106583,  6.92257625,  6.92257625),\n",
       "       (24, 240., 0.65957503, 0,  0.,  0.,  0.,  0.,    4.87072368,    4.87072368,  3.37995101,  3.37995101),\n",
       "       (25, 250., 0.65139126, 0,  0.,  0.,  0.,  0.,   88.89337637,   88.89337637,  0.78981452,  0.78981452),\n",
       "       (26, 260., 0.62576263, 0,  0.,  0.,  0.,  0.,  -30.15314054,  -30.15314054,  6.21967117,  6.21967117),\n",
       "       (27, 270., 0.63978985, 0,  0.,  0.,  0.,  0.,  -84.17042839,  -84.17042839,  1.1034783 ,  1.1034783 ),\n",
       "       (28, 280., 0.69542966, 0,  0.,  0.,  0.,  0.,  -19.33131678,  -19.33131678,  4.28536849,  4.28536849),\n",
       "       (29, 290., 0.74774645, 0,  0.,  0.,  0.,  0.,  -13.72049914,  -13.72049914,  4.44747577,  4.44747577),\n",
       "       (30, 300., 0.75562922, 0,  0.,  0.,  0.,  0.,   24.27153433,   24.27153433,  0.6993831 ,  0.6993831 ),\n",
       "       (31, 310., 0.81991659, 0,  0.,  0.,  0.,  0.,  -11.90241956,  -11.90241956,  5.99610155,  5.99610155),\n",
       "       (32, 320., 0.9037374 , 0,  0.,  0.,  0.,  0.,   -2.57830762,   -2.57830762,  9.5877143 ,  9.5877143 ),\n",
       "       (33, 330., 0.92830979, 0,  0.,  0.,  0.,  0.,   40.30036702,   40.30036702,  4.41481935,  4.41481935),\n",
       "       (34, 340., 0.93804116, 0,  0.,  0.,  0.,  0.,   38.10183936,   38.10183936,  5.51389764,  5.51389764),\n",
       "       (35, 370., 0.89962516, 0,  0.,  0.,  0.,  0.,  155.67697706,  155.67697706,  8.67728689,  8.67728689),\n",
       "       (36, 400., 0.9994628 , 0,  0.,  0.,  0.,  0.,   97.22320627,   97.22320627, 27.55491003, 27.55491003),\n",
       "       (37, 410., 0.98550532, 0,  0.,  0.,  0.,  0., -177.98090949, -177.9809095 ,  8.79984523,  8.79984523),\n",
       "       (38, 420., 0.96541644, 0,  0.,  0.,  0.,  0.,  -22.57046997,  -22.57046997,  8.27457093,  8.27457093),\n",
       "       (39, 430., 0.94676434, 0,  0.,  0.,  0.,  0.,  -21.84746923,  -21.84746923, 13.5313292 , 13.5313292 ),\n",
       "       (40, 440., 0.92324812, 0,  0.,  0.,  0.,  0.,    5.64906198,    5.64906198, 13.03392156, 13.03392156),\n",
       "       (41, 470., 0.9700012 , 0,  0.,  0.,  0.,  0.,  -78.25041901,  -78.25041901,  9.4511046 ,  9.4511046 ),\n",
       "       (42, 480., 0.97615251, 0,  0.,  0.,  0.,  0.,   48.99147144,   48.99147144,  5.34077068,  5.34077068),\n",
       "       (43, 490., 0.99391446, 0,  0.,  0.,  0.,  0.,  -25.65192386,  -25.65192386,  9.02392555,  9.02392555),\n",
       "       (44, 500., 0.99897188, 0,  0.,  0.,  0.,  0.,  -19.60210471,  -19.60210471,  4.15659421,  4.15659421),\n",
       "       (45, 510., 0.99999974, 0,  0.,  0.,  0.,  0.,   -2.40439104,   -2.40439104,  2.88551831,  2.88551831),\n",
       "       (46, 530., 0.97557938, 0,  0.,  0.,  0.,  0.,   31.88166404,   31.88166404, 22.8697889 , 22.8697889 )],\n",
       "      dtype=[('00_no', '<i2'), ('01_tstop', '<f2'), ('10_spa_pol_dif', '<f8'), ('11_spa_pol_tes', 'i1'), ('20_ang_seg_dif', '<f8'), ('21_ang_seg_tes', '<f4'), ('30_len_seg_dif', '<f8'), ('31_len_seg_tes', '<f4'), ('22_course_seg1', '<f8'), ('23_course_seg2', '<f8'), ('32_len_seg1', '<f8'), ('33_len_seg2', '<f8')])"
      ]
     },
     "execution_count": 2,
     "metadata": {},
     "output_type": "execute_result"
    }
   ],
   "source": [
    "copy_tree(\"data/Laurentia_RM_NoIntp\",\"/tmp/Laurentia_RM_NoIntp\")\n",
    "copy_tree(\"data/rot_version/Laurentia_RM_1deg_NoIntp\",\"/tmp/Laurentia_RM_1deg_NoIntp\")\n",
    "cmp.spa_angpre_len_dif('data/Laurentia_RM_NoIntp.txt',\n",
    "                       'data/rot_version/Laurentia_RM_1deg_NoIntp.txt',\n",
    "                       pnh1=1,pnh2=0)\n",
    "# the results should be the same as stored in\n",
    "# data/0.result_tables/pairA_LaurentiaRM_LaurentiaRM1deg_NoIntp.txt"
   ]
  },
  {
   "cell_type": "code",
   "execution_count": 4,
   "metadata": {},
   "outputs": [
    {
     "name": "stdout",
     "output_type": "stream",
     "text": [
      "ds\tda\tdl\tno\tt0\tt1\tequalWeighCPD\n",
      "0.00402313\t0\t0\t0\t0\t100\t0.00134104\n",
      "0.00798601\t0\t0\t1\t100\t200\t0.002662\n",
      "0.0126793\t0\t0\t2\t200\t300\t0.00422643\n",
      "0.0178421\t0\t0\t3\t300\t400\t0.00594735\n",
      "0.0195182\t0\t0\t4\t400\t530\t0.00650607\n",
      "0.0119475\t0\t0\t5\t0\t530\t0.00398249\n"
     ]
    }
   ],
   "source": [
    "## reproduce results for pair A (without interpolations) in Figures 7a, 7c, 7e using the output above\n",
    "## from the function cmp.spa_angpre_len_dif\n",
    "pairAni=cmp.ppf3('data/0.result_tables/pairA_LaurentiaRM_LaurentiaRM1deg_NoIntp.txt')\n",
    "#pairAni_.txt without test\n",
    "print('ds\\tda\\tdl\\tno\\tt0\\tt1\\tequalWeighCPD')\n",
    "cmp.calc_nt(pairAni,'0',0,100)\n",
    "cmp.calc_nt(pairAni,'1',100,200)\n",
    "cmp.calc_nt(pairAni,'2',200,300)\n",
    "cmp.calc_nt(pairAni,'3',300,400)\n",
    "cmp.calc_nt(pairAni,'4',400,530)\n",
    "cmp.calc_nt(pairAni,'5',0,530)"
   ]
  },
  {
   "cell_type": "code",
   "execution_count": 5,
   "metadata": {},
   "outputs": [
    {
     "name": "stdout",
     "output_type": "stream",
     "text": [
      "ds\tda\tdl\tno\tt0\tt1\tequalWeighCPD\n",
      "0\t0\t0\t0\t0\t100\t0\n",
      "0\t0\t0\t1\t100\t200\t0\n",
      "0\t0\t0\t2\t200\t300\t0\n",
      "0\t0\t0\t3\t300\t400\t0\n",
      "0\t0\t0\t4\t400\t530\t0\n",
      "0\t0\t0\t5\t0\t530\t0\n"
     ]
    }
   ],
   "source": [
    "## reproduce results for pair A (without interpolations) in Figures 7b, 7d, 7f using the same output above\n",
    "## from the function cmp.spa_angpre_len_dif\n",
    "#pairAni.txt with test\n",
    "print('ds\\tda\\tdl\\tno\\tt0\\tt1\\tequalWeighCPD')\n",
    "cmp.calc(pairAni,'0',0,100)\n",
    "cmp.calc(pairAni,'1',100,200)\n",
    "cmp.calc(pairAni,'2',200,300)\n",
    "cmp.calc(pairAni,'3',300,400)\n",
    "cmp.calc(pairAni,'4',400,530)\n",
    "cmp.calc(pairAni,'5',0,530)"
   ]
  },
  {
   "cell_type": "markdown",
   "metadata": {},
   "source": [
    "## pair B without interpolations"
   ]
  },
  {
   "cell_type": "code",
   "execution_count": null,
   "metadata": {
    "scrolled": true
   },
   "outputs": [],
   "source": [
    "copy_tree(\"data/rot_version/Laurentia_RM_15deg_NoIntp\",\"/tmp/Laurentia_RM_15deg_NoIntp\")\n",
    "cmp.spa_angpre_len_dif('data/Laurentia_RM_NoIntp.txt',\n",
    "                       'data/rot_version/Laurentia_RM_15deg_NoIntp.txt',\n",
    "                       pnh1=1,pnh2=0)\n",
    "# the results should be the same as stored in\n",
    "# data/0.result_tables/pairB_LaurentiaRM_LaurentiaRM15deg_NoIntp.txt"
   ]
  },
  {
   "cell_type": "code",
   "execution_count": 18,
   "metadata": {},
   "outputs": [
    {
     "name": "stdout",
     "output_type": "stream",
     "text": [
      "ds\tda\tdl\tno\tt0\tt1\tequalWeighCPD\n",
      "0.0601857\t0\t0\t0\t0\t100\t0.0200619\n",
      "0.119511\t0\t0\t1\t100\t200\t0.0398369\n",
      "0.189876\t0\t0\t2\t200\t300\t0.0632921\n",
      "0.267487\t0\t0\t3\t300\t400\t0.0891625\n",
      "0.292735\t0\t0\t4\t400\t530\t0.0975782\n",
      "0.179022\t0\t0\t5\t0\t530\t0.0596741\n"
     ]
    }
   ],
   "source": [
    "## reproduce results for pair B (without interpolations) in Figures 7a, 7c, 7e using the output above\n",
    "## from the function cmp.spa_angpre_len_dif\n",
    "pairBni=cmp.ppf3('data/0.result_tables/pairB_LaurentiaRM_LaurentiaRM15deg_NoIntp.txt')\n",
    "#pairBni_.txt without test\n",
    "print('ds\\tda\\tdl\\tno\\tt0\\tt1\\tequalWeighCPD')\n",
    "cmp.calc_nt(pairBni,'0',0,100)\n",
    "cmp.calc_nt(pairBni,'1',100,200)\n",
    "cmp.calc_nt(pairBni,'2',200,300)\n",
    "cmp.calc_nt(pairBni,'3',300,400)\n",
    "cmp.calc_nt(pairBni,'4',400,530)\n",
    "cmp.calc_nt(pairBni,'5',0,530)"
   ]
  },
  {
   "cell_type": "code",
   "execution_count": 19,
   "metadata": {},
   "outputs": [
    {
     "name": "stdout",
     "output_type": "stream",
     "text": [
      "ds\tda\tdl\tno\tt0\tt1\tequalWeighCPD\n",
      "0\t0\t0\t0\t0\t100\t0\n",
      "0.0245221\t0\t0\t1\t100\t200\t0.00817403\n",
      "0.17214\t0\t0\t2\t200\t300\t0.0573801\n",
      "0.267487\t0\t0\t3\t300\t400\t0.0891625\n",
      "0.15983\t0\t0\t4\t400\t530\t0.0532768\n",
      "0.109124\t0\t0\t5\t0\t530\t0.0363746\n"
     ]
    }
   ],
   "source": [
    "## reproduce results for pair B (without interpolations) in Figures 7b, 7d, 7f using the same output above\n",
    "## from the function cmp.spa_angpre_len_dif\n",
    "#pairBni.txt with test\n",
    "print('ds\\tda\\tdl\\tno\\tt0\\tt1\\tequalWeighCPD')\n",
    "cmp.calc(pairBni,'0',0,100)\n",
    "cmp.calc(pairBni,'1',100,200)\n",
    "cmp.calc(pairBni,'2',200,300)\n",
    "cmp.calc(pairBni,'3',300,400)\n",
    "cmp.calc(pairBni,'4',400,530)\n",
    "cmp.calc(pairBni,'5',0,530)"
   ]
  },
  {
   "cell_type": "markdown",
   "metadata": {},
   "source": [
    "## pair C without interpolations"
   ]
  },
  {
   "cell_type": "code",
   "execution_count": 6,
   "metadata": {},
   "outputs": [
    {
     "name": "stdout",
     "output_type": "stream",
     "text": [
      "00_no\t01_tstop\t10_spa_pol_dif\t11_spa_pol_tes\t20_ang_seg_dif\t21_ang_seg_tes\t30_len_seg_dif\t31_len_seg_tes\t22_course_seg1\t23_course_seg2\t32_len_seg1\t33_len_seg2\n",
      "0\t0.0\t1.0396087803797036\t0\tnan\tnan\tnan\tnan\tnan\tnan\tnan\tnan\n",
      "1\t10.0\t1.0488574183293418\t0\tnan\tnan\t0.000005\t0\t273.743775125\t157.610292419\t0.5238885648671224\t0.523883588268831\n",
      "2\t20.0\t1.939251148514321\t0\t84.64397175799996\t0\t0.0003675\t0\t139.00062497750002\t-136.3554032645\t4.4390170905897985\t4.438649608107905\n",
      "3\t30.0\t2.186441670519566\t0\t91.63317308890001\t0\t0.0001424\t0\t44.63274003309999\t136.265913122\t2.1924434711123775\t2.192301096824105\n",
      "4\t40.0\t2.4982177538741293\t0\t78.66120356299999\t0\t0.0000185\t0\t-76.27212559900002\t-154.933329162\t1.2697772061265127\t1.2697587232430259\n",
      "5\t50.0\t3.9097779362449967\t0\t4.176170072699989\t0\t0.0016097\t0\t48.33596726459999\t44.1597971919\t6.10989037717161\t6.108280717431453\n",
      "6\t60.0\t4.327311114762276\t0\t61.14791328780001\t0\t0.0000348\t0\t28.536529299199998\t89.684442587\t2.361571050429561\t2.361536244952255\n",
      "7\t70.0\t3.973852719130925\t0\t48.81874560900002\t0\t0.0003833\t0\t77.79573930800001\t28.97699369899999\t3.3378718721186993\t3.3374885295515395\n",
      "8\t80.0\t4.167336487859132\t0\t13.642800530100004\t0\t0.0000212\t0\t-38.121318621800015\t-24.47851809170001\t2.0597953431761193\t2.0597741065387143\n",
      "9\t90.0\t4.071779999038122\t0\t12.120052285999975\t0\t0.0000096\t0\t47.17290377799998\t35.052851492\t1.1082224940957084\t1.1082128996941318\n",
      "10\t100.0\t3.936303497223753\t0\t6.765838564999967\t0\t0.0003503\t0\t146.81618227700002\t153.582020842\t4.659741413869781\t4.65939111484222\n",
      "11\t110.0\t3.93589641455038\t0\t79.85517593930001\t0\t0.0000763\t0\t-177.5252022572\t102.6196218035\t2.3203489287224306\t2.32027264259474\n",
      "12\t120.0\t4.63267676038993\t0\t60.564221398800015\t0\t0.000462\t0\t-45.60190700940001\t14.962314389400007\t3.467295154685703\t3.4668331996986934\n",
      "13\t130.0\t4.912432193108829\t0\t1.140329022900005\t0\t0.0000253\t0\t-4.255213841\t-3.114884818099995\t1.2807640741986475\t1.280738793627883\n",
      "14\t140.0\t6.934371634470064\t0\t2.9993020569999658\t0\t0.0167484\t0\t-78.58020887699999\t-75.58090682000002\t11.289302074120934\t11.272553661217675\n",
      "15\t150.0\t7.208063539520831\t0\t3.2569656059999943\t0\t0.0002275\t0\t-53.638517672000006\t-50.38155206600001\t7.201467576568715\t7.201240117727909\n",
      "16\t160.0\t7.191343917568772\t0\t5.632668646999974\t0\t0.0000663\t0\t-25.720815862999984\t-20.08814721600001\t10.101169093188554\t10.101102757292745\n",
      "17\t170.0\t7.069940128926248\t0\t0.5855753383999911\t0\t0.0000283\t0\t-19.411659765600007\t-19.997235103999998\t6.352936247002196\t6.352907993201622\n",
      "18\t180.0\t6.416939302708428\t0\t53.90473488729998\t0\t0.0116033\t0\t-25.99648358600001\t-79.90121847329999\t13.015854150774118\t13.004250879606527\n",
      "19\t190.0\t6.546326840149822\t1\t158.4933099859\t0\t0.0002779\t0\t1.8486616394000066\t160.3419716253\t4.478440669961387\t4.478162793362365\n",
      "20\t200.0\t6.934815226415408\t1\t83.40554618000007\t0\t0.0000575\t0\t50.02749045300004\t-33.37805572700003\t1.8745196983539187\t1.874462171452975\n",
      "21\t210.0\t7.812879680882523\t1\t6.333180333499968\t0\t0.0015563\t0\t68.47705286799999\t62.14387253450002\t4.977812347225005\t4.976256000750038\n",
      "22\t220.0\t8.664173868549016\t1\t164.9775928938\t1\t0.0015108\t0\t15.5948197978\t-149.382773096\t5.88307265695577\t5.881561865338046\n",
      "23\t230.0\t9.478085870369634\t1\t96.66948924206\t0\t0.000309\t0\t13.741065826099998\t110.41055506816\t6.9225762482200865\t6.922267217192892\n",
      "24\t240.0\t9.86751867894248\t1\t29.05105822439998\t0\t0.0005016\t0\t4.87072367830001\t33.92178190269999\t3.379951013227869\t3.3794494339511134\n",
      "25\t250.0\t9.748118506438677\t0\t123.54864354259996\t0\t0.0000017\t0\t88.89337637399998\t-34.65526716859998\t0.78981451610909\t0.7898128591880135\n",
      "26\t260.0\t9.362428628372918\t1\t147.179804996\t0\t0.0022237\t0\t-30.153140543999996\t117.026664452\t6.219671168925068\t6.217447493693485\n",
      "27\t270.0\t9.569856639214565\t1\t93.0696832218\t0\t0.0000234\t0\t-84.17042839179999\t8.899254830000018\t1.1034783028377004\t1.1034548980580674\n",
      "28\t280.0\t10.41109503241534\t1\t3.0107895235240107\t0\t0.0000607\t0\t-19.33131677587602\t-22.34210629940003\t4.285368490939332\t4.285307820252384\n",
      "29\t290.0\t11.20155866600332\t1\t24.70504732089998\t0\t0.0011057\t0\t-13.720499141000005\t-38.425546461899984\t4.447475769976013\t4.446370115451748\n",
      "30\t300.0\t11.32042950950615\t1\t111.25556967749998\t0\t0.0000043\t0\t24.271534332499982\t-86.984035345\t0.6993831008652412\t0.6993787532286075\n",
      "31\t310.0\t12.283299255618616\t1\t23.775499612000004\t0\t0.0019402\t0\t-11.902419561000016\t11.873080050999988\t5.996101549380524\t5.994161387824389\n",
      "32\t320.0\t13.544346244055259\t1\t60.256263249900016\t0\t0.0092293\t0\t-2.578307617000007\t57.67795563290001\t9.587714297567688\t9.578484994872055\n",
      "33\t330.0\t13.913886243920436\t1\t113.43906078909998\t0\t0.0011316\t0\t40.30036702209998\t-73.138693767\t4.414819351177746\t4.413687764952212\n",
      "34\t340.0\t14.062721875792274\t1\t83.53352159929999\t0\t0.0003626\t0\t38.101839361900005\t121.63536096119999\t5.513897643095102\t5.513535037753971\n",
      "35\t370.0\t13.4590714311215\t1\t109.51290621499999\t0\t3.941492199168791\t0\t155.676977057\t46.164070842\t8.677286890892569\t4.735794691723778\n",
      "36\t400.0\t14.94990115852101\t1\t118.25035623740001\t0\t0.0992265\t0\t97.22320627260001\t-144.52643748999998\t27.55491002510257\t27.45568354221333\n",
      "37\t410.0\t14.768134327134646\t0\t114.3420179901\t0\t0.00873\t0\t-177.980909495\t67.6770725149\t8.799845232370853\t8.791115212345774\n",
      "38\t420.0\t14.477897017557584\t0\t80.01453627999999\t0\t0.0060368\t0\t-22.570469969999976\t-102.58500624999996\t8.27457092575121\t8.268534083196132\n",
      "39\t430.0\t14.197183252982548\t0\t174.212234227\t0\t0.0104625\t0\t-21.847469229000012\t163.94029654399998\t13.531329200399284\t13.520866679314853\n",
      "40\t440.0\t13.830687946691194\t1\t69.91032650500006\t0\t0.0002286\t0\t5.649061976999974\t75.55938848200003\t13.033921559811475\t13.033692987837506\n",
      "41\t470.0\t14.545412573023675\t1\t54.415575273050024\t0\t5.570947966744109\t0\t-78.25041901409998\t-132.66599428715\t9.451104599930273\t3.8801566331861643\n",
      "42\t480.0\t14.63830712498241\t0\t24.372839519699994\t0\t0.0006308\t0\t48.991471442399984\t24.61863192269999\t5.3407706758150555\t5.340139916522897\n",
      "43\t490.0\t14.906622823523016\t1\t0.8256133618000092\t0\t0.0093447\t0\t-25.65192385710003\t-24.82631049530002\t9.023925554078616\t9.014580813037199\n",
      "44\t500.0\t14.98311846214807\t1\t0.14884618509998404\t0\t0.0005898\t0\t-19.60210471299999\t-19.453258527900005\t4.1565942079477285\t4.156004361321864\n",
      "45\t510.0\t14.998702749170107\t0\t0.0556031\t0\t0.0001854\t0\t-2.4043910364999874\t-2.3487879809999868\t2.8855183078347197\t2.885332954131261\n",
      "46\t530.0\t14.63066321026624\t1\t0.5827033036999865\t0\t0.0336576\t0\t31.88166404240002\t32.464367346100005\t22.86978890305212\t22.836131351095354\n"
     ]
    },
    {
     "data": {
      "text/plain": [
       "array([( 0,   0.,  1.03960878, 0,            nan, nan,            nan, nan,           nan,           nan,         nan,         nan),\n",
       "       ( 1,  10.,  1.04885742, 0,            nan, nan, 5.00000000e-06,  0.,  273.74377513,  157.61029242,  0.52388856,  0.52388359),\n",
       "       ( 2,  20.,  1.93925115, 0, 8.46439718e+01,  0., 3.67500000e-04,  0.,  139.00062498, -136.35540326,  4.43901709,  4.43864961),\n",
       "       ( 3,  30.,  2.18644167, 0, 9.16331731e+01,  0., 1.42400000e-04,  0.,   44.63274003,  136.26591312,  2.19244347,  2.1923011 ),\n",
       "       ( 4,  40.,  2.49821775, 0, 7.86612036e+01,  0., 1.85000000e-05,  0.,  -76.2721256 , -154.93332916,  1.26977721,  1.26975872),\n",
       "       ( 5,  50.,  3.90977794, 0, 4.17617007e+00,  0., 1.60970000e-03,  0.,   48.33596726,   44.15979719,  6.10989038,  6.10828072),\n",
       "       ( 6,  60.,  4.32731111, 0, 6.11479133e+01,  0., 3.48000000e-05,  0.,   28.5365293 ,   89.68444259,  2.36157105,  2.36153624),\n",
       "       ( 7,  70.,  3.97385272, 0, 4.88187456e+01,  0., 3.83300000e-04,  0.,   77.79573931,   28.9769937 ,  3.33787187,  3.33748853),\n",
       "       ( 8,  80.,  4.16733649, 0, 1.36428005e+01,  0., 2.12000000e-05,  0.,  -38.12131862,  -24.47851809,  2.05979534,  2.05977411),\n",
       "       ( 9,  90.,  4.07178   , 0, 1.21200523e+01,  0., 9.60000000e-06,  0.,   47.17290378,   35.05285149,  1.10822249,  1.1082129 ),\n",
       "       (10, 100.,  3.9363035 , 0, 6.76583856e+00,  0., 3.50300000e-04,  0.,  146.81618228,  153.58202084,  4.65974141,  4.65939111),\n",
       "       (11, 110.,  3.93589641, 0, 7.98551759e+01,  0., 7.63000000e-05,  0., -177.52520226,  102.6196218 ,  2.32034893,  2.32027264),\n",
       "       (12, 120.,  4.63267676, 0, 6.05642214e+01,  0., 4.62000000e-04,  0.,  -45.60190701,   14.96231439,  3.46729515,  3.4668332 ),\n",
       "       (13, 130.,  4.91243219, 0, 1.14032902e+00,  0., 2.53000000e-05,  0.,   -4.25521384,   -3.11488482,  1.28076407,  1.28073879),\n",
       "       (14, 140.,  6.93437163, 0, 2.99930206e+00,  0., 1.67484000e-02,  0.,  -78.58020888,  -75.58090682, 11.28930207, 11.27255366),\n",
       "       (15, 150.,  7.20806354, 0, 3.25696561e+00,  0., 2.27500000e-04,  0.,  -53.63851767,  -50.38155207,  7.20146758,  7.20124012),\n",
       "       (16, 160.,  7.19134392, 0, 5.63266865e+00,  0., 6.63000000e-05,  0.,  -25.72081586,  -20.08814722, 10.10116909, 10.10110276),\n",
       "       (17, 170.,  7.06994013, 0, 5.85575338e-01,  0., 2.83000000e-05,  0.,  -19.41165977,  -19.9972351 ,  6.35293625,  6.35290799),\n",
       "       (18, 180.,  6.4169393 , 0, 5.39047349e+01,  0., 1.16033000e-02,  0.,  -25.99648359,  -79.90121847, 13.01585415, 13.00425088),\n",
       "       (19, 190.,  6.54632684, 1, 1.58493310e+02,  0., 2.77900000e-04,  0.,    1.84866164,  160.34197163,  4.47844067,  4.47816279),\n",
       "       (20, 200.,  6.93481523, 1, 8.34055462e+01,  0., 5.75000000e-05,  0.,   50.02749045,  -33.37805573,  1.8745197 ,  1.87446217),\n",
       "       (21, 210.,  7.81287968, 1, 6.33318033e+00,  0., 1.55630000e-03,  0.,   68.47705287,   62.14387253,  4.97781235,  4.976256  ),\n",
       "       (22, 220.,  8.66417387, 1, 1.64977593e+02,  1., 1.51080000e-03,  0.,   15.5948198 , -149.3827731 ,  5.88307266,  5.88156187),\n",
       "       (23, 230.,  9.47808587, 1, 9.66694892e+01,  0., 3.09000000e-04,  0.,   13.74106583,  110.41055507,  6.92257625,  6.92226722),\n",
       "       (24, 240.,  9.86751868, 1, 2.90510582e+01,  0., 5.01600000e-04,  0.,    4.87072368,   33.9217819 ,  3.37995101,  3.37944943),\n",
       "       (25, 250.,  9.74811851, 0, 1.23548644e+02,  0., 1.70000000e-06,  0.,   88.89337637,  -34.65526717,  0.78981452,  0.78981286),\n",
       "       (26, 260.,  9.36242863, 1, 1.47179805e+02,  0., 2.22370000e-03,  0.,  -30.15314054,  117.02666445,  6.21967117,  6.21744749),\n",
       "       (27, 270.,  9.56985664, 1, 9.30696832e+01,  0., 2.34000000e-05,  0.,  -84.17042839,    8.89925483,  1.1034783 ,  1.1034549 ),\n",
       "       (28, 280., 10.41109503, 1, 3.01078952e+00,  0., 6.07000000e-05,  0.,  -19.33131678,  -22.3421063 ,  4.28536849,  4.28530782),\n",
       "       (29, 290., 11.20155867, 1, 2.47050473e+01,  0., 1.10570000e-03,  0.,  -13.72049914,  -38.42554646,  4.44747577,  4.44637012),\n",
       "       (30, 300., 11.32042951, 1, 1.11255570e+02,  0., 4.30000000e-06,  0.,   24.27153433,  -86.98403534,  0.6993831 ,  0.69937875),\n",
       "       (31, 310., 12.28329926, 1, 2.37754996e+01,  0., 1.94020000e-03,  0.,  -11.90241956,   11.87308005,  5.99610155,  5.99416139),\n",
       "       (32, 320., 13.54434624, 1, 6.02562632e+01,  0., 9.22930000e-03,  0.,   -2.57830762,   57.67795563,  9.5877143 ,  9.57848499),\n",
       "       (33, 330., 13.91388624, 1, 1.13439061e+02,  0., 1.13160000e-03,  0.,   40.30036702,  -73.13869377,  4.41481935,  4.41368776),\n",
       "       (34, 340., 14.06272188, 1, 8.35335216e+01,  0., 3.62600000e-04,  0.,   38.10183936,  121.63536096,  5.51389764,  5.51353504),\n",
       "       (35, 370., 13.45907143, 1, 1.09512906e+02,  0., 3.94149220e+00,  0.,  155.67697706,   46.16407084,  8.67728689,  4.73579469),\n",
       "       (36, 400., 14.94990116, 1, 1.18250356e+02,  0., 9.92265000e-02,  0.,   97.22320627, -144.52643749, 27.55491003, 27.45568354),\n",
       "       (37, 410., 14.76813433, 0, 1.14342018e+02,  0., 8.73000000e-03,  0., -177.98090949,   67.67707251,  8.79984523,  8.79111521),\n",
       "       (38, 420., 14.47789702, 0, 8.00145363e+01,  0., 6.03680000e-03,  0.,  -22.57046997, -102.58500625,  8.27457093,  8.26853408),\n",
       "       (39, 430., 14.19718325, 0, 1.74212234e+02,  0., 1.04625000e-02,  0.,  -21.84746923,  163.94029654, 13.5313292 , 13.52086668),\n",
       "       (40, 440., 13.83068795, 1, 6.99103265e+01,  0., 2.28600000e-04,  0.,    5.64906198,   75.55938848, 13.03392156, 13.03369299),\n",
       "       (41, 470., 14.54541257, 1, 5.44155753e+01,  0., 5.57094797e+00,  0.,  -78.25041901, -132.66599429,  9.4511046 ,  3.88015663),\n",
       "       (42, 480., 14.63830712, 0, 2.43728395e+01,  0., 6.30800000e-04,  0.,   48.99147144,   24.61863192,  5.34077068,  5.34013992),\n",
       "       (43, 490., 14.90662282, 1, 8.25613362e-01,  0., 9.34470000e-03,  0.,  -25.65192386,  -24.8263105 ,  9.02392555,  9.01458081),\n",
       "       (44, 500., 14.98311846, 1, 1.48846185e-01,  0., 5.89800000e-04,  0.,  -19.60210471,  -19.45325853,  4.15659421,  4.15600436),\n",
       "       (45, 510., 14.99870275, 0, 5.56031000e-02,  0., 1.85400000e-04,  0.,   -2.40439104,   -2.34878798,  2.88551831,  2.88533295),\n",
       "       (46, 530., 14.63066321, 1, 5.82703304e-01,  0., 3.36576000e-02,  0.,   31.88166404,   32.46436735, 22.8697889 , 22.83613135)],\n",
       "      dtype=[('00_no', '<i2'), ('01_tstop', '<f2'), ('10_spa_pol_dif', '<f8'), ('11_spa_pol_tes', 'i1'), ('20_ang_seg_dif', '<f8'), ('21_ang_seg_tes', '<f4'), ('30_len_seg_dif', '<f8'), ('31_len_seg_tes', '<f4'), ('22_course_seg1', '<f8'), ('23_course_seg2', '<f8'), ('32_len_seg1', '<f8'), ('33_len_seg2', '<f8')])"
      ]
     },
     "execution_count": 6,
     "metadata": {},
     "output_type": "execute_result"
    }
   ],
   "source": [
    "copy_tree(\"data/rot_version/Laurentia_RM_po_15deg_NoIntp\",\"/tmp/Laurentia_RM_po_15deg_NoIntp\")\n",
    "cmp.spa_angpre_len_dif('data/Laurentia_RM_NoIntp.txt',\n",
    "                       'data/rot_version/Laurentia_RM_po_15deg_NoIntp.txt',\n",
    "                       pnh1=1,pnh2=0)\n",
    "# the results should be the same as stored in\n",
    "# data/0.result_tables/pairC_LaurentiaRM_LaurentiaRMpo15deg_NoIntp.txt"
   ]
  },
  {
   "cell_type": "code",
   "execution_count": 9,
   "metadata": {},
   "outputs": [
    {
     "name": "stdout",
     "output_type": "stream",
     "text": [
      "ds\tda\tdl\tno\tt0\tt1\tequalWeighCPD\n",
      "0.0601795\t0.247907\t1.09056e-05\t0\t0\t100\t0.102699\n",
      "0.119489\t0.228384\t0.000109612\t1\t100\t200\t0.115994\n",
      "0.189765\t0.489795\t2.70471e-05\t2\t200\t300\t0.226529\n",
      "0.267239\t0.53888\t0.0150239\t3\t300\t400\t0.273714\n",
      "0.292594\t0.249715\t0.0160828\t4\t400\t530\t0.186131\n",
      "0.178939\t0.330728\t0.00680738\t5\t0\t530\t0.172158\n"
     ]
    }
   ],
   "source": [
    "## reproduce results for pair C (without interpolations) in Figures 7a, 7c, 7e using the output above\n",
    "## from the function cmp.spa_angpre_len_dif\n",
    "pairCni=cmp.ppf3('data/0.result_tables/pairC_LaurentiaRM_LaurentiaRMpo15deg_NoIntp.txt')\n",
    "#pairCni_.txt without test\n",
    "print('ds\\tda\\tdl\\tno\\tt0\\tt1\\tequalWeighCPD')\n",
    "cmp.calc_nt(pairCni,'0',0,100)\n",
    "cmp.calc_nt(pairCni,'1',100,200)\n",
    "cmp.calc_nt(pairCni,'2',200,300)\n",
    "cmp.calc_nt(pairCni,'3',300,400)\n",
    "cmp.calc_nt(pairCni,'4',400,530)\n",
    "cmp.calc_nt(pairCni,'5',0,530)"
   ]
  },
  {
   "cell_type": "code",
   "execution_count": 10,
   "metadata": {},
   "outputs": [
    {
     "name": "stdout",
     "output_type": "stream",
     "text": [
      "ds\tda\tdl\tno\tt0\tt1\tequalWeighCPD\n",
      "0\t0\t0\t0\t0\t100\t0\n",
      "0.0245112\t0\t0\t1\t100\t200\t0.00817039\n",
      "0.172042\t0.101838\t0\t2\t200\t300\t0.0912932\n",
      "0.267239\t0\t0\t3\t300\t400\t0.0890797\n",
      "0.159721\t0\t0\t4\t400\t530\t0.0532402\n",
      "0.109055\t0.0203676\t0\t5\t0\t530\t0.0431408\n"
     ]
    }
   ],
   "source": [
    "## reproduce results for pair C (without interpolations) in Figures 7b, 7d, 7f using the same output above\n",
    "## from the function cmp.spa_angpre_len_dif\n",
    "#pairCni.txt with test\n",
    "print('ds\\tda\\tdl\\tno\\tt0\\tt1\\tequalWeighCPD')\n",
    "cmp.calc(pairCni,'0',0,100)\n",
    "cmp.calc(pairCni,'1',100,200)\n",
    "cmp.calc(pairCni,'2',200,300)\n",
    "cmp.calc(pairCni,'3',300,400)\n",
    "cmp.calc(pairCni,'4',400,530)\n",
    "cmp.calc(pairCni,'5',0,530)"
   ]
  },
  {
   "cell_type": "markdown",
   "metadata": {},
   "source": [
    "## pair D without interpolations"
   ]
  },
  {
   "cell_type": "code",
   "execution_count": 7,
   "metadata": {},
   "outputs": [
    {
     "name": "stdout",
     "output_type": "stream",
     "text": [
      "00_no\t01_tstop\t10_spa_pol_dif\t11_spa_pol_tes\t20_ang_seg_dif\t21_ang_seg_tes\t30_len_seg_dif\t31_len_seg_tes\t22_course_seg1\t23_course_seg2\t32_len_seg1\t33_len_seg2\n",
      "0\t0.0\t1.0396227823854567\t0\tnan\tnan\tnan\tnan\tnan\tnan\tnan\tnan\n",
      "1\t10.0\t1.0488575638182625\t0\tnan\tnan\t1.9611886168159605\t0\t273.743775125\t223.83279393\t0.5238885648671224\t2.485077181683083\n",
      "2\t20.0\t1.9393151442350478\t0\t10.996304058599975\t0\t1.0576883730015094\t0\t139.00062497750002\t149.9969290361\t4.4390170905897985\t5.496705463591308\n",
      "3\t30.0\t2.1864678002853206\t0\t38.351504983900014\t0\t3.9440477103645275\t0\t44.63274003309999\t82.984245017\t2.1924434711123775\t6.136491181476905\n",
      "4\t40.0\t2.498240508742987\t0\t136.48827074899998\t0\t0.868194925161442\t0\t-76.27212559900002\t147.239603652\t1.2697772061265127\t2.1379721312879547\n",
      "5\t50.0\t3.9096775901328615\t0\t125.94344157170002\t0\t3.8611309391005415\t0\t48.33596726459999\t174.2794088363\t6.10989037717161\t9.971021316272152\n",
      "6\t60.0\t4.3280044010637\t0\t141.8874984952\t0\t3.9137624281754877\t0\t28.536529299199998\t-113.350969196\t2.361571050429561\t6.275333478605049\n",
      "7\t70.0\t3.973524302882283\t0\t146.8457244187\t0\t1.756504395092112\t0\t77.79573930800001\t-135.3585362733\t3.3378718721186993\t5.094376267210811\n",
      "8\t80.0\t4.167469706995907\t0\t15.241283095799986\t0\t3.5188270556286594\t0\t-38.121318621800015\t-22.88003552600003\t2.0597953431761193\t5.578622398804779\n",
      "9\t90.0\t4.071660615417532\t0\t132.46535082599996\t0\t6.476493011186147\t0\t47.17290377799998\t-85.29244704799999\t1.1082224940957084\t7.584715505281855\n",
      "10\t100.0\t3.936432028489103\t0\t65.16588027099999\t0\t6.16352001175741\t0\t146.81618227700002\t-148.017937452\t4.659741413869781\t10.82326142562719\n",
      "11\t110.0\t3.9358503540630347\t0\t31.23038389620001\t0\t5.050872522687184\t0\t-177.5252022572\t151.2444138466\t2.3203489287224306\t7.371221451409615\n",
      "12\t120.0\t4.632632098955917\t0\t149.8280401166\t0\t0.8020034631916126\t0\t-45.60190700940001\t164.570052874\t3.467295154685703\t2.6652916914940903\n",
      "13\t130.0\t4.913071053205854\t0\t171.90469826379\t0\t2.3294737522115962\t0\t-4.255213841\t-176.15991210479\t1.2807640741986475\t3.610237826410244\n",
      "14\t140.0\t6.931354852487339\t0\t87.03504265349997\t0\t1.4622323085799511\t0\t-78.58020887699999\t8.454833776499981\t11.289302074120934\t12.751534382700886\n",
      "15\t150.0\t7.203858912696448\t0\t79.889796943\t0\t12.880489215013167\t0\t-53.638517672000006\t-133.528314615\t7.201467576568715\t20.08195679158188\n",
      "16\t160.0\t7.1885150725035345\t0\t8.574512754699981\t0\t1.3245923257997987\t0\t-25.720815862999984\t-17.146303108300003\t10.101169093188554\t8.776576767388756\n",
      "17\t170.0\t7.069500214863319\t0\t130.7528905189\t0\t1.355515659440198\t0\t-19.411659765600007\t-150.1645502845\t6.352936247002196\t4.997420587561998\n",
      "18\t180.0\t6.413654558625387\t0\t176.987469402\t0\t3.328047365554635\t0\t-25.99648358600001\t157.016047012\t13.015854150774118\t9.687806785219482\n",
      "19\t190.0\t6.549165200948668\t1\t64.46353182540001\t0\t3.7427008204665277\t0\t1.8486616394000066\t-62.614870186000005\t4.478440669961387\t8.221141490427915\n",
      "20\t200.0\t6.9338757233538955\t1\t89.93529774139995\t0\t3.5891003995785127\t0\t50.02749045300004\t139.9627881944\t1.8745196983539187\t5.463620097932432\n",
      "21\t210.0\t7.810876246144209\t1\t159.54241214800004\t0\t0.49501688934479393\t0\t68.47705286799999\t-131.98053498399997\t4.977812347225005\t4.482795457880211\n",
      "22\t220.0\t8.665262487855404\t1\t158.0013048895\t1\t3.570814199152661\t0\t15.5948197978\t173.5961246873\t5.88307265695577\t9.453886856108431\n",
      "23\t230.0\t9.478554715363769\t1\t72.43485712609998\t0\t5.180707958721092\t0\t13.741065826099998\t-58.69379129999999\t6.9225762482200865\t1.741868289498995\n",
      "24\t240.0\t9.874279086986924\t1\t41.538407931300014\t0\t3.8661223427045353\t0\t4.87072367830001\t-36.667684253000004\t3.379951013227869\t7.246073355932404\n",
      "25\t250.0\t9.751018229297168\t0\t8.400856477099978\t0\t17.81976547367773\t0\t88.89337637399998\t80.4925198969\t0.78981451610909\t18.60957998978682\n",
      "26\t260.0\t9.361320034751206\t1\t163.78837200499999\t0\t9.607116198051619\t0\t-30.153140543999996\t166.05848745100002\t6.219671168925068\t15.826787366976687\n",
      "27\t270.0\t9.573987009220742\t1\t53.28191932660002\t0\t18.6476408753086\t1\t-84.17042839179999\t-137.4523477184\t1.1034783028377004\t19.7511191781463\n",
      "28\t280.0\t10.411264298081653\t1\t157.65041644312396\t0\t13.09223523546102\t1\t-19.33131677587602\t-176.98173321899998\t4.285368490939332\t17.377603726400352\n",
      "29\t290.0\t11.19927197266086\t1\t123.98373133339999\t0\t13.983636776282086\t1\t-13.720499141000005\t110.26323219239998\t4.447475769976013\t18.4311125462581\n",
      "30\t300.0\t11.30914176983673\t1\t161.3194806545\t0\t12.50680432145169\t0\t24.271534332499982\t-174.408985013\t0.6993831008652412\t13.206187422316932\n",
      "31\t310.0\t12.28225708851267\t1\t93.56844451698\t0\t13.755020235427121\t0\t-11.902419561000016\t-105.47086407798001\t5.996101549380524\t19.751121784807644\n",
      "32\t320.0\t13.544710093910101\t1\t122.36774569199997\t0\t20.138005908914735\t0\t-2.578307617000007\t-124.94605330899998\t9.587714297567688\t29.725720206482425\n",
      "33\t330.0\t13.919141953263273\t1\t37.622448806100024\t0\t1.7797376299182641\t0\t40.30036702209998\t77.9228158282\t4.414819351177746\t6.19455698109601\n",
      "34\t340.0\t14.062088423850552\t1\t5.238404534900013\t0\t1.3577054968071804\t0\t38.101839361900005\t32.86343482699999\t5.513897643095102\t6.871603139902282\n",
      "35\t370.0\t13.462424031179602\t1\t119.98418786479999\t0\t7.260697670025815\t0\t155.676977057\t35.692789192199996\t8.677286890892569\t15.937984560918384\n",
      "36\t400.0\t14.977985717108888\t1\t104.48584213539999\t1\t14.836471401487454\t1\t97.22320627260001\t-158.290951592\t27.55491002510257\t42.39138142659002\n",
      "37\t410.0\t14.780639165453442\t0\t32.424602424\t0\t22.24187569935591\t0\t-177.980909495\t-145.556307071\t8.799845232370853\t31.04172093172676\n",
      "38\t420.0\t14.463731113649317\t0\t109.59310767560004\t0\t16.194508090705504\t0\t-22.570469969999976\t-132.16357764560001\t8.27457092575121\t24.469079016456714\n",
      "39\t430.0\t14.164132250210093\t0\t124.57306685600001\t0\t2.6687512964020783\t0\t-21.847469229000012\t102.725597627\t13.531329200399284\t10.862577903997206\n",
      "40\t440.0\t13.817989257500285\t1\t38.98542106800005\t0\t15.715758780008038\t0\t5.649061976999974\t44.634483045000025\t13.033921559811475\t28.749680339819513\n",
      "41\t470.0\t14.520682093853639\t1\t29.830601598300007\t0\t26.528021337048884\t1\t-78.25041901409998\t-108.08102061239998\t9.451104599930273\t35.97912593697916\n",
      "42\t480.0\t14.6395740550928\t0\t122.69133803539998\t0\t6.389501633622031\t0\t48.991471442399984\t-73.699866593\t5.3407706758150555\t11.730272309437087\n",
      "43\t490.0\t14.908016722788721\t1\t93.39604858680002\t0\t0.8778204558955984\t0\t-25.65192385710003\t67.74412472969999\t9.023925554078616\t8.146105098183018\n",
      "44\t500.0\t14.984449869424314\t1\t10.109670082999997\t0\t0.10126436129680894\t0\t-19.60210471299999\t-9.492434629999991\t4.1565942079477285\t4.257858569244537\n",
      "45\t510.0\t14.956953210369926\t0\t122.1576242335\t0\t6.231263607119154\t0\t-2.4043910364999874\t-124.56201526999999\t2.8855183078347197\t9.116781914953874\n",
      "46\t530.0\t14.614915068151918\t1\t120.2252764214\t0\t4.87552238985803\t0\t31.88166404240002\t152.10694046380002\t22.86978890305212\t27.745311292910152\n"
     ]
    },
    {
     "data": {
      "text/plain": [
       "array([( 0,   0.,  1.03962278, 0,          nan, nan,         nan, nan,           nan,           nan,         nan,         nan),\n",
       "       ( 1,  10.,  1.04885756, 0,          nan, nan,  1.96118862,  0.,  273.74377513,  223.83279393,  0.52388856,  2.48507718),\n",
       "       ( 2,  20.,  1.93931514, 0,  10.99630406,  0.,  1.05768837,  0.,  139.00062498,  149.99692904,  4.43901709,  5.49670546),\n",
       "       ( 3,  30.,  2.1864678 , 0,  38.35150498,  0.,  3.94404771,  0.,   44.63274003,   82.98424502,  2.19244347,  6.13649118),\n",
       "       ( 4,  40.,  2.49824051, 0, 136.48827075,  0.,  0.86819493,  0.,  -76.2721256 ,  147.23960365,  1.26977721,  2.13797213),\n",
       "       ( 5,  50.,  3.90967759, 0, 125.94344157,  0.,  3.86113094,  0.,   48.33596726,  174.27940884,  6.10989038,  9.97102132),\n",
       "       ( 6,  60.,  4.3280044 , 0, 141.8874985 ,  0.,  3.91376243,  0.,   28.5365293 , -113.3509692 ,  2.36157105,  6.27533348),\n",
       "       ( 7,  70.,  3.9735243 , 0, 146.84572442,  0.,  1.7565044 ,  0.,   77.79573931, -135.35853627,  3.33787187,  5.09437627),\n",
       "       ( 8,  80.,  4.16746971, 0,  15.2412831 ,  0.,  3.51882706,  0.,  -38.12131862,  -22.88003553,  2.05979534,  5.5786224 ),\n",
       "       ( 9,  90.,  4.07166062, 0, 132.46535083,  0.,  6.47649301,  0.,   47.17290378,  -85.29244705,  1.10822249,  7.58471551),\n",
       "       (10, 100.,  3.93643203, 0,  65.16588027,  0.,  6.16352001,  0.,  146.81618228, -148.01793745,  4.65974141, 10.82326143),\n",
       "       (11, 110.,  3.93585035, 0,  31.2303839 ,  0.,  5.05087252,  0., -177.52520226,  151.24441385,  2.32034893,  7.37122145),\n",
       "       (12, 120.,  4.6326321 , 0, 149.82804012,  0.,  0.80200346,  0.,  -45.60190701,  164.57005287,  3.46729515,  2.66529169),\n",
       "       (13, 130.,  4.91307105, 0, 171.90469826,  0.,  2.32947375,  0.,   -4.25521384, -176.1599121 ,  1.28076407,  3.61023783),\n",
       "       (14, 140.,  6.93135485, 0,  87.03504265,  0.,  1.46223231,  0.,  -78.58020888,    8.45483378, 11.28930207, 12.75153438),\n",
       "       (15, 150.,  7.20385891, 0,  79.88979694,  0., 12.88048922,  0.,  -53.63851767, -133.52831461,  7.20146758, 20.08195679),\n",
       "       (16, 160.,  7.18851507, 0,   8.57451275,  0.,  1.32459233,  0.,  -25.72081586,  -17.14630311, 10.10116909,  8.77657677),\n",
       "       (17, 170.,  7.06950021, 0, 130.75289052,  0.,  1.35551566,  0.,  -19.41165977, -150.16455028,  6.35293625,  4.99742059),\n",
       "       (18, 180.,  6.41365456, 0, 176.9874694 ,  0.,  3.32804737,  0.,  -25.99648359,  157.01604701, 13.01585415,  9.68780679),\n",
       "       (19, 190.,  6.5491652 , 1,  64.46353183,  0.,  3.74270082,  0.,    1.84866164,  -62.61487019,  4.47844067,  8.22114149),\n",
       "       (20, 200.,  6.93387572, 1,  89.93529774,  0.,  3.5891004 ,  0.,   50.02749045,  139.96278819,  1.8745197 ,  5.4636201 ),\n",
       "       (21, 210.,  7.81087625, 1, 159.54241215,  0.,  0.49501689,  0.,   68.47705287, -131.98053498,  4.97781235,  4.48279546),\n",
       "       (22, 220.,  8.66526249, 1, 158.00130489,  1.,  3.5708142 ,  0.,   15.5948198 ,  173.59612469,  5.88307266,  9.45388686),\n",
       "       (23, 230.,  9.47855472, 1,  72.43485713,  0.,  5.18070796,  0.,   13.74106583,  -58.6937913 ,  6.92257625,  1.74186829),\n",
       "       (24, 240.,  9.87427909, 1,  41.53840793,  0.,  3.86612234,  0.,    4.87072368,  -36.66768425,  3.37995101,  7.24607336),\n",
       "       (25, 250.,  9.75101823, 0,   8.40085648,  0., 17.81976547,  0.,   88.89337637,   80.4925199 ,  0.78981452, 18.60957999),\n",
       "       (26, 260.,  9.36132003, 1, 163.788372  ,  0.,  9.6071162 ,  0.,  -30.15314054,  166.05848745,  6.21967117, 15.82678737),\n",
       "       (27, 270.,  9.57398701, 1,  53.28191933,  0., 18.64764088,  1.,  -84.17042839, -137.45234772,  1.1034783 , 19.75111918),\n",
       "       (28, 280., 10.4112643 , 1, 157.65041644,  0., 13.09223524,  1.,  -19.33131678, -176.98173322,  4.28536849, 17.37760373),\n",
       "       (29, 290., 11.19927197, 1, 123.98373133,  0., 13.98363678,  1.,  -13.72049914,  110.26323219,  4.44747577, 18.43111255),\n",
       "       (30, 300., 11.30914177, 1, 161.31948065,  0., 12.50680432,  0.,   24.27153433, -174.40898501,  0.6993831 , 13.20618742),\n",
       "       (31, 310., 12.28225709, 1,  93.56844452,  0., 13.75502024,  0.,  -11.90241956, -105.47086408,  5.99610155, 19.75112178),\n",
       "       (32, 320., 13.54471009, 1, 122.36774569,  0., 20.13800591,  0.,   -2.57830762, -124.94605331,  9.5877143 , 29.72572021),\n",
       "       (33, 330., 13.91914195, 1,  37.62244881,  0.,  1.77973763,  0.,   40.30036702,   77.92281583,  4.41481935,  6.19455698),\n",
       "       (34, 340., 14.06208842, 1,   5.23840453,  0.,  1.3577055 ,  0.,   38.10183936,   32.86343483,  5.51389764,  6.87160314),\n",
       "       (35, 370., 13.46242403, 1, 119.98418786,  0.,  7.26069767,  0.,  155.67697706,   35.69278919,  8.67728689, 15.93798456),\n",
       "       (36, 400., 14.97798572, 1, 104.48584214,  1., 14.8364714 ,  1.,   97.22320627, -158.29095159, 27.55491003, 42.39138143),\n",
       "       (37, 410., 14.78063917, 0,  32.42460242,  0., 22.2418757 ,  0., -177.98090949, -145.55630707,  8.79984523, 31.04172093),\n",
       "       (38, 420., 14.46373111, 0, 109.59310768,  0., 16.19450809,  0.,  -22.57046997, -132.16357765,  8.27457093, 24.46907902),\n",
       "       (39, 430., 14.16413225, 0, 124.57306686,  0.,  2.6687513 ,  0.,  -21.84746923,  102.72559763, 13.5313292 , 10.8625779 ),\n",
       "       (40, 440., 13.81798926, 1,  38.98542107,  0., 15.71575878,  0.,    5.64906198,   44.63448305, 13.03392156, 28.74968034),\n",
       "       (41, 470., 14.52068209, 1,  29.8306016 ,  0., 26.52802134,  1.,  -78.25041901, -108.08102061,  9.4511046 , 35.97912594),\n",
       "       (42, 480., 14.63957406, 0, 122.69133804,  0.,  6.38950163,  0.,   48.99147144,  -73.69986659,  5.34077068, 11.73027231),\n",
       "       (43, 490., 14.90801672, 1,  93.39604859,  0.,  0.87782046,  0.,  -25.65192386,   67.74412473,  9.02392555,  8.1461051 ),\n",
       "       (44, 500., 14.98444987, 1,  10.10967008,  0.,  0.10126436,  0.,  -19.60210471,   -9.49243463,  4.15659421,  4.25785857),\n",
       "       (45, 510., 14.95695321, 0, 122.15762423,  0.,  6.23126361,  0.,   -2.40439104, -124.56201527,  2.88551831,  9.11678191),\n",
       "       (46, 530., 14.61491507, 1, 120.22527642,  0.,  4.87552239,  0.,   31.88166404,  152.10694046, 22.8697889 , 27.74531129)],\n",
       "      dtype=[('00_no', '<i2'), ('01_tstop', '<f2'), ('10_spa_pol_dif', '<f8'), ('11_spa_pol_tes', 'i1'), ('20_ang_seg_dif', '<f8'), ('21_ang_seg_tes', '<f4'), ('30_len_seg_dif', '<f8'), ('31_len_seg_tes', '<f4'), ('22_course_seg1', '<f8'), ('23_course_seg2', '<f8'), ('32_len_seg1', '<f8'), ('33_len_seg2', '<f8')])"
      ]
     },
     "execution_count": 7,
     "metadata": {},
     "output_type": "execute_result"
    }
   ],
   "source": [
    "copy_tree(\"data/rot_version/Laurentia_RM_p_15deg_NoIntp\",\"/tmp/Laurentia_RM_p_15deg_NoIntp\")\n",
    "cmp.spa_angpre_len_dif('data/Laurentia_RM_NoIntp.txt',\n",
    "                       'data/rot_version/Laurentia_RM_p_15deg_NoIntp.txt',\n",
    "                       pnh1=1,pnh2=0)\n",
    "# the results should be the same as stored in\n",
    "# data/0.result_tables/pairD_LaurentiaRM_LaurentiaRMp15deg_NoIntp.txt"
   ]
  },
  {
   "cell_type": "code",
   "execution_count": 11,
   "metadata": {},
   "outputs": [
    {
     "name": "stdout",
     "output_type": "stream",
     "text": [
      "ds\tda\tdl\tno\tt0\tt1\tequalWeighCPD\n",
      "0.0601805\t0.50209\t0.124247\t0\t0\t100\t0.228839\n",
      "0.119469\t0.592204\t0.132934\t1\t100\t200\t0.281536\n",
      "0.189762\t0.580493\t0.366091\t2\t200\t300\t0.378782\n",
      "0.267308\t0.432998\t0.219157\t3\t300\t400\t0.306488\n",
      "0.292416\t0.476273\t0.290317\t4\t400\t530\t0.353002\n",
      "0.178896\t0.51743\t0.230158\t5\t0\t530\t0.308828\n"
     ]
    }
   ],
   "source": [
    "## reproduce results for pair D (without interpolations) in Figures 7a, 7c, 7e using the output above\n",
    "## from the function cmp.spa_angpre_len_dif\n",
    "pairDni=cmp.ppf3('data/0.result_tables/pairD_LaurentiaRM_LaurentiaRMp15deg_NoIntp.txt')\n",
    "#pairDni_.txt without test\n",
    "print('ds\\tda\\tdl\\tno\\tt0\\tt1\\tequalWeighCPD')\n",
    "cmp.calc_nt(pairDni,'0',0,100)\n",
    "cmp.calc_nt(pairDni,'1',100,200)\n",
    "cmp.calc_nt(pairDni,'2',200,300)\n",
    "cmp.calc_nt(pairDni,'3',300,400)\n",
    "cmp.calc_nt(pairDni,'4',400,530)\n",
    "cmp.calc_nt(pairDni,'5',0,530)"
   ]
  },
  {
   "cell_type": "code",
   "execution_count": 12,
   "metadata": {},
   "outputs": [
    {
     "name": "stdout",
     "output_type": "stream",
     "text": [
      "ds\tda\tdl\tno\tt0\tt1\tequalWeighCPD\n",
      "0\t0\t0\t0\t0\t100\t0\n",
      "0.0245146\t0\t0\t1\t100\t200\t0.00817154\n",
      "0.172032\t0.0975317\t0.169474\t2\t200\t300\t0.146346\n",
      "0.267308\t0.116095\t0.0549914\t3\t300\t400\t0.146132\n",
      "0.15968\t0\t0.0756355\t4\t400\t530\t0.0784385\n",
      "0.109048\t0.0324058\t0.0609041\t5\t0\t530\t0.0674525\n"
     ]
    }
   ],
   "source": [
    "## reproduce results for pair D (without interpolations) in Figures 7b, 7d, 7f using the same output above\n",
    "## from the function cmp.spa_angpre_len_dif\n",
    "#pairDni.txt with test\n",
    "print('ds\\tda\\tdl\\tno\\tt0\\tt1\\tequalWeighCPD')\n",
    "cmp.calc(pairDni,'0',0,100)\n",
    "cmp.calc(pairDni,'1',100,200)\n",
    "cmp.calc(pairDni,'2',200,300)\n",
    "cmp.calc(pairDni,'3',300,400)\n",
    "cmp.calc(pairDni,'4',400,530)\n",
    "cmp.calc(pairDni,'5',0,530)"
   ]
  },
  {
   "cell_type": "markdown",
   "metadata": {},
   "source": [
    "## pair E without interpolations"
   ]
  },
  {
   "cell_type": "code",
   "execution_count": null,
   "metadata": {
    "scrolled": true
   },
   "outputs": [],
   "source": [
    "copy_tree(\"data/rot_version/Laurentia_RM_45deg_NoIntp\",\"/tmp/Laurentia_RM_45deg_NoIntp\")\n",
    "cmp.spa_angpre_len_dif('data/Laurentia_RM_NoIntp.txt',\n",
    "                       'data/rot_version/Laurentia_RM_45deg_NoIntp.txt',\n",
    "                       pnh1=1,pnh2=0)\n",
    "# the results should be the same as stored in\n",
    "# data/0.result_tables/pairE_LaurentiaRM_LaurentiaRM45deg_NoIntp.txt"
   ]
  },
  {
   "cell_type": "code",
   "execution_count": 3,
   "metadata": {},
   "outputs": [
    {
     "name": "stdout",
     "output_type": "stream",
     "text": [
      "ds\tda\tdl\tno\tt0\tt1\tequalWeighCPD\n",
      "0.176683\t0\t0\t0\t0\t100\t0.0588942\n",
      "0.351769\t0\t0\t1\t100\t200\t0.117256\n",
      "0.56193\t0\t0\t2\t200\t300\t0.18731\n",
      "0.79885\t0\t0\t3\t300\t400\t0.266283\n",
      "0.87722\t0\t0\t4\t400\t530\t0.292407\n",
      "0.532422\t0\t0\t5\t0\t530\t0.177474\n"
     ]
    }
   ],
   "source": [
    "## reproduce results for pair E (without interpolations) in Figures 7a, 7c, 7e using the output above\n",
    "## from the function cmp.spa_angpre_len_dif\n",
    "pairEni=cmp.ppf3('data/0.result_tables/pairE_LaurentiaRM_LaurentiaRM45deg_NoIntp.txt')\n",
    "#pairEni_.txt without test\n",
    "print('ds\\tda\\tdl\\tno\\tt0\\tt1\\tequalWeighCPD')\n",
    "cmp.calc_nt(pairEni,'0',0,100)\n",
    "cmp.calc_nt(pairEni,'1',100,200)\n",
    "cmp.calc_nt(pairEni,'2',200,300)\n",
    "cmp.calc_nt(pairEni,'3',300,400)\n",
    "cmp.calc_nt(pairEni,'4',400,530)\n",
    "cmp.calc_nt(pairEni,'5',0,530)"
   ]
  },
  {
   "cell_type": "code",
   "execution_count": 4,
   "metadata": {},
   "outputs": [
    {
     "name": "stdout",
     "output_type": "stream",
     "text": [
      "ds\tda\tdl\tno\tt0\tt1\tequalWeighCPD\n",
      "0.134189\t0\t0\t0\t0\t100\t0.0447297\n",
      "0.330752\t0\t0\t1\t100\t200\t0.110251\n",
      "0.56193\t0\t0\t2\t200\t300\t0.18731\n",
      "0.79885\t0\t0\t3\t300\t400\t0.266283\n",
      "0.87722\t0\t0\t4\t400\t530\t0.292407\n",
      "0.522476\t0\t0\t5\t0\t530\t0.174159\n"
     ]
    }
   ],
   "source": [
    "## reproduce results for pair E (without interpolations) in Figures 7b, 7d, 7f using the same output above\n",
    "## from the function cmp.spa_angpre_len_dif\n",
    "#pairEni.txt with test\n",
    "print('ds\\tda\\tdl\\tno\\tt0\\tt1\\tequalWeighCPD')\n",
    "cmp.calc(pairEni,'0',0,100)\n",
    "cmp.calc(pairEni,'1',100,200)\n",
    "cmp.calc(pairEni,'2',200,300)\n",
    "cmp.calc(pairEni,'3',300,400)\n",
    "cmp.calc(pairEni,'4',400,530)\n",
    "cmp.calc(pairEni,'5',0,530)"
   ]
  },
  {
   "cell_type": "markdown",
   "metadata": {},
   "source": [
    "## pair F without interpolations"
   ]
  },
  {
   "cell_type": "code",
   "execution_count": 5,
   "metadata": {},
   "outputs": [
    {
     "name": "stdout",
     "output_type": "stream",
     "text": [
      "00_no\t01_tstop\t10_spa_pol_dif\t11_spa_pol_tes\t20_ang_seg_dif\t21_ang_seg_tes\t30_len_seg_dif\t31_len_seg_tes\t22_course_seg1\t23_course_seg2\t32_len_seg1\t33_len_seg2\n",
      "0\t0.0\t3.048337524892148\t1\tnan\tnan\tnan\tnan\tnan\tnan\tnan\tnan\n",
      "1\t10.0\t3.075435566736447\t1\tnan\tnan\t0.\t0\t273.743775125\t251.624883576\t0.5238885648671224\t0.5238885648866021\n",
      "2\t20.0\t5.6879579579765975\t1\t0.\t0\t0.\t0\t139.00062497750002\t139.0006249855\t4.4390170905897985\t4.439017090566704\n",
      "3\t30.0\t6.413722136661157\t1\t0.\t0\t0.\t0\t44.63274003309999\t44.632740032399994\t2.1924434711123775\t2.1924434711005714\n",
      "4\t40.0\t7.329460598076736\t1\t0.\t0\t0.\t0\t-76.27212559900002\t-76.27212559899999\t1.2697772061265127\t1.2697772061365598\n",
      "5\t50.0\t11.481287633763639\t1\t0.\t0\t0.\t0\t48.33596726459999\t48.33596726320002\t6.10989037717161\t6.109890377219841\n",
      "6\t60.0\t12.712849877468846\t1\t0.\t0\t0.\t0\t28.536529299199998\t28.536529299899996\t2.361571050429561\t2.3615710504073313\n",
      "7\t70.0\t11.669939449301262\t1\t0.\t0\t0.\t0\t77.79573930800001\t77.79573930800001\t3.3378718721186993\t3.337871872117279\n",
      "8\t80.0\t12.23934811264478\t1\t0.\t0\t0.\t0\t-38.121318621800015\t-38.12131862169997\t2.0597953431761193\t2.0597953431688634\n",
      "9\t90.0\t11.95745909699206\t1\t0.\t0\t0.\t0\t47.17290377799998\t47.17290377400002\t1.1082224940957084\t1.1082224940690681\n",
      "10\t100.0\t11.559672086705124\t1\t0.\t0\t0.\t0\t146.81618227700002\t146.81618228\t4.659741413869781\t4.6597414138790985\n",
      "11\t110.0\t11.558318508025613\t1\t0.\t0\t0.\t0\t-177.5252022572\t-177.5252022555\t2.3203489287224306\t2.320348928698077\n",
      "12\t120.0\t13.612594128718394\t1\t0.\t0\t0.\t0\t-45.60190700940001\t-45.60190701189998\t3.467295154685703\t3.4672951547720547\n",
      "13\t130.0\t14.438421142665593\t1\t0.\t0\t0.\t0\t-4.255213841\t-4.2552138401999855\t1.2807640741986475\t1.2807640741955169\n",
      "14\t140.0\t20.42940075875497\t1\t0.\t0\t0.\t0\t-78.58020887699999\t-78.58020887599997\t11.289302074120934\t11.289302074105013\n",
      "15\t150.0\t21.24189596807686\t1\t0.\t0\t0.\t0\t-53.638517672000006\t-53.63851767199998\t7.201467576568715\t7.2014675766032195\n",
      "16\t160.0\t21.19162241476127\t1\t0.\t0\t0.\t0\t-25.720815862999984\t-25.720815863999974\t10.101169093188554\t10.101169093195663\n",
      "17\t170.0\t20.833352710900698\t1\t0.\t0\t0.\t0\t-19.411659765600007\t-19.411659765600007\t6.352936247002196\t6.352936247001046\n",
      "18\t180.0\t18.88932363232859\t1\t0.\t0\t0.\t0\t-25.99648358600001\t-25.996483586500005\t13.015854150774118\t13.015854150776972\n",
      "19\t190.0\t19.281587675190394\t1\t0.\t0\t0.\t0\t1.8486616394000066\t1.8486616391999746\t4.478440669961387\t4.478440669967497\n",
      "20\t200.0\t20.43685829489168\t1\t0.\t0\t0.\t0\t50.02749045300004\t50.027490451999995\t1.8745196983539187\t1.8745196983510017\n",
      "21\t210.0\t23.054568817346848\t1\t0.\t0\t0.\t0\t68.47705286799999\t68.4770528692\t4.977812347225005\t4.97781234727163\n",
      "22\t220.0\t25.59752083283726\t1\t0.\t0\t0.\t1\t15.5948197978\t15.594819797000014\t5.88307265695577\t5.883072656965079\n",
      "23\t230.0\t28.067044919786753\t1\t0.\t0\t0.\t0\t13.741065826099998\t13.741065827299991\t6.9225762482200865\t6.922576248197234\n",
      "24\t240.0\t29.240368297294697\t1\t0.\t0\t0.\t0\t4.87072367830001\t4.870723676400019\t3.379951013227869\t3.379951013198306\n",
      "25\t250.0\t28.8696391435485\t1\t0.\t0\t0.\t0\t88.89337637399998\t88.893376373\t0.78981451610909\t0.7898145160823247\n",
      "26\t260.0\t27.710622305917166\t1\t0.\t0\t0.\t0\t-30.153140543999996\t-30.153140543999996\t6.219671168925068\t6.219671168978614\n",
      "27\t270.0\t28.344616187156408\t1\t0.\t0\t0.\t0\t-84.17042839179999\t-84.1704283926\t1.1034783028377004\t1.1034783028783282\n",
      "28\t280.0\t30.868353762504412\t1\t0.\t0\t0.\t0\t-19.33131677587602\t-19.331316775000005\t4.285368490939332\t4.285368490907921\n",
      "29\t290.0\t33.25541637983133\t1\t0.\t0\t0.\t0\t-13.720499141000005\t-13.720499140000015\t4.447475769976013\t4.4474757700043135\n",
      "30\t300.0\t33.616346883020775\t1\t0.\t0\t0.\t0\t24.271534332499982\t24.271534332699986\t0.6993831008652412\t0.6993831008131276\n",
      "31\t310.0\t36.57312723114052\t1\t0.\t0\t0.\t0\t-11.902419561000016\t-11.902419562000034\t5.996101549380524\t5.996101549426803\n",
      "32\t320.0\t40.466910950728646\t1\t0.\t0\t0.\t0\t-2.578307617000007\t-2.5783076179999966\t9.587714297567688\t9.587714297585675\n",
      "33\t330.0\t41.61746074766876\t1\t0.\t0\t0.\t0\t40.30036702209998\t40.30036702349997\t4.414819351177746\t4.414819351170639\n",
      "34\t340.0\t42.07431968975804\t1\t0.\t0\t0.\t0\t38.101839361900005\t38.10183936120001\t5.513897643095102\t5.513897643104172\n",
      "35\t370.0\t40.27478266533602\t1\t0.\t0\t0.\t0\t155.676977057\t155.676977058\t8.677286890892569\t8.677286890959735\n",
      "36\t400.0\t44.974503368289476\t1\t0.\t0\t0.\t1\t97.22320627260001\t97.22320627300002\t27.55491002510257\t27.554910025137236\n",
      "37\t410.0\t44.31287061833289\t1\t0.\t0\t0.\t0\t-177.980909495\t-177.980909495\t8.799845232370853\t8.799845232425323\n",
      "38\t420.0\t43.36330351622008\t1\t0.\t0\t0.\t0\t-22.570469969999976\t-22.570469971000023\t8.27457092575121\t8.274570925738525\n",
      "39\t430.0\t42.48444289172437\t1\t0.\t0\t0.\t0\t-21.847469229000012\t-21.847469228999984\t13.531329200399284\t13.531329200396891\n",
      "40\t440.0\t41.38010418433714\t1\t0.\t0\t0.\t0\t5.649061976999974\t5.649061976999974\t13.033921559811475\t13.033921559828173\n",
      "41\t470.0\t43.57973938045126\t1\t0.\t0\t0.\t0\t-78.25041901409998\t-78.25041901449998\t9.451104599930273\t9.451104599866783\n",
      "42\t480.0\t43.87038542699963\t1\t0.\t0\t0.\t0\t48.991471442399984\t48.991471442299996\t5.3407706758150555\t5.340770675906565\n",
      "43\t490.0\t44.711305107823506\t1\t0.\t0\t0.\t0\t-25.65192385710003\t-25.651923857300005\t9.023925554078616\t9.023925554064501\n",
      "44\t500.0\t44.95120555883363\t1\t0.\t0\t0.\t0\t-19.60210471299999\t-19.602104712700026\t4.1565942079477285\t4.156594207922453\n",
      "45\t510.0\t44.99998773714011\t1\t0.\t0\t0.\t0\t-2.4043910364999874\t-2.404391034599996\t2.8855183078347197\t2.8855183078569593\n",
      "46\t530.0\t43.8432928355643\t1\t0.\t0\t0.\t0\t31.88166404240002\t31.8816640414\t22.86978890305212\t22.86978890302687\n"
     ]
    },
    {
     "data": {
      "text/plain": [
       "array([( 0,   0.,  3.04833752, 1, nan, nan, nan, nan,           nan,           nan,         nan,         nan),\n",
       "       ( 1,  10.,  3.07543557, 1, nan, nan,  0.,  0.,  273.74377513,  251.62488358,  0.52388856,  0.52388856),\n",
       "       ( 2,  20.,  5.68795796, 1,  0.,  0.,  0.,  0.,  139.00062498,  139.00062499,  4.43901709,  4.43901709),\n",
       "       ( 3,  30.,  6.41372214, 1,  0.,  0.,  0.,  0.,   44.63274003,   44.63274003,  2.19244347,  2.19244347),\n",
       "       ( 4,  40.,  7.3294606 , 1,  0.,  0.,  0.,  0.,  -76.2721256 ,  -76.2721256 ,  1.26977721,  1.26977721),\n",
       "       ( 5,  50., 11.48128763, 1,  0.,  0.,  0.,  0.,   48.33596726,   48.33596726,  6.10989038,  6.10989038),\n",
       "       ( 6,  60., 12.71284988, 1,  0.,  0.,  0.,  0.,   28.5365293 ,   28.5365293 ,  2.36157105,  2.36157105),\n",
       "       ( 7,  70., 11.66993945, 1,  0.,  0.,  0.,  0.,   77.79573931,   77.79573931,  3.33787187,  3.33787187),\n",
       "       ( 8,  80., 12.23934811, 1,  0.,  0.,  0.,  0.,  -38.12131862,  -38.12131862,  2.05979534,  2.05979534),\n",
       "       ( 9,  90., 11.9574591 , 1,  0.,  0.,  0.,  0.,   47.17290378,   47.17290377,  1.10822249,  1.10822249),\n",
       "       (10, 100., 11.55967209, 1,  0.,  0.,  0.,  0.,  146.81618228,  146.81618228,  4.65974141,  4.65974141),\n",
       "       (11, 110., 11.55831851, 1,  0.,  0.,  0.,  0., -177.52520226, -177.52520226,  2.32034893,  2.32034893),\n",
       "       (12, 120., 13.61259413, 1,  0.,  0.,  0.,  0.,  -45.60190701,  -45.60190701,  3.46729515,  3.46729515),\n",
       "       (13, 130., 14.43842114, 1,  0.,  0.,  0.,  0.,   -4.25521384,   -4.25521384,  1.28076407,  1.28076407),\n",
       "       (14, 140., 20.42940076, 1,  0.,  0.,  0.,  0.,  -78.58020888,  -78.58020888, 11.28930207, 11.28930207),\n",
       "       (15, 150., 21.24189597, 1,  0.,  0.,  0.,  0.,  -53.63851767,  -53.63851767,  7.20146758,  7.20146758),\n",
       "       (16, 160., 21.19162241, 1,  0.,  0.,  0.,  0.,  -25.72081586,  -25.72081586, 10.10116909, 10.10116909),\n",
       "       (17, 170., 20.83335271, 1,  0.,  0.,  0.,  0.,  -19.41165977,  -19.41165977,  6.35293625,  6.35293625),\n",
       "       (18, 180., 18.88932363, 1,  0.,  0.,  0.,  0.,  -25.99648359,  -25.99648359, 13.01585415, 13.01585415),\n",
       "       (19, 190., 19.28158768, 1,  0.,  0.,  0.,  0.,    1.84866164,    1.84866164,  4.47844067,  4.47844067),\n",
       "       (20, 200., 20.43685829, 1,  0.,  0.,  0.,  0.,   50.02749045,   50.02749045,  1.8745197 ,  1.8745197 ),\n",
       "       (21, 210., 23.05456882, 1,  0.,  0.,  0.,  0.,   68.47705287,   68.47705287,  4.97781235,  4.97781235),\n",
       "       (22, 220., 25.59752083, 1,  0.,  0.,  0.,  1.,   15.5948198 ,   15.5948198 ,  5.88307266,  5.88307266),\n",
       "       (23, 230., 28.06704492, 1,  0.,  0.,  0.,  0.,   13.74106583,   13.74106583,  6.92257625,  6.92257625),\n",
       "       (24, 240., 29.2403683 , 1,  0.,  0.,  0.,  0.,    4.87072368,    4.87072368,  3.37995101,  3.37995101),\n",
       "       (25, 250., 28.86963914, 1,  0.,  0.,  0.,  0.,   88.89337637,   88.89337637,  0.78981452,  0.78981452),\n",
       "       (26, 260., 27.71062231, 1,  0.,  0.,  0.,  0.,  -30.15314054,  -30.15314054,  6.21967117,  6.21967117),\n",
       "       (27, 270., 28.34461619, 1,  0.,  0.,  0.,  0.,  -84.17042839,  -84.17042839,  1.1034783 ,  1.1034783 ),\n",
       "       (28, 280., 30.86835376, 1,  0.,  0.,  0.,  0.,  -19.33131678,  -19.33131678,  4.28536849,  4.28536849),\n",
       "       (29, 290., 33.25541638, 1,  0.,  0.,  0.,  0.,  -13.72049914,  -13.72049914,  4.44747577,  4.44747577),\n",
       "       (30, 300., 33.61634688, 1,  0.,  0.,  0.,  0.,   24.27153433,   24.27153433,  0.6993831 ,  0.6993831 ),\n",
       "       (31, 310., 36.57312723, 1,  0.,  0.,  0.,  0.,  -11.90241956,  -11.90241956,  5.99610155,  5.99610155),\n",
       "       (32, 320., 40.46691095, 1,  0.,  0.,  0.,  0.,   -2.57830762,   -2.57830762,  9.5877143 ,  9.5877143 ),\n",
       "       (33, 330., 41.61746075, 1,  0.,  0.,  0.,  0.,   40.30036702,   40.30036702,  4.41481935,  4.41481935),\n",
       "       (34, 340., 42.07431969, 1,  0.,  0.,  0.,  0.,   38.10183936,   38.10183936,  5.51389764,  5.51389764),\n",
       "       (35, 370., 40.27478267, 1,  0.,  0.,  0.,  0.,  155.67697706,  155.67697706,  8.67728689,  8.67728689),\n",
       "       (36, 400., 44.97450337, 1,  0.,  0.,  0.,  1.,   97.22320627,   97.22320627, 27.55491003, 27.55491003),\n",
       "       (37, 410., 44.31287062, 1,  0.,  0.,  0.,  0., -177.98090949, -177.98090949,  8.79984523,  8.79984523),\n",
       "       (38, 420., 43.36330352, 1,  0.,  0.,  0.,  0.,  -22.57046997,  -22.57046997,  8.27457093,  8.27457093),\n",
       "       (39, 430., 42.48444289, 1,  0.,  0.,  0.,  0.,  -21.84746923,  -21.84746923, 13.5313292 , 13.5313292 ),\n",
       "       (40, 440., 41.38010418, 1,  0.,  0.,  0.,  0.,    5.64906198,    5.64906198, 13.03392156, 13.03392156),\n",
       "       (41, 470., 43.57973938, 1,  0.,  0.,  0.,  0.,  -78.25041901,  -78.25041901,  9.4511046 ,  9.4511046 ),\n",
       "       (42, 480., 43.87038543, 1,  0.,  0.,  0.,  0.,   48.99147144,   48.99147144,  5.34077068,  5.34077068),\n",
       "       (43, 490., 44.71130511, 1,  0.,  0.,  0.,  0.,  -25.65192386,  -25.65192386,  9.02392555,  9.02392555),\n",
       "       (44, 500., 44.95120556, 1,  0.,  0.,  0.,  0.,  -19.60210471,  -19.60210471,  4.15659421,  4.15659421),\n",
       "       (45, 510., 44.99998774, 1,  0.,  0.,  0.,  0.,   -2.40439104,   -2.40439103,  2.88551831,  2.88551831),\n",
       "       (46, 530., 43.84329284, 1,  0.,  0.,  0.,  0.,   31.88166404,   31.88166404, 22.8697889 , 22.8697889 )],\n",
       "      dtype=[('00_no', '<i2'), ('01_tstop', '<f2'), ('10_spa_pol_dif', '<f8'), ('11_spa_pol_tes', 'i1'), ('20_ang_seg_dif', '<f8'), ('21_ang_seg_tes', '<f4'), ('30_len_seg_dif', '<f8'), ('31_len_seg_tes', '<f4'), ('22_course_seg1', '<f8'), ('23_course_seg2', '<f8'), ('32_len_seg1', '<f8'), ('33_len_seg2', '<f8')])"
      ]
     },
     "execution_count": 5,
     "metadata": {},
     "output_type": "execute_result"
    }
   ],
   "source": [
    "copy_tree(\"data/Laurentia_RM_NoErr_NoIntp\",\"/tmp/Laurentia_RM_NoErr_NoIntp\")\n",
    "copy_tree(\"data/rot_version/Laurentia_RM_NoErr_45deg_NoIntp\",\"/tmp/Laurentia_RM_NoErr_45deg_NoIntp\")\n",
    "cmp.spa_angpre_len_dif('data/Laurentia_RM_NoErr_NoIntp.txt',\n",
    "                       'data/rot_version/Laurentia_RM_NoErr_45deg_NoIntp.txt',\n",
    "                       pnh1=1,pnh2=0)\n",
    "# the results should be the same as stored in\n",
    "# data/0.result_tables/pairF_LaurentiaRMnoErr_LaurentiaRMnoErr45deg_NoIntp.txt"
   ]
  },
  {
   "cell_type": "code",
   "execution_count": 15,
   "metadata": {},
   "outputs": [
    {
     "name": "stdout",
     "output_type": "stream",
     "text": [
      "ds\tda\tdl\tno\tt0\tt1\tequalWeighCPD\n",
      "0.176683\t0\t0\t0\t0\t100\t0.0588942\n",
      "0.351769\t0\t0\t1\t100\t200\t0.117256\n",
      "0.56193\t0\t0\t2\t200\t300\t0.18731\n",
      "0.79885\t0\t0\t3\t300\t400\t0.266283\n",
      "0.87722\t0\t0\t4\t400\t530\t0.292407\n",
      "0.532422\t0\t0\t5\t0\t530\t0.177474\n"
     ]
    }
   ],
   "source": [
    "## reproduce results for pair F (without interpolations) in Figures 7a, 7c, 7e using the output above\n",
    "## from the function cmp.spa_angpre_len_dif\n",
    "pairFni=cmp.ppf3('data/0.result_tables/pairF_LaurentiaRMnoErr_LaurentiaRMnoErr45deg_NoIntp.txt')\n",
    "#pairFni_.txt without test\n",
    "print('ds\\tda\\tdl\\tno\\tt0\\tt1\\tequalWeighCPD')\n",
    "cmp.calc_nt(pairFni,'0',0,100)\n",
    "cmp.calc_nt(pairFni,'1',100,200)\n",
    "cmp.calc_nt(pairFni,'2',200,300)\n",
    "cmp.calc_nt(pairFni,'3',300,400)\n",
    "cmp.calc_nt(pairFni,'4',400,530)\n",
    "cmp.calc_nt(pairFni,'5',0,530)"
   ]
  },
  {
   "cell_type": "code",
   "execution_count": 16,
   "metadata": {},
   "outputs": [
    {
     "name": "stdout",
     "output_type": "stream",
     "text": [
      "ds\tda\tdl\tno\tt0\tt1\tequalWeighCPD\n",
      "0.176683\t0\t0\t0\t0\t100\t0.0588942\n",
      "0.351769\t0\t0\t1\t100\t200\t0.117256\n",
      "0.56193\t0\t0\t2\t200\t300\t0.18731\n",
      "0.79885\t0\t0\t3\t300\t400\t0.266283\n",
      "0.87722\t0\t0\t4\t400\t530\t0.292407\n",
      "0.532422\t0\t0\t5\t0\t530\t0.177474\n"
     ]
    }
   ],
   "source": [
    "## reproduce results for pair F (without interpolations) in Figures 7b, 7d, 7f using the same output above\n",
    "## from the function cmp.spa_angpre_len_dif\n",
    "#pairFni.txt with test\n",
    "print('ds\\tda\\tdl\\tno\\tt0\\tt1\\tequalWeighCPD')\n",
    "cmp.calc(pairFni,'0',0,100)\n",
    "cmp.calc(pairFni,'1',100,200)\n",
    "cmp.calc(pairFni,'2',200,300)\n",
    "cmp.calc(pairFni,'3',300,400)\n",
    "cmp.calc(pairFni,'4',400,530)\n",
    "cmp.calc(pairFni,'5',0,530)"
   ]
  },
  {
   "cell_type": "markdown",
   "metadata": {},
   "source": [
    "## pair H without interpolations"
   ]
  },
  {
   "cell_type": "code",
   "execution_count": 8,
   "metadata": {
    "scrolled": true
   },
   "outputs": [
    {
     "name": "stdout",
     "output_type": "stream",
     "text": [
      "00_no\t01_tstop\t10_spa_pol_dif\t11_spa_pol_tes\t20_ang_seg_dif\t21_ang_seg_tes\t30_len_seg_dif\t31_len_seg_tes\t22_course_seg1\t23_course_seg2\t32_len_seg1\t33_len_seg2\n",
      "0\t0.0\t1.0396087803797036\t0\tnan\tnan\tnan\tnan\tnan\tnan\tnan\tnan\n",
      "1\t10.0\t1.0488574183293418\t0\tnan\tnan\t0.000005\t0\t273.743775125\t157.610292419\t0.5238885648671224\t0.523883588268831\n",
      "2\t20.0\t1.939251148514321\t0\t84.64397175799996\t0\t0.0003675\t0\t139.00062497750002\t-136.3554032645\t4.4390170905897985\t4.438649608107905\n",
      "3\t30.0\t2.186441670519566\t0\t91.63317308890001\t0\t0.0001424\t0\t44.63274003309999\t136.265913122\t2.1924434711123775\t2.192301096824105\n",
      "4\t40.0\t2.4982177538741293\t0\t78.66120356299999\t0\t0.0000185\t0\t-76.27212559900002\t-154.933329162\t1.2697772061265127\t1.2697587232430259\n",
      "5\t50.0\t3.9097779362449967\t0\t4.176170072699989\t0\t0.0016097\t0\t48.33596726459999\t44.1597971919\t6.10989037717161\t6.108280717431453\n",
      "6\t60.0\t4.327311114762276\t1\t61.14791328780001\t0\t0.0000348\t0\t28.536529299199998\t89.684442587\t2.361571050429561\t2.361536244952255\n",
      "7\t70.0\t3.973852719130925\t0\t48.81874560900002\t0\t0.0003833\t0\t77.79573930800001\t28.97699369899999\t3.3378718721186993\t3.3374885295515395\n",
      "8\t80.0\t4.167336487859132\t0\t13.642800530100004\t0\t0.0000212\t0\t-38.121318621800015\t-24.47851809170001\t2.0597953431761193\t2.0597741065387143\n",
      "9\t90.0\t4.071779999038122\t0\t12.120052285999975\t0\t0.0000096\t0\t47.17290377799998\t35.052851492\t1.1082224940957084\t1.1082128996941318\n",
      "10\t100.0\t3.936303497223753\t0\t6.765838564999967\t0\t0.0003503\t0\t146.81618227700002\t153.582020842\t4.659741413869781\t4.65939111484222\n",
      "11\t110.0\t3.93589641455038\t0\t79.85517593930001\t0\t0.0000763\t0\t-177.5252022572\t102.6196218035\t2.3203489287224306\t2.32027264259474\n",
      "12\t120.0\t4.63267676038993\t1\t60.564221398800015\t0\t0.000462\t0\t-45.60190700940001\t14.962314389400007\t3.467295154685703\t3.4668331996986934\n",
      "13\t130.0\t4.912432193108829\t1\t1.140329022900005\t0\t0.0000253\t0\t-4.255213841\t-3.114884818099995\t1.2807640741986475\t1.280738793627883\n",
      "14\t140.0\t6.934371634470064\t0\t2.9993020569999658\t0\t0.0167484\t0\t-78.58020887699999\t-75.58090682000002\t11.289302074120934\t11.272553661217675\n",
      "15\t150.0\t7.208063539520831\t0\t3.2569656059999943\t0\t0.0002275\t0\t-53.638517672000006\t-50.38155206600001\t7.201467576568715\t7.201240117727909\n",
      "16\t160.0\t7.191343917568772\t0\t5.632668646999974\t0\t0.0000663\t0\t-25.720815862999984\t-20.08814721600001\t10.101169093188554\t10.101102757292745\n",
      "17\t170.0\t7.069940128926248\t0\t0.5855753383999911\t0\t0.0000283\t0\t-19.411659765600007\t-19.997235103999998\t6.352936247002196\t6.352907993201622\n",
      "18\t180.0\t6.416939302708428\t1\t53.90473488729998\t0\t0.0116033\t0\t-25.99648358600001\t-79.90121847329999\t13.015854150774118\t13.004250879606527\n",
      "19\t190.0\t6.546326840149822\t1\t158.4933099859\t0\t0.0002779\t0\t1.8486616394000066\t160.3419716253\t4.478440669961387\t4.478162793362365\n",
      "20\t200.0\t6.934815226415408\t1\t83.40554618000007\t0\t0.0000575\t0\t50.02749045300004\t-33.37805572700003\t1.8745196983539187\t1.874462171452975\n",
      "21\t210.0\t7.812879680882523\t1\t6.333180333499968\t0\t0.0015563\t0\t68.47705286799999\t62.14387253450002\t4.977812347225005\t4.976256000750038\n",
      "22\t220.0\t8.664173868549016\t1\t164.9775928938\t1\t0.0015108\t0\t15.5948197978\t-149.382773096\t5.88307265695577\t5.881561865338046\n",
      "23\t230.0\t9.478085870369634\t1\t96.66948924206\t1\t0.000309\t0\t13.741065826099998\t110.41055506816\t6.9225762482200865\t6.922267217192892\n",
      "24\t240.0\t9.86751867894248\t1\t29.05105822439998\t0\t0.0005016\t0\t4.87072367830001\t33.92178190269999\t3.379951013227869\t3.3794494339511134\n",
      "25\t250.0\t9.748118506438677\t1\t123.54864354259996\t0\t0.0000017\t0\t88.89337637399998\t-34.65526716859998\t0.78981451610909\t0.7898128591880135\n",
      "26\t260.0\t9.362428628372918\t1\t147.179804996\t0\t0.0022237\t0\t-30.153140543999996\t117.026664452\t6.219671168925068\t6.217447493693485\n",
      "27\t270.0\t9.569856639214565\t1\t93.0696832218\t0\t0.0000234\t0\t-84.17042839179999\t8.899254830000018\t1.1034783028377004\t1.1034548980580674\n",
      "28\t280.0\t10.41109503241534\t1\t3.0107895235240107\t0\t0.0000607\t0\t-19.33131677587602\t-22.34210629940003\t4.285368490939332\t4.285307820252384\n",
      "29\t290.0\t11.20155866600332\t1\t24.70504732089998\t0\t0.0011057\t0\t-13.720499141000005\t-38.425546461899984\t4.447475769976013\t4.446370115451748\n",
      "30\t300.0\t11.32042950950615\t1\t111.25556967749998\t0\t0.0000043\t0\t24.271534332499982\t-86.984035345\t0.6993831008652412\t0.6993787532286075\n",
      "31\t310.0\t12.283299255618616\t1\t23.775499612000004\t0\t0.0019402\t0\t-11.902419561000016\t11.873080050999988\t5.996101549380524\t5.994161387824389\n",
      "32\t320.0\t13.544346244055259\t1\t60.256263249900016\t0\t0.0092293\t0\t-2.578307617000007\t57.67795563290001\t9.587714297567688\t9.578484994872055\n",
      "33\t330.0\t13.913886243920436\t1\t113.43906078909998\t0\t0.0011316\t0\t40.30036702209998\t-73.138693767\t4.414819351177746\t4.413687764952212\n",
      "34\t340.0\t14.062721875792274\t1\t83.53352159929999\t0\t0.0003626\t0\t38.101839361900005\t121.63536096119999\t5.513897643095102\t5.513535037753971\n",
      "35\t370.0\t13.4590714311215\t1\t109.51290621499999\t0\t3.941492199168791\t0\t155.676977057\t46.164070842\t8.677286890892569\t4.735794691723778\n",
      "36\t400.0\t14.94990115852101\t1\t118.25035623740001\t1\t0.0992265\t0\t97.22320627260001\t-144.52643748999998\t27.55491002510257\t27.45568354221333\n",
      "37\t410.0\t14.768134327134646\t1\t114.3420179901\t0\t0.00873\t0\t-177.980909495\t67.6770725149\t8.799845232370853\t8.791115212345774\n",
      "38\t420.0\t14.477897017557584\t1\t80.01453627999999\t0\t0.0060368\t0\t-22.570469969999976\t-102.58500624999996\t8.27457092575121\t8.268534083196132\n",
      "39\t430.0\t14.197183252982548\t1\t174.212234227\t0\t0.0104625\t0\t-21.847469229000012\t163.94029654399998\t13.531329200399284\t13.520866679314853\n",
      "40\t440.0\t13.830687946691194\t1\t69.91032650500006\t0\t0.0002286\t0\t5.649061976999974\t75.55938848200003\t13.033921559811475\t13.033692987837506\n",
      "41\t470.0\t14.545412573023675\t1\t54.415575273050024\t0\t5.570947966744109\t0\t-78.25041901409998\t-132.66599428715\t9.451104599930273\t3.8801566331861643\n",
      "42\t480.0\t14.63830712498241\t1\t24.372839519699994\t0\t0.0006308\t0\t48.991471442399984\t24.61863192269999\t5.3407706758150555\t5.340139916522897\n",
      "43\t490.0\t14.906622823523016\t1\t0.8256133618000092\t0\t0.0093447\t0\t-25.65192385710003\t-24.82631049530002\t9.023925554078616\t9.014580813037199\n",
      "44\t500.0\t14.98311846214807\t1\t0.14884618509998404\t0\t0.0005898\t0\t-19.60210471299999\t-19.453258527900005\t4.1565942079477285\t4.156004361321864\n",
      "45\t510.0\t14.998702749170107\t1\t0.0556031\t0\t0.0001854\t0\t-2.4043910364999874\t-2.3487879809999868\t2.8855183078347197\t2.885332954131261\n",
      "46\t530.0\t14.63066321026624\t1\t0.5827033036999865\t0\t0.0336576\t0\t31.88166404240002\t32.464367346100005\t22.86978890305212\t22.836131351095354\n"
     ]
    },
    {
     "data": {
      "text/plain": [
       "array([( 0,   0.,  1.03960878, 0,            nan, nan,            nan, nan,           nan,           nan,         nan,         nan),\n",
       "       ( 1,  10.,  1.04885742, 0,            nan, nan, 5.00000000e-06,  0.,  273.74377513,  157.61029242,  0.52388856,  0.52388359),\n",
       "       ( 2,  20.,  1.93925115, 0, 8.46439718e+01,  0., 3.67500000e-04,  0.,  139.00062498, -136.35540326,  4.43901709,  4.43864961),\n",
       "       ( 3,  30.,  2.18644167, 0, 9.16331731e+01,  0., 1.42400000e-04,  0.,   44.63274003,  136.26591312,  2.19244347,  2.1923011 ),\n",
       "       ( 4,  40.,  2.49821775, 0, 7.86612036e+01,  0., 1.85000000e-05,  0.,  -76.2721256 , -154.93332916,  1.26977721,  1.26975872),\n",
       "       ( 5,  50.,  3.90977794, 0, 4.17617007e+00,  0., 1.60970000e-03,  0.,   48.33596726,   44.15979719,  6.10989038,  6.10828072),\n",
       "       ( 6,  60.,  4.32731111, 1, 6.11479133e+01,  0., 3.48000000e-05,  0.,   28.5365293 ,   89.68444259,  2.36157105,  2.36153624),\n",
       "       ( 7,  70.,  3.97385272, 0, 4.88187456e+01,  0., 3.83300000e-04,  0.,   77.79573931,   28.9769937 ,  3.33787187,  3.33748853),\n",
       "       ( 8,  80.,  4.16733649, 0, 1.36428005e+01,  0., 2.12000000e-05,  0.,  -38.12131862,  -24.47851809,  2.05979534,  2.05977411),\n",
       "       ( 9,  90.,  4.07178   , 0, 1.21200523e+01,  0., 9.60000000e-06,  0.,   47.17290378,   35.05285149,  1.10822249,  1.1082129 ),\n",
       "       (10, 100.,  3.9363035 , 0, 6.76583856e+00,  0., 3.50300000e-04,  0.,  146.81618228,  153.58202084,  4.65974141,  4.65939111),\n",
       "       (11, 110.,  3.93589641, 0, 7.98551759e+01,  0., 7.63000000e-05,  0., -177.52520226,  102.6196218 ,  2.32034893,  2.32027264),\n",
       "       (12, 120.,  4.63267676, 1, 6.05642214e+01,  0., 4.62000000e-04,  0.,  -45.60190701,   14.96231439,  3.46729515,  3.4668332 ),\n",
       "       (13, 130.,  4.91243219, 1, 1.14032902e+00,  0., 2.53000000e-05,  0.,   -4.25521384,   -3.11488482,  1.28076407,  1.28073879),\n",
       "       (14, 140.,  6.93437163, 0, 2.99930206e+00,  0., 1.67484000e-02,  0.,  -78.58020888,  -75.58090682, 11.28930207, 11.27255366),\n",
       "       (15, 150.,  7.20806354, 0, 3.25696561e+00,  0., 2.27500000e-04,  0.,  -53.63851767,  -50.38155207,  7.20146758,  7.20124012),\n",
       "       (16, 160.,  7.19134392, 0, 5.63266865e+00,  0., 6.63000000e-05,  0.,  -25.72081586,  -20.08814722, 10.10116909, 10.10110276),\n",
       "       (17, 170.,  7.06994013, 0, 5.85575338e-01,  0., 2.83000000e-05,  0.,  -19.41165977,  -19.9972351 ,  6.35293625,  6.35290799),\n",
       "       (18, 180.,  6.4169393 , 1, 5.39047349e+01,  0., 1.16033000e-02,  0.,  -25.99648359,  -79.90121847, 13.01585415, 13.00425088),\n",
       "       (19, 190.,  6.54632684, 1, 1.58493310e+02,  0., 2.77900000e-04,  0.,    1.84866164,  160.34197163,  4.47844067,  4.47816279),\n",
       "       (20, 200.,  6.93481523, 1, 8.34055462e+01,  0., 5.75000000e-05,  0.,   50.02749045,  -33.37805573,  1.8745197 ,  1.87446217),\n",
       "       (21, 210.,  7.81287968, 1, 6.33318033e+00,  0., 1.55630000e-03,  0.,   68.47705287,   62.14387253,  4.97781235,  4.976256  ),\n",
       "       (22, 220.,  8.66417387, 1, 1.64977593e+02,  1., 1.51080000e-03,  0.,   15.5948198 , -149.3827731 ,  5.88307266,  5.88156187),\n",
       "       (23, 230.,  9.47808587, 1, 9.66694892e+01,  1., 3.09000000e-04,  0.,   13.74106583,  110.41055507,  6.92257625,  6.92226722),\n",
       "       (24, 240.,  9.86751868, 1, 2.90510582e+01,  0., 5.01600000e-04,  0.,    4.87072368,   33.9217819 ,  3.37995101,  3.37944943),\n",
       "       (25, 250.,  9.74811851, 1, 1.23548644e+02,  0., 1.70000000e-06,  0.,   88.89337637,  -34.65526717,  0.78981452,  0.78981286),\n",
       "       (26, 260.,  9.36242863, 1, 1.47179805e+02,  0., 2.22370000e-03,  0.,  -30.15314054,  117.02666445,  6.21967117,  6.21744749),\n",
       "       (27, 270.,  9.56985664, 1, 9.30696832e+01,  0., 2.34000000e-05,  0.,  -84.17042839,    8.89925483,  1.1034783 ,  1.1034549 ),\n",
       "       (28, 280., 10.41109503, 1, 3.01078952e+00,  0., 6.07000000e-05,  0.,  -19.33131678,  -22.3421063 ,  4.28536849,  4.28530782),\n",
       "       (29, 290., 11.20155867, 1, 2.47050473e+01,  0., 1.10570000e-03,  0.,  -13.72049914,  -38.42554646,  4.44747577,  4.44637012),\n",
       "       (30, 300., 11.32042951, 1, 1.11255570e+02,  0., 4.30000000e-06,  0.,   24.27153433,  -86.98403534,  0.6993831 ,  0.69937875),\n",
       "       (31, 310., 12.28329926, 1, 2.37754996e+01,  0., 1.94020000e-03,  0.,  -11.90241956,   11.87308005,  5.99610155,  5.99416139),\n",
       "       (32, 320., 13.54434624, 1, 6.02562632e+01,  0., 9.22930000e-03,  0.,   -2.57830762,   57.67795563,  9.5877143 ,  9.57848499),\n",
       "       (33, 330., 13.91388624, 1, 1.13439061e+02,  0., 1.13160000e-03,  0.,   40.30036702,  -73.13869377,  4.41481935,  4.41368776),\n",
       "       (34, 340., 14.06272188, 1, 8.35335216e+01,  0., 3.62600000e-04,  0.,   38.10183936,  121.63536096,  5.51389764,  5.51353504),\n",
       "       (35, 370., 13.45907143, 1, 1.09512906e+02,  0., 3.94149220e+00,  0.,  155.67697706,   46.16407084,  8.67728689,  4.73579469),\n",
       "       (36, 400., 14.94990116, 1, 1.18250356e+02,  1., 9.92265000e-02,  0.,   97.22320627, -144.52643749, 27.55491003, 27.45568354),\n",
       "       (37, 410., 14.76813433, 1, 1.14342018e+02,  0., 8.73000000e-03,  0., -177.98090949,   67.67707251,  8.79984523,  8.79111521),\n",
       "       (38, 420., 14.47789702, 1, 8.00145363e+01,  0., 6.03680000e-03,  0.,  -22.57046997, -102.58500625,  8.27457093,  8.26853408),\n",
       "       (39, 430., 14.19718325, 1, 1.74212234e+02,  0., 1.04625000e-02,  0.,  -21.84746923,  163.94029654, 13.5313292 , 13.52086668),\n",
       "       (40, 440., 13.83068795, 1, 6.99103265e+01,  0., 2.28600000e-04,  0.,    5.64906198,   75.55938848, 13.03392156, 13.03369299),\n",
       "       (41, 470., 14.54541257, 1, 5.44155753e+01,  0., 5.57094797e+00,  0.,  -78.25041901, -132.66599429,  9.4511046 ,  3.88015663),\n",
       "       (42, 480., 14.63830712, 1, 2.43728395e+01,  0., 6.30800000e-04,  0.,   48.99147144,   24.61863192,  5.34077068,  5.34013992),\n",
       "       (43, 490., 14.90662282, 1, 8.25613362e-01,  0., 9.34470000e-03,  0.,  -25.65192386,  -24.8263105 ,  9.02392555,  9.01458081),\n",
       "       (44, 500., 14.98311846, 1, 1.48846185e-01,  0., 5.89800000e-04,  0.,  -19.60210471,  -19.45325853,  4.15659421,  4.15600436),\n",
       "       (45, 510., 14.99870275, 1, 5.56031000e-02,  0., 1.85400000e-04,  0.,   -2.40439104,   -2.34878798,  2.88551831,  2.88533295),\n",
       "       (46, 530., 14.63066321, 1, 5.82703304e-01,  0., 3.36576000e-02,  0.,   31.88166404,   32.46436735, 22.8697889 , 22.83613135)],\n",
       "      dtype=[('00_no', '<i2'), ('01_tstop', '<f2'), ('10_spa_pol_dif', '<f8'), ('11_spa_pol_tes', 'i1'), ('20_ang_seg_dif', '<f8'), ('21_ang_seg_tes', '<f4'), ('30_len_seg_dif', '<f8'), ('31_len_seg_tes', '<f4'), ('22_course_seg1', '<f8'), ('23_course_seg2', '<f8'), ('32_len_seg1', '<f8'), ('33_len_seg2', '<f8')])"
      ]
     },
     "execution_count": 8,
     "metadata": {},
     "output_type": "execute_result"
    }
   ],
   "source": [
    "copy_tree(\"data/Laurentia_RM_NoIntp\",\"/tmp/Laurentia_RM_NoIntp\")\n",
    "cmp.spa_angpre_len_dif('data/Laurentia_RM_NoIntp.txt',\n",
    "                       'data/rot_version/Laurentia_RM_po_15deg_re_NoIntp.txt',\n",
    "                       pnh1=1,pnh2=0)\n",
    "# the results should be the same as stored in\n",
    "# data/0.result_tables/pairH_LaurentiaRM_LaurentiaRMpo15degRe_NoIntp.txt"
   ]
  },
  {
   "cell_type": "code",
   "execution_count": 12,
   "metadata": {},
   "outputs": [
    {
     "name": "stdout",
     "output_type": "stream",
     "text": [
      "ds\tda\tdl\tno\tt0\tt1\tequalWeighCPD\n",
      "0.0601795\t0.247907\t1.09056e-05\t0\t0\t100\t0.102699\n",
      "0.119489\t0.228384\t0.000109612\t1\t100\t200\t0.115994\n",
      "0.189765\t0.489795\t2.70471e-05\t2\t200\t300\t0.226529\n",
      "0.267239\t0.53888\t0.0150239\t3\t300\t400\t0.273714\n",
      "0.292594\t0.249715\t0.0160828\t4\t400\t530\t0.186131\n",
      "0.178939\t0.330728\t0.00680738\t5\t0\t530\t0.172158\n"
     ]
    }
   ],
   "source": [
    "## reproduce results for pair H (without interpolations) in Figures 7a, 7c, 7e using the output above\n",
    "## from the function cmp.spa_angpre_len_dif\n",
    "pairHni=cmp.ppf3('data/0.result_tables/pairH_LaurentiaRM_LaurentiaRMpo15degRe_NoIntp.txt')\n",
    "#pairHni_.txt without test\n",
    "print('ds\\tda\\tdl\\tno\\tt0\\tt1\\tequalWeighCPD')\n",
    "cmp.calc_nt(pairHni,'0',0,100)\n",
    "cmp.calc_nt(pairHni,'1',100,200)\n",
    "cmp.calc_nt(pairHni,'2',200,300)\n",
    "cmp.calc_nt(pairHni,'3',300,400)\n",
    "cmp.calc_nt(pairHni,'4',400,530)\n",
    "cmp.calc_nt(pairHni,'5',0,530)"
   ]
  },
  {
   "cell_type": "code",
   "execution_count": 13,
   "metadata": {},
   "outputs": [
    {
     "name": "stdout",
     "output_type": "stream",
     "text": [
      "ds\tda\tdl\tno\tt0\tt1\tequalWeighCPD\n",
      "0.00786784\t0\t0\t0\t0\t100\t0.00262261\n",
      "0.0535331\t0\t0\t1\t100\t200\t0.0178444\n",
      "0.189765\t0.161511\t0\t2\t200\t300\t0.117092\n",
      "0.267239\t0.131389\t0\t3\t300\t400\t0.132876\n",
      "0.292594\t0\t0\t4\t400\t530\t0.0975313\n",
      "0.152935\t0.0469009\t0\t5\t0\t530\t0.0666119\n"
     ]
    }
   ],
   "source": [
    "## reproduce results for pair H (without interpolations) in Figures 7b, 7d, 7f using the same output above\n",
    "## from the function cmp.spa_angpre_len_dif\n",
    "#pairHni.txt with test\n",
    "print('ds\\tda\\tdl\\tno\\tt0\\tt1\\tequalWeighCPD')\n",
    "cmp.calc(pairHni,'0',0,100)\n",
    "cmp.calc(pairHni,'1',100,200)\n",
    "cmp.calc(pairHni,'2',200,300)\n",
    "cmp.calc(pairHni,'3',300,400)\n",
    "cmp.calc(pairHni,'4',400,530)\n",
    "cmp.calc(pairHni,'5',0,530)"
   ]
  },
  {
   "cell_type": "code",
   "execution_count": null,
   "metadata": {},
   "outputs": [],
   "source": []
  }
 ],
 "metadata": {
  "kernelspec": {
   "display_name": "Python 3",
   "language": "python",
   "name": "python3"
  },
  "language_info": {
   "codemirror_mode": {
    "name": "ipython",
    "version": 3
   },
   "file_extension": ".py",
   "mimetype": "text/x-python",
   "name": "python",
   "nbconvert_exporter": "python",
   "pygments_lexer": "ipython3",
   "version": "3.7.3"
  }
 },
 "nbformat": 4,
 "nbformat_minor": 2
}
