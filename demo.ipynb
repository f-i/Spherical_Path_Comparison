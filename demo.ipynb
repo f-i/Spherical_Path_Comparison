{
 "cells": [
  {
   "cell_type": "markdown",
   "metadata": {},
   "source": [
    "First, for operating system, Linux or MacOS is recommended. If you use Windows, please change all the \"/tmp\" directory in the file \"spComparison/spcmp.py\" into any directory you prefer (e.g. \"C:\\tmp\") in your Windows system.\n",
    "\n",
    "Second, you need to have a functional Python 3.6 or 3.7 installed. Installing Python through MiniConda (https://docs.conda.io/en/latest/miniconda.html) is recommended. Then use pip to install NumPy and Numba.\n",
    "\n",
    "Third, you need to have a functional GMT5 installed. Please refer to http://gmt.soest.hawaii.edu/projects/gmt/wiki/Installing for its installing instructions.\n",
    "\n",
    "# Introducing Use of the Core Function \"spa_angpre_len_dif\"\n",
    "\n",
    "Then, let's get started with an example from pair A (Figure 3a in the paper https://github.com/f-i/APWP_similarity)."
   ]
  },
  {
   "cell_type": "code",
   "execution_count": 1,
   "metadata": {},
   "outputs": [],
   "source": [
    "## import Python modules\n",
    "# import Python's sys (System-specific parameters and functions) module\n",
    "import sys\n",
    "# import Python's copytree module\n",
    "from distutils.dir_util import copy_tree\n",
    "# add this directory for Python searching non-standard modules, like our own modules\n",
    "sys.path.append('.')  #only accept relative dir\n",
    "# import my own module\n",
    "import spComparison.spcmp as cmp"
   ]
  },
  {
   "cell_type": "code",
   "execution_count": null,
   "metadata": {},
   "outputs": [
    {
     "name": "stdout",
     "output_type": "stream",
     "text": [
      "00_no\t01_tstop\t10_spa_pol_dif\t11_spa_pol_tes\t20_ang_seg_dif\t21_ang_seg_tes\t30_len_seg_dif\t31_len_seg_tes\t22_course_seg1\t23_course_seg2\t32_len_seg1\t33_len_seg2\n",
      "0\t0.0\t0.06950468110321331\t0\tnan\tnan\tnan\tnan\tnan\tnan\tnan\tnan\n",
      "1\t10.0\t0.07012239182561895\t0\tnan\tnan\t0.\t0\t273.743775125\t273.149982677\t0.5238885648671224\t0.5238885648601654\n",
      "2\t20.0\t0.12965232767905435\t0\t0.\t0\t0.\t0\t139.00062497750002\t139.0006249778\t4.4390170905897985\t4.439017090586511\n"
     ]
    }
   ],
   "source": [
    "## calculate pair A's difference scores in terms of space (coeval poles), angle and\n",
    "## length (coeval segments); NOTE THAT THIS COULD TAKE HOURS (Depends on your OS and Hardwares)\n",
    "# copy raw VGP locations (only for poles with their N greater than 25) to /tmp\n",
    "copy_tree(\"data/Laurentia_RM\", \"/tmp\")\n",
    "copy_tree(\"data/rot_version/Laurentia_RM_1deg\",\"/tmp\")\n",
    "# rum our spa_angpre_len_dif function to calculate difference scores\n",
    "cmp.spa_angpre_len_dif('data/Laurentia_RM.txt',\n",
    "                       'data/rot_version/Laurentia_RM_1deg.txt',\n",
    "                       pnh1=1,pnh2=0)\n",
    "# the results should be the same as stored in\n",
    "# data/0.result_tables/pairA_LaurentiaRM_LaurentiaRM1deg.txt"
   ]
  },
  {
   "cell_type": "markdown",
   "metadata": {},
   "source": [
    "The above results displayed have 12 columns.\n",
    "\n",
    "\t00_no:\t\t\tindex / order number\n",
    "\t01_tstop:\t\tpole age\n",
    "\t10_spa_pol_dif:\tspacial difference of each coeval pole pair\n",
    "\t11_spa_pol_tes:\t1 or 0, i.e., distinguishable or indistinguishable\n",
    "\t\t\t\t\tspacial relationship of coeval uncertainties\n",
    "\t20_ang_seg_dif:\tangular difference of each coeval segment pair\n",
    "\t21_ang_seg_tes:\t1 or 0, i.e., a significant or no significant angular difference,\n",
    "\t\t\t\t\tbased on random sampling from pole uncertainties\n",
    "\t30_len_seg_dif:\tlength difference of each coeval segment pair\n",
    "\t31_len_seg_tes:\t1 or 0, i.e., a significant or no significant length difference,\n",
    "\t\t\t\t\tbased on random sampling from pole uncertainties\n",
    "    22_course_seg1: trajectory I's each segment's orientational change\n",
    "    23_course_seg2: trajectory II's each contemporary segment's orientational change\n",
    "    32_len_seg1: trajectory I's each segment's length\n",
    "    33_len_seg2: trajectory II's each contemporary segment's length"
   ]
  },
  {
   "cell_type": "code",
   "execution_count": 3,
   "metadata": {},
   "outputs": [
    {
     "name": "stdout",
     "output_type": "stream",
     "text": [
      "ds\tda\tdl\tno\tt0\tt1\n",
      "0.004023131262715884\t0.0\t0.0\t0\t0\t100\n",
      "0.007986006837318843\t0.0\t0.0\t1\t100\t200\n",
      "0.012679280865410706\t0.0\t0.0\t2\t200\t300\n",
      "0.018235744587828718\t0.0\t0.0\t3\t300\t400\n",
      "0.01946664767344485\t0.0\t0.0\t4\t400\t530\n",
      "0.012871529337939955\t0.0\t0.0\t5\t0\t530\n"
     ]
    }
   ],
   "source": [
    "## reproduce results for pair A in Figures 6a, 6c, 6e using the output above\n",
    "## from the function cmp.spa_angpre_len_dif\n",
    "pairA=cmp.ppf3('data/0.result_tables/pairA_LaurentiaRM_LaurentiaRM1deg.txt')\n",
    "#pairA_.txt without test\n",
    "print('ds\\tda\\tdl\\tno\\tt0\\tt1')\n",
    "cmp.calc_nt(pairA,0,0,100)\n",
    "cmp.calc_nt(pairA,1,100,200)\n",
    "cmp.calc_nt(pairA,2,200,300)\n",
    "cmp.calc_nt(pairA,3,300,400)\n",
    "cmp.calc_nt(pairA,4,400,530)\n",
    "cmp.calc_nt(pairA,5,0,530)"
   ]
  },
  {
   "cell_type": "markdown",
   "metadata": {},
   "source": [
    "The above results displayed own 6 columns.\n",
    "\n",
    "    ds: untested mean spatial difference score\n",
    "    da: untested mean angular difference score\n",
    "    dl: untested mean length difference score\n",
    "    no: index / order number\n",
    "    t0: beginning pole age of the specific path\n",
    "    t1: end pole age of the specific path"
   ]
  },
  {
   "cell_type": "code",
   "execution_count": 4,
   "metadata": {},
   "outputs": [
    {
     "name": "stdout",
     "output_type": "stream",
     "text": [
      "ds\tda\tdl\tno\tt0\tt1\n",
      "0.0\t0.0\t0.0\t0\t0\t100\n",
      "0.0\t0.0\t0.0\t1\t100\t200\n",
      "0.0\t0.0\t0.0\t2\t200\t300\n",
      "0.006881704376822442\t0.0\t0.0\t3\t300\t400\n",
      "0.004130910260684836\t0.0\t0.0\t4\t400\t530\n",
      "0.0024728054036043438\t0.0\t0.0\t5\t0\t530\n"
     ]
    }
   ],
   "source": [
    "## reproduce results for pair A in Figures 6b, 6d, 6f using the same output above\n",
    "## from the function cmp.spa_angpre_len_dif\n",
    "#pairA.txt with test\n",
    "print('ds\\tda\\tdl\\tno\\tt0\\tt1')\n",
    "cmp.calc(pairA,0,0,100)\n",
    "cmp.calc(pairA,1,100,200)\n",
    "cmp.calc(pairA,2,200,300)\n",
    "cmp.calc(pairA,3,300,400)\n",
    "cmp.calc(pairA,4,400,530)\n",
    "cmp.calc(pairA,5,0,530)"
   ]
  },
  {
   "cell_type": "markdown",
   "metadata": {},
   "source": [
    "The above results displayed also own 6 columns.\n",
    "\n",
    "    ds: tested mean spatial difference score\n",
    "    da: tested mean angular difference score\n",
    "    dl: tested mean length difference score\n",
    "    no: index / order number\n",
    "    t0: beginning pole age of the specific path\n",
    "    t1: end pole age of the specific path"
   ]
  },
  {
   "cell_type": "markdown",
   "metadata": {},
   "source": [
    "# Reproducing Results for the Other Five Pairs Using the Same Procedure Above\n",
    "\n",
    "## pair B"
   ]
  },
  {
   "cell_type": "code",
   "execution_count": null,
   "metadata": {},
   "outputs": [],
   "source": [
    "## calculate pair B's difference scores in terms of space (coeval poles), angle and\n",
    "## length (coeval segments)\n",
    "copy_tree(\"data/rot_version/Laurentia_RM_15deg\",\"/tmp\")\n",
    "cmp.spa_angpre_len_dif('data/Laurentia_RM.txt',\n",
    "                       'data/rot_version/Laurentia_RM_15deg.txt',\n",
    "                       pnh1=1,pnh2=0)\n",
    "# the results should be the same as stored in\n",
    "# data/0.result_tables/pairB_LaurentiaRM_LaurentiaRM15deg.txt"
   ]
  },
  {
   "cell_type": "code",
   "execution_count": 2,
   "metadata": {},
   "outputs": [
    {
     "name": "stdout",
     "output_type": "stream",
     "text": [
      "ds\tda\tdl\tno\tt0\tt1\n",
      "0.06018565442887694\t0.0\t0.0\t0\t0\t100\n",
      "0.11951075417785047\t0.0\t0.0\t1\t100\t200\n",
      "0.18987624618932064\t0.0\t0.0\t2\t200\t300\n",
      "0.27341452084170853\t0.0\t0.0\t3\t300\t400\n",
      "0.29195711704472566\t0.0\t0.0\t4\t400\t530\n",
      "0.1928983752638573\t0.0\t0.0\t5\t0\t530\n"
     ]
    }
   ],
   "source": [
    "## reproduce results for pair B in Figures 6a, 6c, 6e using the output above\n",
    "## from the function cmp.spa_angpre_len_dif\n",
    "pairB=cmp.ppf3('data/0.result_tables/pairB_LaurentiaRM_LaurentiaRM15deg.txt')\n",
    "#pairB_.txt without test\n",
    "print('ds\\tda\\tdl\\tno\\tt0\\tt1')\n",
    "cmp.calc_nt(pairB,0,0,100)\n",
    "cmp.calc_nt(pairB,1,100,200)\n",
    "cmp.calc_nt(pairB,2,200,300)\n",
    "cmp.calc_nt(pairB,3,300,400)\n",
    "cmp.calc_nt(pairB,4,400,530)\n",
    "cmp.calc_nt(pairB,5,0,530)"
   ]
  },
  {
   "cell_type": "code",
   "execution_count": 3,
   "metadata": {},
   "outputs": [
    {
     "name": "stdout",
     "output_type": "stream",
     "text": [
      "ds\tda\tdl\tno\tt0\tt1\n",
      "0.0\t0.0\t0.0\t0\t0\t100\n",
      "0.02452207584754257\t0.0\t0.0\t1\t100\t200\n",
      "0.17214017750222857\t0.0\t0.0\t2\t200\t300\n",
      "0.27341452084170853\t0.0\t0.0\t3\t300\t400\n",
      "0.18753232193044467\t0.0\t0.0\t4\t400\t530\n",
      "0.13206089460320947\t0.0\t0.0\t5\t0\t530\n"
     ]
    }
   ],
   "source": [
    "## reproduce results for pair B in Figures 6b, 6d, 6f using the same output above\n",
    "## from the function cmp.spa_angpre_len_dif\n",
    "#pairB.txt with test\n",
    "print('ds\\tda\\tdl\\tno\\tt0\\tt1')\n",
    "cmp.calc(pairB,0,0,100)\n",
    "cmp.calc(pairB,1,100,200)\n",
    "cmp.calc(pairB,2,200,300)\n",
    "cmp.calc(pairB,3,300,400)\n",
    "cmp.calc(pairB,4,400,530)\n",
    "cmp.calc(pairB,5,0,530)"
   ]
  },
  {
   "cell_type": "markdown",
   "metadata": {},
   "source": [
    "## pair C"
   ]
  },
  {
   "cell_type": "code",
   "execution_count": null,
   "metadata": {},
   "outputs": [],
   "source": [
    "## calculate pair C's difference scores in terms of space (coeval poles), angle and\n",
    "## length (coeval segments)\n",
    "copy_tree(\"data/rot_version/Laurentia_RM_po_15deg\",\"/tmp\")\n",
    "cmp.spa_angpre_len_dif('data/Laurentia_RM.txt',\n",
    "                       'data/rot_version/Laurentia_RM_po_15deg.txt',\n",
    "                       pnh1=1,pnh2=0)\n",
    "# the results should be the same as stored in\n",
    "# data/0.result_tables/pairC_LaurentiaRM_LaurentiaRMpo15deg.txt"
   ]
  },
  {
   "cell_type": "code",
   "execution_count": 4,
   "metadata": {},
   "outputs": [
    {
     "name": "stdout",
     "output_type": "stream",
     "text": [
      "ds\tda\tdl\tno\tt0\tt1\n",
      "0.060179524592502295\t0.24790732639537033\t1.0905640046804856e-05\t0\t0\t100\n",
      "0.11948928991824084\t0.2283843537798148\t0.0001096116344275399\t1\t100\t200\n",
      "0.1897653823765637\t0.4897948633596197\t2.7047084440588792e-05\t2\t200\t300\n",
      "0.27310680364795525\t0.3579541481306791\t0.00011034440982000611\t3\t300\t400\n",
      "0.2918073308934256\t0.3278328522055788\t0.0001996424474577322\t4\t400\t530\n",
      "0.19278564167708362\t0.32821897320673443\t9.763093404339463e-05\t5\t0\t530\n"
     ]
    }
   ],
   "source": [
    "## reproduce results for pair C in Figures 6a, 6c, 6e using the output above\n",
    "## from the function cmp.spa_angpre_len_dif\n",
    "pairC=cmp.ppf3('data/0.result_tables/pairC_LaurentiaRM_LaurentiaRMpo15deg.txt')\n",
    "#pairC_.txt without test\n",
    "print('ds\\tda\\tdl\\tno\\tt0\\tt1')\n",
    "cmp.calc_nt(pairC,0,0,100)\n",
    "cmp.calc_nt(pairC,1,100,200)\n",
    "cmp.calc_nt(pairC,2,200,300)\n",
    "cmp.calc_nt(pairC,3,300,400)\n",
    "cmp.calc_nt(pairC,4,400,530)\n",
    "cmp.calc_nt(pairC,5,0,530)"
   ]
  },
  {
   "cell_type": "code",
   "execution_count": 5,
   "metadata": {},
   "outputs": [
    {
     "name": "stdout",
     "output_type": "stream",
     "text": [
      "ds\tda\tdl\tno\tt0\tt1\n",
      "0.0\t0.0\t0.0\t0\t0\t100\n",
      "0.024511167393754963\t0.0\t0.0\t1\t100\t200\n",
      "0.17204153054667518\t0.10183802030481481\t0.0\t2\t200\t300\n",
      "0.27310680364795525\t0.0983773321814815\t2.2421740928911606e-05\t3\t300\t400\n",
      "0.18740701021938655\t0.0\t7.216273757176646e-07\t4\t400\t530\n",
      "0.13196018041953333\t0.03465265716108974\t4.407520097612184e-06\t5\t0\t530\n"
     ]
    }
   ],
   "source": [
    "## reproduce results for pair C in Figures 6b, 6d, 6f using the same output above\n",
    "## from the function cmp.spa_angpre_len_dif\n",
    "#pairC.txt with test\n",
    "print('ds\\tda\\tdl\\tno\\tt0\\tt1')\n",
    "cmp.calc(pairC,0,0,100)\n",
    "cmp.calc(pairC,1,100,200)\n",
    "cmp.calc(pairC,2,200,300)\n",
    "cmp.calc(pairC,3,300,400)\n",
    "cmp.calc(pairC,4,400,530)\n",
    "cmp.calc(pairC,5,0,530)"
   ]
  },
  {
   "cell_type": "markdown",
   "metadata": {},
   "source": [
    "## pair D"
   ]
  },
  {
   "cell_type": "code",
   "execution_count": null,
   "metadata": {},
   "outputs": [],
   "source": [
    "## calculate pair D's difference scores in terms of space (coeval poles), angle and\n",
    "## length (coeval segments)\n",
    "copy_tree(\"data/rot_version/Laurentia_RM_p_15deg\",\"/tmp\")\n",
    "cmp.spa_angpre_len_dif('data/Laurentia_RM.txt',\n",
    "                       'data/rot_version/Laurentia_RM_p_15deg.txt',\n",
    "                       pnh1=1,pnh2=0)\n",
    "# the results should be the same as stored in\n",
    "# data/0.result_tables/pairD_LaurentiaRM_LaurentiaRMp15deg.txt"
   ]
  },
  {
   "cell_type": "code",
   "execution_count": 6,
   "metadata": {},
   "outputs": [
    {
     "name": "stdout",
     "output_type": "stream",
     "text": [
      "ds\tda\tdl\tno\tt0\tt1\n",
      "0.0601804953535425\t0.5020896657221604\t0.1242469695162171\t0\t0\t100\n",
      "0.11946892740034999\t0.5922044939625246\t0.1329337877885109\t1\t100\t200\n",
      "0.18976154831555006\t0.5804934235719901\t0.36609065818561376\t2\t200\t300\n",
      "0.2731263641477164\t0.5121743766190309\t0.5162692905782692\t3\t300\t400\n",
      "0.2916446594852434\t0.5685291350304167\t0.4509314758331272\t4\t400\t530\n",
      "0.19273680028530343\t0.5457373845189663\t0.32561351408522193\t5\t0\t530\n"
     ]
    }
   ],
   "source": [
    "## reproduce results for pair D in Figures 6a, 6c, 6e using the output above\n",
    "## from the function cmp.spa_angpre_len_dif\n",
    "pairD=cmp.ppf3('data/0.result_tables/pairD_LaurentiaRM_LaurentiaRMp15deg.txt')\n",
    "#pairD_.txt without test\n",
    "print('ds\\tda\\tdl\\tno\\tt0\\tt1')\n",
    "cmp.calc_nt(pairD,0,0,100)\n",
    "cmp.calc_nt(pairD,1,100,200)\n",
    "cmp.calc_nt(pairD,2,200,300)\n",
    "cmp.calc_nt(pairD,3,300,400)\n",
    "cmp.calc_nt(pairD,4,400,530)\n",
    "cmp.calc_nt(pairD,5,0,530)"
   ]
  },
  {
   "cell_type": "code",
   "execution_count": 7,
   "metadata": {},
   "outputs": [
    {
     "name": "stdout",
     "output_type": "stream",
     "text": [
      "ds\tda\tdl\tno\tt0\tt1\n",
      "0.0\t0.0\t0.0\t0\t0\t100\n",
      "0.0245146198623683\t0.0\t0.0\t1\t100\t200\n",
      "0.1720324242622825\t0.09753166968487655\t0.16947427972050066\t2\t200\t300\n",
      "0.2731263641477164\t0.20273891366180868\t0.3774520251613964\t3\t300\t400\n",
      "0.18735175977842114\t0.12854420865305555\t0.2501510071082986\t4\t400\t530\n",
      "0.13194281599422122\t0.08163395680686218\t0.16455143662692176\t5\t0\t530\n"
     ]
    }
   ],
   "source": [
    "## reproduce results for pair D in Figures 6b, 6d, 6f using the same output above\n",
    "## from the function cmp.spa_angpre_len_dif\n",
    "#pairD.txt with test\n",
    "print('ds\\tda\\tdl\\tno\\tt0\\tt1')\n",
    "cmp.calc(pairD,0,0,100)\n",
    "cmp.calc(pairD,1,100,200)\n",
    "cmp.calc(pairD,2,200,300)\n",
    "cmp.calc(pairD,3,300,400)\n",
    "cmp.calc(pairD,4,400,530)\n",
    "cmp.calc(pairD,5,0,530)"
   ]
  },
  {
   "cell_type": "markdown",
   "metadata": {},
   "source": [
    "## pair E"
   ]
  },
  {
   "cell_type": "code",
   "execution_count": null,
   "metadata": {},
   "outputs": [],
   "source": [
    "## calculate pair E's difference scores in terms of space (coeval poles), angle and\n",
    "## length (coeval segments)\n",
    "copy_tree(\"data/rot_version/Laurentia_RM_45deg\",\"/tmp\")\n",
    "cmp.spa_angpre_len_dif('data/Laurentia_RM.txt',\n",
    "                       'data/rot_version/Laurentia_RM_45deg.txt',\n",
    "                       pnh1=1,pnh2=0)\n",
    "# the results should be the same as stored in\n",
    "# data/0.result_tables/pairE_LaurentiaRM_LaurentiaRM45deg.txt"
   ]
  },
  {
   "cell_type": "code",
   "execution_count": 8,
   "metadata": {},
   "outputs": [
    {
     "name": "stdout",
     "output_type": "stream",
     "text": [
      "ds\tda\tdl\tno\tt0\tt1\n",
      "0.176682672802216\t0.0\t0.0\t0\t0\t100\n",
      "0.35176917694730764\t0.0\t0.0\t1\t100\t200\n",
      "0.561929737862065\t0.0\t0.0\t2\t200\t300\n",
      "0.8171727224060709\t0.0\t0.0\t3\t300\t400\n",
      "0.8747843279351402\t0.0\t0.0\t4\t400\t530\n",
      "0.5744135257153348\t0.0\t0.0\t5\t0\t530\n"
     ]
    }
   ],
   "source": [
    "## reproduce results for pair E in Figures 6a, 6c, 6e using the output above\n",
    "## from the function cmp.spa_angpre_len_dif\n",
    "pairE=cmp.ppf3('data/0.result_tables/pairE_LaurentiaRM_LaurentiaRM45deg.txt')\n",
    "#pairE_.txt without test\n",
    "print('ds\\tda\\tdl\\tno\\tt0\\tt1')\n",
    "cmp.calc_nt(pairE,0,0,100)\n",
    "cmp.calc_nt(pairE,1,100,200)\n",
    "cmp.calc_nt(pairE,2,200,300)\n",
    "cmp.calc_nt(pairE,3,300,400)\n",
    "cmp.calc_nt(pairE,4,400,530)\n",
    "cmp.calc_nt(pairE,5,0,530)"
   ]
  },
  {
   "cell_type": "code",
   "execution_count": 9,
   "metadata": {},
   "outputs": [
    {
     "name": "stdout",
     "output_type": "stream",
     "text": [
      "ds\tda\tdl\tno\tt0\tt1\n",
      "0.13418921255437907\t0.0\t0.0\t0\t0\t100\n",
      "0.3307515913351165\t0.0\t0.0\t1\t100\t200\n",
      "0.561929737862065\t0.0\t0.0\t2\t200\t300\n",
      "0.8171727224060709\t0.0\t0.0\t3\t300\t400\n",
      "0.8747843279351402\t0.0\t0.0\t4\t400\t530\n",
      "0.5657574504796643\t0.0\t0.0\t5\t0\t530\n"
     ]
    }
   ],
   "source": [
    "## reproduce results for pair E in Figures 6b, 6d, 6f using the same output above\n",
    "## from the function cmp.spa_angpre_len_dif\n",
    "#pairE.txt with test\n",
    "print('ds\\tda\\tdl\\tno\\tt0\\tt1')\n",
    "cmp.calc(pairE,0,0,100)\n",
    "cmp.calc(pairE,1,100,200)\n",
    "cmp.calc(pairE,2,200,300)\n",
    "cmp.calc(pairE,3,300,400)\n",
    "cmp.calc(pairE,4,400,530)\n",
    "cmp.calc(pairE,5,0,530)"
   ]
  },
  {
   "cell_type": "markdown",
   "metadata": {},
   "source": [
    "## pair F"
   ]
  },
  {
   "cell_type": "code",
   "execution_count": null,
   "metadata": {},
   "outputs": [],
   "source": [
    "## calculate pair F's difference scores in terms of space (coeval poles), angle and\n",
    "## length (coeval segments)\n",
    "copy_tree(\"data/Laurentia_RM_NoErr\",\"/tmp\")\n",
    "copy_tree(\"data/rot_version/Laurentia_RM_NoErr_45deg\",\"/tmp\")\n",
    "cmp.spa_angpre_len_dif('data/Laurentia_RM_NoErr.txt',\n",
    "                       'data/rot_version/Laurentia_RM_NoErr_45deg.txt',\n",
    "                       pnh1=1,pnh2=0)\n",
    "# the results should be the same as stored in\n",
    "# data/0.result_tables/pairF_LaurentiaRMnoErr_LaurentiaRMnoErr45deg.txt"
   ]
  },
  {
   "cell_type": "code",
   "execution_count": 10,
   "metadata": {},
   "outputs": [
    {
     "name": "stdout",
     "output_type": "stream",
     "text": [
      "ds\tda\tdl\tno\tt0\tt1\n",
      "0.176682672802216\t0.0\t0.0\t0\t0\t100\n",
      "0.35176917694730764\t0.0\t0.0\t1\t100\t200\n",
      "0.561929737862065\t0.0\t0.0\t2\t200\t300\n",
      "0.8171727224060709\t0.0\t0.0\t3\t300\t400\n",
      "0.8747843279351402\t0.0\t0.0\t4\t400\t530\n",
      "0.5744135257153348\t0.0\t0.0\t5\t0\t530\n"
     ]
    }
   ],
   "source": [
    "## reproduce results for pair F in Figures 6a, 6c, 6e using the output above\n",
    "## from the function cmp.spa_angpre_len_dif\n",
    "pairF=cmp.ppf3('data/0.result_tables/pairF_LaurentiaRMnoErr_LaurentiaRMnoErr45deg.txt')\n",
    "#pairF_.txt without test\n",
    "print('ds\\tda\\tdl\\tno\\tt0\\tt1')\n",
    "cmp.calc_nt(pairF,0,0,100)\n",
    "cmp.calc_nt(pairF,1,100,200)\n",
    "cmp.calc_nt(pairF,2,200,300)\n",
    "cmp.calc_nt(pairF,3,300,400)\n",
    "cmp.calc_nt(pairF,4,400,530)\n",
    "cmp.calc_nt(pairF,5,0,530)"
   ]
  },
  {
   "cell_type": "code",
   "execution_count": 11,
   "metadata": {},
   "outputs": [
    {
     "name": "stdout",
     "output_type": "stream",
     "text": [
      "ds\tda\tdl\tno\tt0\tt1\n",
      "0.176682672802216\t0.0\t0.0\t0\t0\t100\n",
      "0.35176917694730764\t0.0\t0.0\t1\t100\t200\n",
      "0.561929737862065\t0.0\t0.0\t2\t200\t300\n",
      "0.8171727224060709\t0.0\t0.0\t3\t300\t400\n",
      "0.8747843279351402\t0.0\t0.0\t4\t400\t530\n",
      "0.5744135257153348\t0.0\t0.0\t5\t0\t530\n"
     ]
    }
   ],
   "source": [
    "## reproduce results for pair F in Figures 6b, 6d, 6f using the same output above\n",
    "## from the function cmp.spa_angpre_len_dif\n",
    "#pairF.txt with test\n",
    "print('ds\\tda\\tdl\\tno\\tt0\\tt1')\n",
    "cmp.calc(pairF,0,0,100)\n",
    "cmp.calc(pairF,1,100,200)\n",
    "cmp.calc(pairF,2,200,300)\n",
    "cmp.calc(pairF,3,300,400)\n",
    "cmp.calc(pairF,4,400,530)\n",
    "cmp.calc(pairF,5,0,530)"
   ]
  },
  {
   "cell_type": "markdown",
   "metadata": {},
   "source": [
    "## pair i-ii"
   ]
  },
  {
   "cell_type": "code",
   "execution_count": null,
   "metadata": {},
   "outputs": [],
   "source": [
    "## calculate pair i-ii's difference scores in terms of space (coeval poles), angle and\n",
    "## length (coeval segments)\n",
    "copy_tree(\"data/Baltica_StableEurope_F6_RMi\",\"/tmp\")\n",
    "copy_tree(\"data/Baltica_StableEurope_RM\",\"/tmp\")\n",
    "cmp.spa_angpre_len_dif('data/Baltica_StableEurope_F6_RMi.txt',\n",
    "                       'data/Baltica_StableEurope_RM.txt',\n",
    "                       pnh1=1,pnh2=1)\n",
    "# the results should be the same as stored in\n",
    "# data/0.result_tables/i_ii_BalF6RM_BalRM.txt"
   ]
  },
  {
   "cell_type": "code",
   "execution_count": 12,
   "metadata": {},
   "outputs": [
    {
     "name": "stdout",
     "output_type": "stream",
     "text": [
      "ds\tda\tdl\tno\tt0\tt1\n",
      "0.004738427759169862\t0.03735822391337036\t0.00857283246187845\t0\t0\t100\n",
      "0.004225193266779557\t0.005935204873469116\t0.005065875172713178\t1\t100\t200\n",
      "0.05313484450880297\t0.1089641770627778\t0.03495822024278448\t2\t200\t280\n",
      "0.017179276978697377\t0.02563380194520364\t0.010221215462518281\t3\t280\t320\n",
      "0.0024144967866866402\t0.0009764687644444179\t0.0023530002153825825\t4\t320\t430\n",
      "0.014190938389617533\t0.029830013314645482\t0.011228388430406366\t5\t0\t430\n"
     ]
    }
   ],
   "source": [
    "## reproduce d_notest results for pair i-ii in Figure 10a using the output above\n",
    "## from the function cmp.spa_angpre_len_dif\n",
    "pair_i_ii=cmp.ppf3('data/0.result_tables/i_ii_BalF6RM_BalRM.txt')\n",
    "#i_ii_ntest.txt\n",
    "print('ds\\tda\\tdl\\tno\\tt0\\tt1')\n",
    "cmp.calc_nt(pair_i_ii,0,0,100)\n",
    "cmp.calc_nt(pair_i_ii,1,100,200)\n",
    "cmp.calc_nt(pair_i_ii,2,200,280)\n",
    "cmp.calc_nt(pair_i_ii,3,280,320)\n",
    "cmp.calc_nt(pair_i_ii,4,320,430)\n",
    "cmp.calc_nt(pair_i_ii,5,0,430)"
   ]
  },
  {
   "cell_type": "code",
   "execution_count": 13,
   "metadata": {},
   "outputs": [
    {
     "name": "stdout",
     "output_type": "stream",
     "text": [
      "ds\tda\tdl\tno\tt0\tt1\n",
      "0.0\t0.0\t0.0\t0\t0\t100\n",
      "0.0\t0.0\t0.0\t1\t100\t200\n",
      "0.0\t0.0\t0.0\t2\t200\t280\n",
      "0.002259832242890837\t0.0\t0.0\t3\t280\t320\n",
      "0.0009415967678711821\t0.0\t0.0\t4\t320\t430\n",
      "0.00025679911851032237\t0.0\t0.0\t5\t0\t430\n"
     ]
    }
   ],
   "source": [
    "## reproduce d_tested results for pair i-ii in Figure 10a using the same output above\n",
    "## from the function cmp.spa_angpre_len_dif\n",
    "#i_ii_test.txt\n",
    "print('ds\\tda\\tdl\\tno\\tt0\\tt1')\n",
    "cmp.calc(pair_i_ii,0,0,100)\n",
    "cmp.calc(pair_i_ii,1,100,200)\n",
    "cmp.calc(pair_i_ii,2,200,280)\n",
    "cmp.calc(pair_i_ii,3,280,320)\n",
    "cmp.calc(pair_i_ii,4,320,430)\n",
    "cmp.calc(pair_i_ii,5,0,430)"
   ]
  },
  {
   "cell_type": "markdown",
   "metadata": {},
   "source": [
    "## pair iii-iv"
   ]
  },
  {
   "cell_type": "code",
   "execution_count": null,
   "metadata": {},
   "outputs": [],
   "source": [
    "## calculate pair iii-iv's difference scores in terms of space (coeval poles), angle and\n",
    "## length (coeval segments)\n",
    "copy_tree(\"data/Laurentia_F6_RM\",\"/tmp\")\n",
    "copy_tree(\"data/Laurentia_RM\",\"/tmp\")\n",
    "cmp.spa_angpre_len_dif('data/Laurentia_F6_RM.txt',\n",
    "                       'data/Laurentia_RM.txt',\n",
    "                       pnh1=1,pnh2=1)\n",
    "# the results should be the same as stored in\n",
    "# data/0.result_tables/iii_iv_LaureF6RM_LaureRM.txt"
   ]
  },
  {
   "cell_type": "code",
   "execution_count": 14,
   "metadata": {},
   "outputs": [
    {
     "name": "stdout",
     "output_type": "stream",
     "text": [
      "ds\tda\tdl\tno\tt0\tt1\n",
      "0.026766646920035764\t0.33289102491726547\t0.01316183509268013\t0\t0\t100\n",
      "0.06654183120766022\t0.08707181966919754\t0.03465015285847642\t1\t100\t200\n",
      "0.04195176016932024\t0.2749679007160921\t0.011494801456669427\t2\t200\t280\n",
      "0.027170981108374098\t0.049364187578518626\t0.026887750599116626\t3\t280\t320\n",
      "0.09108049514674448\t0.1031253398411111\t0.06444353826564123\t4\t320\t430\n",
      "0.05835165730534966\t0.16537443527699028\t0.03224437708101025\t5\t0\t430\n"
     ]
    }
   ],
   "source": [
    "## reproduce d_notest results for pair iii-iv in Figure 10b using the output above\n",
    "## from the function cmp.spa_angpre_len_dif\n",
    "pair_iii_iv=cmp.ppf3('data/0.result_tables/iii_iv_LaureF6RM_LaureRM.txt')\n",
    "#iii_iv_ntest.txt\n",
    "print('ds\\tda\\tdl\\tno\\tt0\\tt1')\n",
    "cmp.calc_nt(pair_iii_iv,0,0,100)\n",
    "cmp.calc_nt(pair_iii_iv,1,100,200)\n",
    "cmp.calc_nt(pair_iii_iv,2,200,280)\n",
    "cmp.calc_nt(pair_iii_iv,3,280,320)\n",
    "cmp.calc_nt(pair_iii_iv,4,320,430)\n",
    "cmp.calc_nt(pair_iii_iv,5,0,430)"
   ]
  },
  {
   "cell_type": "code",
   "execution_count": 15,
   "metadata": {},
   "outputs": [
    {
     "name": "stdout",
     "output_type": "stream",
     "text": [
      "ds\tda\tdl\tno\tt0\tt1\n",
      "0.0\t0.0\t0.0\t0\t0\t100\n",
      "0.0\t0.0\t0.0\t1\t100\t200\n",
      "0.0\t0.0\t0.0\t2\t200\t280\n",
      "0.0\t0.0\t0.0\t3\t280\t320\n",
      "0.04114990649701268\t0.0\t0.016497796517108622\t4\t320\t430\n",
      "0.01122270177191255\t0.0\t0.004220366550888252\t5\t0\t430\n"
     ]
    }
   ],
   "source": [
    "## reproduce d_tested results for pair iii-iv in Figure 10b using the same output above\n",
    "## from the function cmp.spa_angpre_len_dif\n",
    "#iii_iv_test.txt\n",
    "print('ds\\tda\\tdl\\tno\\tt0\\tt1')\n",
    "cmp.calc(pair_iii_iv,0,0,100)\n",
    "cmp.calc(pair_iii_iv,1,100,200)\n",
    "cmp.calc(pair_iii_iv,2,200,280)\n",
    "cmp.calc(pair_iii_iv,3,280,320)\n",
    "cmp.calc(pair_iii_iv,4,320,430)\n",
    "cmp.calc(pair_iii_iv,5,0,430)"
   ]
  },
  {
   "cell_type": "markdown",
   "metadata": {},
   "source": [
    "## pair v-i"
   ]
  },
  {
   "cell_type": "code",
   "execution_count": null,
   "metadata": {},
   "outputs": [],
   "source": [
    "## calculate pair v-i's difference scores in terms of space (coeval poles), angle and\n",
    "## length (coeval segments)\n",
    "copy_tree(\"data/rot_version/Laurentia_F6_RMi_GMAP2015BALcoord\",\"/tmp\")\n",
    "cmp.spa_angpre_len_dif('data/rot_version/Laurentia_F6_RMi_GMAP2015BALcoord.txt',\n",
    "                       'data/Baltica_StableEurope_F6_RMi.txt',\n",
    "                       pnh1=0,pnh2=1)\n",
    "# the results should be the same as stored in\n",
    "# data/0.result_tables/v_i_LaureF6RMgmap2015BALcoord_BalF6RMi.txt"
   ]
  },
  {
   "cell_type": "code",
   "execution_count": 18,
   "metadata": {},
   "outputs": [
    {
     "name": "stdout",
     "output_type": "stream",
     "text": [
      "ds\tda\tdl\tno\tt0\tt1\n",
      "0.10799163338819137\t0.5831435834757162\t0.06039215698680937\t0\t0\t100\n",
      "0.13705600630658285\t0.20524203503901237\t0.14352911129192558\t1\t100\t200\n",
      "0.10612454213309036\t0.365272484455754\t0.14523851880936933\t2\t200\t280\n",
      "0.2630004345945946\t0.613015994796663\t0.1259685787680702\t3\t280\t320\n",
      "0.14466566976733675\t0.20880450016866664\t0.1142657683587763\t4\t320\t430\n",
      "0.14036557478754755\t0.34677575868529864\t0.11539345582049128\t5\t0\t430\n"
     ]
    }
   ],
   "source": [
    "## reproduce d_notest results for pair v-i in Figure 10c using the output above\n",
    "## from the function cmp.spa_angpre_len_dif\n",
    "pair_v_i=cmp.ppf3('data/0.result_tables/v_i_LaureF6RMgmap2015BALcoord_BalF6RMi.txt')\n",
    "#v_i_ntest.txt\n",
    "print('ds\\tda\\tdl\\tno\\tt0\\tt1')\n",
    "cmp.calc_nt(pair_v_i,0,0,100)\n",
    "cmp.calc_nt(pair_v_i,1,100,200)\n",
    "cmp.calc_nt(pair_v_i,2,200,280)\n",
    "cmp.calc_nt(pair_v_i,3,280,320)\n",
    "cmp.calc_nt(pair_v_i,4,320,430)\n",
    "cmp.calc_nt(pair_v_i,5,0,430)"
   ]
  },
  {
   "cell_type": "code",
   "execution_count": 19,
   "metadata": {},
   "outputs": [
    {
     "name": "stdout",
     "output_type": "stream",
     "text": [
      "ds\tda\tdl\tno\tt0\tt1\n",
      "0.07248541272457895\t0.0\t0.0\t0\t0\t100\n",
      "0.05483223272462948\t0.0\t0.0\t1\t100\t200\n",
      "0.02658221857196827\t0.0\t0.0\t2\t200\t280\n",
      "0.2630004345945946\t0.0\t0.0\t3\t280\t320\n",
      "0.08991473703021588\t0.06441518562833334\t0.007808621893249792\t4\t320\t430\n",
      "0.08129693321425331\t0.015336948959126987\t0.0019975544378080866\t5\t0\t430\n"
     ]
    }
   ],
   "source": [
    "## reproduce d_tested results for pair v-i in Figure 10c using the same output above\n",
    "## from the function cmp.spa_angpre_len_dif\n",
    "#v_i_test.txt\n",
    "print('ds\\tda\\tdl\\tno\\tt0\\tt1')\n",
    "cmp.calc(pair_v_i,0,0,100)\n",
    "cmp.calc(pair_v_i,1,100,200)\n",
    "cmp.calc(pair_v_i,2,200,280)\n",
    "cmp.calc(pair_v_i,3,280,320)\n",
    "cmp.calc(pair_v_i,4,320,430)\n",
    "cmp.calc(pair_v_i,5,0,430)"
   ]
  },
  {
   "cell_type": "markdown",
   "metadata": {},
   "source": [
    "## pair vi-ii"
   ]
  },
  {
   "cell_type": "code",
   "execution_count": null,
   "metadata": {},
   "outputs": [],
   "source": [
    "## calculate pair vi-ii's difference scores in terms of space (coeval poles), angle and\n",
    "## length (coeval segments)\n",
    "copy_tree(\"data/rot_version/Laurentia_RM_GMAP2015BALcoord\",\"/tmp\")\n",
    "cmp.spa_angpre_len_dif('data/rot_version/Laurentia_RM_GMAP2015BALcoord.txt',\n",
    "                       'data/Baltica_StableEurope_RM.txt',\n",
    "                       pnh1=0,pnh2=1)\n",
    "# the results should be the same as stored in\n",
    "# data/0.result_tables/vi_ii_LaureRMgmap2015BALcoord_BalRM.txt"
   ]
  },
  {
   "cell_type": "code",
   "execution_count": 20,
   "metadata": {},
   "outputs": [
    {
     "name": "stdout",
     "output_type": "stream",
     "text": [
      "ds\tda\tdl\tno\tt0\tt1\n",
      "0.10391893001887346\t0.6236279069327162\t0.0417715906216171\t0\t0\t100\n",
      "0.14618594674594845\t0.27986928354272844\t0.1501958409459242\t1\t100\t200\n",
      "0.12306612331738978\t0.36567478425415073\t0.13306839401887133\t2\t200\t280\n",
      "0.2822259332565865\t0.5820936471320372\t0.12277671554784138\t3\t280\t320\n",
      "0.2093861383045509\t0.22279472721877772\t0.14817920952445315\t4\t320\t430\n",
      "0.1649098951029865\t0.3717390052879855\t0.11872789848341246\t5\t0\t430\n"
     ]
    }
   ],
   "source": [
    "## reproduce d_notest results for pair vi-ii in Figure 10d using the output above\n",
    "## from the function cmp.spa_angpre_len_dif\n",
    "pair_vi_ii=cmp.ppf3('data/0.result_tables/vi_ii_LaureRMgmap2015BALcoord_BalRM.txt')\n",
    "#vi_ii_ntest.txt\n",
    "print('ds\\tda\\tdl\\tno\\tt0\\tt1')\n",
    "cmp.calc_nt(pair_vi_ii,0,0,100)\n",
    "cmp.calc_nt(pair_vi_ii,1,100,200)\n",
    "cmp.calc_nt(pair_vi_ii,2,200,280)\n",
    "cmp.calc_nt(pair_vi_ii,3,280,320)\n",
    "cmp.calc_nt(pair_vi_ii,4,320,430)\n",
    "cmp.calc_nt(pair_vi_ii,5,0,430)"
   ]
  },
  {
   "cell_type": "code",
   "execution_count": 21,
   "metadata": {},
   "outputs": [
    {
     "name": "stdout",
     "output_type": "stream",
     "text": [
      "ds\tda\tdl\tno\tt0\tt1\n",
      "0.06096110741213581\t0.0\t0.0\t0\t0\t100\n",
      "0.10269472247849644\t0.0\t0.0\t1\t100\t200\n",
      "0.09170356754700404\t0.0\t0.0\t2\t200\t280\n",
      "0.2822259332565865\t0.0\t0.0\t3\t280\t320\n",
      "0.14838776417466423\t0.0632511749561111\t0.024306418410694194\t4\t320\t430\n",
      "0.12162393437830714\t0.015059803560978833\t0.006217920988782235\t5\t0\t430\n"
     ]
    }
   ],
   "source": [
    "## reproduce d_tested results for pair vi-ii in Figure 10d using the same output above\n",
    "## from the function cmp.spa_angpre_len_dif\n",
    "#vi_ii_test.txt\n",
    "print('ds\\tda\\tdl\\tno\\tt0\\tt1')\n",
    "cmp.calc(pair_vi_ii,0,0,100)\n",
    "cmp.calc(pair_vi_ii,1,100,200)\n",
    "cmp.calc(pair_vi_ii,2,200,280)\n",
    "cmp.calc(pair_vi_ii,3,280,320)\n",
    "cmp.calc(pair_vi_ii,4,320,430)\n",
    "cmp.calc(pair_vi_ii,5,0,430)"
   ]
  },
  {
   "cell_type": "markdown",
   "metadata": {},
   "source": [
    "## pair v-i (uninterpolated; bin 8 Myr, step 4 Myr)"
   ]
  },
  {
   "cell_type": "code",
   "execution_count": null,
   "metadata": {},
   "outputs": [],
   "source": [
    "## calculate pair v-i (uninterpolated; bin 8 step 4)'s difference scores in terms of\n",
    "## space (coeval poles), angle and length (coeval segments)\n",
    "cmp.spa_angpre_len_dif('data/rot_version/Laurentia_F6_RM_stp4_GMAP2015BALcoord.txt',\n",
    "                       'data/Baltica_StableEurope_F6_RM_stp4.txt',\n",
    "                       pnh1=0,pnh2=1)\n",
    "# the results should be the same as stored in data/0.result_tables/stp4.txt"
   ]
  },
  {
   "cell_type": "code",
   "execution_count": 22,
   "metadata": {},
   "outputs": [
    {
     "name": "stdout",
     "output_type": "stream",
     "text": [
      "ds\tda\tdl\tno\tt0\tt1\n",
      "0.14101349557151108\t0.5247688276161536\t0.20612139692150436\t0\t0\t100\n",
      "0.20297305051719985\t0.3634743520500222\t0.24661701866046506\t1\t100\t200\n",
      "0.137961759115263\t0.4142267703688271\t0.3586361600698007\t2\t200\t280\n",
      "0.2798104052617373\t0.5234872479065209\t0.26449830440346284\t3\t280\t320\n",
      "0.16900667438700645\t0.5714621622488194\t0.08206255168904339\t4\t320\t432\n",
      "0.17761638644017358\t0.4572953237546528\t0.21706487492383217\t5\t0\t432\n"
     ]
    }
   ],
   "source": [
    "## reproduce d_notest results for pair v-i (uninterpolated; bin 8 step 4) in Figure\n",
    "## 11a using the output above from the function cmp.spa_angpre_len_dif\n",
    "pair_v_i_stp4=cmp.ppf3('data/0.result_tables/stp4.txt')\n",
    "#v_i stp4_ntest.txt\n",
    "print('ds\\tda\\tdl\\tno\\tt0\\tt1')\n",
    "cmp.calc_nt(pair_v_i_stp4,0,0,100)\n",
    "cmp.calc_nt(pair_v_i_stp4,1,100,200)\n",
    "cmp.calc_nt(pair_v_i_stp4,2,200,280)\n",
    "cmp.calc_nt(pair_v_i_stp4,3,280,320)\n",
    "cmp.calc_nt(pair_v_i_stp4,4,320,432)\n",
    "cmp.calc_nt(pair_v_i_stp4,5,0,432)"
   ]
  },
  {
   "cell_type": "code",
   "execution_count": 23,
   "metadata": {},
   "outputs": [
    {
     "name": "stdout",
     "output_type": "stream",
     "text": [
      "ds\tda\tdl\tno\tt0\tt1\n",
      "0.07089586421508128\t0.0\t0.0\t0\t0\t100\n",
      "0.11845957944546535\t0.0\t0.036389452384814995\t1\t100\t200\n",
      "0.04195924779303895\t0.0\t0.032186433697426915\t2\t200\t280\n",
      "0.2622782694793313\t0.0\t0.07203052825801613\t3\t280\t320\n",
      "0.13862466446386373\t0.0\t0.0\t4\t320\t432\n",
      "0.11093308872908357\t0.0\t0.02582081487119092\t5\t0\t432\n"
     ]
    }
   ],
   "source": [
    "## reproduce d_tested results for pair v-i (uninterpolated; bin 8 step 4) in Figure\n",
    "## 11a using the same output above from the function cmp.spa_angpre_len_dif\n",
    "#v_i stp4_test.txt\n",
    "print('ds\\tda\\tdl\\tno\\tt0\\tt1')\n",
    "cmp.calc(pair_v_i_stp4,0,0,100)\n",
    "cmp.calc(pair_v_i_stp4,1,100,200)\n",
    "cmp.calc(pair_v_i_stp4,2,200,280)\n",
    "cmp.calc(pair_v_i_stp4,3,280,320)\n",
    "cmp.calc(pair_v_i_stp4,4,320,432)\n",
    "cmp.calc(pair_v_i_stp4,5,0,432)"
   ]
  },
  {
   "cell_type": "markdown",
   "metadata": {},
   "source": [
    "## pair v-i (uninterpolated; bin 12 Myr, step 6 Myr)"
   ]
  },
  {
   "cell_type": "code",
   "execution_count": null,
   "metadata": {},
   "outputs": [],
   "source": [
    "## calculate pair v-i (uninterpolated; bin 12 step 6)'s difference scores in terms of\n",
    "## space (coeval poles), angle and length (coeval segments)\n",
    "copy_tree(\"data/Baltica_StableEurope_F6_RM_stp6\",\"/tmp\")\n",
    "cmp.spa_angpre_len_dif('data/rot_version/Laurentia_F6_RM_stp6_GMAP2015BALcoord.txt',\n",
    "                       'data/Baltica_StableEurope_F6_RM_stp6.txt',\n",
    "                       pnh1=0,pnh2=1)\n",
    "# the results should be the same as stored in data/0.result_tables/stp6.txt"
   ]
  },
  {
   "cell_type": "code",
   "execution_count": 24,
   "metadata": {},
   "outputs": [
    {
     "name": "stdout",
     "output_type": "stream",
     "text": [
      "ds\tda\tdl\tno\tt0\tt1\n",
      "0.13479526029554387\t0.4867079097798532\t0.16696593446115385\t0\t0\t102\n",
      "0.17516323730799446\t0.28708755113419193\t0.1784577464625825\t1\t102\t198\n",
      "0.11446606473210975\t0.38349057501707273\t0.1546803621316973\t2\t198\t282\n",
      "0.2863871758464745\t0.45186958304647773\t0.16868394721492916\t3\t282\t324\n",
      "0.13790886848679304\t0.14300401581240743\t0.13360093644690493\t4\t324\t432\n",
      "0.15905167428991887\t0.3773495158281903\t0.16373516116353126\t5\t0\t432\n"
     ]
    }
   ],
   "source": [
    "## reproduce d_notest results for pair v-i (uninterpolated; bin 12 step 6) in Figure\n",
    "## 11b using the output above from the function cmp.spa_angpre_len_dif\n",
    "pair_v_i_stp6=cmp.ppf3('data/0.result_tables/stp6.txt')\n",
    "#v_i stp6_ntest.txt\n",
    "print('ds\\tda\\tdl\\tno\\tt0\\tt1')\n",
    "cmp.calc_nt(pair_v_i_stp6,0,0,102)\n",
    "cmp.calc_nt(pair_v_i_stp6,1,102,198)\n",
    "cmp.calc_nt(pair_v_i_stp6,2,198,282)\n",
    "cmp.calc_nt(pair_v_i_stp6,3,282,324)\n",
    "cmp.calc_nt(pair_v_i_stp6,4,324,432)\n",
    "cmp.calc_nt(pair_v_i_stp6,5,0,432)"
   ]
  },
  {
   "cell_type": "code",
   "execution_count": 25,
   "metadata": {},
   "outputs": [
    {
     "name": "stdout",
     "output_type": "stream",
     "text": [
      "ds\tda\tdl\tno\tt0\tt1\n",
      "0.0796366211957521\t0.0\t0.0\t0\t0\t102\n",
      "0.09507983827926063\t0.0\t0.034369626045534236\t1\t102\t198\n",
      "0.026787580509494133\t0.0\t0.0\t2\t198\t282\n",
      "0.2863871758464745\t0.0\t0.0\t3\t282\t324\n",
      "0.043346964380049764\t0.0\t0.044544736735248724\t4\t324\t432\n",
      "0.09020193986950878\t0.0\t0.027132175597644026\t5\t0\t432\n"
     ]
    }
   ],
   "source": [
    "## reproduce d_tested results for pair v-i (uninterpolated; bin 12 step 6) in Figure\n",
    "## 11b using the same output above from the function cmp.spa_angpre_len_dif\n",
    "#v_i stp6_test.txt\n",
    "print('ds\\tda\\tdl\\tno\\tt0\\tt1')\n",
    "cmp.calc(pair_v_i_stp6,0,0,102)\n",
    "cmp.calc(pair_v_i_stp6,1,102,198)\n",
    "cmp.calc(pair_v_i_stp6,2,198,282)\n",
    "cmp.calc(pair_v_i_stp6,3,282,324)\n",
    "cmp.calc(pair_v_i_stp6,4,324,432)\n",
    "cmp.calc(pair_v_i_stp6,5,0,432)"
   ]
  },
  {
   "cell_type": "markdown",
   "metadata": {},
   "source": [
    "## pair v-i (uninterpolated; bin 16 Myr, step 8 Myr)"
   ]
  },
  {
   "cell_type": "code",
   "execution_count": null,
   "metadata": {},
   "outputs": [],
   "source": [
    "## calculate pair v-i (uninterpolated; bin 16 step 8)'s difference scores in terms of\n",
    "## space (coeval poles), angle and length (coeval segments)\n",
    "copy_tree(\"data/Baltica_StableEurope_F6_RM_stp8\",\"/tmp\")\n",
    "cmp.spa_angpre_len_dif('data/rot_version/Laurentia_F6_RM_stp8_GMAP2015BALcoord.txt',\n",
    "                       'data/Baltica_StableEurope_F6_RM_stp8.txt',\n",
    "                       pnh1=0,pnh2=1)\n",
    "# the results should be the same as stored in data/0.result_tables/stp8.txt"
   ]
  },
  {
   "cell_type": "code",
   "execution_count": 26,
   "metadata": {},
   "outputs": [
    {
     "name": "stdout",
     "output_type": "stream",
     "text": [
      "ds\tda\tdl\tno\tt0\tt1\n",
      "0.11215826253805945\t0.5138513685563888\t0.10712709007575096\t0\t0\t104\n",
      "0.16511983276071432\t0.35231170481395074\t0.21916664555662618\t1\t104\t200\n",
      "0.10967789212354384\t0.3967831561728149\t0.13890111882128364\t2\t200\t280\n",
      "0.3081426483535621\t0.42848785261708316\t0.1802621667260313\t3\t280\t320\n",
      "0.16813929604791303\t0.375796316450635\t0.13350135644622085\t4\t320\t432\n",
      "0.15359673256539183\t0.40000166800647285\t0.15151838758804373\t5\t0\t432\n"
     ]
    }
   ],
   "source": [
    "## reproduce d_notest results for pair v-i (uninterpolated; bin 16 step 8) in Figure\n",
    "## 11c using the output above from the function cmp.spa_angpre_len_dif\n",
    "pair_v_i_stp8=cmp.ppf3('data/0.result_tables/stp8.txt')\n",
    "#v_i stp8_ntest.txt\n",
    "print('ds\\tda\\tdl\\tno\\tt0\\tt1')\n",
    "cmp.calc_nt(pair_v_i_stp8,0,0,104)\n",
    "cmp.calc_nt(pair_v_i_stp8,1,104,200)\n",
    "cmp.calc_nt(pair_v_i_stp8,2,200,280)\n",
    "cmp.calc_nt(pair_v_i_stp8,3,280,320)\n",
    "cmp.calc_nt(pair_v_i_stp8,4,320,432)\n",
    "cmp.calc_nt(pair_v_i_stp8,5,0,432)"
   ]
  },
  {
   "cell_type": "code",
   "execution_count": 27,
   "metadata": {},
   "outputs": [
    {
     "name": "stdout",
     "output_type": "stream",
     "text": [
      "ds\tda\tdl\tno\tt0\tt1\n",
      "0.047911641984121636\t0.0\t0.0\t0\t0\t104\n",
      "0.11956535291688482\t0.0\t0.04188406190880708\t1\t104\t200\n",
      "0.021298455611132472\t0.0\t0.0\t2\t200\t280\n",
      "0.3081426483535621\t0.0\t0.0\t3\t280\t320\n",
      "0.0947402639756929\t0.0\t0.053967404491233904\t4\t320\t432\n",
      "0.09117627892481336\t0.0\t0.023299118625610366\t5\t0\t432\n"
     ]
    }
   ],
   "source": [
    "## reproduce d_tested results for pair v-i (uninterpolated; bin 16 step 8) in Figure\n",
    "## 11c using the same output above from the function cmp.spa_angpre_len_dif\n",
    "#v_i stp8_test.txt\n",
    "print('ds\\tda\\tdl\\tno\\tt0\\tt1')\n",
    "cmp.calc(pair_v_i_stp8,0,0,104)\n",
    "cmp.calc(pair_v_i_stp8,1,104,200)\n",
    "cmp.calc(pair_v_i_stp8,2,200,280)\n",
    "cmp.calc(pair_v_i_stp8,3,280,320)\n",
    "cmp.calc(pair_v_i_stp8,4,320,432)\n",
    "cmp.calc(pair_v_i_stp8,5,0,432)"
   ]
  },
  {
   "cell_type": "markdown",
   "metadata": {},
   "source": [
    "## pair v-i (uninterpolated; bin 20 Myr, step 10 Myr)"
   ]
  },
  {
   "cell_type": "code",
   "execution_count": null,
   "metadata": {},
   "outputs": [],
   "source": [
    "## calculate pair v-i (uninterpolated)'s difference scores in terms of\n",
    "## space (coeval poles), angle and length (coeval segments)\n",
    "copy_tree(\"data/rot_version/Laurentia_F6_RM_GMAP2015BALcoord\",\"/tmp\")\n",
    "copy_tree(\"data/Baltica_StableEurope_F6_RM\",\"/tmp\")\n",
    "cmp.spa_angpre_len_dif('data/rot_version/Laurentia_F6_RM_GMAP2015BALcoord.txt',\n",
    "                       'data/Baltica_StableEurope_F6_RM.txt',\n",
    "                       pnh1=0,pnh2=1)\n",
    "# the results should be the same as stored in\n",
    "# data/0.result_tables/v_i_LaureF6RMgmap2015BALcoord_BalF6RM.txt"
   ]
  },
  {
   "cell_type": "code",
   "execution_count": 28,
   "metadata": {},
   "outputs": [
    {
     "name": "stdout",
     "output_type": "stream",
     "text": [
      "ds\tda\tdl\tno\tt0\tt1\n",
      "0.10799163338819137\t0.5831435834757162\t0.06039215698680937\t0\t0\t100\n",
      "0.14088555971381247\t0.42435339088256957\t0.1571594779742826\t1\t100\t200\n",
      "0.10612454213309036\t0.365272484455754\t0.14523851880936933\t2\t200\t280\n",
      "0.28996316838673214\t0.5651518843799963\t0.10986373583020166\t3\t280\t320\n",
      "0.13864867060086583\t0.15780966540037025\t0.15275806228831662\t4\t320\t430\n",
      "0.13975708066709464\t0.3957881760300837\t0.12691204950181778\t5\t0\t430\n"
     ]
    }
   ],
   "source": [
    "## reproduce d_notest results for pair v-i (uninterpolated) in Figure\n",
    "## 11d using the output above from the function cmp.spa_angpre_len_dif\n",
    "pair_v_i_stp10=cmp.ppf3('data/0.result_tables/v_i_LaureF6RMgmap2015BALcoord_BalF6RM.txt')\n",
    "#v_i stp10_ntest.txt\n",
    "print('ds\\tda\\tdl\\tno\\tt0\\tt1')\n",
    "cmp.calc_nt(pair_v_i_stp10,0,0,100)\n",
    "cmp.calc_nt(pair_v_i_stp10,1,100,200)\n",
    "cmp.calc_nt(pair_v_i_stp10,2,200,280)\n",
    "cmp.calc_nt(pair_v_i_stp10,3,280,320)\n",
    "cmp.calc_nt(pair_v_i_stp10,4,320,430)\n",
    "cmp.calc_nt(pair_v_i_stp10,5,0,430)"
   ]
  },
  {
   "cell_type": "code",
   "execution_count": 29,
   "metadata": {},
   "outputs": [
    {
     "name": "stdout",
     "output_type": "stream",
     "text": [
      "ds\tda\tdl\tno\tt0\tt1\n",
      "0.04419549615754297\t0.0\t0.0\t0\t0\t100\n",
      "0.06604746085768656\t0.0\t0.03237979956760407\t1\t100\t200\n",
      "0.02658221857196827\t0.0\t0.0\t2\t200\t280\n",
      "0.28996316838673214\t0.0\t0.0\t3\t280\t320\n",
      "0.05652227149518458\t0.0\t0.06657413517909282\t4\t320\t430\n",
      "0.06913839372806609\t0.0\t0.024560778666187482\t5\t0\t430\n"
     ]
    }
   ],
   "source": [
    "## reproduce d_tested results for pair v-i (uninterpolated) in Figure\n",
    "## 11d using the same output above from the function cmp.spa_angpre_len_dif\n",
    "#v_i stp10_test.txt\n",
    "print('ds\\tda\\tdl\\tno\\tt0\\tt1')\n",
    "cmp.calc(pair_v_i_stp10,0,0,100)\n",
    "cmp.calc(pair_v_i_stp10,1,100,200)\n",
    "cmp.calc(pair_v_i_stp10,2,200,280)\n",
    "cmp.calc(pair_v_i_stp10,3,280,320)\n",
    "cmp.calc(pair_v_i_stp10,4,320,430)\n",
    "cmp.calc(pair_v_i_stp10,5,0,430)"
   ]
  },
  {
   "cell_type": "markdown",
   "metadata": {},
   "source": [
    "## pair v-i (uninterpolated; bin 24 Myr, step 12 Myr)"
   ]
  },
  {
   "cell_type": "code",
   "execution_count": null,
   "metadata": {},
   "outputs": [],
   "source": [
    "## calculate pair v-i (uninterpolated; bin 24 step 12)'s difference scores in terms of\n",
    "## space (coeval poles), angle and length (coeval segments)\n",
    "copy_tree(\"data/rot_version/Laurentia_F6_RM_stp12_GMAP2015BALcoord\",\"/tmp\")\n",
    "copy_tree(\"data/Baltica_StableEurope_F6_RM_stp12\",\"/tmp\")\n",
    "cmp.spa_angpre_len_dif('data/rot_version/Laurentia_F6_RM_stp12_GMAP2015BALcoord.txt',\n",
    "                       'data/Baltica_StableEurope_F6_RM_stp12.txt',\n",
    "                       pnh1=0,pnh2=1)\n",
    "# the results should be the same as stored in data/0.result_tables/stp12.txt"
   ]
  },
  {
   "cell_type": "code",
   "execution_count": 30,
   "metadata": {},
   "outputs": [
    {
     "name": "stdout",
     "output_type": "stream",
     "text": [
      "ds\tda\tdl\tno\tt0\tt1\n",
      "0.1028850067785222\t0.46678587624615875\t0.046231169856320024\t0\t0\t96\n",
      "0.1292373168031566\t0.3091686989006528\t0.17928963066819184\t1\t96\t204\n",
      "0.10165590888284332\t0.30191875889277764\t0.07834646332609962\t2\t204\t276\n",
      "0.23071352626479374\t0.6507660583145556\t0.14480401144417307\t3\t276\t324\n",
      "0.12330830121123898\t0.16951691690000004\t0.06556327001473632\t4\t324\t432\n",
      "0.13281800898076074\t0.3650317824311219\t0.1006338969647279\t5\t0\t432\n"
     ]
    }
   ],
   "source": [
    "## reproduce d_notest results for pair v-i (uninterpolated; bin 24 step 12) in Figure\n",
    "## 11f using the output above from the function cmp.spa_angpre_len_dif\n",
    "pair_v_i_stp12=cmp.ppf3('data/0.result_tables/stp12.txt')\n",
    "#v_i stp12_ntest.txt\n",
    "print('ds\\tda\\tdl\\tno\\tt0\\tt1')\n",
    "cmp.calc_nt(pair_v_i_stp12,0,0,96)\n",
    "cmp.calc_nt(pair_v_i_stp12,1,96,204)\n",
    "cmp.calc_nt(pair_v_i_stp12,2,204,276)\n",
    "cmp.calc_nt(pair_v_i_stp12,3,276,324)\n",
    "cmp.calc_nt(pair_v_i_stp12,4,324,432)\n",
    "cmp.calc_nt(pair_v_i_stp12,5,0,432)"
   ]
  },
  {
   "cell_type": "code",
   "execution_count": 31,
   "metadata": {},
   "outputs": [
    {
     "name": "stdout",
     "output_type": "stream",
     "text": [
      "ds\tda\tdl\tno\tt0\tt1\n",
      "0.02810811353344097\t0.0\t0.0\t0\t0\t96\n",
      "0.053439917581842876\t0.0\t0.05101169608468492\t1\t96\t204\n",
      "0.06325661153384379\t0.0\t0.0\t2\t204\t276\n",
      "0.21382472114043094\t0.0\t0.0\t3\t276\t324\n",
      "0.0\t0.0\t0.0\t4\t324\t432\n",
      "0.06372734435578983\t0.0\t0.01275292402117123\t5\t0\t432\n"
     ]
    }
   ],
   "source": [
    "## reproduce d_tested results for pair v-i (uninterpolated; bin 24 step 12) in Figure\n",
    "## 11f using the same output above from the function cmp.spa_angpre_len_dif\n",
    "#v_i stp12_test.txt\n",
    "print('ds\\tda\\tdl\\tno\\tt0\\tt1')\n",
    "cmp.calc(pair_v_i_stp12,0,0,96)\n",
    "cmp.calc(pair_v_i_stp12,1,96,204)\n",
    "cmp.calc(pair_v_i_stp12,2,204,276)\n",
    "cmp.calc(pair_v_i_stp12,3,276,324)\n",
    "cmp.calc(pair_v_i_stp12,4,324,432)\n",
    "cmp.calc(pair_v_i_stp12,5,0,432)"
   ]
  },
  {
   "cell_type": "code",
   "execution_count": null,
   "metadata": {},
   "outputs": [],
   "source": []
  }
 ],
 "metadata": {
  "kernelspec": {
   "display_name": "Python 3",
   "language": "python",
   "name": "python3"
  },
  "language_info": {
   "codemirror_mode": {
    "name": "ipython",
    "version": 3
   },
   "file_extension": ".py",
   "mimetype": "text/x-python",
   "name": "python",
   "nbconvert_exporter": "python",
   "pygments_lexer": "ipython3",
   "version": "3.7.2"
  }
 },
 "nbformat": 4,
 "nbformat_minor": 2
}
