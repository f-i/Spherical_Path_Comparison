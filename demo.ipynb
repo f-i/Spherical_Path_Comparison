{
 "cells": [
  {
   "cell_type": "markdown",
   "metadata": {},
   "source": [
    "First, for operating system, Linux or MacOS is recommended. If you use Windows, please change all the directories leading with \"/tmp\" in the file \"spComparison/spcmp.py\" and this \"demo.ipynb\" file into any directory you prefer (e.g. \"C:\\tmp\") in your Windows system. In addition, for Windows user, it is recommended to install Cygwin (https://www.cygwin.com/) first, in order to have a Linux-like environment with tools like Bash, bc, etc.\n",
    "\n",
    "Second, you need to have a functional Python 3.6 or 3.7 installed. Installing Python through MiniConda (https://docs.conda.io/en/latest/miniconda.html) is recommended. Then use pip to install NumPy and Numba.\n",
    "\n",
    "Third, you need to have a functional GMT5 installed. Please refer to http://gmt.soest.hawaii.edu/projects/gmt/wiki/Installing for its installing instructions.\n",
    "\n",
    "# Introducing Use of the Core Function \"spa_angpre_len_dif\"\n",
    "\n",
    "Then, let's get started with an example from pair A (Figure 3a in the paper https://github.com/f-i/APWP_similarity)."
   ]
  },
  {
   "cell_type": "code",
   "execution_count": 1,
   "metadata": {},
   "outputs": [],
   "source": [
    "## import Python modules\n",
    "# import Python's sys (System-specific parameters and functions) module\n",
    "import sys\n",
    "# import Python's copytree module\n",
    "from distutils.dir_util import copy_tree\n",
    "# add this directory for Python searching non-standard modules, like our own modules\n",
    "sys.path.append('.')  #only accept relative dir\n",
    "# import my own module\n",
    "import spComparison.spcmp as cmp"
   ]
  },
  {
   "cell_type": "code",
   "execution_count": null,
   "metadata": {},
   "outputs": [
    {
     "name": "stdout",
     "output_type": "stream",
     "text": [
      "00_no\t01_tstop\t10_spa_pol_dif\t11_spa_pol_tes\t20_ang_seg_dif\t21_ang_seg_tes\t30_len_seg_dif\t31_len_seg_tes\t22_course_seg1\t23_course_seg2\t32_len_seg1\t33_len_seg2\n",
      "0\t0.0\t0.06950468110321331\t0\tnan\tnan\tnan\tnan\tnan\tnan\tnan\tnan\n",
      "1\t10.0\t0.07012239182561895\t0\tnan\tnan\t0.\t0\t273.743775125\t273.149982677\t0.5238885648671224\t0.5238885648601654\n",
      "2\t20.0\t0.12965232767905435\t0\t0.\t0\t0.\t0\t139.00062497750002\t139.0006249778\t4.4390170905897985\t4.439017090586511\n"
     ]
    }
   ],
   "source": [
    "## calculate pair A's difference scores in terms of space (coeval poles), angle and\n",
    "## length (coeval segments); NOTE THAT THIS COULD TAKE HOURS (Depends on your OS and Hardwares)\n",
    "# copy raw VGP locations (only for poles with their N greater than 25) to /tmp\n",
    "copy_tree(\"data/Laurentia_RM\", \"/tmp\")\n",
    "copy_tree(\"data/rot_version/Laurentia_RM_1deg\",\"/tmp\")\n",
    "# rum our spa_angpre_len_dif function to calculate difference scores\n",
    "cmp.spa_angpre_len_dif('data/Laurentia_RM.txt',\n",
    "                       'data/rot_version/Laurentia_RM_1deg.txt',\n",
    "                       pnh1=1,pnh2=0)\n",
    "# the results should be the same as stored in\n",
    "# data/0.result_tables/pairA_LaurentiaRM_LaurentiaRM1deg.txt"
   ]
  },
  {
   "cell_type": "markdown",
   "metadata": {},
   "source": [
    "The above results displayed have 12 columns.\n",
    "\n",
    "\t00_no:\t\t\tindex / order number\n",
    "\t01_tstop:\t\tpole age\n",
    "\t10_spa_pol_dif:\tspacial difference of each coeval pole pair\n",
    "\t11_spa_pol_tes:\t1 or 0, i.e., distinguishable or indistinguishable\n",
    "\t\t\t\t\tspacial relationship of coeval uncertainties\n",
    "\t20_ang_seg_dif:\tangular difference of each coeval segment pair\n",
    "\t21_ang_seg_tes:\t1 or 0, i.e., a significant or no significant angular difference,\n",
    "\t\t\t\t\tbased on random sampling from pole uncertainties\n",
    "\t30_len_seg_dif:\tlength difference of each coeval segment pair\n",
    "\t31_len_seg_tes:\t1 or 0, i.e., a significant or no significant length difference,\n",
    "\t\t\t\t\tbased on random sampling from pole uncertainties\n",
    "    22_course_seg1: trajectory I's each segment's orientational change\n",
    "    23_course_seg2: trajectory II's each contemporary segment's orientational change\n",
    "    32_len_seg1: trajectory I's each segment's length\n",
    "    33_len_seg2: trajectory II's each contemporary segment's length"
   ]
  },
  {
   "cell_type": "code",
   "execution_count": 3,
   "metadata": {},
   "outputs": [
    {
     "name": "stdout",
     "output_type": "stream",
     "text": [
      "ds\tda\tdl\tno\tt0\tt1\n",
      "0.004023131262715884\t0.0\t0.0\t0\t0\t100\n",
      "0.007986006837318843\t0.0\t0.0\t1\t100\t200\n",
      "0.012679280865410706\t0.0\t0.0\t2\t200\t300\n",
      "0.018235744587828718\t0.0\t0.0\t3\t300\t400\n",
      "0.01946664767344485\t0.0\t0.0\t4\t400\t530\n",
      "0.012871529337939955\t0.0\t0.0\t5\t0\t530\n"
     ]
    }
   ],
   "source": [
    "## reproduce results for pair A in Figures 6a, 6c, 6e using the output above\n",
    "## from the function cmp.spa_angpre_len_dif\n",
    "pairA=cmp.ppf3('data/0.result_tables/pairA_LaurentiaRM_LaurentiaRM1deg.txt')\n",
    "#pairA_.txt without test\n",
    "print('ds\\tda\\tdl\\tno\\tt0\\tt1')\n",
    "cmp.calc_nt(pairA,0,0,100)\n",
    "cmp.calc_nt(pairA,1,100,200)\n",
    "cmp.calc_nt(pairA,2,200,300)\n",
    "cmp.calc_nt(pairA,3,300,400)\n",
    "cmp.calc_nt(pairA,4,400,530)\n",
    "cmp.calc_nt(pairA,5,0,530)"
   ]
  },
  {
   "cell_type": "markdown",
   "metadata": {},
   "source": [
    "The above results displayed own 6 columns.\n",
    "\n",
    "    ds: untested mean spatial difference score\n",
    "    da: untested mean angular difference score\n",
    "    dl: untested mean length difference score\n",
    "    no: index / order number\n",
    "    t0: beginning pole age of the specific path\n",
    "    t1: end pole age of the specific path"
   ]
  },
  {
   "cell_type": "code",
   "execution_count": 4,
   "metadata": {},
   "outputs": [
    {
     "name": "stdout",
     "output_type": "stream",
     "text": [
      "ds\tda\tdl\tno\tt0\tt1\n",
      "0.0\t0.0\t0.0\t0\t0\t100\n",
      "0.0\t0.0\t0.0\t1\t100\t200\n",
      "0.0\t0.0\t0.0\t2\t200\t300\n",
      "0.006881704376822442\t0.0\t0.0\t3\t300\t400\n",
      "0.004130910260684836\t0.0\t0.0\t4\t400\t530\n",
      "0.0024728054036043438\t0.0\t0.0\t5\t0\t530\n"
     ]
    }
   ],
   "source": [
    "## reproduce results for pair A in Figures 6b, 6d, 6f using the same output above\n",
    "## from the function cmp.spa_angpre_len_dif\n",
    "#pairA.txt with test\n",
    "print('ds\\tda\\tdl\\tno\\tt0\\tt1')\n",
    "cmp.calc(pairA,0,0,100)\n",
    "cmp.calc(pairA,1,100,200)\n",
    "cmp.calc(pairA,2,200,300)\n",
    "cmp.calc(pairA,3,300,400)\n",
    "cmp.calc(pairA,4,400,530)\n",
    "cmp.calc(pairA,5,0,530)"
   ]
  },
  {
   "cell_type": "markdown",
   "metadata": {},
   "source": [
    "The above results displayed also own 6 columns.\n",
    "\n",
    "    ds: tested mean spatial difference score\n",
    "    da: tested mean angular difference score\n",
    "    dl: tested mean length difference score\n",
    "    no: index / order number\n",
    "    t0: beginning pole age of the specific path\n",
    "    t1: end pole age of the specific path"
   ]
  },
  {
   "cell_type": "markdown",
   "metadata": {},
   "source": [
    "# Reproducing Results for the Other Five Pairs Using the Same Procedure Above\n",
    "\n",
    "## pair B"
   ]
  },
  {
   "cell_type": "code",
   "execution_count": null,
   "metadata": {},
   "outputs": [],
   "source": [
    "## calculate pair B's difference scores in terms of space (coeval poles), angle and\n",
    "## length (coeval segments)\n",
    "copy_tree(\"data/rot_version/Laurentia_RM_15deg\",\"/tmp\")\n",
    "cmp.spa_angpre_len_dif('data/Laurentia_RM.txt',\n",
    "                       'data/rot_version/Laurentia_RM_15deg.txt',\n",
    "                       pnh1=1,pnh2=0)\n",
    "# the results should be the same as stored in\n",
    "# data/0.result_tables/pairB_LaurentiaRM_LaurentiaRM15deg.txt"
   ]
  },
  {
   "cell_type": "code",
   "execution_count": 2,
   "metadata": {},
   "outputs": [
    {
     "name": "stdout",
     "output_type": "stream",
     "text": [
      "ds\tda\tdl\tno\tt0\tt1\n",
      "0.06018565442887694\t0.0\t0.0\t0\t0\t100\n",
      "0.11951075417785047\t0.0\t0.0\t1\t100\t200\n",
      "0.18987624618932064\t0.0\t0.0\t2\t200\t300\n",
      "0.27341452084170853\t0.0\t0.0\t3\t300\t400\n",
      "0.29195711704472566\t0.0\t0.0\t4\t400\t530\n",
      "0.1928983752638573\t0.0\t0.0\t5\t0\t530\n"
     ]
    }
   ],
   "source": [
    "## reproduce results for pair B in Figures 6a, 6c, 6e using the output above\n",
    "## from the function cmp.spa_angpre_len_dif\n",
    "pairB=cmp.ppf3('data/0.result_tables/pairB_LaurentiaRM_LaurentiaRM15deg.txt')\n",
    "#pairB_.txt without test\n",
    "print('ds\\tda\\tdl\\tno\\tt0\\tt1')\n",
    "cmp.calc_nt(pairB,0,0,100)\n",
    "cmp.calc_nt(pairB,1,100,200)\n",
    "cmp.calc_nt(pairB,2,200,300)\n",
    "cmp.calc_nt(pairB,3,300,400)\n",
    "cmp.calc_nt(pairB,4,400,530)\n",
    "cmp.calc_nt(pairB,5,0,530)"
   ]
  },
  {
   "cell_type": "code",
   "execution_count": 3,
   "metadata": {},
   "outputs": [
    {
     "name": "stdout",
     "output_type": "stream",
     "text": [
      "ds\tda\tdl\tno\tt0\tt1\n",
      "0.0\t0.0\t0.0\t0\t0\t100\n",
      "0.02452207584754257\t0.0\t0.0\t1\t100\t200\n",
      "0.17214017750222857\t0.0\t0.0\t2\t200\t300\n",
      "0.27341452084170853\t0.0\t0.0\t3\t300\t400\n",
      "0.18753232193044467\t0.0\t0.0\t4\t400\t530\n",
      "0.13206089460320947\t0.0\t0.0\t5\t0\t530\n"
     ]
    }
   ],
   "source": [
    "## reproduce results for pair B in Figures 6b, 6d, 6f using the same output above\n",
    "## from the function cmp.spa_angpre_len_dif\n",
    "#pairB.txt with test\n",
    "print('ds\\tda\\tdl\\tno\\tt0\\tt1')\n",
    "cmp.calc(pairB,0,0,100)\n",
    "cmp.calc(pairB,1,100,200)\n",
    "cmp.calc(pairB,2,200,300)\n",
    "cmp.calc(pairB,3,300,400)\n",
    "cmp.calc(pairB,4,400,530)\n",
    "cmp.calc(pairB,5,0,530)"
   ]
  },
  {
   "cell_type": "markdown",
   "metadata": {},
   "source": [
    "## pair C"
   ]
  },
  {
   "cell_type": "code",
   "execution_count": null,
   "metadata": {},
   "outputs": [],
   "source": [
    "## calculate pair C's difference scores in terms of space (coeval poles), angle and\n",
    "## length (coeval segments)\n",
    "copy_tree(\"data/rot_version/Laurentia_RM_po_15deg\",\"/tmp\")\n",
    "cmp.spa_angpre_len_dif('data/Laurentia_RM.txt',\n",
    "                       'data/rot_version/Laurentia_RM_po_15deg.txt',\n",
    "                       pnh1=1,pnh2=0)\n",
    "# the results should be the same as stored in\n",
    "# data/0.result_tables/pairC_LaurentiaRM_LaurentiaRMpo15deg.txt"
   ]
  },
  {
   "cell_type": "code",
   "execution_count": 4,
   "metadata": {},
   "outputs": [
    {
     "name": "stdout",
     "output_type": "stream",
     "text": [
      "ds\tda\tdl\tno\tt0\tt1\n",
      "0.060179524592502295\t0.24790732639537033\t1.0905640046804856e-05\t0\t0\t100\n",
      "0.11948928991824084\t0.2283843537798148\t0.0001096116344275399\t1\t100\t200\n",
      "0.1897653823765637\t0.4897948633596197\t2.7047084440588792e-05\t2\t200\t300\n",
      "0.27310680364795525\t0.3579541481306791\t0.00011034440982000611\t3\t300\t400\n",
      "0.2918073308934256\t0.3278328522055788\t0.0001996424474577322\t4\t400\t530\n",
      "0.19278564167708362\t0.32821897320673443\t9.763093404339463e-05\t5\t0\t530\n"
     ]
    }
   ],
   "source": [
    "## reproduce results for pair C in Figures 6a, 6c, 6e using the output above\n",
    "## from the function cmp.spa_angpre_len_dif\n",
    "pairC=cmp.ppf3('data/0.result_tables/pairC_LaurentiaRM_LaurentiaRMpo15deg.txt')\n",
    "#pairC_.txt without test\n",
    "print('ds\\tda\\tdl\\tno\\tt0\\tt1')\n",
    "cmp.calc_nt(pairC,0,0,100)\n",
    "cmp.calc_nt(pairC,1,100,200)\n",
    "cmp.calc_nt(pairC,2,200,300)\n",
    "cmp.calc_nt(pairC,3,300,400)\n",
    "cmp.calc_nt(pairC,4,400,530)\n",
    "cmp.calc_nt(pairC,5,0,530)"
   ]
  },
  {
   "cell_type": "code",
   "execution_count": 5,
   "metadata": {},
   "outputs": [
    {
     "name": "stdout",
     "output_type": "stream",
     "text": [
      "ds\tda\tdl\tno\tt0\tt1\n",
      "0.0\t0.0\t0.0\t0\t0\t100\n",
      "0.024511167393754963\t0.0\t0.0\t1\t100\t200\n",
      "0.17204153054667518\t0.10183802030481481\t0.0\t2\t200\t300\n",
      "0.27310680364795525\t0.0983773321814815\t2.2421740928911606e-05\t3\t300\t400\n",
      "0.18740701021938655\t0.0\t7.216273757176646e-07\t4\t400\t530\n",
      "0.13196018041953333\t0.03465265716108974\t4.407520097612184e-06\t5\t0\t530\n"
     ]
    }
   ],
   "source": [
    "## reproduce results for pair C in Figures 6b, 6d, 6f using the same output above\n",
    "## from the function cmp.spa_angpre_len_dif\n",
    "#pairC.txt with test\n",
    "print('ds\\tda\\tdl\\tno\\tt0\\tt1')\n",
    "cmp.calc(pairC,0,0,100)\n",
    "cmp.calc(pairC,1,100,200)\n",
    "cmp.calc(pairC,2,200,300)\n",
    "cmp.calc(pairC,3,300,400)\n",
    "cmp.calc(pairC,4,400,530)\n",
    "cmp.calc(pairC,5,0,530)"
   ]
  },
  {
   "cell_type": "markdown",
   "metadata": {},
   "source": [
    "## pair D"
   ]
  },
  {
   "cell_type": "code",
   "execution_count": null,
   "metadata": {},
   "outputs": [],
   "source": [
    "## calculate pair D's difference scores in terms of space (coeval poles), angle and\n",
    "## length (coeval segments)\n",
    "copy_tree(\"data/rot_version/Laurentia_RM_p_15deg\",\"/tmp\")\n",
    "cmp.spa_angpre_len_dif('data/Laurentia_RM.txt',\n",
    "                       'data/rot_version/Laurentia_RM_p_15deg.txt',\n",
    "                       pnh1=1,pnh2=0)\n",
    "# the results should be the same as stored in\n",
    "# data/0.result_tables/pairD_LaurentiaRM_LaurentiaRMp15deg.txt"
   ]
  },
  {
   "cell_type": "code",
   "execution_count": 6,
   "metadata": {},
   "outputs": [
    {
     "name": "stdout",
     "output_type": "stream",
     "text": [
      "ds\tda\tdl\tno\tt0\tt1\n",
      "0.0601804953535425\t0.5020896657221604\t0.1242469695162171\t0\t0\t100\n",
      "0.11946892740034999\t0.5922044939625246\t0.1329337877885109\t1\t100\t200\n",
      "0.18976154831555006\t0.5804934235719901\t0.36609065818561376\t2\t200\t300\n",
      "0.2731263641477164\t0.5121743766190309\t0.5162692905782692\t3\t300\t400\n",
      "0.2916446594852434\t0.5685291350304167\t0.4509314758331272\t4\t400\t530\n",
      "0.19273680028530343\t0.5457373845189663\t0.32561351408522193\t5\t0\t530\n"
     ]
    }
   ],
   "source": [
    "## reproduce results for pair D in Figures 6a, 6c, 6e using the output above\n",
    "## from the function cmp.spa_angpre_len_dif\n",
    "pairD=cmp.ppf3('data/0.result_tables/pairD_LaurentiaRM_LaurentiaRMp15deg.txt')\n",
    "#pairD_.txt without test\n",
    "print('ds\\tda\\tdl\\tno\\tt0\\tt1')\n",
    "cmp.calc_nt(pairD,0,0,100)\n",
    "cmp.calc_nt(pairD,1,100,200)\n",
    "cmp.calc_nt(pairD,2,200,300)\n",
    "cmp.calc_nt(pairD,3,300,400)\n",
    "cmp.calc_nt(pairD,4,400,530)\n",
    "cmp.calc_nt(pairD,5,0,530)"
   ]
  },
  {
   "cell_type": "code",
   "execution_count": 7,
   "metadata": {},
   "outputs": [
    {
     "name": "stdout",
     "output_type": "stream",
     "text": [
      "ds\tda\tdl\tno\tt0\tt1\n",
      "0.0\t0.0\t0.0\t0\t0\t100\n",
      "0.0245146198623683\t0.0\t0.0\t1\t100\t200\n",
      "0.1720324242622825\t0.09753166968487655\t0.16947427972050066\t2\t200\t300\n",
      "0.2731263641477164\t0.20273891366180868\t0.3774520251613964\t3\t300\t400\n",
      "0.18735175977842114\t0.12854420865305555\t0.2501510071082986\t4\t400\t530\n",
      "0.13194281599422122\t0.08163395680686218\t0.16455143662692176\t5\t0\t530\n"
     ]
    }
   ],
   "source": [
    "## reproduce results for pair D in Figures 6b, 6d, 6f using the same output above\n",
    "## from the function cmp.spa_angpre_len_dif\n",
    "#pairD.txt with test\n",
    "print('ds\\tda\\tdl\\tno\\tt0\\tt1')\n",
    "cmp.calc(pairD,0,0,100)\n",
    "cmp.calc(pairD,1,100,200)\n",
    "cmp.calc(pairD,2,200,300)\n",
    "cmp.calc(pairD,3,300,400)\n",
    "cmp.calc(pairD,4,400,530)\n",
    "cmp.calc(pairD,5,0,530)"
   ]
  },
  {
   "cell_type": "markdown",
   "metadata": {},
   "source": [
    "## pair E"
   ]
  },
  {
   "cell_type": "code",
   "execution_count": null,
   "metadata": {},
   "outputs": [],
   "source": [
    "## calculate pair E's difference scores in terms of space (coeval poles), angle and\n",
    "## length (coeval segments)\n",
    "copy_tree(\"data/rot_version/Laurentia_RM_45deg\",\"/tmp\")\n",
    "cmp.spa_angpre_len_dif('data/Laurentia_RM.txt',\n",
    "                       'data/rot_version/Laurentia_RM_45deg.txt',\n",
    "                       pnh1=1,pnh2=0)\n",
    "# the results should be the same as stored in\n",
    "# data/0.result_tables/pairE_LaurentiaRM_LaurentiaRM45deg.txt"
   ]
  },
  {
   "cell_type": "code",
   "execution_count": 8,
   "metadata": {},
   "outputs": [
    {
     "name": "stdout",
     "output_type": "stream",
     "text": [
      "ds\tda\tdl\tno\tt0\tt1\n",
      "0.176682672802216\t0.0\t0.0\t0\t0\t100\n",
      "0.35176917694730764\t0.0\t0.0\t1\t100\t200\n",
      "0.561929737862065\t0.0\t0.0\t2\t200\t300\n",
      "0.8171727224060709\t0.0\t0.0\t3\t300\t400\n",
      "0.8747843279351402\t0.0\t0.0\t4\t400\t530\n",
      "0.5744135257153348\t0.0\t0.0\t5\t0\t530\n"
     ]
    }
   ],
   "source": [
    "## reproduce results for pair E in Figures 6a, 6c, 6e using the output above\n",
    "## from the function cmp.spa_angpre_len_dif\n",
    "pairE=cmp.ppf3('data/0.result_tables/pairE_LaurentiaRM_LaurentiaRM45deg.txt')\n",
    "#pairE_.txt without test\n",
    "print('ds\\tda\\tdl\\tno\\tt0\\tt1')\n",
    "cmp.calc_nt(pairE,0,0,100)\n",
    "cmp.calc_nt(pairE,1,100,200)\n",
    "cmp.calc_nt(pairE,2,200,300)\n",
    "cmp.calc_nt(pairE,3,300,400)\n",
    "cmp.calc_nt(pairE,4,400,530)\n",
    "cmp.calc_nt(pairE,5,0,530)"
   ]
  },
  {
   "cell_type": "code",
   "execution_count": 9,
   "metadata": {},
   "outputs": [
    {
     "name": "stdout",
     "output_type": "stream",
     "text": [
      "ds\tda\tdl\tno\tt0\tt1\n",
      "0.13418921255437907\t0.0\t0.0\t0\t0\t100\n",
      "0.3307515913351165\t0.0\t0.0\t1\t100\t200\n",
      "0.561929737862065\t0.0\t0.0\t2\t200\t300\n",
      "0.8171727224060709\t0.0\t0.0\t3\t300\t400\n",
      "0.8747843279351402\t0.0\t0.0\t4\t400\t530\n",
      "0.5657574504796643\t0.0\t0.0\t5\t0\t530\n"
     ]
    }
   ],
   "source": [
    "## reproduce results for pair E in Figures 6b, 6d, 6f using the same output above\n",
    "## from the function cmp.spa_angpre_len_dif\n",
    "#pairE.txt with test\n",
    "print('ds\\tda\\tdl\\tno\\tt0\\tt1')\n",
    "cmp.calc(pairE,0,0,100)\n",
    "cmp.calc(pairE,1,100,200)\n",
    "cmp.calc(pairE,2,200,300)\n",
    "cmp.calc(pairE,3,300,400)\n",
    "cmp.calc(pairE,4,400,530)\n",
    "cmp.calc(pairE,5,0,530)"
   ]
  },
  {
   "cell_type": "markdown",
   "metadata": {},
   "source": [
    "## pair F"
   ]
  },
  {
   "cell_type": "code",
   "execution_count": null,
   "metadata": {},
   "outputs": [],
   "source": [
    "## calculate pair F's difference scores in terms of space (coeval poles), angle and\n",
    "## length (coeval segments)\n",
    "copy_tree(\"data/Laurentia_RM_NoErr\",\"/tmp\")\n",
    "copy_tree(\"data/rot_version/Laurentia_RM_NoErr_45deg\",\"/tmp\")\n",
    "cmp.spa_angpre_len_dif('data/Laurentia_RM_NoErr.txt',\n",
    "                       'data/rot_version/Laurentia_RM_NoErr_45deg.txt',\n",
    "                       pnh1=1,pnh2=0)\n",
    "# the results should be the same as stored in\n",
    "# data/0.result_tables/pairF_LaurentiaRMnoErr_LaurentiaRMnoErr45deg.txt"
   ]
  },
  {
   "cell_type": "code",
   "execution_count": 10,
   "metadata": {},
   "outputs": [
    {
     "name": "stdout",
     "output_type": "stream",
     "text": [
      "ds\tda\tdl\tno\tt0\tt1\n",
      "0.176682672802216\t0.0\t0.0\t0\t0\t100\n",
      "0.35176917694730764\t0.0\t0.0\t1\t100\t200\n",
      "0.561929737862065\t0.0\t0.0\t2\t200\t300\n",
      "0.8171727224060709\t0.0\t0.0\t3\t300\t400\n",
      "0.8747843279351402\t0.0\t0.0\t4\t400\t530\n",
      "0.5744135257153348\t0.0\t0.0\t5\t0\t530\n"
     ]
    }
   ],
   "source": [
    "## reproduce results for pair F in Figures 6a, 6c, 6e using the output above\n",
    "## from the function cmp.spa_angpre_len_dif\n",
    "pairF=cmp.ppf3('data/0.result_tables/pairF_LaurentiaRMnoErr_LaurentiaRMnoErr45deg.txt')\n",
    "#pairF_.txt without test\n",
    "print('ds\\tda\\tdl\\tno\\tt0\\tt1')\n",
    "cmp.calc_nt(pairF,0,0,100)\n",
    "cmp.calc_nt(pairF,1,100,200)\n",
    "cmp.calc_nt(pairF,2,200,300)\n",
    "cmp.calc_nt(pairF,3,300,400)\n",
    "cmp.calc_nt(pairF,4,400,530)\n",
    "cmp.calc_nt(pairF,5,0,530)"
   ]
  },
  {
   "cell_type": "code",
   "execution_count": 11,
   "metadata": {},
   "outputs": [
    {
     "name": "stdout",
     "output_type": "stream",
     "text": [
      "ds\tda\tdl\tno\tt0\tt1\n",
      "0.176682672802216\t0.0\t0.0\t0\t0\t100\n",
      "0.35176917694730764\t0.0\t0.0\t1\t100\t200\n",
      "0.561929737862065\t0.0\t0.0\t2\t200\t300\n",
      "0.8171727224060709\t0.0\t0.0\t3\t300\t400\n",
      "0.8747843279351402\t0.0\t0.0\t4\t400\t530\n",
      "0.5744135257153348\t0.0\t0.0\t5\t0\t530\n"
     ]
    }
   ],
   "source": [
    "## reproduce results for pair F in Figures 6b, 6d, 6f using the same output above\n",
    "## from the function cmp.spa_angpre_len_dif\n",
    "#pairF.txt with test\n",
    "print('ds\\tda\\tdl\\tno\\tt0\\tt1')\n",
    "cmp.calc(pairF,0,0,100)\n",
    "cmp.calc(pairF,1,100,200)\n",
    "cmp.calc(pairF,2,200,300)\n",
    "cmp.calc(pairF,3,300,400)\n",
    "cmp.calc(pairF,4,400,530)\n",
    "cmp.calc(pairF,5,0,530)"
   ]
  },
  {
   "cell_type": "markdown",
   "metadata": {},
   "source": [
    "## pair i-ii"
   ]
  },
  {
   "cell_type": "code",
   "execution_count": null,
   "metadata": {},
   "outputs": [],
   "source": [
    "## calculate pair i-ii's difference scores in terms of space (coeval poles), angle and\n",
    "## length (coeval segments)\n",
    "copy_tree(\"data/Baltica_StableEurope_F6_RMi\",\"/tmp\")\n",
    "copy_tree(\"data/Baltica_StableEurope_RM\",\"/tmp\")\n",
    "cmp.spa_angpre_len_dif('data/Baltica_StableEurope_F6_RMi.txt',\n",
    "                       'data/Baltica_StableEurope_RM.txt',\n",
    "                       pnh1=1,pnh2=1)\n",
    "# the results should be the same as stored in\n",
    "# data/0.result_tables/i_ii_BalF6RM_BalRM.txt"
   ]
  },
  {
   "cell_type": "code",
   "execution_count": 12,
   "metadata": {},
   "outputs": [
    {
     "name": "stdout",
     "output_type": "stream",
     "text": [
      "ds\tda\tdl\tno\tt0\tt1\n",
      "0.004738427759169862\t0.03735822391337036\t0.00857283246187845\t0\t0\t100\n",
      "0.004225193266779557\t0.005935204873469116\t0.005065875172713178\t1\t100\t200\n",
      "0.05313484450880297\t0.1089641770627778\t0.03495822024278448\t2\t200\t280\n",
      "0.017179276978697377\t0.02563380194520364\t0.010221215462518281\t3\t280\t320\n",
      "0.0024144967866866402\t0.0009764687644444179\t0.0023530002153825825\t4\t320\t430\n",
      "0.014190938389617533\t0.029830013314645482\t0.011228388430406366\t5\t0\t430\n"
     ]
    }
   ],
   "source": [
    "## reproduce d_notest results for pair i-ii in Figure 10a using the output above\n",
    "## from the function cmp.spa_angpre_len_dif\n",
    "pair_i_ii=cmp.ppf3('data/0.result_tables/i_ii_BalF6RM_BalRM.txt')\n",
    "#i_ii_ntest.txt\n",
    "print('ds\\tda\\tdl\\tno\\tt0\\tt1')\n",
    "cmp.calc_nt(pair_i_ii,0,0,100)\n",
    "cmp.calc_nt(pair_i_ii,1,100,200)\n",
    "cmp.calc_nt(pair_i_ii,2,200,280)\n",
    "cmp.calc_nt(pair_i_ii,3,280,320)\n",
    "cmp.calc_nt(pair_i_ii,4,320,430)\n",
    "cmp.calc_nt(pair_i_ii,5,0,430)"
   ]
  },
  {
   "cell_type": "code",
   "execution_count": 13,
   "metadata": {},
   "outputs": [
    {
     "name": "stdout",
     "output_type": "stream",
     "text": [
      "ds\tda\tdl\tno\tt0\tt1\n",
      "0.0\t0.0\t0.0\t0\t0\t100\n",
      "0.0\t0.0\t0.0\t1\t100\t200\n",
      "0.0\t0.0\t0.0\t2\t200\t280\n",
      "0.002259832242890837\t0.0\t0.0\t3\t280\t320\n",
      "0.0009415967678711821\t0.0\t0.0\t4\t320\t430\n",
      "0.00025679911851032237\t0.0\t0.0\t5\t0\t430\n"
     ]
    }
   ],
   "source": [
    "## reproduce d_tested results for pair i-ii in Figure 10a using the same output above\n",
    "## from the function cmp.spa_angpre_len_dif\n",
    "#i_ii_test.txt\n",
    "print('ds\\tda\\tdl\\tno\\tt0\\tt1')\n",
    "cmp.calc(pair_i_ii,0,0,100)\n",
    "cmp.calc(pair_i_ii,1,100,200)\n",
    "cmp.calc(pair_i_ii,2,200,280)\n",
    "cmp.calc(pair_i_ii,3,280,320)\n",
    "cmp.calc(pair_i_ii,4,320,430)\n",
    "cmp.calc(pair_i_ii,5,0,430)"
   ]
  },
  {
   "cell_type": "markdown",
   "metadata": {},
   "source": [
    "## pair iii-iv"
   ]
  },
  {
   "cell_type": "code",
   "execution_count": null,
   "metadata": {},
   "outputs": [],
   "source": [
    "## calculate pair iii-iv's difference scores in terms of space (coeval poles), angle and\n",
    "## length (coeval segments)\n",
    "copy_tree(\"data/Laurentia_F6_RM\",\"/tmp\")\n",
    "copy_tree(\"data/Laurentia_RM\",\"/tmp\")\n",
    "cmp.spa_angpre_len_dif('data/Laurentia_F6_RM.txt',\n",
    "                       'data/Laurentia_RM.txt',\n",
    "                       pnh1=1,pnh2=1)\n",
    "# the results should be the same as stored in\n",
    "# data/0.result_tables/iii_iv_LaureF6RM_LaureRM.txt"
   ]
  },
  {
   "cell_type": "code",
   "execution_count": 14,
   "metadata": {},
   "outputs": [
    {
     "name": "stdout",
     "output_type": "stream",
     "text": [
      "ds\tda\tdl\tno\tt0\tt1\n",
      "0.026766646920035764\t0.33289102491726547\t0.01316183509268013\t0\t0\t100\n",
      "0.06654183120766022\t0.08707181966919754\t0.03465015285847642\t1\t100\t200\n",
      "0.04195176016932024\t0.2749679007160921\t0.011494801456669427\t2\t200\t280\n",
      "0.027170981108374098\t0.049364187578518626\t0.026887750599116626\t3\t280\t320\n",
      "0.09108049514674448\t0.1031253398411111\t0.06444353826564123\t4\t320\t430\n",
      "0.05835165730534966\t0.16537443527699028\t0.03224437708101025\t5\t0\t430\n"
     ]
    }
   ],
   "source": [
    "## reproduce d_notest results for pair iii-iv in Figure 10b using the output above\n",
    "## from the function cmp.spa_angpre_len_dif\n",
    "pair_iii_iv=cmp.ppf3('data/0.result_tables/iii_iv_LaureF6RM_LaureRM.txt')\n",
    "#iii_iv_ntest.txt\n",
    "print('ds\\tda\\tdl\\tno\\tt0\\tt1')\n",
    "cmp.calc_nt(pair_iii_iv,0,0,100)\n",
    "cmp.calc_nt(pair_iii_iv,1,100,200)\n",
    "cmp.calc_nt(pair_iii_iv,2,200,280)\n",
    "cmp.calc_nt(pair_iii_iv,3,280,320)\n",
    "cmp.calc_nt(pair_iii_iv,4,320,430)\n",
    "cmp.calc_nt(pair_iii_iv,5,0,430)"
   ]
  },
  {
   "cell_type": "code",
   "execution_count": 15,
   "metadata": {},
   "outputs": [
    {
     "name": "stdout",
     "output_type": "stream",
     "text": [
      "ds\tda\tdl\tno\tt0\tt1\n",
      "0.0\t0.0\t0.0\t0\t0\t100\n",
      "0.0\t0.0\t0.0\t1\t100\t200\n",
      "0.0\t0.0\t0.0\t2\t200\t280\n",
      "0.0\t0.0\t0.0\t3\t280\t320\n",
      "0.04114990649701268\t0.0\t0.016497796517108622\t4\t320\t430\n",
      "0.01122270177191255\t0.0\t0.004220366550888252\t5\t0\t430\n"
     ]
    }
   ],
   "source": [
    "## reproduce d_tested results for pair iii-iv in Figure 10b using the same output above\n",
    "## from the function cmp.spa_angpre_len_dif\n",
    "#iii_iv_test.txt\n",
    "print('ds\\tda\\tdl\\tno\\tt0\\tt1')\n",
    "cmp.calc(pair_iii_iv,0,0,100)\n",
    "cmp.calc(pair_iii_iv,1,100,200)\n",
    "cmp.calc(pair_iii_iv,2,200,280)\n",
    "cmp.calc(pair_iii_iv,3,280,320)\n",
    "cmp.calc(pair_iii_iv,4,320,430)\n",
    "cmp.calc(pair_iii_iv,5,0,430)"
   ]
  },
  {
   "cell_type": "markdown",
   "metadata": {},
   "source": [
    "## pair v-i"
   ]
  },
  {
   "cell_type": "code",
   "execution_count": null,
   "metadata": {},
   "outputs": [],
   "source": [
    "## calculate pair v-i's difference scores in terms of space (coeval poles), angle and\n",
    "## length (coeval segments)\n",
    "copy_tree(\"data/rot_version/Laurentia_F6_RMi_GMAP2015BALcoord\",\"/tmp\")\n",
    "cmp.spa_angpre_len_dif('data/rot_version/Laurentia_F6_RMi_GMAP2015BALcoord.txt',\n",
    "                       'data/Baltica_StableEurope_F6_RMi.txt',\n",
    "                       pnh1=0,pnh2=1)\n",
    "# the results should be the same as stored in\n",
    "# data/0.result_tables/v_i_LaureF6RMgmap2015BALcoord_BalF6RMi.txt"
   ]
  },
  {
   "cell_type": "code",
   "execution_count": 18,
   "metadata": {},
   "outputs": [
    {
     "name": "stdout",
     "output_type": "stream",
     "text": [
      "ds\tda\tdl\tno\tt0\tt1\n",
      "0.10799163338819137\t0.5831435834757162\t0.06039215698680937\t0\t0\t100\n",
      "0.13705600630658285\t0.20524203503901237\t0.14352911129192558\t1\t100\t200\n",
      "0.10612454213309036\t0.365272484455754\t0.14523851880936933\t2\t200\t280\n",
      "0.2630004345945946\t0.613015994796663\t0.1259685787680702\t3\t280\t320\n",
      "0.14466566976733675\t0.20880450016866664\t0.1142657683587763\t4\t320\t430\n",
      "0.14036557478754755\t0.34677575868529864\t0.11539345582049128\t5\t0\t430\n"
     ]
    }
   ],
   "source": [
    "## reproduce d_notest results for pair v-i in Figure 10c using the output above\n",
    "## from the function cmp.spa_angpre_len_dif\n",
    "pair_v_i=cmp.ppf3('data/0.result_tables/v_i_LaureF6RMgmap2015BALcoord_BalF6RMi.txt')\n",
    "#v_i_ntest.txt\n",
    "print('ds\\tda\\tdl\\tno\\tt0\\tt1')\n",
    "cmp.calc_nt(pair_v_i,0,0,100)\n",
    "cmp.calc_nt(pair_v_i,1,100,200)\n",
    "cmp.calc_nt(pair_v_i,2,200,280)\n",
    "cmp.calc_nt(pair_v_i,3,280,320)\n",
    "cmp.calc_nt(pair_v_i,4,320,430)\n",
    "cmp.calc_nt(pair_v_i,5,0,430)"
   ]
  },
  {
   "cell_type": "code",
   "execution_count": 19,
   "metadata": {},
   "outputs": [
    {
     "name": "stdout",
     "output_type": "stream",
     "text": [
      "ds\tda\tdl\tno\tt0\tt1\n",
      "0.07248541272457895\t0.0\t0.0\t0\t0\t100\n",
      "0.05483223272462948\t0.0\t0.0\t1\t100\t200\n",
      "0.02658221857196827\t0.0\t0.0\t2\t200\t280\n",
      "0.2630004345945946\t0.0\t0.0\t3\t280\t320\n",
      "0.08991473703021588\t0.06441518562833334\t0.007808621893249792\t4\t320\t430\n",
      "0.08129693321425331\t0.015336948959126987\t0.0019975544378080866\t5\t0\t430\n"
     ]
    }
   ],
   "source": [
    "## reproduce d_tested results for pair v-i in Figure 10c using the same output above\n",
    "## from the function cmp.spa_angpre_len_dif\n",
    "#v_i_test.txt\n",
    "print('ds\\tda\\tdl\\tno\\tt0\\tt1')\n",
    "cmp.calc(pair_v_i,0,0,100)\n",
    "cmp.calc(pair_v_i,1,100,200)\n",
    "cmp.calc(pair_v_i,2,200,280)\n",
    "cmp.calc(pair_v_i,3,280,320)\n",
    "cmp.calc(pair_v_i,4,320,430)\n",
    "cmp.calc(pair_v_i,5,0,430)"
   ]
  },
  {
   "cell_type": "markdown",
   "metadata": {},
   "source": [
    "## pair vi-ii"
   ]
  },
  {
   "cell_type": "code",
   "execution_count": null,
   "metadata": {},
   "outputs": [],
   "source": [
    "## calculate pair vi-ii's difference scores in terms of space (coeval poles), angle and\n",
    "## length (coeval segments)\n",
    "copy_tree(\"data/rot_version/Laurentia_RM_GMAP2015BALcoord\",\"/tmp\")\n",
    "cmp.spa_angpre_len_dif('data/rot_version/Laurentia_RM_GMAP2015BALcoord.txt',\n",
    "                       'data/Baltica_StableEurope_RM.txt',\n",
    "                       pnh1=0,pnh2=1)\n",
    "# the results should be the same as stored in\n",
    "# data/0.result_tables/vi_ii_LaureRMgmap2015BALcoord_BalRM.txt"
   ]
  },
  {
   "cell_type": "code",
   "execution_count": 20,
   "metadata": {},
   "outputs": [
    {
     "name": "stdout",
     "output_type": "stream",
     "text": [
      "ds\tda\tdl\tno\tt0\tt1\n",
      "0.10391893001887346\t0.6236279069327162\t0.0417715906216171\t0\t0\t100\n",
      "0.14618594674594845\t0.27986928354272844\t0.1501958409459242\t1\t100\t200\n",
      "0.12306612331738978\t0.36567478425415073\t0.13306839401887133\t2\t200\t280\n",
      "0.2822259332565865\t0.5820936471320372\t0.12277671554784138\t3\t280\t320\n",
      "0.2093861383045509\t0.22279472721877772\t0.14817920952445315\t4\t320\t430\n",
      "0.1649098951029865\t0.3717390052879855\t0.11872789848341246\t5\t0\t430\n"
     ]
    }
   ],
   "source": [
    "## reproduce d_notest results for pair vi-ii in Figure 10d using the output above\n",
    "## from the function cmp.spa_angpre_len_dif\n",
    "pair_vi_ii=cmp.ppf3('data/0.result_tables/vi_ii_LaureRMgmap2015BALcoord_BalRM.txt')\n",
    "#vi_ii_ntest.txt\n",
    "print('ds\\tda\\tdl\\tno\\tt0\\tt1')\n",
    "cmp.calc_nt(pair_vi_ii,0,0,100)\n",
    "cmp.calc_nt(pair_vi_ii,1,100,200)\n",
    "cmp.calc_nt(pair_vi_ii,2,200,280)\n",
    "cmp.calc_nt(pair_vi_ii,3,280,320)\n",
    "cmp.calc_nt(pair_vi_ii,4,320,430)\n",
    "cmp.calc_nt(pair_vi_ii,5,0,430)"
   ]
  },
  {
   "cell_type": "code",
   "execution_count": 21,
   "metadata": {},
   "outputs": [
    {
     "name": "stdout",
     "output_type": "stream",
     "text": [
      "ds\tda\tdl\tno\tt0\tt1\n",
      "0.06096110741213581\t0.0\t0.0\t0\t0\t100\n",
      "0.10269472247849644\t0.0\t0.0\t1\t100\t200\n",
      "0.09170356754700404\t0.0\t0.0\t2\t200\t280\n",
      "0.2822259332565865\t0.0\t0.0\t3\t280\t320\n",
      "0.14838776417466423\t0.0632511749561111\t0.024306418410694194\t4\t320\t430\n",
      "0.12162393437830714\t0.015059803560978833\t0.006217920988782235\t5\t0\t430\n"
     ]
    }
   ],
   "source": [
    "## reproduce d_tested results for pair vi-ii in Figure 10d using the same output above\n",
    "## from the function cmp.spa_angpre_len_dif\n",
    "#vi_ii_test.txt\n",
    "print('ds\\tda\\tdl\\tno\\tt0\\tt1')\n",
    "cmp.calc(pair_vi_ii,0,0,100)\n",
    "cmp.calc(pair_vi_ii,1,100,200)\n",
    "cmp.calc(pair_vi_ii,2,200,280)\n",
    "cmp.calc(pair_vi_ii,3,280,320)\n",
    "cmp.calc(pair_vi_ii,4,320,430)\n",
    "cmp.calc(pair_vi_ii,5,0,430)"
   ]
  },
  {
   "cell_type": "markdown",
   "metadata": {},
   "source": [
    "## pair v-i (uninterpolated; bin 8 Myr, step 4 Myr)"
   ]
  },
  {
   "cell_type": "code",
   "execution_count": null,
   "metadata": {},
   "outputs": [],
   "source": [
    "## calculate pair v-i (uninterpolated; bin 8 step 4)'s difference scores in terms of\n",
    "## space (coeval poles), angle and length (coeval segments)\n",
    "cmp.spa_angpre_len_dif('data/rot_version/Laurentia_F6_RM_stp4_GMAP2015BALcoord.txt',\n",
    "                       'data/Baltica_StableEurope_F6_RM_stp4.txt',\n",
    "                       pnh1=0,pnh2=1)\n",
    "# the results should be the same as stored in data/0.result_tables/stp4.txt"
   ]
  },
  {
   "cell_type": "code",
   "execution_count": 22,
   "metadata": {},
   "outputs": [
    {
     "name": "stdout",
     "output_type": "stream",
     "text": [
      "ds\tda\tdl\tno\tt0\tt1\n",
      "0.14101349557151108\t0.5247688276161536\t0.20612139692150436\t0\t0\t100\n",
      "0.20297305051719985\t0.3634743520500222\t0.24661701866046506\t1\t100\t200\n",
      "0.137961759115263\t0.4142267703688271\t0.3586361600698007\t2\t200\t280\n",
      "0.2798104052617373\t0.5234872479065209\t0.26449830440346284\t3\t280\t320\n",
      "0.16900667438700645\t0.5714621622488194\t0.08206255168904339\t4\t320\t432\n",
      "0.17761638644017358\t0.4572953237546528\t0.21706487492383217\t5\t0\t432\n"
     ]
    }
   ],
   "source": [
    "## reproduce d_notest results for pair v-i (uninterpolated; bin 8 step 4) in Figure\n",
    "## 11a using the output above from the function cmp.spa_angpre_len_dif\n",
    "pair_v_i_stp4=cmp.ppf3('data/0.result_tables/stp4.txt')\n",
    "#v_i stp4_ntest.txt\n",
    "print('ds\\tda\\tdl\\tno\\tt0\\tt1')\n",
    "cmp.calc_nt(pair_v_i_stp4,0,0,100)\n",
    "cmp.calc_nt(pair_v_i_stp4,1,100,200)\n",
    "cmp.calc_nt(pair_v_i_stp4,2,200,280)\n",
    "cmp.calc_nt(pair_v_i_stp4,3,280,320)\n",
    "cmp.calc_nt(pair_v_i_stp4,4,320,432)\n",
    "cmp.calc_nt(pair_v_i_stp4,5,0,432)"
   ]
  },
  {
   "cell_type": "code",
   "execution_count": 23,
   "metadata": {},
   "outputs": [
    {
     "name": "stdout",
     "output_type": "stream",
     "text": [
      "ds\tda\tdl\tno\tt0\tt1\n",
      "0.07089586421508128\t0.0\t0.0\t0\t0\t100\n",
      "0.11845957944546535\t0.0\t0.036389452384814995\t1\t100\t200\n",
      "0.04195924779303895\t0.0\t0.032186433697426915\t2\t200\t280\n",
      "0.2622782694793313\t0.0\t0.07203052825801613\t3\t280\t320\n",
      "0.13862466446386373\t0.0\t0.0\t4\t320\t432\n",
      "0.11093308872908357\t0.0\t0.02582081487119092\t5\t0\t432\n"
     ]
    }
   ],
   "source": [
    "## reproduce d_tested results for pair v-i (uninterpolated; bin 8 step 4) in Figure\n",
    "## 11a using the same output above from the function cmp.spa_angpre_len_dif\n",
    "#v_i stp4_test.txt\n",
    "print('ds\\tda\\tdl\\tno\\tt0\\tt1')\n",
    "cmp.calc(pair_v_i_stp4,0,0,100)\n",
    "cmp.calc(pair_v_i_stp4,1,100,200)\n",
    "cmp.calc(pair_v_i_stp4,2,200,280)\n",
    "cmp.calc(pair_v_i_stp4,3,280,320)\n",
    "cmp.calc(pair_v_i_stp4,4,320,432)\n",
    "cmp.calc(pair_v_i_stp4,5,0,432)"
   ]
  },
  {
   "cell_type": "markdown",
   "metadata": {},
   "source": [
    "## pair v-i (uninterpolated; bin 12 Myr, step 6 Myr)"
   ]
  },
  {
   "cell_type": "code",
   "execution_count": null,
   "metadata": {},
   "outputs": [],
   "source": [
    "## calculate pair v-i (uninterpolated; bin 12 step 6)'s difference scores in terms of\n",
    "## space (coeval poles), angle and length (coeval segments)\n",
    "copy_tree(\"data/Baltica_StableEurope_F6_RM_stp6\",\"/tmp\")\n",
    "cmp.spa_angpre_len_dif('data/rot_version/Laurentia_F6_RM_stp6_GMAP2015BALcoord.txt',\n",
    "                       'data/Baltica_StableEurope_F6_RM_stp6.txt',\n",
    "                       pnh1=0,pnh2=1)\n",
    "# the results should be the same as stored in data/0.result_tables/stp6.txt"
   ]
  },
  {
   "cell_type": "code",
   "execution_count": 24,
   "metadata": {},
   "outputs": [
    {
     "name": "stdout",
     "output_type": "stream",
     "text": [
      "ds\tda\tdl\tno\tt0\tt1\n",
      "0.13479526029554387\t0.4867079097798532\t0.16696593446115385\t0\t0\t102\n",
      "0.17516323730799446\t0.28708755113419193\t0.1784577464625825\t1\t102\t198\n",
      "0.11446606473210975\t0.38349057501707273\t0.1546803621316973\t2\t198\t282\n",
      "0.2863871758464745\t0.45186958304647773\t0.16868394721492916\t3\t282\t324\n",
      "0.13790886848679304\t0.14300401581240743\t0.13360093644690493\t4\t324\t432\n",
      "0.15905167428991887\t0.3773495158281903\t0.16373516116353126\t5\t0\t432\n"
     ]
    }
   ],
   "source": [
    "## reproduce d_notest results for pair v-i (uninterpolated; bin 12 step 6) in Figure\n",
    "## 11b using the output above from the function cmp.spa_angpre_len_dif\n",
    "pair_v_i_stp6=cmp.ppf3('data/0.result_tables/stp6.txt')\n",
    "#v_i stp6_ntest.txt\n",
    "print('ds\\tda\\tdl\\tno\\tt0\\tt1')\n",
    "cmp.calc_nt(pair_v_i_stp6,0,0,102)\n",
    "cmp.calc_nt(pair_v_i_stp6,1,102,198)\n",
    "cmp.calc_nt(pair_v_i_stp6,2,198,282)\n",
    "cmp.calc_nt(pair_v_i_stp6,3,282,324)\n",
    "cmp.calc_nt(pair_v_i_stp6,4,324,432)\n",
    "cmp.calc_nt(pair_v_i_stp6,5,0,432)"
   ]
  },
  {
   "cell_type": "code",
   "execution_count": 25,
   "metadata": {},
   "outputs": [
    {
     "name": "stdout",
     "output_type": "stream",
     "text": [
      "ds\tda\tdl\tno\tt0\tt1\n",
      "0.0796366211957521\t0.0\t0.0\t0\t0\t102\n",
      "0.09507983827926063\t0.0\t0.034369626045534236\t1\t102\t198\n",
      "0.026787580509494133\t0.0\t0.0\t2\t198\t282\n",
      "0.2863871758464745\t0.0\t0.0\t3\t282\t324\n",
      "0.043346964380049764\t0.0\t0.044544736735248724\t4\t324\t432\n",
      "0.09020193986950878\t0.0\t0.027132175597644026\t5\t0\t432\n"
     ]
    }
   ],
   "source": [
    "## reproduce d_tested results for pair v-i (uninterpolated; bin 12 step 6) in Figure\n",
    "## 11b using the same output above from the function cmp.spa_angpre_len_dif\n",
    "#v_i stp6_test.txt\n",
    "print('ds\\tda\\tdl\\tno\\tt0\\tt1')\n",
    "cmp.calc(pair_v_i_stp6,0,0,102)\n",
    "cmp.calc(pair_v_i_stp6,1,102,198)\n",
    "cmp.calc(pair_v_i_stp6,2,198,282)\n",
    "cmp.calc(pair_v_i_stp6,3,282,324)\n",
    "cmp.calc(pair_v_i_stp6,4,324,432)\n",
    "cmp.calc(pair_v_i_stp6,5,0,432)"
   ]
  },
  {
   "cell_type": "markdown",
   "metadata": {},
   "source": [
    "## pair v-i (uninterpolated; bin 16 Myr, step 8 Myr)"
   ]
  },
  {
   "cell_type": "code",
   "execution_count": null,
   "metadata": {},
   "outputs": [],
   "source": [
    "## calculate pair v-i (uninterpolated; bin 16 step 8)'s difference scores in terms of\n",
    "## space (coeval poles), angle and length (coeval segments)\n",
    "copy_tree(\"data/Baltica_StableEurope_F6_RM_stp8\",\"/tmp\")\n",
    "cmp.spa_angpre_len_dif('data/rot_version/Laurentia_F6_RM_stp8_GMAP2015BALcoord.txt',\n",
    "                       'data/Baltica_StableEurope_F6_RM_stp8.txt',\n",
    "                       pnh1=0,pnh2=1)\n",
    "# the results should be the same as stored in data/0.result_tables/stp8.txt"
   ]
  },
  {
   "cell_type": "code",
   "execution_count": 26,
   "metadata": {},
   "outputs": [
    {
     "name": "stdout",
     "output_type": "stream",
     "text": [
      "ds\tda\tdl\tno\tt0\tt1\n",
      "0.11215826253805945\t0.5138513685563888\t0.10712709007575096\t0\t0\t104\n",
      "0.16511983276071432\t0.35231170481395074\t0.21916664555662618\t1\t104\t200\n",
      "0.10967789212354384\t0.3967831561728149\t0.13890111882128364\t2\t200\t280\n",
      "0.3081426483535621\t0.42848785261708316\t0.1802621667260313\t3\t280\t320\n",
      "0.16813929604791303\t0.375796316450635\t0.13350135644622085\t4\t320\t432\n",
      "0.15359673256539183\t0.40000166800647285\t0.15151838758804373\t5\t0\t432\n"
     ]
    }
   ],
   "source": [
    "## reproduce d_notest results for pair v-i (uninterpolated; bin 16 step 8) in Figure\n",
    "## 11c using the output above from the function cmp.spa_angpre_len_dif\n",
    "pair_v_i_stp8=cmp.ppf3('data/0.result_tables/stp8.txt')\n",
    "#v_i stp8_ntest.txt\n",
    "print('ds\\tda\\tdl\\tno\\tt0\\tt1')\n",
    "cmp.calc_nt(pair_v_i_stp8,0,0,104)\n",
    "cmp.calc_nt(pair_v_i_stp8,1,104,200)\n",
    "cmp.calc_nt(pair_v_i_stp8,2,200,280)\n",
    "cmp.calc_nt(pair_v_i_stp8,3,280,320)\n",
    "cmp.calc_nt(pair_v_i_stp8,4,320,432)\n",
    "cmp.calc_nt(pair_v_i_stp8,5,0,432)"
   ]
  },
  {
   "cell_type": "code",
   "execution_count": 27,
   "metadata": {},
   "outputs": [
    {
     "name": "stdout",
     "output_type": "stream",
     "text": [
      "ds\tda\tdl\tno\tt0\tt1\n",
      "0.047911641984121636\t0.0\t0.0\t0\t0\t104\n",
      "0.11956535291688482\t0.0\t0.04188406190880708\t1\t104\t200\n",
      "0.021298455611132472\t0.0\t0.0\t2\t200\t280\n",
      "0.3081426483535621\t0.0\t0.0\t3\t280\t320\n",
      "0.0947402639756929\t0.0\t0.053967404491233904\t4\t320\t432\n",
      "0.09117627892481336\t0.0\t0.023299118625610366\t5\t0\t432\n"
     ]
    }
   ],
   "source": [
    "## reproduce d_tested results for pair v-i (uninterpolated; bin 16 step 8) in Figure\n",
    "## 11c using the same output above from the function cmp.spa_angpre_len_dif\n",
    "#v_i stp8_test.txt\n",
    "print('ds\\tda\\tdl\\tno\\tt0\\tt1')\n",
    "cmp.calc(pair_v_i_stp8,0,0,104)\n",
    "cmp.calc(pair_v_i_stp8,1,104,200)\n",
    "cmp.calc(pair_v_i_stp8,2,200,280)\n",
    "cmp.calc(pair_v_i_stp8,3,280,320)\n",
    "cmp.calc(pair_v_i_stp8,4,320,432)\n",
    "cmp.calc(pair_v_i_stp8,5,0,432)"
   ]
  },
  {
   "cell_type": "markdown",
   "metadata": {},
   "source": [
    "## pair v-i (uninterpolated; bin 20 Myr, step 10 Myr)"
   ]
  },
  {
   "cell_type": "code",
   "execution_count": null,
   "metadata": {},
   "outputs": [],
   "source": [
    "## calculate pair v-i (uninterpolated)'s difference scores in terms of\n",
    "## space (coeval poles), angle and length (coeval segments)\n",
    "copy_tree(\"data/rot_version/Laurentia_F6_RM_GMAP2015BALcoord\",\"/tmp\")\n",
    "copy_tree(\"data/Baltica_StableEurope_F6_RM\",\"/tmp\")\n",
    "cmp.spa_angpre_len_dif('data/rot_version/Laurentia_F6_RM_GMAP2015BALcoord.txt',\n",
    "                       'data/Baltica_StableEurope_F6_RM.txt',\n",
    "                       pnh1=0,pnh2=1)\n",
    "# the results should be the same as stored in\n",
    "# data/0.result_tables/v_i_LaureF6RMgmap2015BALcoord_BalF6RM.txt"
   ]
  },
  {
   "cell_type": "code",
   "execution_count": 28,
   "metadata": {},
   "outputs": [
    {
     "name": "stdout",
     "output_type": "stream",
     "text": [
      "ds\tda\tdl\tno\tt0\tt1\n",
      "0.10799163338819137\t0.5831435834757162\t0.06039215698680937\t0\t0\t100\n",
      "0.14088555971381247\t0.42435339088256957\t0.1571594779742826\t1\t100\t200\n",
      "0.10612454213309036\t0.365272484455754\t0.14523851880936933\t2\t200\t280\n",
      "0.28996316838673214\t0.5651518843799963\t0.10986373583020166\t3\t280\t320\n",
      "0.13864867060086583\t0.15780966540037025\t0.15275806228831662\t4\t320\t430\n",
      "0.13975708066709464\t0.3957881760300837\t0.12691204950181778\t5\t0\t430\n"
     ]
    }
   ],
   "source": [
    "## reproduce d_notest results for pair v-i (uninterpolated) in Figure\n",
    "## 11d using the output above from the function cmp.spa_angpre_len_dif\n",
    "pair_v_i_stp10=cmp.ppf3('data/0.result_tables/v_i_LaureF6RMgmap2015BALcoord_BalF6RM.txt')\n",
    "#v_i stp10_ntest.txt\n",
    "print('ds\\tda\\tdl\\tno\\tt0\\tt1')\n",
    "cmp.calc_nt(pair_v_i_stp10,0,0,100)\n",
    "cmp.calc_nt(pair_v_i_stp10,1,100,200)\n",
    "cmp.calc_nt(pair_v_i_stp10,2,200,280)\n",
    "cmp.calc_nt(pair_v_i_stp10,3,280,320)\n",
    "cmp.calc_nt(pair_v_i_stp10,4,320,430)\n",
    "cmp.calc_nt(pair_v_i_stp10,5,0,430)"
   ]
  },
  {
   "cell_type": "code",
   "execution_count": 29,
   "metadata": {},
   "outputs": [
    {
     "name": "stdout",
     "output_type": "stream",
     "text": [
      "ds\tda\tdl\tno\tt0\tt1\n",
      "0.04419549615754297\t0.0\t0.0\t0\t0\t100\n",
      "0.06604746085768656\t0.0\t0.03237979956760407\t1\t100\t200\n",
      "0.02658221857196827\t0.0\t0.0\t2\t200\t280\n",
      "0.28996316838673214\t0.0\t0.0\t3\t280\t320\n",
      "0.05652227149518458\t0.0\t0.06657413517909282\t4\t320\t430\n",
      "0.06913839372806609\t0.0\t0.024560778666187482\t5\t0\t430\n"
     ]
    }
   ],
   "source": [
    "## reproduce d_tested results for pair v-i (uninterpolated) in Figure\n",
    "## 11d using the same output above from the function cmp.spa_angpre_len_dif\n",
    "#v_i stp10_test.txt\n",
    "print('ds\\tda\\tdl\\tno\\tt0\\tt1')\n",
    "cmp.calc(pair_v_i_stp10,0,0,100)\n",
    "cmp.calc(pair_v_i_stp10,1,100,200)\n",
    "cmp.calc(pair_v_i_stp10,2,200,280)\n",
    "cmp.calc(pair_v_i_stp10,3,280,320)\n",
    "cmp.calc(pair_v_i_stp10,4,320,430)\n",
    "cmp.calc(pair_v_i_stp10,5,0,430)"
   ]
  },
  {
   "cell_type": "markdown",
   "metadata": {},
   "source": [
    "## pair v-i (uninterpolated; bin 24 Myr, step 12 Myr)"
   ]
  },
  {
   "cell_type": "code",
   "execution_count": null,
   "metadata": {},
   "outputs": [],
   "source": [
    "## calculate pair v-i (uninterpolated; bin 24 step 12)'s difference scores in terms of\n",
    "## space (coeval poles), angle and length (coeval segments)\n",
    "copy_tree(\"data/rot_version/Laurentia_F6_RM_stp12_GMAP2015BALcoord\",\"/tmp\")\n",
    "copy_tree(\"data/Baltica_StableEurope_F6_RM_stp12\",\"/tmp\")\n",
    "cmp.spa_angpre_len_dif('data/rot_version/Laurentia_F6_RM_stp12_GMAP2015BALcoord.txt',\n",
    "                       'data/Baltica_StableEurope_F6_RM_stp12.txt',\n",
    "                       pnh1=0,pnh2=1)\n",
    "# the results should be the same as stored in data/0.result_tables/stp12.txt"
   ]
  },
  {
   "cell_type": "code",
   "execution_count": 30,
   "metadata": {},
   "outputs": [
    {
     "name": "stdout",
     "output_type": "stream",
     "text": [
      "ds\tda\tdl\tno\tt0\tt1\n",
      "0.1028850067785222\t0.46678587624615875\t0.046231169856320024\t0\t0\t96\n",
      "0.1292373168031566\t0.3091686989006528\t0.17928963066819184\t1\t96\t204\n",
      "0.10165590888284332\t0.30191875889277764\t0.07834646332609962\t2\t204\t276\n",
      "0.23071352626479374\t0.6507660583145556\t0.14480401144417307\t3\t276\t324\n",
      "0.12330830121123898\t0.16951691690000004\t0.06556327001473632\t4\t324\t432\n",
      "0.13281800898076074\t0.3650317824311219\t0.1006338969647279\t5\t0\t432\n"
     ]
    }
   ],
   "source": [
    "## reproduce d_notest results for pair v-i (uninterpolated; bin 24 step 12) in Figure\n",
    "## 11f using the output above from the function cmp.spa_angpre_len_dif\n",
    "pair_v_i_stp12=cmp.ppf3('data/0.result_tables/stp12.txt')\n",
    "#v_i stp12_ntest.txt\n",
    "print('ds\\tda\\tdl\\tno\\tt0\\tt1')\n",
    "cmp.calc_nt(pair_v_i_stp12,0,0,96)\n",
    "cmp.calc_nt(pair_v_i_stp12,1,96,204)\n",
    "cmp.calc_nt(pair_v_i_stp12,2,204,276)\n",
    "cmp.calc_nt(pair_v_i_stp12,3,276,324)\n",
    "cmp.calc_nt(pair_v_i_stp12,4,324,432)\n",
    "cmp.calc_nt(pair_v_i_stp12,5,0,432)"
   ]
  },
  {
   "cell_type": "code",
   "execution_count": 31,
   "metadata": {},
   "outputs": [
    {
     "name": "stdout",
     "output_type": "stream",
     "text": [
      "ds\tda\tdl\tno\tt0\tt1\n",
      "0.02810811353344097\t0.0\t0.0\t0\t0\t96\n",
      "0.053439917581842876\t0.0\t0.05101169608468492\t1\t96\t204\n",
      "0.06325661153384379\t0.0\t0.0\t2\t204\t276\n",
      "0.21382472114043094\t0.0\t0.0\t3\t276\t324\n",
      "0.0\t0.0\t0.0\t4\t324\t432\n",
      "0.06372734435578983\t0.0\t0.01275292402117123\t5\t0\t432\n"
     ]
    }
   ],
   "source": [
    "## reproduce d_tested results for pair v-i (uninterpolated; bin 24 step 12) in Figure\n",
    "## 11f using the same output above from the function cmp.spa_angpre_len_dif\n",
    "#v_i stp12_test.txt\n",
    "print('ds\\tda\\tdl\\tno\\tt0\\tt1')\n",
    "cmp.calc(pair_v_i_stp12,0,0,96)\n",
    "cmp.calc(pair_v_i_stp12,1,96,204)\n",
    "cmp.calc(pair_v_i_stp12,2,204,276)\n",
    "cmp.calc(pair_v_i_stp12,3,276,324)\n",
    "cmp.calc(pair_v_i_stp12,4,324,432)\n",
    "cmp.calc(pair_v_i_stp12,5,0,432)"
   ]
  },
  {
   "cell_type": "markdown",
   "metadata": {},
   "source": [
    "# Random Uncertainty Case\n",
    "\n",
    "The 4th and 5th columns in data/Laurentia_RM.txt are dm and dp or A95. There are 49 dm, dp and A95 values.\n",
    "\n",
    "    2.1773837818506814\n",
    "    2.2431473270377436\n",
    "    3.71750970800317\n",
    "    3.1023530620806334\n",
    "    2.8113017709316428\n",
    "    4.0134175890381663\n",
    "    3.786531931743133\n",
    "    4.5900107578669189\n",
    "    6.9666509571459523\n",
    "    6.2557646831508871\n",
    "    13.141908846033042\n",
    "    4.7347372014471407\n",
    "    3.2057231363612635\n",
    "    4.0213091346077938\n",
    "    18.271260010761665\n",
    "    12.517051610516857\n",
    "    9.1878895238294351\n",
    "    10.590469280126225\n",
    "    6.8263580723427415\n",
    "    3.4874695224517662\n",
    "    2.8244769407192094\n",
    "    2.2721366843710524\n",
    "    2.5041569487865676\n",
    "    3.3001616168940293\n",
    "    4.3553494144442579\n",
    "    12.536533258858929\n",
    "    3.4473456784553647\n",
    "    4.1990565047872881\n",
    "    4.8146324156324543\n",
    "    3.8476198382425539\n",
    "    4.3540409528317152\n",
    "    6.9558423063127517\n",
    "    9.4254454138432369\n",
    "    8.8446407802130125\n",
    "    10.948879612191245\n",
    "    16.\n",
    "    11.39999962\n",
    "    5.9\n",
    "    19.183628069179896\n",
    "    19.258717698236371\n",
    "    17.534201407505424\n",
    "    7.3\n",
    "    11.123232589\n",
    "    14.720652226\n",
    "    7.847140921\n",
    "    6.22406599\n",
    "    12.912932754\n",
    "    6.9\n",
    "    3.8\n",
    "\n",
    "Based on these values, the distribution is identified through \"fitter\" package."
   ]
  },
  {
   "cell_type": "code",
   "execution_count": 1,
   "metadata": {},
   "outputs": [
    {
     "name": "stderr",
     "output_type": "stream",
     "text": [
      "/home/g/conda/lib/python3.7/site-packages/scipy/stats/_distn_infrastructure.py:2316: RuntimeWarning: invalid value encountered in double_scalars\n",
      "  Lhat = muhat - Shat*mu\n",
      "/home/g/conda/lib/python3.7/site-packages/scipy/stats/_continuous_distns.py:390: RuntimeWarning: divide by zero encountered in true_divide\n",
      "  return 1.0/np.pi/np.sqrt(x*(1-x))\n"
     ]
    },
    {
     "name": "stdout",
     "output_type": "stream",
     "text": [
      "Fitted alpha distribution with error=0.8054883204060229)\n",
      "Fitted anglit distribution with error=0.9783152028002629)\n",
      "Fitted arcsine distribution with error=0.9800587959867477)\n",
      "Fitted argus distribution with error=1.154706248227962)\n",
      "Fitted beta distribution with error=0.7667207751926125)\n",
      "Fitted betaprime distribution with error=0.7909193629623349)\n",
      "Fitted bradford distribution with error=0.7650505445992828)\n",
      "Fitted burr distribution with error=0.7876811565832144)\n"
     ]
    },
    {
     "name": "stderr",
     "output_type": "stream",
     "text": [
      "/home/g/conda/lib/python3.7/site-packages/scipy/stats/_continuous_distns.py:515: RuntimeWarning: invalid value encountered in sqrt\n",
      "  sk = 2*(b-a)*np.sqrt(a + b + 1) / (a + b + 2) / np.sqrt(a*b)\n",
      "/home/g/conda/lib/python3.7/site-packages/scipy/stats/_continuous_distns.py:667: RuntimeWarning: divide by zero encountered in true_divide\n",
      "  a/(b-1.0),\n",
      "/home/g/conda/lib/python3.7/site-packages/scipy/stats/_continuous_distns.py:671: RuntimeWarning: divide by zero encountered in true_divide\n",
      "  a*(a+1.0)/((b-2.0)*(b-1.0)),\n",
      "/home/g/conda/lib/python3.7/site-packages/scipy/stats/_distn_infrastructure.py:1035: RuntimeWarning: invalid value encountered in subtract\n",
      "  mu2 = mu2p - mu * mu\n"
     ]
    },
    {
     "name": "stdout",
     "output_type": "stream",
     "text": [
      "Fitted burr12 distribution with error=0.7892562247711464)\n",
      "Fitted cauchy distribution with error=0.8884916404818229)\n",
      "Fitted chi distribution with error=0.7499172215925255)\n",
      "Fitted chi2 distribution with error=0.8105384856608353)\n",
      "Fitted cosine distribution with error=0.9651196943618614)\n",
      "Fitted crystalball distribution with error=0.9480924680188824)\n",
      "Fitted dgamma distribution with error=0.8539592640471295)\n",
      "Fitted dweibull distribution with error=0.9109835755431281)\n"
     ]
    },
    {
     "name": "stderr",
     "output_type": "stream",
     "text": [
      "/home/g/conda/lib/python3.7/site-packages/scipy/stats/_continuous_distns.py:2651: RuntimeWarning: The shape parameter of the erlang distribution has been given a non-integer value 4.2.\n",
      "  RuntimeWarning)\n",
      "/home/g/conda/lib/python3.7/site-packages/scipy/stats/_continuous_distns.py:2651: RuntimeWarning: The shape parameter of the erlang distribution has been given a non-integer value 4.133333333333333.\n",
      "  RuntimeWarning)\n",
      "/home/g/conda/lib/python3.7/site-packages/scipy/stats/_continuous_distns.py:2651: RuntimeWarning: The shape parameter of the erlang distribution has been given a non-integer value 4.222222222222221.\n",
      "  RuntimeWarning)\n",
      "/home/g/conda/lib/python3.7/site-packages/scipy/stats/_continuous_distns.py:2651: RuntimeWarning: The shape parameter of the erlang distribution has been given a non-integer value 4.333333333333332.\n",
      "  RuntimeWarning)\n",
      "/home/g/conda/lib/python3.7/site-packages/scipy/stats/_continuous_distns.py:2651: RuntimeWarning: The shape parameter of the erlang distribution has been given a non-integer value 4.037037037037035.\n",
      "  RuntimeWarning)\n",
      "/home/g/conda/lib/python3.7/site-packages/scipy/stats/_continuous_distns.py:2651: RuntimeWarning: The shape parameter of the erlang distribution has been given a non-integer value 4.159259259259259.\n",
      "  RuntimeWarning)\n",
      "/home/g/conda/lib/python3.7/site-packages/scipy/stats/_continuous_distns.py:2651: RuntimeWarning: The shape parameter of the erlang distribution has been given a non-integer value 4.120987654320986.\n",
      "  RuntimeWarning)\n",
      "/home/g/conda/lib/python3.7/site-packages/scipy/stats/_continuous_distns.py:2651: RuntimeWarning: The shape parameter of the erlang distribution has been given a non-integer value 4.130246913580246.\n",
      "  RuntimeWarning)\n",
      "/home/g/conda/lib/python3.7/site-packages/scipy/stats/_continuous_distns.py:2651: RuntimeWarning: The shape parameter of the erlang distribution has been given a non-integer value 4.341152263374484.\n",
      "  RuntimeWarning)\n",
      "/home/g/conda/lib/python3.7/site-packages/scipy/stats/_continuous_distns.py:2651: RuntimeWarning: The shape parameter of the erlang distribution has been given a non-integer value 4.3031550068587086.\n",
      "  RuntimeWarning)\n",
      "/home/g/conda/lib/python3.7/site-packages/scipy/stats/_continuous_distns.py:2651: RuntimeWarning: The shape parameter of the erlang distribution has been given a non-integer value 4.375102880658433.\n",
      "  RuntimeWarning)\n",
      "/home/g/conda/lib/python3.7/site-packages/scipy/stats/_continuous_distns.py:2651: RuntimeWarning: The shape parameter of the erlang distribution has been given a non-integer value 4.49540466392318.\n",
      "  RuntimeWarning)\n",
      "/home/g/conda/lib/python3.7/site-packages/scipy/stats/_continuous_distns.py:2651: RuntimeWarning: The shape parameter of the erlang distribution has been given a non-integer value 4.387334247828072.\n",
      "  RuntimeWarning)\n",
      "/home/g/conda/lib/python3.7/site-packages/scipy/stats/_continuous_distns.py:2651: RuntimeWarning: The shape parameter of the erlang distribution has been given a non-integer value 4.410425240054867.\n",
      "  RuntimeWarning)\n",
      "/home/g/conda/lib/python3.7/site-packages/scipy/stats/_continuous_distns.py:2651: RuntimeWarning: The shape parameter of the erlang distribution has been given a non-integer value 4.1764288980338335.\n",
      "  RuntimeWarning)\n",
      "/home/g/conda/lib/python3.7/site-packages/scipy/stats/_continuous_distns.py:2651: RuntimeWarning: The shape parameter of the erlang distribution has been given a non-integer value 4.419082456942535.\n",
      "  RuntimeWarning)\n",
      "/home/g/conda/lib/python3.7/site-packages/scipy/stats/_continuous_distns.py:2651: RuntimeWarning: The shape parameter of the erlang distribution has been given a non-integer value 4.62664482040339.\n",
      "  RuntimeWarning)\n",
      "/home/g/conda/lib/python3.7/site-packages/scipy/stats/_continuous_distns.py:2651: RuntimeWarning: The shape parameter of the erlang distribution has been given a non-integer value 4.522366170468592.\n",
      "  RuntimeWarning)\n",
      "/home/g/conda/lib/python3.7/site-packages/scipy/stats/_continuous_distns.py:2651: RuntimeWarning: The shape parameter of the erlang distribution has been given a non-integer value 4.444903385324049.\n",
      "  RuntimeWarning)\n",
      "/home/g/conda/lib/python3.7/site-packages/scipy/stats/_continuous_distns.py:2651: RuntimeWarning: The shape parameter of the erlang distribution has been given a non-integer value 4.61287941652977.\n",
      "  RuntimeWarning)\n",
      "/home/g/conda/lib/python3.7/site-packages/scipy/stats/_continuous_distns.py:2651: RuntimeWarning: The shape parameter of the erlang distribution has been given a non-integer value 4.6550629326679696.\n",
      "  RuntimeWarning)\n",
      "/home/g/conda/lib/python3.7/site-packages/scipy/stats/_continuous_distns.py:2651: RuntimeWarning: The shape parameter of the erlang distribution has been given a non-integer value 4.492266905765014.\n",
      "  RuntimeWarning)\n",
      "/home/g/conda/lib/python3.7/site-packages/scipy/stats/_continuous_distns.py:2651: RuntimeWarning: The shape parameter of the erlang distribution has been given a non-integer value 4.425077948445825.\n",
      "  RuntimeWarning)\n",
      "/home/g/conda/lib/python3.7/site-packages/scipy/stats/_continuous_distns.py:2651: RuntimeWarning: The shape parameter of the erlang distribution has been given a non-integer value 4.310525470685671.\n",
      "  RuntimeWarning)\n",
      "/home/g/conda/lib/python3.7/site-packages/scipy/stats/_continuous_distns.py:2651: RuntimeWarning: The shape parameter of the erlang distribution has been given a non-integer value 4.138256739694521.\n",
      "  RuntimeWarning)\n",
      "/home/g/conda/lib/python3.7/site-packages/scipy/stats/_continuous_distns.py:2651: RuntimeWarning: The shape parameter of the erlang distribution has been given a non-integer value 4.151139689594473.\n",
      "  RuntimeWarning)\n",
      "/home/g/conda/lib/python3.7/site-packages/scipy/stats/_continuous_distns.py:2651: RuntimeWarning: The shape parameter of the erlang distribution has been given a non-integer value 4.180736832429114.\n",
      "  RuntimeWarning)\n",
      "/home/g/conda/lib/python3.7/site-packages/scipy/stats/_continuous_distns.py:2651: RuntimeWarning: The shape parameter of the erlang distribution has been given a non-integer value 4.065892628616236.\n",
      "  RuntimeWarning)\n",
      "/home/g/conda/lib/python3.7/site-packages/scipy/stats/_continuous_distns.py:2651: RuntimeWarning: The shape parameter of the erlang distribution has been given a non-integer value 4.383191008904015.\n",
      "  RuntimeWarning)\n",
      "/home/g/conda/lib/python3.7/site-packages/scipy/stats/_continuous_distns.py:2651: RuntimeWarning: The shape parameter of the erlang distribution has been given a non-integer value 4.081328123691456.\n",
      "  RuntimeWarning)\n",
      "/home/g/conda/lib/python3.7/site-packages/scipy/stats/_continuous_distns.py:2651: RuntimeWarning: The shape parameter of the erlang distribution has been given a non-integer value 3.909453211314272.\n",
      "  RuntimeWarning)\n",
      "/home/g/conda/lib/python3.7/site-packages/scipy/stats/_continuous_distns.py:2651: RuntimeWarning: The shape parameter of the erlang distribution has been given a non-integer value 3.9284990952040113.\n",
      "  RuntimeWarning)\n",
      "/home/g/conda/lib/python3.7/site-packages/scipy/stats/_continuous_distns.py:2651: RuntimeWarning: The shape parameter of the erlang distribution has been given a non-integer value 3.7374859074631814.\n",
      "  RuntimeWarning)\n",
      "/home/g/conda/lib/python3.7/site-packages/scipy/stats/_continuous_distns.py:2651: RuntimeWarning: The shape parameter of the erlang distribution has been given a non-integer value 3.4253634893584444.\n",
      "  RuntimeWarning)\n",
      "/home/g/conda/lib/python3.7/site-packages/scipy/stats/_continuous_distns.py:2651: RuntimeWarning: The shape parameter of the erlang distribution has been given a non-integer value 2.946449729585659.\n",
      "  RuntimeWarning)\n",
      "/home/g/conda/lib/python3.7/site-packages/scipy/stats/_continuous_distns.py:2651: RuntimeWarning: The shape parameter of the erlang distribution has been given a non-integer value 2.9963666036258383.\n",
      "  RuntimeWarning)\n",
      "/home/g/conda/lib/python3.7/site-packages/scipy/stats/_continuous_distns.py:2651: RuntimeWarning: The shape parameter of the erlang distribution has been given a non-integer value 2.4616035911306398.\n",
      "  RuntimeWarning)\n",
      "/home/g/conda/lib/python3.7/site-packages/scipy/stats/_continuous_distns.py:2651: RuntimeWarning: The shape parameter of the erlang distribution has been given a non-integer value 2.1875729408053814.\n",
      "  RuntimeWarning)\n",
      "/home/g/conda/lib/python3.7/site-packages/scipy/stats/_continuous_distns.py:2651: RuntimeWarning: The shape parameter of the erlang distribution has been given a non-integer value 1.3266328055509362.\n",
      "  RuntimeWarning)\n",
      "/home/g/conda/lib/python3.7/site-packages/scipy/stats/_continuous_distns.py:2651: RuntimeWarning: The shape parameter of the erlang distribution has been given a non-integer value 1.326264933551272.\n",
      "  RuntimeWarning)\n",
      "/home/g/conda/lib/python3.7/site-packages/scipy/stats/_continuous_distns.py:2651: RuntimeWarning: The shape parameter of the erlang distribution has been given a non-integer value 3.134680663985204.\n",
      "  RuntimeWarning)\n",
      "/home/g/conda/lib/python3.7/site-packages/scipy/stats/_continuous_distns.py:2651: RuntimeWarning: The shape parameter of the erlang distribution has been given a non-integer value 2.2427884010284913.\n",
      "  RuntimeWarning)\n",
      "/home/g/conda/lib/python3.7/site-packages/scipy/stats/_continuous_distns.py:2651: RuntimeWarning: The shape parameter of the erlang distribution has been given a non-integer value 1.8909577367499075.\n",
      "  RuntimeWarning)\n",
      "/home/g/conda/lib/python3.7/site-packages/scipy/stats/_continuous_distns.py:2651: RuntimeWarning: The shape parameter of the erlang distribution has been given a non-integer value 1.2254088484720818.\n",
      "  RuntimeWarning)\n",
      "/home/g/conda/lib/python3.7/site-packages/scipy/stats/_continuous_distns.py:2651: RuntimeWarning: The shape parameter of the erlang distribution has been given a non-integer value 1.7027268023503623.\n",
      "  RuntimeWarning)\n",
      "/home/g/conda/lib/python3.7/site-packages/scipy/stats/_continuous_distns.py:2651: RuntimeWarning: The shape parameter of the erlang distribution has been given a non-integer value 1.3925680621397944.\n",
      "  RuntimeWarning)\n",
      "/home/g/conda/lib/python3.7/site-packages/scipy/stats/_continuous_distns.py:2651: RuntimeWarning: The shape parameter of the erlang distribution has been given a non-integer value 2.1943447088829284.\n",
      "  RuntimeWarning)\n",
      "/home/g/conda/lib/python3.7/site-packages/scipy/stats/_continuous_distns.py:2651: RuntimeWarning: The shape parameter of the erlang distribution has been given a non-integer value 1.6598269443875058.\n",
      "  RuntimeWarning)\n",
      "/home/g/conda/lib/python3.7/site-packages/scipy/stats/_continuous_distns.py:2651: RuntimeWarning: The shape parameter of the erlang distribution has been given a non-integer value 1.314768048186469.\n",
      "  RuntimeWarning)\n",
      "/home/g/conda/lib/python3.7/site-packages/scipy/stats/_continuous_distns.py:2651: RuntimeWarning: The shape parameter of the erlang distribution has been given a non-integer value 1.9693717176506533.\n",
      "  RuntimeWarning)\n",
      "/home/g/conda/lib/python3.7/site-packages/scipy/stats/_continuous_distns.py:2651: RuntimeWarning: The shape parameter of the erlang distribution has been given a non-integer value 1.9773774635083488.\n",
      "  RuntimeWarning)\n",
      "/home/g/conda/lib/python3.7/site-packages/scipy/stats/_continuous_distns.py:2651: RuntimeWarning: The shape parameter of the erlang distribution has been given a non-integer value 1.716069712113188.\n",
      "  RuntimeWarning)\n",
      "/home/g/conda/lib/python3.7/site-packages/scipy/stats/_continuous_distns.py:2651: RuntimeWarning: The shape parameter of the erlang distribution has been given a non-integer value 1.906046216266287.\n",
      "  RuntimeWarning)\n",
      "/home/g/conda/lib/python3.7/site-packages/scipy/stats/_continuous_distns.py:2651: RuntimeWarning: The shape parameter of the erlang distribution has been given a non-integer value 1.8045426793581867.\n",
      "  RuntimeWarning)\n",
      "/home/g/conda/lib/python3.7/site-packages/scipy/stats/_continuous_distns.py:2651: RuntimeWarning: The shape parameter of the erlang distribution has been given a non-integer value 1.761335150662326.\n",
      "  RuntimeWarning)\n",
      "/home/g/conda/lib/python3.7/site-packages/scipy/stats/_continuous_distns.py:2651: RuntimeWarning: The shape parameter of the erlang distribution has been given a non-integer value 1.6929801561058335.\n",
      "  RuntimeWarning)\n",
      "/home/g/conda/lib/python3.7/site-packages/scipy/stats/_continuous_distns.py:2651: RuntimeWarning: The shape parameter of the erlang distribution has been given a non-integer value 1.5864471260256066.\n",
      "  RuntimeWarning)\n",
      "/home/g/conda/lib/python3.7/site-packages/scipy/stats/_continuous_distns.py:2651: RuntimeWarning: The shape parameter of the erlang distribution has been given a non-integer value 1.4320507039287613.\n",
      "  RuntimeWarning)\n",
      "/home/g/conda/lib/python3.7/site-packages/scipy/stats/_continuous_distns.py:2651: RuntimeWarning: The shape parameter of the erlang distribution has been given a non-integer value 1.8410457736134518.\n",
      "  RuntimeWarning)\n",
      "/home/g/conda/lib/python3.7/site-packages/scipy/stats/_continuous_distns.py:2651: RuntimeWarning: The shape parameter of the erlang distribution has been given a non-integer value 1.870413775866902.\n",
      "  RuntimeWarning)\n",
      "/home/g/conda/lib/python3.7/site-packages/scipy/stats/_continuous_distns.py:2651: RuntimeWarning: The shape parameter of the erlang distribution has been given a non-integer value 1.8416246530617983.\n",
      "  RuntimeWarning)\n",
      "/home/g/conda/lib/python3.7/site-packages/scipy/stats/_continuous_distns.py:2651: RuntimeWarning: The shape parameter of the erlang distribution has been given a non-integer value 1.781407526262194.\n",
      "  RuntimeWarning)\n",
      "/home/g/conda/lib/python3.7/site-packages/scipy/stats/_continuous_distns.py:2651: RuntimeWarning: The shape parameter of the erlang distribution has been given a non-integer value 1.722155198543168.\n",
      "  RuntimeWarning)\n",
      "/home/g/conda/lib/python3.7/site-packages/scipy/stats/_continuous_distns.py:2651: RuntimeWarning: The shape parameter of the erlang distribution has been given a non-integer value 1.662709911008026.\n",
      "  RuntimeWarning)\n",
      "/home/g/conda/lib/python3.7/site-packages/scipy/stats/_continuous_distns.py:2651: RuntimeWarning: The shape parameter of the erlang distribution has been given a non-integer value 1.7026617023916466.\n",
      "  RuntimeWarning)\n",
      "/home/g/conda/lib/python3.7/site-packages/scipy/stats/_continuous_distns.py:2651: RuntimeWarning: The shape parameter of the erlang distribution has been given a non-integer value 1.663288790456373.\n",
      "  RuntimeWarning)\n",
      "/home/g/conda/lib/python3.7/site-packages/scipy/stats/_continuous_distns.py:2651: RuntimeWarning: The shape parameter of the erlang distribution has been given a non-integer value 1.4755721291799198.\n",
      "  RuntimeWarning)\n",
      "/home/g/conda/lib/python3.7/site-packages/scipy/stats/_continuous_distns.py:2651: RuntimeWarning: The shape parameter of the erlang distribution has been given a non-integer value 1.2781513058364284.\n",
      "  RuntimeWarning)\n",
      "/home/g/conda/lib/python3.7/site-packages/scipy/stats/_continuous_distns.py:2651: RuntimeWarning: The shape parameter of the erlang distribution has been given a non-integer value 1.5080670643237122.\n",
      "  RuntimeWarning)\n",
      "/home/g/conda/lib/python3.7/site-packages/scipy/stats/_continuous_distns.py:2651: RuntimeWarning: The shape parameter of the erlang distribution has been given a non-integer value 1.4156105184326515.\n",
      "  RuntimeWarning)\n",
      "/home/g/conda/lib/python3.7/site-packages/scipy/stats/_continuous_distns.py:2651: RuntimeWarning: The shape parameter of the erlang distribution has been given a non-integer value 1.4352420782986441.\n",
      "  RuntimeWarning)\n",
      "/home/g/conda/lib/python3.7/site-packages/scipy/stats/_continuous_distns.py:2651: RuntimeWarning: The shape parameter of the erlang distribution has been given a non-integer value 1.321508161943953.\n",
      "  RuntimeWarning)\n",
      "/home/g/conda/lib/python3.7/site-packages/scipy/stats/_continuous_distns.py:2651: RuntimeWarning: The shape parameter of the erlang distribution has been given a non-integer value 1.2826320574118109.\n",
      "  RuntimeWarning)\n",
      "/home/g/conda/lib/python3.7/site-packages/scipy/stats/_continuous_distns.py:2651: RuntimeWarning: The shape parameter of the erlang distribution has been given a non-integer value 1.0923036908895298.\n",
      "  RuntimeWarning)\n",
      "/home/g/conda/lib/python3.7/site-packages/scipy/stats/_continuous_distns.py:2651: RuntimeWarning: The shape parameter of the erlang distribution has been given a non-integer value 1.3417220041761921.\n",
      "  RuntimeWarning)\n",
      "/home/g/conda/lib/python3.7/site-packages/scipy/stats/_continuous_distns.py:2651: RuntimeWarning: The shape parameter of the erlang distribution has been given a non-integer value 1.274796941674328.\n",
      "  RuntimeWarning)\n",
      "/home/g/conda/lib/python3.7/site-packages/scipy/stats/_continuous_distns.py:2651: RuntimeWarning: The shape parameter of the erlang distribution has been given a non-integer value 1.15371365393281.\n",
      "  RuntimeWarning)\n",
      "/home/g/conda/lib/python3.7/site-packages/scipy/stats/_continuous_distns.py:2651: RuntimeWarning: The shape parameter of the erlang distribution has been given a non-integer value 1.4194787117259866.\n",
      "  RuntimeWarning)\n",
      "/home/g/conda/lib/python3.7/site-packages/scipy/stats/_continuous_distns.py:2651: RuntimeWarning: The shape parameter of the erlang distribution has been given a non-integer value 1.2160297289094393.\n",
      "  RuntimeWarning)\n",
      "/home/g/conda/lib/python3.7/site-packages/scipy/stats/_continuous_distns.py:2651: RuntimeWarning: The shape parameter of the erlang distribution has been given a non-integer value 1.380438990951343.\n",
      "  RuntimeWarning)\n",
      "/home/g/conda/lib/python3.7/site-packages/scipy/stats/_continuous_distns.py:2651: RuntimeWarning: The shape parameter of the erlang distribution has been given a non-integer value 1.205766614965668.\n",
      "  RuntimeWarning)\n",
      "/home/g/conda/lib/python3.7/site-packages/scipy/stats/_continuous_distns.py:2651: RuntimeWarning: The shape parameter of the erlang distribution has been given a non-integer value 1.0989105665855088.\n",
      "  RuntimeWarning)\n",
      "/home/g/conda/lib/python3.7/site-packages/scipy/stats/_continuous_distns.py:2651: RuntimeWarning: The shape parameter of the erlang distribution has been given a non-integer value 1.2913696409824156.\n",
      "  RuntimeWarning)\n",
      "/home/g/conda/lib/python3.7/site-packages/scipy/stats/_continuous_distns.py:2651: RuntimeWarning: The shape parameter of the erlang distribution has been given a non-integer value 1.2957384327677177.\n",
      "  RuntimeWarning)\n",
      "/home/g/conda/lib/python3.7/site-packages/scipy/stats/_continuous_distns.py:2651: RuntimeWarning: The shape parameter of the erlang distribution has been given a non-integer value 1.1370956686537999.\n",
      "  RuntimeWarning)\n",
      "/home/g/conda/lib/python3.7/site-packages/scipy/stats/_continuous_distns.py:2651: RuntimeWarning: The shape parameter of the erlang distribution has been given a non-integer value 1.150936869250462.\n",
      "  RuntimeWarning)\n",
      "/home/g/conda/lib/python3.7/site-packages/scipy/stats/_continuous_distns.py:2651: RuntimeWarning: The shape parameter of the erlang distribution has been given a non-integer value 1.0890068330385292.\n",
      "  RuntimeWarning)\n",
      "/home/g/conda/lib/python3.7/site-packages/scipy/stats/_continuous_distns.py:2651: RuntimeWarning: The shape parameter of the erlang distribution has been given a non-integer value 1.183414032148985.\n",
      "  RuntimeWarning)\n",
      "/home/g/conda/lib/python3.7/site-packages/scipy/stats/_continuous_distns.py:2651: RuntimeWarning: The shape parameter of the erlang distribution has been given a non-integer value 1.2001784692614974.\n",
      "  RuntimeWarning)\n",
      "/home/g/conda/lib/python3.7/site-packages/scipy/stats/_continuous_distns.py:2651: RuntimeWarning: The shape parameter of the erlang distribution has been given a non-integer value 1.2941401788659848.\n",
      "  RuntimeWarning)\n",
      "/home/g/conda/lib/python3.7/site-packages/scipy/stats/_continuous_distns.py:2651: RuntimeWarning: The shape parameter of the erlang distribution has been given a non-integer value 1.1344319121509119.\n",
      "  RuntimeWarning)\n",
      "/home/g/conda/lib/python3.7/site-packages/scipy/stats/_continuous_distns.py:2651: RuntimeWarning: The shape parameter of the erlang distribution has been given a non-integer value 1.2554118026135161.\n",
      "  RuntimeWarning)\n",
      "/home/g/conda/lib/python3.7/site-packages/scipy/stats/_continuous_distns.py:2651: RuntimeWarning: The shape parameter of the erlang distribution has been given a non-integer value 1.110211248550999.\n",
      "  RuntimeWarning)\n",
      "/home/g/conda/lib/python3.7/site-packages/scipy/stats/_continuous_distns.py:2651: RuntimeWarning: The shape parameter of the erlang distribution has been given a non-integer value 1.2481579462872383.\n",
      "  RuntimeWarning)\n",
      "/home/g/conda/lib/python3.7/site-packages/scipy/stats/_continuous_distns.py:2651: RuntimeWarning: The shape parameter of the erlang distribution has been given a non-integer value 1.2361592761726468.\n",
      "  RuntimeWarning)\n",
      "/home/g/conda/lib/python3.7/site-packages/scipy/stats/_continuous_distns.py:2651: RuntimeWarning: The shape parameter of the erlang distribution has been given a non-integer value 1.1680909251933818.\n",
      "  RuntimeWarning)\n",
      "/home/g/conda/lib/python3.7/site-packages/scipy/stats/_continuous_distns.py:2651: RuntimeWarning: The shape parameter of the erlang distribution has been given a non-integer value 1.1244304864833143.\n",
      "  RuntimeWarning)\n",
      "/home/g/conda/lib/python3.7/site-packages/scipy/stats/_continuous_distns.py:2651: RuntimeWarning: The shape parameter of the erlang distribution has been given a non-integer value 1.1219667674570886.\n",
      "  RuntimeWarning)\n",
      "/home/g/conda/lib/python3.7/site-packages/scipy/stats/_continuous_distns.py:2651: RuntimeWarning: The shape parameter of the erlang distribution has been given a non-integer value 1.058871178042014.\n",
      "  RuntimeWarning)\n",
      "/home/g/conda/lib/python3.7/site-packages/scipy/stats/_continuous_distns.py:2651: RuntimeWarning: The shape parameter of the erlang distribution has been given a non-integer value 1.0157733721512585.\n",
      "  RuntimeWarning)\n",
      "/home/g/conda/lib/python3.7/site-packages/scipy/stats/_continuous_distns.py:2651: RuntimeWarning: The shape parameter of the erlang distribution has been given a non-integer value 1.1810628001672998.\n",
      "  RuntimeWarning)\n",
      "/home/g/conda/lib/python3.7/site-packages/scipy/stats/_continuous_distns.py:2651: RuntimeWarning: The shape parameter of the erlang distribution has been given a non-integer value 1.1210797330180018.\n",
      "  RuntimeWarning)\n",
      "/home/g/conda/lib/python3.7/site-packages/scipy/stats/_continuous_distns.py:2651: RuntimeWarning: The shape parameter of the erlang distribution has been given a non-integer value 1.143472585192347.\n",
      "  RuntimeWarning)\n",
      "/home/g/conda/lib/python3.7/site-packages/scipy/stats/_continuous_distns.py:2651: RuntimeWarning: The shape parameter of the erlang distribution has been given a non-integer value 1.0658936587845287.\n",
      "  RuntimeWarning)\n",
      "/home/g/conda/lib/python3.7/site-packages/scipy/stats/_continuous_distns.py:2651: RuntimeWarning: The shape parameter of the erlang distribution has been given a non-integer value 1.152270514821607.\n",
      "  RuntimeWarning)\n",
      "/home/g/conda/lib/python3.7/site-packages/scipy/stats/_continuous_distns.py:2651: RuntimeWarning: The shape parameter of the erlang distribution has been given a non-integer value 1.0683185935105972.\n",
      "  RuntimeWarning)\n",
      "/home/g/conda/lib/python3.7/site-packages/scipy/stats/_continuous_distns.py:2651: RuntimeWarning: The shape parameter of the erlang distribution has been given a non-integer value 1.042834272390465.\n",
      "  RuntimeWarning)\n",
      "/home/g/conda/lib/python3.7/site-packages/scipy/stats/_continuous_distns.py:2651: RuntimeWarning: The shape parameter of the erlang distribution has been given a non-integer value 0.9925151159895238.\n",
      "  RuntimeWarning)\n",
      "/home/g/conda/lib/python3.7/site-packages/scipy/stats/_continuous_distns.py:2651: RuntimeWarning: The shape parameter of the erlang distribution has been given a non-integer value 0.9610788478071102.\n",
      "  RuntimeWarning)\n",
      "/home/g/conda/lib/python3.7/site-packages/scipy/stats/_continuous_distns.py:2651: RuntimeWarning: The shape parameter of the erlang distribution has been given a non-integer value 1.1044725980679828.\n",
      "  RuntimeWarning)\n",
      "/home/g/conda/lib/python3.7/site-packages/scipy/stats/_continuous_distns.py:2651: RuntimeWarning: The shape parameter of the erlang distribution has been given a non-integer value 1.0088767645607344.\n",
      "  RuntimeWarning)\n",
      "/home/g/conda/lib/python3.7/site-packages/scipy/stats/_continuous_distns.py:2651: RuntimeWarning: The shape parameter of the erlang distribution has been given a non-integer value 0.96107884780711.\n",
      "  RuntimeWarning)\n",
      "/home/g/conda/lib/python3.7/site-packages/scipy/stats/_continuous_distns.py:2651: RuntimeWarning: The shape parameter of the erlang distribution has been given a non-integer value 1.005402883151545.\n",
      "  RuntimeWarning)\n",
      "/home/g/conda/lib/python3.7/site-packages/scipy/stats/_continuous_distns.py:2651: RuntimeWarning: The shape parameter of the erlang distribution has been given a non-integer value 1.0525896659208342.\n",
      "  RuntimeWarning)\n",
      "/home/g/conda/lib/python3.7/site-packages/scipy/stats/_continuous_distns.py:2651: RuntimeWarning: The shape parameter of the erlang distribution has been given a non-integer value 1.0211318107413079.\n",
      "  RuntimeWarning)\n",
      "/home/g/conda/lib/python3.7/site-packages/scipy/stats/_continuous_distns.py:2651: RuntimeWarning: The shape parameter of the erlang distribution has been given a non-integer value 1.0447252021259525.\n",
      "  RuntimeWarning)\n",
      "/home/g/conda/lib/python3.7/site-packages/scipy/stats/_continuous_distns.py:2651: RuntimeWarning: The shape parameter of the erlang distribution has been given a non-integer value 1.0054196480094206.\n",
      "  RuntimeWarning)\n",
      "/home/g/conda/lib/python3.7/site-packages/scipy/stats/_continuous_distns.py:2651: RuntimeWarning: The shape parameter of the erlang distribution has been given a non-integer value 0.9933619211811271.\n",
      "  RuntimeWarning)\n",
      "/home/g/conda/lib/python3.7/site-packages/scipy/stats/_continuous_distns.py:2651: RuntimeWarning: The shape parameter of the erlang distribution has been given a non-integer value 0.9676802807087146.\n",
      "  RuntimeWarning)\n",
      "/home/g/conda/lib/python3.7/site-packages/scipy/stats/_continuous_distns.py:2651: RuntimeWarning: The shape parameter of the erlang distribution has been given a non-integer value 0.945150189795448.\n",
      "  RuntimeWarning)\n",
      "/home/g/conda/lib/python3.7/site-packages/scipy/stats/_continuous_distns.py:2651: RuntimeWarning: The shape parameter of the erlang distribution has been given a non-integer value 0.9423851753671773.\n",
      "  RuntimeWarning)\n",
      "/home/g/conda/lib/python3.7/site-packages/scipy/stats/_continuous_distns.py:2651: RuntimeWarning: The shape parameter of the erlang distribution has been given a non-integer value 0.9896610298488597.\n",
      "  RuntimeWarning)\n",
      "/home/g/conda/lib/python3.7/site-packages/scipy/stats/_continuous_distns.py:2651: RuntimeWarning: The shape parameter of the erlang distribution has been given a non-integer value 0.9581437935277382.\n",
      "  RuntimeWarning)\n",
      "/home/g/conda/lib/python3.7/site-packages/scipy/stats/_continuous_distns.py:2651: RuntimeWarning: The shape parameter of the erlang distribution has been given a non-integer value 0.9423851753671775.\n",
      "  RuntimeWarning)\n",
      "/home/g/conda/lib/python3.7/site-packages/scipy/stats/_continuous_distns.py:2651: RuntimeWarning: The shape parameter of the erlang distribution has been given a non-integer value 0.9051060781271993.\n",
      "  RuntimeWarning)\n",
      "/home/g/conda/lib/python3.7/site-packages/scipy/stats/_continuous_distns.py:2651: RuntimeWarning: The shape parameter of the erlang distribution has been given a non-integer value 0.9421365784469866.\n",
      "  RuntimeWarning)\n",
      "/home/g/conda/lib/python3.7/site-packages/scipy/stats/_continuous_distns.py:2651: RuntimeWarning: The shape parameter of the erlang distribution has been given a non-integer value 0.9443967869583326.\n",
      "  RuntimeWarning)\n",
      "/home/g/conda/lib/python3.7/site-packages/scipy/stats/_continuous_distns.py:2651: RuntimeWarning: The shape parameter of the erlang distribution has been given a non-integer value 0.9040841583667989.\n",
      "  RuntimeWarning)\n",
      "/home/g/conda/lib/python3.7/site-packages/scipy/stats/_continuous_distns.py:2651: RuntimeWarning: The shape parameter of the erlang distribution has been given a non-integer value 0.872286097195841.\n",
      "  RuntimeWarning)\n",
      "/home/g/conda/lib/python3.7/site-packages/scipy/stats/_continuous_distns.py:2651: RuntimeWarning: The shape parameter of the erlang distribution has been given a non-integer value 0.8792938589421865.\n",
      "  RuntimeWarning)\n",
      "/home/g/conda/lib/python3.7/site-packages/scipy/stats/_continuous_distns.py:2651: RuntimeWarning: The shape parameter of the erlang distribution has been given a non-integer value 0.9281210549542961.\n",
      "  RuntimeWarning)\n",
      "/home/g/conda/lib/python3.7/site-packages/scipy/stats/_continuous_distns.py:2651: RuntimeWarning: The shape parameter of the erlang distribution has been given a non-integer value 0.895569590946223.\n",
      "  RuntimeWarning)\n",
      "/home/g/conda/lib/python3.7/site-packages/scipy/stats/_continuous_distns.py:2651: RuntimeWarning: The shape parameter of the erlang distribution has been given a non-integer value 0.9199831889522778.\n",
      "  RuntimeWarning)\n",
      "/home/g/conda/lib/python3.7/site-packages/scipy/stats/_continuous_distns.py:2651: RuntimeWarning: The shape parameter of the erlang distribution has been given a non-integer value 0.9037074569482413.\n",
      "  RuntimeWarning)\n",
      "/home/g/conda/lib/python3.7/site-packages/scipy/stats/_continuous_distns.py:2651: RuntimeWarning: The shape parameter of the erlang distribution has been given a non-integer value 0.8955695909462231.\n",
      "  RuntimeWarning)\n",
      "/home/g/conda/lib/python3.7/site-packages/scipy/stats/_continuous_distns.py:2651: RuntimeWarning: The shape parameter of the erlang distribution has been given a non-integer value 0.9176521536540145.\n",
      "  RuntimeWarning)\n",
      "/home/g/conda/lib/python3.7/site-packages/scipy/stats/_continuous_distns.py:2651: RuntimeWarning: The shape parameter of the erlang distribution has been given a non-integer value 0.9082425970089032.\n",
      "  RuntimeWarning)\n",
      "/home/g/conda/lib/python3.7/site-packages/scipy/stats/_continuous_distns.py:2651: RuntimeWarning: The shape parameter of the erlang distribution has been given a non-integer value 0.8313469739075856.\n",
      "  RuntimeWarning)\n",
      "/home/g/conda/lib/python3.7/site-packages/scipy/stats/_continuous_distns.py:2651: RuntimeWarning: The shape parameter of the erlang distribution has been given a non-integer value 0.8630461788126237.\n",
      "  RuntimeWarning)\n",
      "/home/g/conda/lib/python3.7/site-packages/scipy/stats/_continuous_distns.py:2651: RuntimeWarning: The shape parameter of the erlang distribution has been given a non-integer value 0.8511172249622341.\n",
      "  RuntimeWarning)\n",
      "/home/g/conda/lib/python3.7/site-packages/scipy/stats/_continuous_distns.py:2651: RuntimeWarning: The shape parameter of the erlang distribution has been given a non-integer value 0.8225545389388995.\n",
      "  RuntimeWarning)\n",
      "/home/g/conda/lib/python3.7/site-packages/scipy/stats/_continuous_distns.py:2651: RuntimeWarning: The shape parameter of the erlang distribution has been given a non-integer value 0.8883610072582538.\n",
      "  RuntimeWarning)\n",
      "/home/g/conda/lib/python3.7/site-packages/scipy/stats/_continuous_distns.py:2651: RuntimeWarning: The shape parameter of the erlang distribution has been given a non-integer value 0.8693748859240312.\n",
      "  RuntimeWarning)\n",
      "/home/g/conda/lib/python3.7/site-packages/scipy/stats/_continuous_distns.py:2651: RuntimeWarning: The shape parameter of the erlang distribution has been given a non-integer value 0.8771802813604965.\n",
      "  RuntimeWarning)\n",
      "/home/g/conda/lib/python3.7/site-packages/scipy/stats/_continuous_distns.py:2651: RuntimeWarning: The shape parameter of the erlang distribution has been given a non-integer value 0.8735096432370049.\n",
      "  RuntimeWarning)\n",
      "/home/g/conda/lib/python3.7/site-packages/scipy/stats/_continuous_distns.py:2651: RuntimeWarning: The shape parameter of the erlang distribution has been given a non-integer value 0.8828479975076223.\n",
      "  RuntimeWarning)\n",
      "/home/g/conda/lib/python3.7/site-packages/scipy/stats/_continuous_distns.py:2651: RuntimeWarning: The shape parameter of the erlang distribution has been given a non-integer value 0.8895845532994178.\n",
      "  RuntimeWarning)\n",
      "/home/g/conda/lib/python3.7/site-packages/scipy/stats/_continuous_distns.py:2651: RuntimeWarning: The shape parameter of the erlang distribution has been given a non-integer value 0.8849388097083934.\n",
      "  RuntimeWarning)\n",
      "/home/g/conda/lib/python3.7/site-packages/scipy/stats/_continuous_distns.py:2651: RuntimeWarning: The shape parameter of the erlang distribution has been given a non-integer value 0.876366934854852.\n",
      "  RuntimeWarning)\n",
      "/home/g/conda/lib/python3.7/site-packages/scipy/stats/_continuous_distns.py:2651: RuntimeWarning: The shape parameter of the erlang distribution has been given a non-integer value 0.8820815180905464.\n",
      "  RuntimeWarning)\n",
      "/home/g/conda/lib/python3.7/site-packages/scipy/stats/_continuous_distns.py:2651: RuntimeWarning: The shape parameter of the erlang distribution has been given a non-integer value 0.8777955806637756.\n",
      "  RuntimeWarning)\n",
      "/home/g/conda/lib/python3.7/site-packages/scipy/stats/_continuous_distns.py:2651: RuntimeWarning: The shape parameter of the erlang distribution has been given a non-integer value 0.8374664118075132.\n",
      "  RuntimeWarning)\n",
      "/home/g/conda/lib/python3.7/site-packages/scipy/stats/_continuous_distns.py:2651: RuntimeWarning: The shape parameter of the erlang distribution has been given a non-integer value 0.8364921755211376.\n",
      "  RuntimeWarning)\n",
      "/home/g/conda/lib/python3.7/site-packages/scipy/stats/_continuous_distns.py:2651: RuntimeWarning: The shape parameter of the erlang distribution has been given a non-integer value 0.8674697293781162.\n",
      "  RuntimeWarning)\n",
      "/home/g/conda/lib/python3.7/site-packages/scipy/stats/_continuous_distns.py:2651: RuntimeWarning: The shape parameter of the erlang distribution has been given a non-integer value 0.8740722008332671.\n",
      "  RuntimeWarning)\n",
      "/home/g/conda/lib/python3.7/site-packages/scipy/stats/_continuous_distns.py:2651: RuntimeWarning: The shape parameter of the erlang distribution has been given a non-integer value 0.8568559689299924.\n",
      "  RuntimeWarning)\n",
      "/home/g/conda/lib/python3.7/site-packages/scipy/stats/_continuous_distns.py:2651: RuntimeWarning: The shape parameter of the erlang distribution has been given a non-integer value 0.850643856118636.\n",
      "  RuntimeWarning)\n",
      "/home/g/conda/lib/python3.7/site-packages/scipy/stats/_continuous_distns.py:2651: RuntimeWarning: The shape parameter of the erlang distribution has been given a non-integer value 0.842230919488896.\n",
      "  RuntimeWarning)\n",
      "/home/g/conda/lib/python3.7/site-packages/scipy/stats/_continuous_distns.py:2651: RuntimeWarning: The shape parameter of the erlang distribution has been given a non-integer value 0.8571162080258556.\n",
      "  RuntimeWarning)\n",
      "/home/g/conda/lib/python3.7/site-packages/scipy/stats/_continuous_distns.py:2651: RuntimeWarning: The shape parameter of the erlang distribution has been given a non-integer value 0.8569210287039581.\n",
      "  RuntimeWarning)\n",
      "/home/g/conda/lib/python3.7/site-packages/scipy/stats/_continuous_distns.py:2651: RuntimeWarning: The shape parameter of the erlang distribution has been given a non-integer value 0.8894755097459646.\n",
      "  RuntimeWarning)\n",
      "/home/g/conda/lib/python3.7/site-packages/scipy/stats/_continuous_distns.py:2651: RuntimeWarning: The shape parameter of the erlang distribution has been given a non-integer value 0.850468686292126.\n",
      "  RuntimeWarning)\n",
      "/home/g/conda/lib/python3.7/site-packages/scipy/stats/_continuous_distns.py:2651: RuntimeWarning: The shape parameter of the erlang distribution has been given a non-integer value 0.8657193312416316.\n",
      "  RuntimeWarning)\n",
      "/home/g/conda/lib/python3.7/site-packages/scipy/stats/_continuous_distns.py:2651: RuntimeWarning: The shape parameter of the erlang distribution has been given a non-integer value 0.8591206043383766.\n",
      "  RuntimeWarning)\n",
      "/home/g/conda/lib/python3.7/site-packages/scipy/stats/_continuous_distns.py:2651: RuntimeWarning: The shape parameter of the erlang distribution has been given a non-integer value 0.8779396190176307.\n",
      "  RuntimeWarning)\n",
      "/home/g/conda/lib/python3.7/site-packages/scipy/stats/_continuous_distns.py:2651: RuntimeWarning: The shape parameter of the erlang distribution has been given a non-integer value 0.8573364194735023.\n",
      "  RuntimeWarning)\n",
      "/home/g/conda/lib/python3.7/site-packages/scipy/stats/_continuous_distns.py:2651: RuntimeWarning: The shape parameter of the erlang distribution has been given a non-integer value 0.8680982443947973.\n",
      "  RuntimeWarning)\n",
      "/home/g/conda/lib/python3.7/site-packages/scipy/stats/_continuous_distns.py:2651: RuntimeWarning: The shape parameter of the erlang distribution has been given a non-integer value 0.8613650143524818.\n",
      "  RuntimeWarning)\n",
      "/home/g/conda/lib/python3.7/site-packages/scipy/stats/_continuous_distns.py:2651: RuntimeWarning: The shape parameter of the erlang distribution has been given a non-integer value 0.8725681591789913.\n",
      "  RuntimeWarning)\n",
      "/home/g/conda/lib/python3.7/site-packages/scipy/stats/_continuous_distns.py:2651: RuntimeWarning: The shape parameter of the erlang distribution has been given a non-integer value 0.8611443543998745.\n",
      "  RuntimeWarning)\n",
      "/home/g/conda/lib/python3.7/site-packages/scipy/stats/_continuous_distns.py:2651: RuntimeWarning: The shape parameter of the erlang distribution has been given a non-integer value 0.86839245766494.\n",
      "  RuntimeWarning)\n",
      "/home/g/conda/lib/python3.7/site-packages/scipy/stats/_continuous_distns.py:2651: RuntimeWarning: The shape parameter of the erlang distribution has been given a non-integer value 0.8631218751805964.\n",
      "  RuntimeWarning)\n",
      "/home/g/conda/lib/python3.7/site-packages/scipy/stats/_continuous_distns.py:2651: RuntimeWarning: The shape parameter of the erlang distribution has been given a non-integer value 0.8699314648046954.\n",
      "  RuntimeWarning)\n",
      "/home/g/conda/lib/python3.7/site-packages/scipy/stats/_continuous_distns.py:2651: RuntimeWarning: The shape parameter of the erlang distribution has been given a non-integer value 0.8633411320010798.\n",
      "  RuntimeWarning)\n",
      "/home/g/conda/lib/python3.7/site-packages/scipy/stats/_continuous_distns.py:2651: RuntimeWarning: The shape parameter of the erlang distribution has been given a non-integer value 0.868100115237629.\n",
      "  RuntimeWarning)\n",
      "/home/g/conda/lib/python3.7/site-packages/scipy/stats/_continuous_distns.py:2651: RuntimeWarning: The shape parameter of the erlang distribution has been given a non-integer value 0.8643664351948546.\n",
      "  RuntimeWarning)\n",
      "/home/g/conda/lib/python3.7/site-packages/scipy/stats/_continuous_distns.py:2651: RuntimeWarning: The shape parameter of the erlang distribution has been given a non-integer value 0.8685643938796621.\n",
      "  RuntimeWarning)\n",
      "/home/g/conda/lib/python3.7/site-packages/scipy/stats/_continuous_distns.py:2651: RuntimeWarning: The shape parameter of the erlang distribution has been given a non-integer value 0.8711760248189533.\n",
      "  RuntimeWarning)\n",
      "/home/g/conda/lib/python3.7/site-packages/scipy/stats/_continuous_distns.py:2651: RuntimeWarning: The shape parameter of the erlang distribution has been given a non-integer value 0.8395351259544793.\n",
      "  RuntimeWarning)\n",
      "/home/g/conda/lib/python3.7/site-packages/scipy/stats/_continuous_distns.py:2651: RuntimeWarning: The shape parameter of the erlang distribution has been given a non-integer value 0.8414624821069969.\n",
      "  RuntimeWarning)\n",
      "/home/g/conda/lib/python3.7/site-packages/scipy/stats/_continuous_distns.py:2651: RuntimeWarning: The shape parameter of the erlang distribution has been given a non-integer value 0.8586404469228901.\n",
      "  RuntimeWarning)\n",
      "/home/g/conda/lib/python3.7/site-packages/scipy/stats/_continuous_distns.py:2651: RuntimeWarning: The shape parameter of the erlang distribution has been given a non-integer value 0.8471884703789614.\n",
      "  RuntimeWarning)\n",
      "/home/g/conda/lib/python3.7/site-packages/scipy/stats/_continuous_distns.py:2651: RuntimeWarning: The shape parameter of the erlang distribution has been given a non-integer value 0.855777452786908.\n",
      "  RuntimeWarning)\n",
      "/home/g/conda/lib/python3.7/site-packages/scipy/stats/_continuous_distns.py:2651: RuntimeWarning: The shape parameter of the erlang distribution has been given a non-integer value 0.8500514645149435.\n",
      "  RuntimeWarning)\n",
      "/home/g/conda/lib/python3.7/site-packages/scipy/stats/_continuous_distns.py:2651: RuntimeWarning: The shape parameter of the erlang distribution has been given a non-integer value 0.8543459557189168.\n",
      "  RuntimeWarning)\n",
      "/home/g/conda/lib/python3.7/site-packages/scipy/stats/_continuous_distns.py:2651: RuntimeWarning: The shape parameter of the erlang distribution has been given a non-integer value 0.8514829615829347.\n",
      "  RuntimeWarning)\n",
      "/home/g/conda/lib/python3.7/site-packages/scipy/stats/_continuous_distns.py:2651: RuntimeWarning: The shape parameter of the erlang distribution has been given a non-integer value 0.8557444648260815.\n",
      "  RuntimeWarning)\n",
      "/home/g/conda/lib/python3.7/site-packages/scipy/stats/_continuous_distns.py:2651: RuntimeWarning: The shape parameter of the erlang distribution has been given a non-integer value 0.8582947691798042.\n",
      "  RuntimeWarning)\n",
      "/home/g/conda/lib/python3.7/site-packages/scipy/stats/_continuous_distns.py:2651: RuntimeWarning: The shape parameter of the erlang distribution has been given a non-integer value 0.8776594209046397.\n",
      "  RuntimeWarning)\n",
      "/home/g/conda/lib/python3.7/site-packages/scipy/stats/_continuous_distns.py:2651: RuntimeWarning: The shape parameter of the erlang distribution has been given a non-integer value 0.8490661996920195.\n",
      "  RuntimeWarning)\n",
      "/home/g/conda/lib/python3.7/site-packages/scipy/stats/_continuous_distns.py:2651: RuntimeWarning: The shape parameter of the erlang distribution has been given a non-integer value 0.8356313568543616.\n",
      "  RuntimeWarning)\n",
      "/home/g/conda/lib/python3.7/site-packages/scipy/stats/_continuous_distns.py:2651: RuntimeWarning: The shape parameter of the erlang distribution has been given a non-integer value 0.8461729891502323.\n",
      "  RuntimeWarning)\n",
      "/home/g/conda/lib/python3.7/site-packages/scipy/stats/_continuous_distns.py:2651: RuntimeWarning: The shape parameter of the erlang distribution has been given a non-integer value 0.8483428970565727.\n",
      "  RuntimeWarning)\n",
      "/home/g/conda/lib/python3.7/site-packages/scipy/stats/_continuous_distns.py:2651: RuntimeWarning: The shape parameter of the erlang distribution has been given a non-integer value 0.846896291785679.\n",
      "  RuntimeWarning)\n",
      "/home/g/conda/lib/python3.7/site-packages/scipy/stats/_continuous_distns.py:2651: RuntimeWarning: The shape parameter of the erlang distribution has been given a non-integer value 0.8461729891502321.\n",
      "  RuntimeWarning)\n",
      "/home/g/conda/lib/python3.7/site-packages/scipy/stats/_continuous_distns.py:2651: RuntimeWarning: The shape parameter of the erlang distribution has been given a non-integer value 0.8406984473944799.\n",
      "  RuntimeWarning)\n",
      "/home/g/conda/lib/python3.7/site-packages/scipy/stats/_continuous_distns.py:2651: RuntimeWarning: The shape parameter of the erlang distribution has been given a non-integer value 0.859928112483132.\n",
      "  RuntimeWarning)\n",
      "/home/g/conda/lib/python3.7/site-packages/scipy/stats/_continuous_distns.py:2651: RuntimeWarning: The shape parameter of the erlang distribution has been given a non-integer value 0.8417055457615542.\n",
      "  RuntimeWarning)\n",
      "/home/g/conda/lib/python3.7/site-packages/scipy/stats/_continuous_distns.py:2651: RuntimeWarning: The shape parameter of the erlang distribution has been given a non-integer value 0.8304557251350606.\n",
      "  RuntimeWarning)\n",
      "/home/g/conda/lib/python3.7/site-packages/scipy/stats/_continuous_distns.py:2651: RuntimeWarning: The shape parameter of the erlang distribution has been given a non-integer value 0.8369947637819256.\n",
      "  RuntimeWarning)\n",
      "/home/g/conda/lib/python3.7/site-packages/scipy/stats/_continuous_distns.py:2651: RuntimeWarning: The shape parameter of the erlang distribution has been given a non-integer value 0.8346393727921113.\n",
      "  RuntimeWarning)\n",
      "/home/g/conda/lib/python3.7/site-packages/scipy/stats/_continuous_distns.py:2651: RuntimeWarning: The shape parameter of the erlang distribution has been given a non-integer value 0.8355327397406305.\n",
      "  RuntimeWarning)\n",
      "/home/g/conda/lib/python3.7/site-packages/scipy/stats/_continuous_distns.py:2651: RuntimeWarning: The shape parameter of the erlang distribution has been given a non-integer value 0.8329498859137057.\n",
      "  RuntimeWarning)\n",
      "/home/g/conda/lib/python3.7/site-packages/scipy/stats/_continuous_distns.py:2651: RuntimeWarning: The shape parameter of the erlang distribution has been given a non-integer value 0.8491601384037628.\n",
      "  RuntimeWarning)\n",
      "/home/g/conda/lib/python3.7/site-packages/scipy/stats/_continuous_distns.py:2651: RuntimeWarning: The shape parameter of the erlang distribution has been given a non-integer value 0.8351318284522362.\n",
      "  RuntimeWarning)\n",
      "/home/g/conda/lib/python3.7/site-packages/scipy/stats/_continuous_distns.py:2651: RuntimeWarning: The shape parameter of the erlang distribution has been given a non-integer value 0.824876596197516.\n",
      "  RuntimeWarning)\n",
      "/home/g/conda/lib/python3.7/site-packages/scipy/stats/_continuous_distns.py:2651: RuntimeWarning: The shape parameter of the erlang distribution has been given a non-integer value 0.8138667484034343.\n",
      "  RuntimeWarning)\n",
      "/home/g/conda/lib/python3.7/site-packages/scipy/stats/_continuous_distns.py:2651: RuntimeWarning: The shape parameter of the erlang distribution has been given a non-integer value 0.8298042380278119.\n",
      "  RuntimeWarning)\n",
      "/home/g/conda/lib/python3.7/site-packages/scipy/stats/_continuous_distns.py:2651: RuntimeWarning: The shape parameter of the erlang distribution has been given a non-integer value 0.8337999308461301.\n",
      "  RuntimeWarning)\n",
      "/home/g/conda/lib/python3.7/site-packages/scipy/stats/_continuous_distns.py:2651: RuntimeWarning: The shape parameter of the erlang distribution has been given a non-integer value 0.831136135633918.\n",
      "  RuntimeWarning)\n",
      "/home/g/conda/lib/python3.7/site-packages/scipy/stats/_continuous_distns.py:2651: RuntimeWarning: The shape parameter of the erlang distribution has been given a non-integer value 0.8331339820430771.\n",
      "  RuntimeWarning)\n",
      "/home/g/conda/lib/python3.7/site-packages/scipy/stats/_continuous_distns.py:2651: RuntimeWarning: The shape parameter of the erlang distribution has been given a non-integer value 0.831802084436971.\n",
      "  RuntimeWarning)\n",
      "/home/g/conda/lib/python3.7/site-packages/scipy/stats/_continuous_distns.py:2651: RuntimeWarning: The shape parameter of the erlang distribution has been given a non-integer value 0.8244795164681525.\n",
      "  RuntimeWarning)\n",
      "/home/g/conda/lib/python3.7/site-packages/scipy/stats/_continuous_distns.py:2651: RuntimeWarning: The shape parameter of the erlang distribution has been given a non-integer value 0.8338659519534823.\n",
      "  RuntimeWarning)\n",
      "/home/g/conda/lib/python3.7/site-packages/scipy/stats/_continuous_distns.py:2651: RuntimeWarning: The shape parameter of the erlang distribution has been given a non-integer value 0.8276083282965958.\n",
      "  RuntimeWarning)\n",
      "/home/g/conda/lib/python3.7/site-packages/scipy/stats/_continuous_distns.py:2651: RuntimeWarning: The shape parameter of the erlang distribution has been given a non-integer value 0.8244795164681524.\n",
      "  RuntimeWarning)\n",
      "/home/g/conda/lib/python3.7/site-packages/scipy/stats/_continuous_distns.py:2651: RuntimeWarning: The shape parameter of the erlang distribution has been given a non-integer value 0.8206585995467579.\n",
      "  RuntimeWarning)\n",
      "/home/g/conda/lib/python3.7/site-packages/scipy/stats/_continuous_distns.py:2651: RuntimeWarning: The shape parameter of the erlang distribution has been given a non-integer value 0.8132215294498217.\n",
      "  RuntimeWarning)\n",
      "/home/g/conda/lib/python3.7/site-packages/scipy/stats/_continuous_distns.py:2651: RuntimeWarning: The shape parameter of the erlang distribution has been given a non-integer value 0.8285027453227005.\n",
      "  RuntimeWarning)\n",
      "/home/g/conda/lib/python3.7/site-packages/scipy/stats/_continuous_distns.py:2651: RuntimeWarning: The shape parameter of the erlang distribution has been given a non-integer value 0.8257831334788122.\n",
      "  RuntimeWarning)\n",
      "/home/g/conda/lib/python3.7/site-packages/scipy/stats/_continuous_distns.py:2651: RuntimeWarning: The shape parameter of the erlang distribution has been given a non-integer value 0.8275962080414043.\n",
      "  RuntimeWarning)\n",
      "/home/g/conda/lib/python3.7/site-packages/scipy/stats/_continuous_distns.py:2651: RuntimeWarning: The shape parameter of the erlang distribution has been given a non-integer value 0.8262364021194601.\n",
      "  RuntimeWarning)\n",
      "/home/g/conda/lib/python3.7/site-packages/scipy/stats/_continuous_distns.py:2651: RuntimeWarning: The shape parameter of the erlang distribution has been given a non-integer value 0.8271429394007563.\n",
      "  RuntimeWarning)\n",
      "/home/g/conda/lib/python3.7/site-packages/scipy/stats/_continuous_distns.py:2651: RuntimeWarning: The shape parameter of the erlang distribution has been given a non-integer value 0.8184711603924358.\n",
      "  RuntimeWarning)\n",
      "/home/g/conda/lib/python3.7/site-packages/scipy/stats/_continuous_distns.py:2651: RuntimeWarning: The shape parameter of the erlang distribution has been given a non-integer value 0.8118056983701682.\n",
      "  RuntimeWarning)\n",
      "/home/g/conda/lib/python3.7/site-packages/scipy/stats/_continuous_distns.py:2651: RuntimeWarning: The shape parameter of the erlang distribution has been given a non-integer value 0.8165734712633708.\n",
      "  RuntimeWarning)\n",
      "/home/g/conda/lib/python3.7/site-packages/scipy/stats/_continuous_distns.py:2651: RuntimeWarning: The shape parameter of the erlang distribution has been given a non-integer value 0.8248496140382895.\n",
      "  RuntimeWarning)\n",
      "/home/g/conda/lib/python3.7/site-packages/scipy/stats/_continuous_distns.py:2651: RuntimeWarning: The shape parameter of the erlang distribution has been given a non-integer value 0.8193321855216771.\n",
      "  RuntimeWarning)\n",
      "/home/g/conda/lib/python3.7/site-packages/scipy/stats/_continuous_distns.py:2651: RuntimeWarning: The shape parameter of the erlang distribution has been given a non-integer value 0.816573471263371.\n",
      "  RuntimeWarning)\n",
      "/home/g/conda/lib/python3.7/site-packages/scipy/stats/_continuous_distns.py:2651: RuntimeWarning: The shape parameter of the erlang distribution has been given a non-integer value 0.822638923996488.\n",
      "  RuntimeWarning)\n",
      "/home/g/conda/lib/python3.7/site-packages/scipy/stats/_continuous_distns.py:2651: RuntimeWarning: The shape parameter of the erlang distribution has been given a non-integer value 0.8211536806591904.\n",
      "  RuntimeWarning)\n",
      "/home/g/conda/lib/python3.7/site-packages/scipy/stats/_continuous_distns.py:2651: RuntimeWarning: The shape parameter of the erlang distribution has been given a non-integer value 0.812161744981446.\n",
      "  RuntimeWarning)\n",
      "/home/g/conda/lib/python3.7/site-packages/scipy/stats/_continuous_distns.py:2651: RuntimeWarning: The shape parameter of the erlang distribution has been given a non-integer value 0.8046711477717907.\n",
      "  RuntimeWarning)\n",
      "/home/g/conda/lib/python3.7/site-packages/scipy/stats/_continuous_distns.py:2651: RuntimeWarning: The shape parameter of the erlang distribution has been given a non-integer value 0.8071626484647454.\n",
      "  RuntimeWarning)\n",
      "/home/g/conda/lib/python3.7/site-packages/scipy/stats/_continuous_distns.py:2651: RuntimeWarning: The shape parameter of the erlang distribution has been given a non-integer value 0.8176559226105791.\n",
      "  RuntimeWarning)\n",
      "/home/g/conda/lib/python3.7/site-packages/scipy/stats/_continuous_distns.py:2651: RuntimeWarning: The shape parameter of the erlang distribution has been given a non-integer value 0.8106604065133567.\n",
      "  RuntimeWarning)\n",
      "/home/g/conda/lib/python3.7/site-packages/scipy/stats/_continuous_distns.py:2651: RuntimeWarning: The shape parameter of the erlang distribution has been given a non-integer value 0.8046379994787803.\n",
      "  RuntimeWarning)\n",
      "/home/g/conda/lib/python3.7/site-packages/scipy/stats/_continuous_distns.py:2651: RuntimeWarning: The shape parameter of the erlang distribution has been given a non-integer value 0.815012870164022.\n",
      "  RuntimeWarning)\n",
      "/home/g/conda/lib/python3.7/site-packages/scipy/stats/_continuous_distns.py:2651: RuntimeWarning: The shape parameter of the erlang distribution has been given a non-integer value 0.8008974307777692.\n",
      "  RuntimeWarning)\n",
      "/home/g/conda/lib/python3.7/site-packages/scipy/stats/_continuous_distns.py:2651: RuntimeWarning: The shape parameter of the erlang distribution has been given a non-integer value 0.7958064532112559.\n",
      "  RuntimeWarning)\n",
      "/home/g/conda/lib/python3.7/site-packages/scipy/stats/_continuous_distns.py:2651: RuntimeWarning: The shape parameter of the erlang distribution has been given a non-integer value 0.8102112659258305.\n",
      "  RuntimeWarning)\n",
      "/home/g/conda/lib/python3.7/site-packages/scipy/stats/_continuous_distns.py:2651: RuntimeWarning: The shape parameter of the erlang distribution has been given a non-integer value 0.8006080574494474.\n",
      "  RuntimeWarning)\n",
      "/home/g/conda/lib/python3.7/site-packages/scipy/stats/_continuous_distns.py:2651: RuntimeWarning: The shape parameter of the erlang distribution has been given a non-integer value 0.8034394487219247.\n",
      "  RuntimeWarning)\n",
      "/home/g/conda/lib/python3.7/site-packages/scipy/stats/_continuous_distns.py:2651: RuntimeWarning: The shape parameter of the erlang distribution has been given a non-integer value 0.8043632230093243.\n",
      "  RuntimeWarning)\n",
      "/home/g/conda/lib/python3.7/site-packages/scipy/stats/_continuous_distns.py:2651: RuntimeWarning: The shape parameter of the erlang distribution has been given a non-integer value 0.8037473734843912.\n",
      "  RuntimeWarning)\n",
      "/home/g/conda/lib/python3.7/site-packages/scipy/stats/_continuous_distns.py:2651: RuntimeWarning: The shape parameter of the erlang distribution has been given a non-integer value 0.8042092606280911.\n",
      "  RuntimeWarning)\n",
      "/home/g/conda/lib/python3.7/site-packages/scipy/stats/_continuous_distns.py:2651: RuntimeWarning: The shape parameter of the erlang distribution has been given a non-integer value 0.8039013358656244.\n",
      "  RuntimeWarning)\n",
      "/home/g/conda/lib/python3.7/site-packages/scipy/stats/_continuous_distns.py:2651: RuntimeWarning: The shape parameter of the erlang distribution has been given a non-integer value 0.8041322794374743.\n",
      "  RuntimeWarning)\n",
      "/home/g/conda/lib/python3.7/site-packages/scipy/stats/_continuous_distns.py:2651: RuntimeWarning: The shape parameter of the erlang distribution has been given a non-integer value 0.8039783170562411.\n",
      "  RuntimeWarning)\n",
      "/home/g/conda/lib/python3.7/site-packages/scipy/stats/_continuous_distns.py:2651: RuntimeWarning: The shape parameter of the erlang distribution has been given a non-integer value 0.804093788842166.\n",
      "  RuntimeWarning)\n",
      "/home/g/conda/lib/python3.7/site-packages/scipy/stats/_continuous_distns.py:2651: RuntimeWarning: The shape parameter of the erlang distribution has been given a non-integer value 0.8093440710922106.\n",
      "  RuntimeWarning)\n",
      "/home/g/conda/lib/python3.7/site-packages/scipy/stats/_continuous_distns.py:2651: RuntimeWarning: The shape parameter of the erlang distribution has been given a non-integer value 0.8030090908563796.\n",
      "  RuntimeWarning)\n",
      "/home/g/conda/lib/python3.7/site-packages/scipy/stats/_continuous_distns.py:2651: RuntimeWarning: The shape parameter of the erlang distribution has been given a non-integer value 0.8054245810372898.\n",
      "  RuntimeWarning)\n",
      "/home/g/conda/lib/python3.7/site-packages/scipy/stats/_continuous_distns.py:2651: RuntimeWarning: The shape parameter of the erlang distribution has been given a non-integer value 0.7953674130487212.\n",
      "  RuntimeWarning)\n",
      "/home/g/conda/lib/python3.7/site-packages/scipy/stats/_continuous_distns.py:2651: RuntimeWarning: The shape parameter of the erlang distribution has been given a non-integer value 0.7877209163164034.\n",
      "  RuntimeWarning)\n",
      "/home/g/conda/lib/python3.7/site-packages/scipy/stats/_continuous_distns.py:2651: RuntimeWarning: The shape parameter of the erlang distribution has been given a non-integer value 0.7979242768339259.\n",
      "  RuntimeWarning)\n",
      "/home/g/conda/lib/python3.7/site-packages/scipy/stats/_continuous_distns.py:2651: RuntimeWarning: The shape parameter of the erlang distribution has been given a non-integer value 0.8017378873507661.\n",
      "  RuntimeWarning)\n",
      "/home/g/conda/lib/python3.7/site-packages/scipy/stats/_continuous_distns.py:2651: RuntimeWarning: The shape parameter of the erlang distribution has been given a non-integer value 0.7991954803395394.\n",
      "  RuntimeWarning)\n",
      "/home/g/conda/lib/python3.7/site-packages/scipy/stats/_continuous_distns.py:2651: RuntimeWarning: The shape parameter of the erlang distribution has been given a non-integer value 0.8011022855979595.\n",
      "  RuntimeWarning)\n",
      "/home/g/conda/lib/python3.7/site-packages/scipy/stats/_continuous_distns.py:2651: RuntimeWarning: The shape parameter of the erlang distribution has been given a non-integer value 0.799831082092346.\n",
      "  RuntimeWarning)\n",
      "/home/g/conda/lib/python3.7/site-packages/scipy/stats/_continuous_distns.py:2651: RuntimeWarning: The shape parameter of the erlang distribution has been given a non-integer value 0.8007844847215562.\n",
      "  RuntimeWarning)\n",
      "/home/g/conda/lib/python3.7/site-packages/scipy/stats/_continuous_distns.py:2651: RuntimeWarning: The shape parameter of the erlang distribution has been given a non-integer value 0.8001488829687493.\n",
      "  RuntimeWarning)\n",
      "/home/g/conda/lib/python3.7/site-packages/scipy/stats/_continuous_distns.py:2651: RuntimeWarning: The shape parameter of the erlang distribution has been given a non-integer value 0.8006255842833545.\n",
      "  RuntimeWarning)\n",
      "/home/g/conda/lib/python3.7/site-packages/scipy/stats/_continuous_distns.py:2651: RuntimeWarning: The shape parameter of the erlang distribution has been given a non-integer value 0.7923094554837256.\n",
      "  RuntimeWarning)\n",
      "/home/g/conda/lib/python3.7/site-packages/scipy/stats/_continuous_distns.py:2651: RuntimeWarning: The shape parameter of the erlang distribution has been given a non-integer value 0.7915643663712417.\n",
      "  RuntimeWarning)\n",
      "/home/g/conda/lib/python3.7/site-packages/scipy/stats/_continuous_distns.py:2651: RuntimeWarning: The shape parameter of the erlang distribution has been given a non-integer value 0.7870337574151853.\n",
      "  RuntimeWarning)\n",
      "/home/g/conda/lib/python3.7/site-packages/scipy/stats/_continuous_distns.py:2651: RuntimeWarning: The shape parameter of the erlang distribution has been given a non-integer value 0.7855527658196781.\n",
      "  RuntimeWarning)\n",
      "/home/g/conda/lib/python3.7/site-packages/scipy/stats/_continuous_distns.py:2651: RuntimeWarning: The shape parameter of the erlang distribution has been given a non-integer value 0.7780251200047936.\n",
      "  RuntimeWarning)\n",
      "/home/g/conda/lib/python3.7/site-packages/scipy/stats/_continuous_distns.py:2651: RuntimeWarning: The shape parameter of the erlang distribution has been given a non-integer value 0.7893469080093685.\n",
      "  RuntimeWarning)\n",
      "/home/g/conda/lib/python3.7/site-packages/scipy/stats/_continuous_distns.py:2651: RuntimeWarning: The shape parameter of the erlang distribution has been given a non-integer value 0.7915688186151363.\n",
      "  RuntimeWarning)\n",
      "/home/g/conda/lib/python3.7/site-packages/scipy/stats/_continuous_distns.py:2651: RuntimeWarning: The shape parameter of the erlang distribution has been given a non-integer value 0.7837565541553164.\n",
      "  RuntimeWarning)\n",
      "/home/g/conda/lib/python3.7/site-packages/scipy/stats/_continuous_distns.py:2651: RuntimeWarning: The shape parameter of the erlang distribution has been given a non-integer value 0.7779511247086139.\n",
      "  RuntimeWarning)\n",
      "/home/g/conda/lib/python3.7/site-packages/scipy/stats/_continuous_distns.py:2651: RuntimeWarning: The shape parameter of the erlang distribution has been given a non-integer value 0.7823469722823547.\n",
      "  RuntimeWarning)\n",
      "/home/g/conda/lib/python3.7/site-packages/scipy/stats/_continuous_distns.py:2651: RuntimeWarning: The shape parameter of the erlang distribution has been given a non-integer value 0.789263357031941.\n",
      "  RuntimeWarning)\n",
      "/home/g/conda/lib/python3.7/site-packages/scipy/stats/_continuous_distns.py:2651: RuntimeWarning: The shape parameter of the erlang distribution has been given a non-integer value 0.7846524338655501.\n",
      "  RuntimeWarning)\n",
      "/home/g/conda/lib/python3.7/site-packages/scipy/stats/_continuous_distns.py:2651: RuntimeWarning: The shape parameter of the erlang distribution has been given a non-integer value 0.7881106262403432.\n",
      "  RuntimeWarning)\n",
      "/home/g/conda/lib/python3.7/site-packages/scipy/stats/_continuous_distns.py:2651: RuntimeWarning: The shape parameter of the erlang distribution has been given a non-integer value 0.7858051646571478.\n",
      "  RuntimeWarning)\n",
      "/home/g/conda/lib/python3.7/site-packages/scipy/stats/_continuous_distns.py:2651: RuntimeWarning: The shape parameter of the erlang distribution has been given a non-integer value 0.7785119567168532.\n",
      "  RuntimeWarning)\n",
      "/home/g/conda/lib/python3.7/site-packages/scipy/stats/_continuous_distns.py:2651: RuntimeWarning: The shape parameter of the erlang distribution has been given a non-integer value 0.7883012639576445.\n",
      "  RuntimeWarning)\n",
      "/home/g/conda/lib/python3.7/site-packages/scipy/stats/_continuous_distns.py:2651: RuntimeWarning: The shape parameter of the erlang distribution has been given a non-integer value 0.7863558893603944.\n",
      "  RuntimeWarning)\n",
      "/home/g/conda/lib/python3.7/site-packages/scipy/stats/_continuous_distns.py:2651: RuntimeWarning: The shape parameter of the erlang distribution has been given a non-integer value 0.7857535467048572.\n",
      "  RuntimeWarning)\n",
      "/home/g/conda/lib/python3.7/site-packages/scipy/stats/_continuous_distns.py:2651: RuntimeWarning: The shape parameter of the erlang distribution has been given a non-integer value 0.7819089130539032.\n",
      "  RuntimeWarning)\n",
      "/home/g/conda/lib/python3.7/site-packages/scipy/stats/_continuous_distns.py:2651: RuntimeWarning: The shape parameter of the erlang distribution has been given a non-integer value 0.7867031762317092.\n",
      "  RuntimeWarning)\n",
      "/home/g/conda/lib/python3.7/site-packages/scipy/stats/_continuous_distns.py:2651: RuntimeWarning: The shape parameter of the erlang distribution has been given a non-integer value 0.785089716657925.\n",
      "  RuntimeWarning)\n",
      "/home/g/conda/lib/python3.7/site-packages/scipy/stats/_continuous_distns.py:2651: RuntimeWarning: The shape parameter of the erlang distribution has been given a non-integer value 0.7855875891931241.\n",
      "  RuntimeWarning)\n",
      "/home/g/conda/lib/python3.7/site-packages/scipy/stats/_continuous_distns.py:2651: RuntimeWarning: The shape parameter of the erlang distribution has been given a non-integer value 0.7833963624386828.\n",
      "  RuntimeWarning)\n",
      "/home/g/conda/lib/python3.7/site-packages/scipy/stats/_continuous_distns.py:2651: RuntimeWarning: The shape parameter of the erlang distribution has been given a non-integer value 0.7858764727834526.\n",
      "  RuntimeWarning)\n",
      "/home/g/conda/lib/python3.7/site-packages/scipy/stats/_continuous_distns.py:2651: RuntimeWarning: The shape parameter of the erlang distribution has been given a non-integer value 0.7847045385374871.\n",
      "  RuntimeWarning)\n",
      "/home/g/conda/lib/python3.7/site-packages/scipy/stats/_continuous_distns.py:2651: RuntimeWarning: The shape parameter of the erlang distribution has been given a non-integer value 0.7853668265292149.\n",
      "  RuntimeWarning)\n",
      "/home/g/conda/lib/python3.7/site-packages/scipy/stats/_continuous_distns.py:2651: RuntimeWarning: The shape parameter of the erlang distribution has been given a non-integer value 0.7840758907776668.\n",
      "  RuntimeWarning)\n",
      "/home/g/conda/lib/python3.7/site-packages/scipy/stats/_continuous_distns.py:2651: RuntimeWarning: The shape parameter of the erlang distribution has been given a non-integer value 0.7854263272820061.\n",
      "  RuntimeWarning)\n",
      "/home/g/conda/lib/python3.7/site-packages/scipy/stats/_continuous_distns.py:2651: RuntimeWarning: The shape parameter of the erlang distribution has been given a non-integer value 0.7846252042004318.\n",
      "  RuntimeWarning)\n",
      "/home/g/conda/lib/python3.7/site-packages/scipy/stats/_continuous_distns.py:2651: RuntimeWarning: The shape parameter of the erlang distribution has been given a non-integer value 0.7851814209470191.\n",
      "  RuntimeWarning)\n",
      "/home/g/conda/lib/python3.7/site-packages/scipy/stats/_continuous_distns.py:2651: RuntimeWarning: The shape parameter of the erlang distribution has been given a non-integer value 0.7844024325576493.\n",
      "  RuntimeWarning)\n",
      "/home/g/conda/lib/python3.7/site-packages/scipy/stats/_continuous_distns.py:2651: RuntimeWarning: The shape parameter of the erlang distribution has been given a non-integer value 0.7851703536009169.\n",
      "  RuntimeWarning)\n",
      "/home/g/conda/lib/python3.7/site-packages/scipy/stats/_continuous_distns.py:2651: RuntimeWarning: The shape parameter of the erlang distribution has been given a non-integer value 0.7846399606619017.\n",
      "  RuntimeWarning)\n",
      "/home/g/conda/lib/python3.7/site-packages/scipy/stats/_continuous_distns.py:2651: RuntimeWarning: The shape parameter of the erlang distribution has been given a non-integer value 0.7850460558757397.\n",
      "  RuntimeWarning)\n",
      "/home/g/conda/lib/python3.7/site-packages/scipy/stats/_continuous_distns.py:2651: RuntimeWarning: The shape parameter of the erlang distribution has been given a non-integer value 0.7845681628578858.\n",
      "  RuntimeWarning)\n",
      "/home/g/conda/lib/python3.7/site-packages/scipy/stats/_continuous_distns.py:2651: RuntimeWarning: The shape parameter of the erlang distribution has been given a non-integer value 0.7843738652378269.\n",
      "  RuntimeWarning)\n",
      "/home/g/conda/lib/python3.7/site-packages/scipy/stats/_continuous_distns.py:2651: RuntimeWarning: The shape parameter of the erlang distribution has been given a non-integer value 0.7848780082162615.\n",
      "  RuntimeWarning)\n",
      "/home/g/conda/lib/python3.7/site-packages/scipy/stats/_continuous_distns.py:2651: RuntimeWarning: The shape parameter of the erlang distribution has been given a non-integer value 0.7829966521624947.\n",
      "  RuntimeWarning)\n",
      "/home/g/conda/lib/python3.7/site-packages/scipy/stats/_continuous_distns.py:2651: RuntimeWarning: The shape parameter of the erlang distribution has been given a non-integer value 0.7851030365334846.\n",
      "  RuntimeWarning)\n",
      "/home/g/conda/lib/python3.7/site-packages/scipy/stats/_continuous_distns.py:2651: RuntimeWarning: The shape parameter of the erlang distribution has been given a non-integer value 0.7840738274815297.\n",
      "  RuntimeWarning)\n",
      "/home/g/conda/lib/python3.7/site-packages/scipy/stats/_continuous_distns.py:2651: RuntimeWarning: The shape parameter of the erlang distribution has been given a non-integer value 0.7846769630325785.\n",
      "  RuntimeWarning)\n",
      "/home/g/conda/lib/python3.7/site-packages/scipy/stats/_continuous_distns.py:2651: RuntimeWarning: The shape parameter of the erlang distribution has been given a non-integer value 0.7835647501637024.\n",
      "  RuntimeWarning)\n",
      "/home/g/conda/lib/python3.7/site-packages/scipy/stats/_continuous_distns.py:2651: RuntimeWarning: The shape parameter of the erlang distribution has been given a non-integer value 0.784718464941039.\n",
      "  RuntimeWarning)\n",
      "/home/g/conda/lib/python3.7/site-packages/scipy/stats/_continuous_distns.py:2651: RuntimeWarning: The shape parameter of the erlang distribution has been given a non-integer value 0.7840184916035824.\n",
      "  RuntimeWarning)\n",
      "/home/g/conda/lib/python3.7/site-packages/scipy/stats/_continuous_distns.py:2651: RuntimeWarning: The shape parameter of the erlang distribution has been given a non-integer value 0.7845123451753295.\n",
      "  RuntimeWarning)\n",
      "/home/g/conda/lib/python3.7/site-packages/scipy/stats/_continuous_distns.py:2651: RuntimeWarning: The shape parameter of the erlang distribution has been given a non-integer value 0.7838395765179822.\n",
      "  RuntimeWarning)\n",
      "/home/g/conda/lib/python3.7/site-packages/scipy/stats/_continuous_distns.py:2651: RuntimeWarning: The shape parameter of the erlang distribution has been given a non-integer value 0.7844987428352748.\n",
      "  RuntimeWarning)\n",
      "/home/g/conda/lib/python3.7/site-packages/scipy/stats/_continuous_distns.py:2651: RuntimeWarning: The shape parameter of the erlang distribution has been given a non-integer value 0.7840366280569884.\n",
      "  RuntimeWarning)\n",
      "/home/g/conda/lib/python3.7/site-packages/scipy/stats/_continuous_distns.py:2651: RuntimeWarning: The shape parameter of the erlang distribution has been given a non-integer value 0.7843934158957442.\n",
      "  RuntimeWarning)\n",
      "/home/g/conda/lib/python3.7/site-packages/scipy/stats/_continuous_distns.py:2651: RuntimeWarning: The shape parameter of the erlang distribution has been given a non-integer value 0.7839800124373562.\n",
      "  RuntimeWarning)\n",
      "/home/g/conda/lib/python3.7/site-packages/scipy/stats/_continuous_distns.py:2651: RuntimeWarning: The shape parameter of the erlang distribution has been given a non-integer value 0.7843690602357951.\n",
      "  RuntimeWarning)\n",
      "/home/g/conda/lib/python3.7/site-packages/scipy/stats/_continuous_distns.py:2651: RuntimeWarning: The shape parameter of the erlang distribution has been given a non-integer value 0.784069102270254.\n",
      "  RuntimeWarning)\n",
      "/home/g/conda/lib/python3.7/site-packages/scipy/stats/_continuous_distns.py:2651: RuntimeWarning: The shape parameter of the erlang distribution has been given a non-integer value 0.7843123374893717.\n",
      "  RuntimeWarning)\n",
      "/home/g/conda/lib/python3.7/site-packages/scipy/stats/_continuous_distns.py:2651: RuntimeWarning: The shape parameter of the erlang distribution has been given a non-integer value 0.7840556427659207.\n",
      "  RuntimeWarning)\n",
      "/home/g/conda/lib/python3.7/site-packages/scipy/stats/_continuous_distns.py:2651: RuntimeWarning: The shape parameter of the erlang distribution has been given a non-integer value 0.7842907058683265.\n",
      "  RuntimeWarning)\n",
      "/home/g/conda/lib/python3.7/site-packages/scipy/stats/_continuous_distns.py:2651: RuntimeWarning: The shape parameter of the erlang distribution has been given a non-integer value 0.7840979444316474.\n",
      "  RuntimeWarning)\n",
      "/home/g/conda/lib/python3.7/site-packages/scipy/stats/_continuous_distns.py:2651: RuntimeWarning: The shape parameter of the erlang distribution has been given a non-integer value 0.7842587392249406.\n",
      "  RuntimeWarning)\n",
      "/home/g/conda/lib/python3.7/site-packages/scipy/stats/_continuous_distns.py:2651: RuntimeWarning: The shape parameter of the erlang distribution has been given a non-integer value 0.7840982649571021.\n",
      "  RuntimeWarning)\n",
      "/home/g/conda/lib/python3.7/site-packages/scipy/stats/_continuous_distns.py:2651: RuntimeWarning: The shape parameter of the erlang distribution has been given a non-integer value 0.7840020445014899.\n",
      "  RuntimeWarning)\n",
      "/home/g/conda/lib/python3.7/site-packages/scipy/stats/_continuous_distns.py:2651: RuntimeWarning: The shape parameter of the erlang distribution has been given a non-integer value 0.784023248755262.\n",
      "  RuntimeWarning)\n",
      "/home/g/conda/lib/python3.7/site-packages/scipy/stats/_continuous_distns.py:2651: RuntimeWarning: The shape parameter of the erlang distribution has been given a non-integer value 0.784199866607521.\n",
      "  RuntimeWarning)\n",
      "/home/g/conda/lib/python3.7/site-packages/scipy/stats/_continuous_distns.py:2651: RuntimeWarning: The shape parameter of the erlang distribution has been given a non-integer value 0.7840821213726816.\n",
      "  RuntimeWarning)\n",
      "/home/g/conda/lib/python3.7/site-packages/scipy/stats/_continuous_distns.py:2651: RuntimeWarning: The shape parameter of the erlang distribution has been given a non-integer value 0.7841704302988111.\n",
      "  RuntimeWarning)\n",
      "/home/g/conda/lib/python3.7/site-packages/scipy/stats/_continuous_distns.py:2651: RuntimeWarning: The shape parameter of the erlang distribution has been given a non-integer value 0.783448670082934.\n",
      "  RuntimeWarning)\n",
      "/home/g/conda/lib/python3.7/site-packages/scipy/stats/_continuous_distns.py:2651: RuntimeWarning: The shape parameter of the erlang distribution has been given a non-integer value 0.7842882896641479.\n",
      "  RuntimeWarning)\n",
      "/home/g/conda/lib/python3.7/site-packages/scipy/stats/_continuous_distns.py:2651: RuntimeWarning: The shape parameter of the erlang distribution has been given a non-integer value 0.7839249755522331.\n",
      "  RuntimeWarning)\n",
      "/home/g/conda/lib/python3.7/site-packages/scipy/stats/_continuous_distns.py:2651: RuntimeWarning: The shape parameter of the erlang distribution has been given a non-integer value 0.7841090666121666.\n",
      "  RuntimeWarning)\n",
      "/home/g/conda/lib/python3.7/site-packages/scipy/stats/_continuous_distns.py:2651: RuntimeWarning: The shape parameter of the erlang distribution has been given a non-integer value 0.7836876341522421.\n",
      "  RuntimeWarning)\n",
      "/home/g/conda/lib/python3.7/site-packages/scipy/stats/_continuous_distns.py:2651: RuntimeWarning: The shape parameter of the erlang distribution has been given a non-integer value 0.7833873063962891.\n",
      "  RuntimeWarning)\n",
      "/home/g/conda/lib/python3.7/site-packages/scipy/stats/_continuous_distns.py:2651: RuntimeWarning: The shape parameter of the erlang distribution has been given a non-integer value 0.7835859022309406.\n",
      "  RuntimeWarning)\n",
      "/home/g/conda/lib/python3.7/site-packages/scipy/stats/_continuous_distns.py:2651: RuntimeWarning: The shape parameter of the erlang distribution has been given a non-integer value 0.7839782755168601.\n",
      "  RuntimeWarning)\n",
      "/home/g/conda/lib/python3.7/site-packages/scipy/stats/_continuous_distns.py:2651: RuntimeWarning: The shape parameter of the erlang distribution has been given a non-integer value 0.7840862289288197.\n",
      "  RuntimeWarning)\n",
      "/home/g/conda/lib/python3.7/site-packages/scipy/stats/_continuous_distns.py:2651: RuntimeWarning: The shape parameter of the erlang distribution has been given a non-integer value 0.7838389728486923.\n",
      "  RuntimeWarning)\n",
      "/home/g/conda/lib/python3.7/site-packages/scipy/stats/_continuous_distns.py:2651: RuntimeWarning: The shape parameter of the erlang distribution has been given a non-integer value 0.783771639121831.\n",
      "  RuntimeWarning)\n",
      "/home/g/conda/lib/python3.7/site-packages/scipy/stats/_continuous_distns.py:2651: RuntimeWarning: The shape parameter of the erlang distribution has been given a non-integer value 0.7839266164181028.\n",
      "  RuntimeWarning)\n",
      "/home/g/conda/lib/python3.7/site-packages/scipy/stats/_continuous_distns.py:2651: RuntimeWarning: The shape parameter of the erlang distribution has been given a non-integer value 0.7839693708362723.\n",
      "  RuntimeWarning)\n",
      "/home/g/conda/lib/python3.7/site-packages/scipy/stats/_continuous_distns.py:2651: RuntimeWarning: The shape parameter of the erlang distribution has been given a non-integer value 0.7838715723455874.\n",
      "  RuntimeWarning)\n",
      "/home/g/conda/lib/python3.7/site-packages/scipy/stats/_continuous_distns.py:2651: RuntimeWarning: The shape parameter of the erlang distribution has been given a non-integer value 0.7838450312185182.\n",
      "  RuntimeWarning)\n",
      "/home/g/conda/lib/python3.7/site-packages/scipy/stats/_continuous_distns.py:2651: RuntimeWarning: The shape parameter of the erlang distribution has been given a non-integer value 0.7839062201182067.\n",
      "  RuntimeWarning)\n",
      "/home/g/conda/lib/python3.7/site-packages/scipy/stats/_continuous_distns.py:2651: RuntimeWarning: The shape parameter of the erlang distribution has been given a non-integer value 0.7839231738061132.\n",
      "  RuntimeWarning)\n",
      "/home/g/conda/lib/python3.7/site-packages/scipy/stats/_continuous_distns.py:2651: RuntimeWarning: The shape parameter of the erlang distribution has been given a non-integer value 0.7838844727107188.\n",
      "  RuntimeWarning)\n",
      "/home/g/conda/lib/python3.7/site-packages/scipy/stats/_continuous_distns.py:2651: RuntimeWarning: The shape parameter of the erlang distribution has been given a non-integer value 0.7838740277618353.\n",
      "  RuntimeWarning)\n",
      "/home/g/conda/lib/python3.7/site-packages/scipy/stats/_continuous_distns.py:2651: RuntimeWarning: The shape parameter of the erlang distribution has been given a non-integer value 0.7838981720291138.\n",
      "  RuntimeWarning)\n",
      "/home/g/conda/lib/python3.7/site-packages/scipy/stats/_continuous_distns.py:2651: RuntimeWarning: The shape parameter of the erlang distribution has been given a non-integer value 0.7839049080482532.\n",
      "  RuntimeWarning)\n",
      "/home/g/conda/lib/python3.7/site-packages/scipy/stats/_continuous_distns.py:2651: RuntimeWarning: The shape parameter of the erlang distribution has been given a non-integer value 0.7838895815451024.\n",
      "  RuntimeWarning)\n",
      "/home/g/conda/lib/python3.7/site-packages/scipy/stats/_continuous_distns.py:2651: RuntimeWarning: The shape parameter of the erlang distribution has been given a non-integer value 0.783885481740517.\n",
      "  RuntimeWarning)\n",
      "/home/g/conda/lib/python3.7/site-packages/scipy/stats/_continuous_distns.py:2651: RuntimeWarning: The shape parameter of the erlang distribution has been given a non-integer value 0.7838949994569646.\n",
      "  RuntimeWarning)\n",
      "/home/g/conda/lib/python3.7/site-packages/scipy/stats/_continuous_distns.py:2651: RuntimeWarning: The shape parameter of the erlang distribution has been given a non-integer value 0.7838976841657699.\n",
      "  RuntimeWarning)\n",
      "/home/g/conda/lib/python3.7/site-packages/scipy/stats/_continuous_distns.py:2651: RuntimeWarning: The shape parameter of the erlang distribution has been given a non-integer value 0.7838916072002693.\n",
      "  RuntimeWarning)\n",
      "/home/g/conda/lib/python3.7/site-packages/scipy/stats/_continuous_distns.py:2651: RuntimeWarning: The shape parameter of the erlang distribution has been given a non-integer value 0.7838900047494444.\n",
      "  RuntimeWarning)\n",
      "/home/g/conda/lib/python3.7/site-packages/scipy/stats/_continuous_distns.py:2651: RuntimeWarning: The shape parameter of the erlang distribution has been given a non-integer value 0.7838937507800845.\n",
      "  RuntimeWarning)\n",
      "/home/g/conda/lib/python3.7/site-packages/scipy/stats/_continuous_distns.py:2651: RuntimeWarning: The shape parameter of the erlang distribution has been given a non-integer value 0.7838948260593497.\n",
      "  RuntimeWarning)\n",
      "/home/g/conda/lib/python3.7/site-packages/scipy/stats/_continuous_distns.py:2651: RuntimeWarning: The shape parameter of the erlang distribution has been given a non-integer value 0.7838964354888898.\n",
      "  RuntimeWarning)\n",
      "/home/g/conda/lib/python3.7/site-packages/scipy/stats/_continuous_distns.py:2651: RuntimeWarning: The shape parameter of the erlang distribution has been given a non-integer value 0.7838933993323782.\n",
      "  RuntimeWarning)\n",
      "/home/g/conda/lib/python3.7/site-packages/scipy/stats/_continuous_distns.py:2651: RuntimeWarning: The shape parameter of the erlang distribution has been given a non-integer value 0.7838936629181579.\n",
      "  RuntimeWarning)\n",
      "/home/g/conda/lib/python3.7/site-packages/scipy/stats/_continuous_distns.py:2651: RuntimeWarning: The shape parameter of the erlang distribution has been given a non-integer value 0.7838934871943048.\n",
      "  RuntimeWarning)\n",
      "/home/g/conda/lib/python3.7/site-packages/scipy/stats/_continuous_distns.py:2651: RuntimeWarning: The shape parameter of the erlang distribution has been given a non-integer value 0.7838936189871946.\n",
      "  RuntimeWarning)\n",
      "/home/g/conda/lib/python3.7/site-packages/scipy/stats/_continuous_distns.py:2651: RuntimeWarning: The shape parameter of the erlang distribution has been given a non-integer value 0.7835524545087552.\n",
      "  RuntimeWarning)\n",
      "/home/g/conda/lib/python3.7/site-packages/scipy/stats/_continuous_distns.py:2651: RuntimeWarning: The shape parameter of the erlang distribution has been given a non-integer value 0.7839618123450154.\n",
      "  RuntimeWarning)\n",
      "/home/g/conda/lib/python3.7/site-packages/scipy/stats/_continuous_distns.py:2651: RuntimeWarning: The shape parameter of the erlang distribution has been given a non-integer value 0.7838025627172103.\n",
      "  RuntimeWarning)\n",
      "/home/g/conda/lib/python3.7/site-packages/scipy/stats/_continuous_distns.py:2651: RuntimeWarning: The shape parameter of the erlang distribution has been given a non-integer value 0.783757034582218.\n",
      "  RuntimeWarning)\n",
      "/home/g/conda/lib/python3.7/site-packages/scipy/stats/_continuous_distns.py:2651: RuntimeWarning: The shape parameter of the erlang distribution has been given a non-integer value 0.7836282029408526.\n",
      "  RuntimeWarning)\n",
      "/home/g/conda/lib/python3.7/site-packages/scipy/stats/_continuous_distns.py:2651: RuntimeWarning: The shape parameter of the erlang distribution has been given a non-integer value 0.7838784099939746.\n",
      "  RuntimeWarning)\n",
      "/home/g/conda/lib/python3.7/site-packages/scipy/stats/_continuous_distns.py:2651: RuntimeWarning: The shape parameter of the erlang distribution has been given a non-integer value 0.7837116052918933.\n",
      "  RuntimeWarning)\n",
      "/home/g/conda/lib/python3.7/site-packages/scipy/stats/_continuous_distns.py:2651: RuntimeWarning: The shape parameter of the erlang distribution has been given a non-integer value 0.7838367088184544.\n",
      "  RuntimeWarning)\n",
      "/home/g/conda/lib/python3.7/site-packages/scipy/stats/_continuous_distns.py:2651: RuntimeWarning: The shape parameter of the erlang distribution has been given a non-integer value 0.7837533064674136.\n",
      "  RuntimeWarning)\n",
      "/home/g/conda/lib/python3.7/site-packages/scipy/stats/_continuous_distns.py:2651: RuntimeWarning: The shape parameter of the erlang distribution has been given a non-integer value 0.7839461626770734.\n",
      "  RuntimeWarning)\n",
      "/home/g/conda/lib/python3.7/site-packages/scipy/stats/_continuous_distns.py:2651: RuntimeWarning: The shape parameter of the erlang distribution has been given a non-integer value 0.78375226628345.\n",
      "  RuntimeWarning)\n",
      "/home/g/conda/lib/python3.7/site-packages/scipy/stats/_continuous_distns.py:2651: RuntimeWarning: The shape parameter of the erlang distribution has been given a non-integer value 0.7838815305458655.\n",
      "  RuntimeWarning)\n",
      "/home/g/conda/lib/python3.7/site-packages/scipy/stats/_continuous_distns.py:2651: RuntimeWarning: The shape parameter of the erlang distribution has been given a non-integer value 0.7837845823490539.\n",
      "  RuntimeWarning)\n",
      "/home/g/conda/lib/python3.7/site-packages/scipy/stats/_continuous_distns.py:2651: RuntimeWarning: The shape parameter of the erlang distribution has been given a non-integer value 0.783665474963102.\n",
      "  RuntimeWarning)\n",
      "/home/g/conda/lib/python3.7/site-packages/scipy/stats/_continuous_distns.py:2651: RuntimeWarning: The shape parameter of the erlang distribution has been given a non-integer value 0.7835507994149782.\n",
      "  RuntimeWarning)\n",
      "/home/g/conda/lib/python3.7/site-packages/scipy/stats/_continuous_distns.py:2651: RuntimeWarning: The shape parameter of the erlang distribution has been given a non-integer value 0.7836198633840141.\n",
      "  RuntimeWarning)\n",
      "/home/g/conda/lib/python3.7/site-packages/scipy/stats/_continuous_distns.py:2651: RuntimeWarning: The shape parameter of the erlang distribution has been given a non-integer value 0.783743402607794.\n",
      "  RuntimeWarning)\n",
      "/home/g/conda/lib/python3.7/site-packages/scipy/stats/_continuous_distns.py:2651: RuntimeWarning: The shape parameter of the erlang distribution has been given a non-integer value 0.7836610431252741.\n",
      "  RuntimeWarning)\n",
      "/home/g/conda/lib/python3.7/site-packages/scipy/stats/_continuous_distns.py:2651: RuntimeWarning: The shape parameter of the erlang distribution has been given a non-integer value 0.783722812737164.\n",
      "  RuntimeWarning)\n",
      "/home/g/conda/lib/python3.7/site-packages/scipy/stats/_continuous_distns.py:2651: RuntimeWarning: The shape parameter of the erlang distribution has been given a non-integer value 0.7835487163624935.\n",
      "  RuntimeWarning)\n",
      "/home/g/conda/lib/python3.7/site-packages/scipy/stats/_continuous_distns.py:2651: RuntimeWarning: The shape parameter of the erlang distribution has been given a non-integer value 0.783421793185135.\n",
      "  RuntimeWarning)\n",
      "/home/g/conda/lib/python3.7/site-packages/scipy/stats/_continuous_distns.py:2651: RuntimeWarning: The shape parameter of the erlang distribution has been given a non-integer value 0.7833769637574381.\n",
      "  RuntimeWarning)\n",
      "/home/g/conda/lib/python3.7/site-packages/scipy/stats/_continuous_distns.py:2651: RuntimeWarning: The shape parameter of the erlang distribution has been given a non-integer value 0.7831887924024503.\n",
      "  RuntimeWarning)\n",
      "/home/g/conda/lib/python3.7/site-packages/scipy/stats/_continuous_distns.py:2651: RuntimeWarning: The shape parameter of the erlang distribution has been given a non-integer value 0.7830514439312117.\n",
      "  RuntimeWarning)\n",
      "/home/g/conda/lib/python3.7/site-packages/scipy/stats/_continuous_distns.py:2651: RuntimeWarning: The shape parameter of the erlang distribution has been given a non-integer value 0.7827157595282355.\n",
      "  RuntimeWarning)\n",
      "/home/g/conda/lib/python3.7/site-packages/scipy/stats/_continuous_distns.py:2651: RuntimeWarning: The shape parameter of the erlang distribution has been given a non-integer value 0.7826667639955691.\n",
      "  RuntimeWarning)\n",
      "/home/g/conda/lib/python3.7/site-packages/scipy/stats/_continuous_distns.py:2651: RuntimeWarning: The shape parameter of the erlang distribution has been given a non-integer value 0.7822247462858645.\n",
      "  RuntimeWarning)\n",
      "/home/g/conda/lib/python3.7/site-packages/scipy/stats/_continuous_distns.py:2651: RuntimeWarning: The shape parameter of the erlang distribution has been given a non-integer value 0.7819977389592319.\n",
      "  RuntimeWarning)\n",
      "/home/g/conda/lib/python3.7/site-packages/scipy/stats/_continuous_distns.py:2651: RuntimeWarning: The shape parameter of the erlang distribution has been given a non-integer value 0.7812857118462802.\n",
      "  RuntimeWarning)\n",
      "/home/g/conda/lib/python3.7/site-packages/scipy/stats/_continuous_distns.py:2651: RuntimeWarning: The shape parameter of the erlang distribution has been given a non-integer value 0.7809620193711364.\n",
      "  RuntimeWarning)\n",
      "/home/g/conda/lib/python3.7/site-packages/scipy/stats/_continuous_distns.py:2651: RuntimeWarning: The shape parameter of the erlang distribution has been given a non-integer value 0.7798486328554795.\n",
      "  RuntimeWarning)\n",
      "/home/g/conda/lib/python3.7/site-packages/scipy/stats/_continuous_distns.py:2651: RuntimeWarning: The shape parameter of the erlang distribution has been given a non-integer value 0.7795236344635139.\n",
      "  RuntimeWarning)\n",
      "/home/g/conda/lib/python3.7/site-packages/scipy/stats/_continuous_distns.py:2651: RuntimeWarning: The shape parameter of the erlang distribution has been given a non-integer value 0.7779275719311531.\n",
      "  RuntimeWarning)\n",
      "/home/g/conda/lib/python3.7/site-packages/scipy/stats/_continuous_distns.py:2651: RuntimeWarning: The shape parameter of the erlang distribution has been given a non-integer value 0.777149864802744.\n",
      "  RuntimeWarning)\n",
      "/home/g/conda/lib/python3.7/site-packages/scipy/stats/_continuous_distns.py:2651: RuntimeWarning: The shape parameter of the erlang distribution has been given a non-integer value 0.7746124240611838.\n",
      "  RuntimeWarning)\n",
      "/home/g/conda/lib/python3.7/site-packages/scipy/stats/_continuous_distns.py:2651: RuntimeWarning: The shape parameter of the erlang distribution has been given a non-integer value 0.7736400407189308.\n",
      "  RuntimeWarning)\n",
      "/home/g/conda/lib/python3.7/site-packages/scipy/stats/_continuous_distns.py:2651: RuntimeWarning: The shape parameter of the erlang distribution has been given a non-integer value 0.7698172051552561.\n",
      "  RuntimeWarning)\n",
      "/home/g/conda/lib/python3.7/site-packages/scipy/stats/_continuous_distns.py:2651: RuntimeWarning: The shape parameter of the erlang distribution has been given a non-integer value 0.7683895012429158.\n",
      "  RuntimeWarning)\n",
      "/home/g/conda/lib/python3.7/site-packages/scipy/stats/_continuous_distns.py:2651: RuntimeWarning: The shape parameter of the erlang distribution has been given a non-integer value 0.7626599354366341.\n",
      "  RuntimeWarning)\n",
      "/home/g/conda/lib/python3.7/site-packages/scipy/stats/_continuous_distns.py:2651: RuntimeWarning: The shape parameter of the erlang distribution has been given a non-integer value 0.760132137837563.\n",
      "  RuntimeWarning)\n",
      "/home/g/conda/lib/python3.7/site-packages/scipy/stats/_continuous_distns.py:2651: RuntimeWarning: The shape parameter of the erlang distribution has been given a non-integer value 0.7512344207907677.\n",
      "  RuntimeWarning)\n",
      "/home/g/conda/lib/python3.7/site-packages/scipy/stats/_continuous_distns.py:2651: RuntimeWarning: The shape parameter of the erlang distribution has been given a non-integer value 0.7478619501939214.\n",
      "  RuntimeWarning)\n",
      "/home/g/conda/lib/python3.7/site-packages/scipy/stats/_continuous_distns.py:2651: RuntimeWarning: The shape parameter of the erlang distribution has been given a non-integer value 0.7344867132602904.\n",
      "  RuntimeWarning)\n",
      "/home/g/conda/lib/python3.7/site-packages/scipy/stats/_continuous_distns.py:2651: RuntimeWarning: The shape parameter of the erlang distribution has been given a non-integer value 0.7291035078365387.\n",
      "  RuntimeWarning)\n",
      "/home/g/conda/lib/python3.7/site-packages/scipy/stats/_continuous_distns.py:2651: RuntimeWarning: The shape parameter of the erlang distribution has been given a non-integer value 0.70874665917718.\n",
      "  RuntimeWarning)\n",
      "/home/g/conda/lib/python3.7/site-packages/scipy/stats/_continuous_distns.py:2651: RuntimeWarning: The shape parameter of the erlang distribution has been given a non-integer value 0.7003185933821914.\n",
      "  RuntimeWarning)\n",
      "/home/g/conda/lib/python3.7/site-packages/scipy/stats/_continuous_distns.py:2651: RuntimeWarning: The shape parameter of the erlang distribution has been given a non-integer value 0.6691479223549699.\n",
      "  RuntimeWarning)\n",
      "/home/g/conda/lib/python3.7/site-packages/scipy/stats/_continuous_distns.py:2651: RuntimeWarning: The shape parameter of the erlang distribution has been given a non-integer value 0.6570197757375258.\n",
      "  RuntimeWarning)\n",
      "/home/g/conda/lib/python3.7/site-packages/scipy/stats/_continuous_distns.py:2651: RuntimeWarning: The shape parameter of the erlang distribution has been given a non-integer value 0.6099124532109048.\n",
      "  RuntimeWarning)\n",
      "/home/g/conda/lib/python3.7/site-packages/scipy/stats/_continuous_distns.py:2651: RuntimeWarning: The shape parameter of the erlang distribution has been given a non-integer value 0.5907179765684127.\n",
      "  RuntimeWarning)\n",
      "/home/g/conda/lib/python3.7/site-packages/scipy/stats/_continuous_distns.py:2651: RuntimeWarning: The shape parameter of the erlang distribution has been given a non-integer value 0.518833608222474.\n",
      "  RuntimeWarning)\n",
      "/home/g/conda/lib/python3.7/site-packages/scipy/stats/_continuous_distns.py:2651: RuntimeWarning: The shape parameter of the erlang distribution has been given a non-integer value 0.5377722422456783.\n",
      "  RuntimeWarning)\n",
      "/home/g/conda/lib/python3.7/site-packages/scipy/stats/_continuous_distns.py:2651: RuntimeWarning: The shape parameter of the erlang distribution has been given a non-integer value 0.48978719232836077.\n",
      "  RuntimeWarning)\n",
      "/home/g/conda/lib/python3.7/site-packages/scipy/stats/_continuous_distns.py:2651: RuntimeWarning: The shape parameter of the erlang distribution has been given a non-integer value 0.534627374835013.\n",
      "  RuntimeWarning)\n",
      "/home/g/conda/lib/python3.7/site-packages/scipy/stats/_continuous_distns.py:2651: RuntimeWarning: The shape parameter of the erlang distribution has been given a non-integer value 0.49883260922183115.\n",
      "  RuntimeWarning)\n",
      "/home/g/conda/lib/python3.7/site-packages/scipy/stats/_continuous_distns.py:2651: RuntimeWarning: The shape parameter of the erlang distribution has been given a non-integer value 0.5821424922136365.\n",
      "  RuntimeWarning)\n",
      "/home/g/conda/lib/python3.7/site-packages/scipy/stats/_continuous_distns.py:2651: RuntimeWarning: The shape parameter of the erlang distribution has been given a non-integer value 0.6057944325168054.\n",
      "  RuntimeWarning)\n",
      "/home/g/conda/lib/python3.7/site-packages/scipy/stats/_continuous_distns.py:2651: RuntimeWarning: The shape parameter of the erlang distribution has been given a non-integer value 0.5524191392554612.\n",
      "  RuntimeWarning)\n",
      "/home/g/conda/lib/python3.7/site-packages/scipy/stats/_continuous_distns.py:2651: RuntimeWarning: The shape parameter of the erlang distribution has been given a non-integer value 0.6124141631126618.\n",
      "  RuntimeWarning)\n",
      "/home/g/conda/lib/python3.7/site-packages/scipy/stats/_continuous_distns.py:2651: RuntimeWarning: The shape parameter of the erlang distribution has been given a non-integer value 0.5564327224624241.\n",
      "  RuntimeWarning)\n",
      "/home/g/conda/lib/python3.7/site-packages/scipy/stats/_continuous_distns.py:2651: RuntimeWarning: The shape parameter of the erlang distribution has been given a non-integer value 0.5366115927192685.\n",
      "  RuntimeWarning)\n",
      "/home/g/conda/lib/python3.7/site-packages/scipy/stats/_continuous_distns.py:2651: RuntimeWarning: The shape parameter of the erlang distribution has been given a non-integer value 0.5771913806061266.\n",
      "  RuntimeWarning)\n",
      "/home/g/conda/lib/python3.7/site-packages/scipy/stats/_continuous_distns.py:2651: RuntimeWarning: The shape parameter of the erlang distribution has been given a non-integer value 0.5418863360023716.\n",
      "  RuntimeWarning)\n",
      "/home/g/conda/lib/python3.7/site-packages/scipy/stats/_continuous_distns.py:2651: RuntimeWarning: The shape parameter of the erlang distribution has been given a non-integer value 0.5720784531608203.\n",
      "  RuntimeWarning)\n",
      "/home/g/conda/lib/python3.7/site-packages/scipy/stats/_continuous_distns.py:2651: RuntimeWarning: The shape parameter of the erlang distribution has been given a non-integer value 0.5434288293130105.\n",
      "  RuntimeWarning)\n",
      "/home/g/conda/lib/python3.7/site-packages/scipy/stats/_continuous_distns.py:2651: RuntimeWarning: The shape parameter of the erlang distribution has been given a non-integer value 0.5687507427828475.\n",
      "  RuntimeWarning)\n",
      "/home/g/conda/lib/python3.7/site-packages/scipy/stats/_continuous_distns.py:2651: RuntimeWarning: The shape parameter of the erlang distribution has been given a non-integer value 0.5790888063486002.\n",
      "  RuntimeWarning)\n",
      "/home/g/conda/lib/python3.7/site-packages/scipy/stats/_continuous_distns.py:2651: RuntimeWarning: The shape parameter of the erlang distribution has been given a non-integer value 0.5590865560287459.\n",
      "  RuntimeWarning)\n",
      "/home/g/conda/lib/python3.7/site-packages/scipy/stats/_continuous_distns.py:2651: RuntimeWarning: The shape parameter of the erlang distribution has been given a non-integer value 0.5507682276885248.\n",
      "  RuntimeWarning)\n",
      "/home/g/conda/lib/python3.7/site-packages/scipy/stats/_continuous_distns.py:2651: RuntimeWarning: The shape parameter of the erlang distribution has been given a non-integer value 0.5667508967927464.\n",
      "  RuntimeWarning)\n",
      "/home/g/conda/lib/python3.7/site-packages/scipy/stats/_continuous_distns.py:2651: RuntimeWarning: The shape parameter of the erlang distribution has been given a non-integer value 0.5732927412738025.\n",
      "  RuntimeWarning)\n",
      "/home/g/conda/lib/python3.7/site-packages/scipy/stats/_continuous_distns.py:2651: RuntimeWarning: The shape parameter of the erlang distribution has been given a non-integer value 0.5606477271652688.\n",
      "  RuntimeWarning)\n",
      "/home/g/conda/lib/python3.7/site-packages/scipy/stats/_continuous_distns.py:2651: RuntimeWarning: The shape parameter of the erlang distribution has been given a non-integer value 0.5555727105416599.\n",
      "  RuntimeWarning)\n",
      "/home/g/conda/lib/python3.7/site-packages/scipy/stats/_continuous_distns.py:2651: RuntimeWarning: The shape parameter of the erlang distribution has been given a non-integer value 0.5654562347225507.\n",
      "  RuntimeWarning)\n",
      "/home/g/conda/lib/python3.7/site-packages/scipy/stats/_continuous_distns.py:2651: RuntimeWarning: The shape parameter of the erlang distribution has been given a non-integer value 0.5694833497582981.\n",
      "  RuntimeWarning)\n",
      "/home/g/conda/lib/python3.7/site-packages/scipy/stats/_continuous_distns.py:2651: RuntimeWarning: The shape parameter of the erlang distribution has been given a non-integer value 0.561685754461134.\n",
      "  RuntimeWarning)\n",
      "/home/g/conda/lib/python3.7/site-packages/scipy/stats/_continuous_distns.py:2651: RuntimeWarning: The shape parameter of the erlang distribution has been given a non-integer value 0.5686141968190186.\n",
      "  RuntimeWarning)\n",
      "/home/g/conda/lib/python3.7/site-packages/scipy/stats/_continuous_distns.py:2651: RuntimeWarning: The shape parameter of the erlang distribution has been given a non-integer value 0.5626393445787062.\n",
      "  RuntimeWarning)\n",
      "/home/g/conda/lib/python3.7/site-packages/scipy/stats/_continuous_distns.py:2651: RuntimeWarning: The shape parameter of the erlang distribution has been given a non-integer value 0.5597699923821808.\n",
      "  RuntimeWarning)\n",
      "/home/g/conda/lib/python3.7/site-packages/scipy/stats/_continuous_distns.py:2651: RuntimeWarning: The shape parameter of the erlang distribution has been given a non-integer value 0.565005670690105.\n",
      "  RuntimeWarning)\n",
      "/home/g/conda/lib/python3.7/site-packages/scipy/stats/_continuous_distns.py:2651: RuntimeWarning: The shape parameter of the erlang distribution has been given a non-integer value 0.5670484121997741.\n",
      "  RuntimeWarning)\n",
      "/home/g/conda/lib/python3.7/site-packages/scipy/stats/_continuous_distns.py:2651: RuntimeWarning: The shape parameter of the erlang distribution has been given a non-integer value 0.5630264188957941.\n",
      "  RuntimeWarning)\n",
      "/home/g/conda/lib/python3.7/site-packages/scipy/stats/_continuous_distns.py:2651: RuntimeWarning: The shape parameter of the erlang distribution has been given a non-integer value 0.5616580547205194.\n",
      "  RuntimeWarning)\n",
      "/home/g/conda/lib/python3.7/site-packages/scipy/stats/_continuous_distns.py:2651: RuntimeWarning: The shape parameter of the erlang distribution has been given a non-integer value 0.5645066897220429.\n",
      "  RuntimeWarning)\n",
      "/home/g/conda/lib/python3.7/site-packages/scipy/stats/_continuous_distns.py:2651: RuntimeWarning: The shape parameter of the erlang distribution has been given a non-integer value 0.5657198416265884.\n",
      "  RuntimeWarning)\n",
      "/home/g/conda/lib/python3.7/site-packages/scipy/stats/_continuous_distns.py:2651: RuntimeWarning: The shape parameter of the erlang distribution has been given a non-integer value 0.5634094688406768.\n",
      "  RuntimeWarning)\n",
      "/home/g/conda/lib/python3.7/site-packages/scipy/stats/_continuous_distns.py:2651: RuntimeWarning: The shape parameter of the erlang distribution has been given a non-integer value 0.5622893809489042.\n",
      "  RuntimeWarning)\n",
      "/home/g/conda/lib/python3.7/site-packages/scipy/stats/_continuous_distns.py:2651: RuntimeWarning: The shape parameter of the erlang distribution has been given a non-integer value 0.5643265982548048.\n",
      "  RuntimeWarning)\n",
      "/home/g/conda/lib/python3.7/site-packages/scipy/stats/_continuous_distns.py:2651: RuntimeWarning: The shape parameter of the erlang distribution has been given a non-integer value 0.5651354189825555.\n",
      "  RuntimeWarning)\n",
      "/home/g/conda/lib/python3.7/site-packages/scipy/stats/_continuous_distns.py:2651: RuntimeWarning: The shape parameter of the erlang distribution has been given a non-integer value 0.5635536689174845.\n",
      "  RuntimeWarning)\n",
      "/home/g/conda/lib/python3.7/site-packages/scipy/stats/_continuous_distns.py:2651: RuntimeWarning: The shape parameter of the erlang distribution has been given a non-integer value 0.563019800953268.\n",
      "  RuntimeWarning)\n",
      "/home/g/conda/lib/python3.7/site-packages/scipy/stats/_continuous_distns.py:2651: RuntimeWarning: The shape parameter of the erlang distribution has been given a non-integer value 0.5641349675298492.\n",
      "  RuntimeWarning)\n",
      "/home/g/conda/lib/python3.7/site-packages/scipy/stats/_continuous_distns.py:2651: RuntimeWarning: The shape parameter of the erlang distribution has been given a non-integer value 0.5646006876274154.\n",
      "  RuntimeWarning)\n",
      "/home/g/conda/lib/python3.7/site-packages/scipy/stats/_continuous_distns.py:2651: RuntimeWarning: The shape parameter of the erlang distribution has been given a non-integer value 0.5637072735373614.\n",
      "  RuntimeWarning)\n",
      "/home/g/conda/lib/python3.7/site-packages/scipy/stats/_continuous_distns.py:2651: RuntimeWarning: The shape parameter of the erlang distribution has been given a non-integer value 0.5632706750683251.\n",
      "  RuntimeWarning)\n",
      "/home/g/conda/lib/python3.7/site-packages/scipy/stats/_continuous_distns.py:2651: RuntimeWarning: The shape parameter of the erlang distribution has been given a non-integer value 0.5640626174581849.\n",
      "  RuntimeWarning)\n",
      "/home/g/conda/lib/python3.7/site-packages/scipy/stats/_continuous_distns.py:2651: RuntimeWarning: The shape parameter of the erlang distribution has been given a non-integer value 0.564382903432779.\n",
      "  RuntimeWarning)\n",
      "/home/g/conda/lib/python3.7/site-packages/scipy/stats/_continuous_distns.py:2651: RuntimeWarning: The shape parameter of the erlang distribution has been given a non-integer value 0.5637609775463082.\n",
      "  RuntimeWarning)\n",
      "/home/g/conda/lib/python3.7/site-packages/scipy/stats/_continuous_distns.py:2651: RuntimeWarning: The shape parameter of the erlang distribution has been given a non-integer value 0.5635522781647205.\n",
      "  RuntimeWarning)\n",
      "/home/g/conda/lib/python3.7/site-packages/scipy/stats/_continuous_distns.py:2651: RuntimeWarning: The shape parameter of the erlang distribution has been given a non-integer value 0.563989295188567.\n",
      "  RuntimeWarning)\n",
      "/home/g/conda/lib/python3.7/site-packages/scipy/stats/_continuous_distns.py:2651: RuntimeWarning: The shape parameter of the erlang distribution has been given a non-integer value 0.5635757467233062.\n",
      "  RuntimeWarning)\n",
      "/home/g/conda/lib/python3.7/site-packages/scipy/stats/_continuous_distns.py:2651: RuntimeWarning: The shape parameter of the erlang distribution has been given a non-integer value 0.5639408997744653.\n",
      "  RuntimeWarning)\n",
      "/home/g/conda/lib/python3.7/site-packages/scipy/stats/_continuous_distns.py:2651: RuntimeWarning: The shape parameter of the erlang distribution has been given a non-integer value 0.5640868414688656.\n",
      "  RuntimeWarning)\n",
      "/home/g/conda/lib/python3.7/site-packages/scipy/stats/_continuous_distns.py:2651: RuntimeWarning: The shape parameter of the erlang distribution has been given a non-integer value 0.5638021655202374.\n",
      "  RuntimeWarning)\n",
      "/home/g/conda/lib/python3.7/site-packages/scipy/stats/_continuous_distns.py:2651: RuntimeWarning: The shape parameter of the erlang distribution has been given a non-integer value 0.5636800667054402.\n",
      "  RuntimeWarning)\n",
      "/home/g/conda/lib/python3.7/site-packages/scipy/stats/_continuous_distns.py:2651: RuntimeWarning: The shape parameter of the erlang distribution has been given a non-integer value 0.5639119880677853.\n",
      "  RuntimeWarning)\n",
      "/home/g/conda/lib/python3.7/site-packages/scipy/stats/_continuous_distns.py:2651: RuntimeWarning: The shape parameter of the erlang distribution has been given a non-integer value 0.5640090580286838.\n",
      "  RuntimeWarning)\n",
      "/home/g/conda/lib/python3.7/site-packages/scipy/stats/_continuous_distns.py:2651: RuntimeWarning: The shape parameter of the erlang distribution has been given a non-integer value 0.563822997666902.\n",
      "  RuntimeWarning)\n",
      "/home/g/conda/lib/python3.7/site-packages/scipy/stats/_continuous_distns.py:2651: RuntimeWarning: The shape parameter of the erlang distribution has been given a non-integer value 0.5637505343954847.\n",
      "  RuntimeWarning)\n",
      "/home/g/conda/lib/python3.7/site-packages/scipy/stats/_continuous_distns.py:2651: RuntimeWarning: The shape parameter of the erlang distribution has been given a non-integer value 0.5638933084297202.\n",
      "  RuntimeWarning)\n",
      "/home/g/conda/lib/python3.7/site-packages/scipy/stats/_continuous_distns.py:2651: RuntimeWarning: The shape parameter of the erlang distribution has been given a non-integer value 0.5639500305893677.\n",
      "  RuntimeWarning)\n",
      "/home/g/conda/lib/python3.7/site-packages/scipy/stats/_continuous_distns.py:2651: RuntimeWarning: The shape parameter of the erlang distribution has been given a non-integer value 0.56383913178752.\n",
      "  RuntimeWarning)\n",
      "/home/g/conda/lib/python3.7/site-packages/scipy/stats/_continuous_distns.py:2651: RuntimeWarning: The shape parameter of the erlang distribution has been given a non-integer value 0.563939954523115.\n",
      "  RuntimeWarning)\n",
      "/home/g/conda/lib/python3.7/site-packages/scipy/stats/_continuous_distns.py:2651: RuntimeWarning: The shape parameter of the erlang distribution has been given a non-integer value 0.5638522368809553.\n",
      "  RuntimeWarning)\n",
      "/home/g/conda/lib/python3.7/site-packages/scipy/stats/_continuous_distns.py:2651: RuntimeWarning: The shape parameter of the erlang distribution has been given a non-integer value 0.5638111299976784.\n",
      "  RuntimeWarning)\n",
      "/home/g/conda/lib/python3.7/site-packages/scipy/stats/_continuous_distns.py:2651: RuntimeWarning: The shape parameter of the erlang distribution has been given a non-integer value 0.5638867735502586.\n",
      "  RuntimeWarning)\n",
      "/home/g/conda/lib/python3.7/site-packages/scipy/stats/_continuous_distns.py:2651: RuntimeWarning: The shape parameter of the erlang distribution has been given a non-integer value 0.5639157474531027.\n",
      "  RuntimeWarning)\n",
      "/home/g/conda/lib/python3.7/site-packages/scipy/stats/_continuous_distns.py:2651: RuntimeWarning: The shape parameter of the erlang distribution has been given a non-integer value 0.5638582857039156.\n",
      "  RuntimeWarning)\n",
      "/home/g/conda/lib/python3.7/site-packages/scipy/stats/_continuous_distns.py:2651: RuntimeWarning: The shape parameter of the erlang distribution has been given a non-integer value 0.5638382223270328.\n",
      "  RuntimeWarning)\n",
      "/home/g/conda/lib/python3.7/site-packages/scipy/stats/_continuous_distns.py:2651: RuntimeWarning: The shape parameter of the erlang distribution has been given a non-integer value 0.5638795369040484.\n",
      "  RuntimeWarning)\n",
      "/home/g/conda/lib/python3.7/site-packages/scipy/stats/_continuous_distns.py:2651: RuntimeWarning: The shape parameter of the erlang distribution has been given a non-integer value 0.5638974938911931.\n",
      "  RuntimeWarning)\n",
      "/home/g/conda/lib/python3.7/site-packages/scipy/stats/_continuous_distns.py:2651: RuntimeWarning: The shape parameter of the erlang distribution has been given a non-integer value 0.5638635511335148.\n",
      "  RuntimeWarning)\n",
      "/home/g/conda/lib/python3.7/site-packages/scipy/stats/_continuous_distns.py:2651: RuntimeWarning: The shape parameter of the erlang distribution has been given a non-integer value 0.5638474756107272.\n",
      "  RuntimeWarning)\n",
      "/home/g/conda/lib/python3.7/site-packages/scipy/stats/_continuous_distns.py:2651: RuntimeWarning: The shape parameter of the erlang distribution has been given a non-integer value 0.5638769490653758.\n",
      "  RuntimeWarning)\n",
      "/home/g/conda/lib/python3.7/site-packages/scipy/stats/_continuous_distns.py:2651: RuntimeWarning: The shape parameter of the erlang distribution has been given a non-integer value array(0.56387695).\n",
      "  RuntimeWarning)\n"
     ]
    },
    {
     "name": "stdout",
     "output_type": "stream",
     "text": [
      "Fitted erlang distribution with error=0.9004743519574526)\n",
      "Fitted expon distribution with error=0.7580789352039634)\n",
      "Fitted exponnorm distribution with error=0.7580685201697166)\n",
      "Fitted exponpow distribution with error=0.7539538664100945)\n"
     ]
    },
    {
     "name": "stderr",
     "output_type": "stream",
     "text": [
      "/home/g/conda/lib/python3.7/site-packages/scipy/stats/_continuous_distns.py:1469: RuntimeWarning: invalid value encountered in add\n",
      "  negxc + sc.xlogy(c - 1.0, x))\n"
     ]
    },
    {
     "name": "stdout",
     "output_type": "stream",
     "text": [
      "Fitted exponweib distribution with error=0.9117040583072723)\n",
      "Fitted f distribution with error=0.7543848882177319)\n",
      "Fitted fatiguelife distribution with error=0.7753376844194321)\n",
      "Fitted fisk distribution with error=0.778467129910108)\n",
      "Fitted foldcauchy distribution with error=0.757924077936547)\n",
      "Fitted foldnorm distribution with error=0.8130914155969623)\n",
      "Fitted frechet_l distribution with error=2.1466416913764683)\n",
      "Fitted frechet_r distribution with error=0.78802929482801)\n",
      "Fitted gamma distribution with error=0.7521724094362768)\n",
      "Fitted gausshyper distribution with error=0.8276198251121927)\n"
     ]
    },
    {
     "name": "stderr",
     "output_type": "stream",
     "text": [
      "/home/g/conda/lib/python3.7/site-packages/scipy/stats/_continuous_distns.py:3175: RuntimeWarning: divide by zero encountered in power\n",
      "  return 1.0/Cinv * x**(a-1.0) * (1.0-x)**(b-1.0) / (1.0+z*x)**c\n"
     ]
    },
    {
     "name": "stdout",
     "output_type": "stream",
     "text": [
      "Fitted genexpon distribution with error=0.765454522888268)\n",
      "Fitted genextreme distribution with error=0.7915351578736389)\n",
      "Fitted gengamma distribution with error=0.7721391036306233)\n",
      "Fitted genhalflogistic distribution with error=0.7953108091952219)\n",
      "Fitted genlogistic distribution with error=0.8798316598476352)\n",
      "Fitted gennorm distribution with error=0.9562577328650591)\n"
     ]
    },
    {
     "name": "stderr",
     "output_type": "stream",
     "text": [
      "/home/g/conda/lib/python3.7/site-packages/scipy/stats/_continuous_distns.py:2248: RuntimeWarning: divide by zero encountered in true_divide\n",
      "  val = val + cnk * (-1) ** ki / (1.0 - c * ki)\n"
     ]
    },
    {
     "name": "stdout",
     "output_type": "stream",
     "text": [
      "Fitted genpareto distribution with error=0.7739649136897396)\n",
      "Fitted gilbrat distribution with error=0.7768966566353368)\n",
      "Fitted gompertz distribution with error=0.7676882870606342)\n",
      "Fitted gumbel_l distribution with error=1.0070829443472151)\n",
      "Fitted gumbel_r distribution with error=0.8804797274716167)\n",
      "Fitted halfcauchy distribution with error=0.755981795649219)\n",
      "Fitted halfgennorm distribution with error=0.7967603341789506)\n",
      "Fitted halflogistic distribution with error=0.7948349374983947)\n",
      "Fitted halfnorm distribution with error=0.8161096776082977)\n",
      "Fitted hypsecant distribution with error=0.9268536774069684)\n",
      "Fitted invgamma distribution with error=0.7911227272963223)\n",
      "Fitted invgauss distribution with error=0.7797764131634809)\n",
      "Fitted invweibull distribution with error=0.7915393275543918)\n",
      "Fitted johnsonsb distribution with error=0.7687267560941016)\n",
      "Fitted johnsonsu distribution with error=0.7797043696958079)\n",
      "Fitted kappa3 distribution with error=0.7772424183710336)\n",
      "Fitted kappa4 distribution with error=0.907091082862516)\n",
      "Fitted ksone distribution with error=nan)\n",
      "Fitted kstwobign distribution with error=0.8809988778218738)\n",
      "Fitted laplace distribution with error=0.9427227188075261)\n",
      "Fitted levy distribution with error=0.8253878873053739)\n",
      "Fitted levy_l distribution with error=1.1707295910953013)\n"
     ]
    },
    {
     "name": "stderr",
     "output_type": "stream",
     "text": [
      "/home/g/conda/lib/python3.7/site-packages/scipy/stats/_continuous_distns.py:79: RuntimeWarning: floating point number truncated to an integer\n",
      "  return -scu._smirnovp(n, x)\n"
     ]
    },
    {
     "name": "stdout",
     "output_type": "stream",
     "text": [
      "Fitted levy_stable distribution with error=0.9127796719776363)\n",
      "Fitted loggamma distribution with error=0.9476739975014272)\n",
      "Fitted logistic distribution with error=0.9353142982899302)\n",
      "Fitted loglaplace distribution with error=0.8983609785224554)\n",
      "Fitted lognorm distribution with error=0.7797366194914643)\n",
      "Fitted lomax distribution with error=0.7568135439575983)\n",
      "Fitted maxwell distribution with error=0.9208622984596819)\n"
     ]
    },
    {
     "name": "stderr",
     "output_type": "stream",
     "text": [
      "/home/g/conda/lib/python3.7/site-packages/scipy/stats/_continuous_distns.py:4299: RuntimeWarning: divide by zero encountered in true_divide\n",
      "  return c**2 / (c**2 - n**2)\n",
      "/home/g/conda/lib/python3.7/site-packages/scipy/stats/_distn_infrastructure.py:1618: IntegrationWarning: Extremely bad integrand behavior occurs at some points of the\n",
      "  integration interval.\n",
      "  return integrate.quad(self._mom_integ1, 0, 1, args=(m,)+args)[0]\n",
      "/home/g/conda/lib/python3.7/site-packages/scipy/stats/_distn_infrastructure.py:1618: IntegrationWarning: The integral is probably divergent, or slowly convergent.\n",
      "  return integrate.quad(self._mom_integ1, 0, 1, args=(m,)+args)[0]\n",
      "/home/g/conda/lib/python3.7/site-packages/scipy/stats/_continuous_distns.py:4578: RuntimeWarning: overflow encountered in power\n",
      "  return k*x**(k-1.0) / (1.0+x**s)**(1.0+k*1.0/s)\n",
      "/home/g/conda/lib/python3.7/site-packages/scipy/stats/_distn_infrastructure.py:1625: RuntimeWarning: divide by zero encountered in log\n",
      "  return log(self._pdf(x, *args))\n",
      "/home/g/conda/lib/python3.7/site-packages/scipy/stats/_continuous_distns.py:5014: RuntimeWarning: divide by zero encountered in power\n",
      "  return 2*nu**nu/sc.gamma(nu)*(x**(2*nu-1.0))*np.exp(-nu*x*x)\n"
     ]
    },
    {
     "name": "stdout",
     "output_type": "stream",
     "text": [
      "Fitted mielke distribution with error=0.7923637013029168)\n",
      "Fitted moyal distribution with error=0.8512331624907457)\n",
      "Fitted nakagami distribution with error=0.7596787312831463)\n",
      "Fitted ncf distribution with error=0.8041256027470239)\n",
      "Fitted nct distribution with error=0.789941301357097)\n"
     ]
    },
    {
     "name": "stderr",
     "output_type": "stream",
     "text": [
      "/home/g/conda/lib/python3.7/site-packages/scipy/stats/_continuous_distns.py:5286: RuntimeWarning: overflow encountered in multiply\n",
      "  trm1 = np.sqrt(2)*nc*x*sc.hyp1f1(n/2+1, 1.5, valF)\n"
     ]
    },
    {
     "name": "stdout",
     "output_type": "stream",
     "text": [
      "Fitted ncx2 distribution with error=0.8652713697069289)\n",
      "Fitted norm distribution with error=0.9480924657989177)\n",
      "Fitted norminvgauss distribution with error=0.7795141168056093)\n",
      "Fitted pareto distribution with error=0.8761642086398547)\n",
      "Fitted pearson3 distribution with error=0.7523590631912731)\n",
      "Fitted powerlaw distribution with error=0.7817321402516422)\n"
     ]
    },
    {
     "name": "stderr",
     "output_type": "stream",
     "text": [
      "/home/g/conda/lib/python3.7/site-packages/scipy/stats/_continuous_distns.py:5689: RuntimeWarning: divide by zero encountered in power\n",
      "  pow(_norm_cdf(-np.log(x)/s), c*1.0-1.0))\n",
      "/home/g/conda/lib/python3.7/site-packages/scipy/stats/_continuous_distns.py:5689: RuntimeWarning: invalid value encountered in multiply\n",
      "  pow(_norm_cdf(-np.log(x)/s), c*1.0-1.0))\n",
      "/home/g/conda/lib/python3.7/site-packages/scipy/stats/_continuous_distns.py:5689: RuntimeWarning: overflow encountered in power\n",
      "  pow(_norm_cdf(-np.log(x)/s), c*1.0-1.0))\n",
      "/home/g/conda/lib/python3.7/site-packages/scipy/stats/_continuous_distns.py:5726: RuntimeWarning: divide by zero encountered in power\n",
      "  return c*_norm_pdf(x) * (_norm_cdf(-x)**(c-1.0))\n",
      "/home/g/conda/lib/python3.7/site-packages/scipy/stats/_continuous_distns.py:5726: RuntimeWarning: invalid value encountered in multiply\n",
      "  return c*_norm_pdf(x) * (_norm_cdf(-x)**(c-1.0))\n",
      "/home/g/conda/lib/python3.7/site-packages/scipy/stats/_continuous_distns.py:5773: RuntimeWarning: divide by zero encountered in power\n",
      "  return np.power((1.0 - x**2), c / 2.0 - 1) / sc.beta(0.5, c / 2.0)\n"
     ]
    },
    {
     "name": "stdout",
     "output_type": "stream",
     "text": [
      "Fitted powerlognorm distribution with error=0.7832275547754222)\n",
      "Fitted powernorm distribution with error=nan)\n",
      "Fitted rayleigh distribution with error=0.9101218153493682)\n",
      "Fitted rdist distribution with error=1.0334904035626156)\n",
      "Fitted recipinvgauss distribution with error=0.7725024579665051)\n",
      "Fitted reciprocal distribution with error=1.298991695636648)\n",
      "Fitted rice distribution with error=0.9101233470801018)\n",
      "SKIPPED rv_continuous distribution (taking more than 30 seconds)\n",
      "SKIPPED rv_histogram distribution (taking more than 30 seconds)\n",
      "Fitted semicircular distribution with error=0.9865793958408592)\n",
      "Fitted skewnorm distribution with error=0.8161156217923726)\n",
      "Fitted t distribution with error=0.9480949837640171)\n",
      "Fitted trapz distribution with error=1.1973832109310898)\n",
      "Fitted triang distribution with error=0.8246262354390209)\n",
      "Fitted truncexpon distribution with error=0.8689560435836432)\n",
      "Fitted truncnorm distribution with error=1.298991695636648)\n"
     ]
    },
    {
     "name": "stderr",
     "output_type": "stream",
     "text": [
      "/home/g/conda/lib/python3.7/site-packages/scipy/stats/_continuous_distns.py:6348: RuntimeWarning: divide by zero encountered in log\n",
      "  self._logdelta = np.log(self._delta)\n",
      "/home/g/conda/lib/python3.7/site-packages/scipy/stats/_continuous_distns.py:6348: RuntimeWarning: invalid value encountered in log\n",
      "  self._logdelta = np.log(self._delta)\n",
      "/home/g/conda/lib/python3.7/site-packages/scipy/stats/_continuous_distns.py:6408: RuntimeWarning: divide by zero encountered in power\n",
      "  Px = Fx**(lam-1.0) + (np.asarray(1-Fx))**(lam-1.0)\n"
     ]
    },
    {
     "name": "stdout",
     "output_type": "stream",
     "text": [
      "Fitted tukeylambda distribution with error=0.9366334353222865)\n",
      "Fitted uniform distribution with error=0.9562577328648245)\n",
      "Fitted vonmises distribution with error=1.3833584804376924e+61)\n",
      "Fitted vonmises_line distribution with error=0.9253542704201618)\n",
      "Fitted wald distribution with error=0.7781082263191528)\n",
      "Fitted weibull_max distribution with error=2.1466416913764683)\n",
      "Fitted weibull_min distribution with error=0.78802929482801)\n",
      "Fitted wrapcauchy distribution with error=nan)\n"
     ]
    },
    {
     "name": "stderr",
     "output_type": "stream",
     "text": [
      "/home/g/conda/lib/python3.7/site-packages/scipy/optimize/optimize.py:570: RuntimeWarning: invalid value encountered in subtract\n",
      "  numpy.max(numpy.abs(fsim[0] - fsim[1:])) <= fatol):\n"
     ]
    },
    {
     "data": {
      "text/plain": [
       "{'chi': (0.6994672964288513, 2.1773799999999994, 8.624383899041122)}"
      ]
     },
     "execution_count": 1,
     "metadata": {},
     "output_type": "execute_result"
    }
   ],
   "source": [
    "from fitter import Fitter\n",
    "\n",
    "f = Fitter([2.17738,2.24315,3.71751,3.10235,2.8113,4.01342,3.78653,4.59001,6.96665,6.25576,13.1419,4.73474,3.20572,4.02131,18.2713,12.5171,9.18789,10.5905,6.82636,3.48747,2.82448,2.27214,2.50416,3.30016,4.35535,12.5365,3.44735,4.19906,4.81463,3.84762,4.35404,6.95584,9.42545,8.84464,10.9489,16,11.4,5.9,19.1836,19.2587,17.5342,7.3,11.1232,14.7207,7.84714,6.22407,12.9129,6.9,3.8])\n",
    "\n",
    "f.fit()\n",
    "\n",
    "f.get_best()"
   ]
  },
  {
   "cell_type": "markdown",
   "metadata": {},
   "source": [
    "So these uncertainty values are close to a Chi distribution. Then we use the three parameters for this Chi distribution derived from the 49 uncertainty values to regenerate 56 random variates (2 mean poles own actually oval spacial uncertainties)."
   ]
  },
  {
   "cell_type": "code",
   "execution_count": null,
   "metadata": {},
   "outputs": [],
   "source": [
    "from scipy import stats\n",
    "\n",
    "#rvs(df, loc=0, scale=1, size=1, random_state=None)\tRandom variates.\n",
    "#every time you run this line, you get different sets of values. I got:\n",
    "#array([ 6.54537173, 13.22213223,  4.71687814,  6.06923175, 12.32058996,\n",
    "#        4.53490622,  3.60631916,  3.64850642, 11.87386989, 16.37886604,\n",
    "#        4.39550758,  3.61805854,  6.35915206,  3.4671487 ,  6.41090152,\n",
    "#        9.48152157,  5.06648985,  5.09428503, 15.56201092, 11.74480194,\n",
    "#        3.57060722,  6.01565629,  5.53370645,  4.47850109,  3.28726288,\n",
    "#        2.83993984, 15.84193629,  2.40525112,  9.191822  ,  3.5544386 ,\n",
    "#        6.13037945,  5.9911757 ,  2.18469379,  2.80944297, 14.72157139,\n",
    "#        2.60171974,  7.04823047,  8.86591195,  2.53258948,  7.69104173,\n",
    "#        2.81096561,  2.83295341,  2.95516981,  5.13150203, 12.25138705,\n",
    "#        5.51306718, 10.33492615, 13.06304654,  2.41523803, 3.62655028,  \n",
    "#        3.54575347,  4.34893963,  3.86387691,  2.75629622, 7.2065091 ,\n",
    "#        12.15200662])\n",
    "stats.chi.rvs(0.6994672964288513, loc=2.1773799999999994, scale=8.624383899041122, size=56)"
   ]
  },
  {
   "cell_type": "markdown",
   "metadata": {},
   "source": [
    "Their azimuths for dm (semi-major axis) are randomly derived from -180 to 180."
   ]
  },
  {
   "cell_type": "code",
   "execution_count": 5,
   "metadata": {
    "scrolled": true
   },
   "outputs": [
    {
     "name": "stdout",
     "output_type": "stream",
     "text": [
      "-84.72106956847605\n",
      "-101.67129380485784\n",
      "-9.908942198398535\n",
      "-155.61561918364177\n",
      "-170.36597906590882\n",
      "30.63018866620851\n",
      "-78.84581679275597\n",
      "134.0124349726517\n",
      "23.266315427792307\n",
      "-158.95240647211077\n",
      "161.97308974176053\n",
      "84.34176986714999\n",
      "176.42344557623835\n",
      "20.744878806802888\n",
      "-166.806699218913\n",
      "139.64225953183643\n",
      "72.38494527694868\n",
      "22.57207231148334\n",
      "87.39496610789644\n",
      "43.16046830066307\n",
      "37.81815181449781\n",
      "-11.8669793965353\n",
      "-144.9509258977978\n",
      "151.51046216163576\n",
      "179.9324729169341\n",
      "78.6313530511473\n",
      "-95.7881310357444\n",
      "-104.39448099531899\n",
      "-158.68250793466308\n",
      "99.94164126774814\n",
      "-92.94616105506496\n",
      "-59.701741651557\n",
      "-47.95273336831514\n",
      "144.68462876734742\n",
      "4.924119906921305\n",
      "31.349376766926127\n",
      "-153.88034550770487\n",
      "11.786332659454843\n",
      "-90.21439682714195\n",
      "4.978574247163493\n",
      "37.814221660250325\n",
      "-110.02560265399627\n",
      "144.16335529334316\n",
      "-165.35684482740345\n",
      "-42.424739108462944\n",
      "36.880291808951256\n",
      "17.80332730716131\n",
      "-168.35450723995373\n",
      "112.36410106795745\n",
      "82.27700471064878\n",
      "169.81806129197668\n",
      "-88.07628120065495\n",
      "121.9648045040139\n",
      "10.103883756010305\n"
     ]
    }
   ],
   "source": [
    "import random\n",
    "\n",
    "for i in range(54):\n",
    "    print(random.uniform(-180,180))"
   ]
  },
  {
   "cell_type": "markdown",
   "metadata": {},
   "source": [
    "Then do not forget to change the \"Number of Paleopoles\" column to 0 or 1, in order to take advantage of dm/dp or A95 generating random points for testing (see the function \"common_dir_elliptical\")."
   ]
  },
  {
   "cell_type": "code",
   "execution_count": null,
   "metadata": {},
   "outputs": [],
   "source": []
  }
 ],
 "metadata": {
  "kernelspec": {
   "display_name": "Python 3",
   "language": "python",
   "name": "python3"
  },
  "language_info": {
   "codemirror_mode": {
    "name": "ipython",
    "version": 3
   },
   "file_extension": ".py",
   "mimetype": "text/x-python",
   "name": "python",
   "nbconvert_exporter": "python",
   "pygments_lexer": "ipython3",
   "version": "3.7.3"
  }
 },
 "nbformat": 4,
 "nbformat_minor": 2
}
