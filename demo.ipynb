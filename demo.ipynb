{
 "cells": [
  {
   "cell_type": "markdown",
   "metadata": {},
   "source": [
    "First, you need to have a functional GMT5 installed in your operating system (Linux or MacOS is recommended). Please refer to http://gmt.soest.hawaii.edu/projects/gmt/wiki/Installing for its installing instructions.\n",
    "\n",
    "Second, you need to have a functional Python 3.6 or 3.7 installed in your operating system. Then use pip to install NumPy and numba.\n",
    "\n",
    "# Introducing Use of the Core Function \"spa_angpre_len_dif\"\n",
    "\n",
    "Then, let's get started with an example from pair A (Figure 3a in the paper https://github.com/f-i/APWP_similarity)."
   ]
  },
  {
   "cell_type": "code",
   "execution_count": 1,
   "metadata": {},
   "outputs": [],
   "source": [
    "## import Python modules\n",
    "# import Python's sys (System-specific parameters and functions) module\n",
    "import sys\n",
    "# import Python's copytree module\n",
    "from distutils.dir_util import copy_tree\n",
    "# add this directory for Python searching non-standard modules, like our own modules\n",
    "sys.path.append('.')  #only accept relative dir\n",
    "# import my own module\n",
    "import spComparison.spcmp as cmp"
   ]
  },
  {
   "cell_type": "code",
   "execution_count": null,
   "metadata": {},
   "outputs": [],
   "source": [
    "## calculate pair A's difference scores in terms of space (coeval poles), angle and\n",
    "## length (coeval segments); NOTE THAT THIS COULD TAKE HOURS (Depends on your OS and Hardwares)\n",
    "# copy raw VGP locations (only for poles with their N greater than 25) to /tmp\n",
    "copy_tree(\"data/Laurentia_RM\", \"/tmp\")\n",
    "copy_tree(\"data/rot_version/Laurentia_RM_1deg\",\"/tmp\")\n",
    "# rum our spa_angpre_len_dif function to calculate difference scores\n",
    "cmp.spa_angpre_len_dif('data/Laurentia_RM.txt',\n",
    "                       'data/rot_version/Laurentia_RM_1deg.txt',\n",
    "                       pnh1=1,pnh2=0)\n",
    "# the results should be the same as stored in\n",
    "# data/0.result_tables/pairA_LaurentiaRM_LaurentiaRM1deg.txt"
   ]
  },
  {
   "cell_type": "markdown",
   "metadata": {},
   "source": [
    "The above results displayed have 12 columns.\n",
    "\n",
    "\t00_no:\t\t\tindex / order number\n",
    "\t01_tstop:\t\tpole age\n",
    "\t10_spa_pol_dif:\tspacial difference of each coeval pole pair\n",
    "\t11_spa_pol_tes:\t1 or 0, i.e., distinguishable or indistinguishable\n",
    "\t\t\t\t\tspacial relationship of coeval uncertainties\n",
    "\t20_ang_seg_dif:\tangular difference of each coeval segment pair\n",
    "\t21_ang_seg_tes:\t1 or 0, i.e., a significant or no significant angular difference,\n",
    "\t\t\t\t\tbased on random sampling from pole uncertainties\n",
    "\t30_len_seg_dif:\tlength difference of each coeval segment pair\n",
    "\t31_len_seg_tes:\t1 or 0, i.e., a significant or no significant length difference,\n",
    "\t\t\t\t\tbased on random sampling from pole uncertainties\n",
    "    22_course_seg1: trajectory I's each segment's orientational change\n",
    "    23_course_seg2: trajectory II's each contemporary segment's orientational change\n",
    "    32_len_seg1: trajectory I's each segment's length\n",
    "    33_len_seg2: trajectory II's each contemporary segment's length"
   ]
  },
  {
   "cell_type": "code",
   "execution_count": 3,
   "metadata": {},
   "outputs": [
    {
     "name": "stdout",
     "output_type": "stream",
     "text": [
      "ds\tda\tdl\tno\tt0\tt1\n",
      "0.004023131262715884\t0.0\t0.0\t0\t0\t100\n",
      "0.007986006837318843\t0.0\t0.0\t1\t100\t200\n",
      "0.012679280865410706\t0.0\t0.0\t2\t200\t300\n",
      "0.018235744587828718\t0.0\t0.0\t3\t300\t400\n",
      "0.01946664767344485\t0.0\t0.0\t4\t400\t530\n",
      "0.012871529337939955\t0.0\t0.0\t5\t0\t530\n"
     ]
    }
   ],
   "source": [
    "## reproduce results for pair A in Figures 6a, 6c, 6e using the output above\n",
    "## from the function cmp.spa_angpre_len_dif\n",
    "pairA=cmp.ppf3('data/0.result_tables/pairA_LaurentiaRM_LaurentiaRM1deg.txt')\n",
    "#pairA_.txt without test\n",
    "print('ds\\tda\\tdl\\tno\\tt0\\tt1')\n",
    "cmp.calc_nt(pairA,0,0,100)\n",
    "cmp.calc_nt(pairA,1,100,200)\n",
    "cmp.calc_nt(pairA,2,200,300)\n",
    "cmp.calc_nt(pairA,3,300,400)\n",
    "cmp.calc_nt(pairA,4,400,530)\n",
    "cmp.calc_nt(pairA,5,0,530)"
   ]
  },
  {
   "cell_type": "markdown",
   "metadata": {},
   "source": [
    "The above results displayed own 6 columns.\n",
    "\n",
    "    ds: untested mean spatial difference score\n",
    "    da: untested mean angular difference score\n",
    "    dl: untested mean length difference score\n",
    "    no: index / order number\n",
    "    t0: beginning pole age of the specific path\n",
    "    t1: end pole age of the specific path"
   ]
  },
  {
   "cell_type": "code",
   "execution_count": 4,
   "metadata": {},
   "outputs": [
    {
     "name": "stdout",
     "output_type": "stream",
     "text": [
      "ds\tda\tdl\tno\tt0\tt1\n",
      "0.0\t0.0\t0.0\t0\t0\t100\n",
      "0.0\t0.0\t0.0\t1\t100\t200\n",
      "0.0\t0.0\t0.0\t2\t200\t300\n",
      "0.006881704376822442\t0.0\t0.0\t3\t300\t400\n",
      "0.004130910260684836\t0.0\t0.0\t4\t400\t530\n",
      "0.0024728054036043438\t0.0\t0.0\t5\t0\t530\n"
     ]
    }
   ],
   "source": [
    "## reproduce results for pair A in Figures 6b, 6d, 6f using the same output above\n",
    "## from the function cmp.spa_angpre_len_dif\n",
    "#pairA.txt with test\n",
    "print('ds\\tda\\tdl\\tno\\tt0\\tt1')\n",
    "cmp.calc(pairA,0,0,100)\n",
    "cmp.calc(pairA,1,100,200)\n",
    "cmp.calc(pairA,2,200,300)\n",
    "cmp.calc(pairA,3,300,400)\n",
    "cmp.calc(pairA,4,400,530)\n",
    "cmp.calc(pairA,5,0,530)"
   ]
  },
  {
   "cell_type": "markdown",
   "metadata": {},
   "source": [
    "The above results displayed also own 6 columns.\n",
    "\n",
    "    ds: tested mean spatial difference score\n",
    "    da: tested mean angular difference score\n",
    "    dl: tested mean length difference score\n",
    "    no: index / order number\n",
    "    t0: beginning pole age of the specific path\n",
    "    t1: end pole age of the specific path"
   ]
  },
  {
   "cell_type": "markdown",
   "metadata": {},
   "source": [
    "# Reproducing the Other Five Pairs Using the Same Procedure Above\n",
    "\n",
    "## pair B"
   ]
  },
  {
   "cell_type": "code",
   "execution_count": null,
   "metadata": {},
   "outputs": [],
   "source": [
    "## calculate pair B's difference scores in terms of space (coeval poles), angle and\n",
    "## length (coeval segments)\n",
    "copy_tree(\"data/rot_version/Laurentia_RM_15deg\",\"/tmp\")\n",
    "cmp.spa_angpre_len_dif('data/Laurentia_RM.txt',\n",
    "                       'data/rot_version/Laurentia_RM_15deg.txt',\n",
    "                       pnh1=1,pnh2=0)\n",
    "# the results should be the same as stored in\n",
    "# data/0.result_tables/pairB_LaurentiaRM_LaurentiaRM15deg.txt"
   ]
  },
  {
   "cell_type": "code",
   "execution_count": 2,
   "metadata": {},
   "outputs": [
    {
     "name": "stdout",
     "output_type": "stream",
     "text": [
      "ds\tda\tdl\tno\tt0\tt1\n",
      "0.06018565442887694\t0.0\t0.0\t0\t0\t100\n",
      "0.11951075417785047\t0.0\t0.0\t1\t100\t200\n",
      "0.18987624618932064\t0.0\t0.0\t2\t200\t300\n",
      "0.27341452084170853\t0.0\t0.0\t3\t300\t400\n",
      "0.29195711704472566\t0.0\t0.0\t4\t400\t530\n",
      "0.1928983752638573\t0.0\t0.0\t5\t0\t530\n"
     ]
    }
   ],
   "source": [
    "## reproduce results for pair B in Figures 6a, 6c, 6e using the output above\n",
    "## from the function cmp.spa_angpre_len_dif\n",
    "pairB=cmp.ppf3('data/0.result_tables/pairB_LaurentiaRM_LaurentiaRM15deg.txt')\n",
    "#pairB_.txt without test\n",
    "print('ds\\tda\\tdl\\tno\\tt0\\tt1')\n",
    "cmp.calc_nt(pairB,0,0,100)\n",
    "cmp.calc_nt(pairB,1,100,200)\n",
    "cmp.calc_nt(pairB,2,200,300)\n",
    "cmp.calc_nt(pairB,3,300,400)\n",
    "cmp.calc_nt(pairB,4,400,530)\n",
    "cmp.calc_nt(pairB,5,0,530)"
   ]
  },
  {
   "cell_type": "code",
   "execution_count": 3,
   "metadata": {},
   "outputs": [
    {
     "name": "stdout",
     "output_type": "stream",
     "text": [
      "ds\tda\tdl\tno\tt0\tt1\n",
      "0.0\t0.0\t0.0\t0\t0\t100\n",
      "0.02452207584754257\t0.0\t0.0\t1\t100\t200\n",
      "0.17214017750222857\t0.0\t0.0\t2\t200\t300\n",
      "0.27341452084170853\t0.0\t0.0\t3\t300\t400\n",
      "0.18753232193044467\t0.0\t0.0\t4\t400\t530\n",
      "0.13206089460320947\t0.0\t0.0\t5\t0\t530\n"
     ]
    }
   ],
   "source": [
    "## reproduce results for pair B in Figures 6b, 6d, 6f using the same output above\n",
    "## from the function cmp.spa_angpre_len_dif\n",
    "#pairB.txt with test\n",
    "print('ds\\tda\\tdl\\tno\\tt0\\tt1')\n",
    "cmp.calc(pairB,0,0,100)\n",
    "cmp.calc(pairB,1,100,200)\n",
    "cmp.calc(pairB,2,200,300)\n",
    "cmp.calc(pairB,3,300,400)\n",
    "cmp.calc(pairB,4,400,530)\n",
    "cmp.calc(pairB,5,0,530)"
   ]
  },
  {
   "cell_type": "markdown",
   "metadata": {},
   "source": [
    "## pair C"
   ]
  },
  {
   "cell_type": "code",
   "execution_count": null,
   "metadata": {},
   "outputs": [],
   "source": [
    "## calculate pair C's difference scores in terms of space (coeval poles), angle and\n",
    "## length (coeval segments)\n",
    "copy_tree(\"data/rot_version/Laurentia_RM_po_15deg\",\"/tmp\")\n",
    "cmp.spa_angpre_len_dif('data/Laurentia_RM.txt',\n",
    "                       'data/rot_version/Laurentia_RM_po_15deg.txt',\n",
    "                       pnh1=1,pnh2=0)\n",
    "# the results should be the same as stored in\n",
    "# data/0.result_tables/pairC_LaurentiaRM_LaurentiaRMpo15deg.txt"
   ]
  },
  {
   "cell_type": "code",
   "execution_count": 4,
   "metadata": {},
   "outputs": [
    {
     "name": "stdout",
     "output_type": "stream",
     "text": [
      "ds\tda\tdl\tno\tt0\tt1\n",
      "0.060179524592502295\t0.24790732639537033\t1.0905640046804856e-05\t0\t0\t100\n",
      "0.11948928991824084\t0.2283843537798148\t0.0001096116344275399\t1\t100\t200\n",
      "0.1897653823765637\t0.4897948633596197\t2.7047084440588792e-05\t2\t200\t300\n",
      "0.27310680364795525\t0.3579541481306791\t0.00011034440982000611\t3\t300\t400\n",
      "0.2918073308934256\t0.3278328522055788\t0.0001996424474577322\t4\t400\t530\n",
      "0.19278564167708362\t0.32821897320673443\t9.763093404339463e-05\t5\t0\t530\n"
     ]
    }
   ],
   "source": [
    "## reproduce results for pair C in Figures 6a, 6c, 6e using the output above\n",
    "## from the function cmp.spa_angpre_len_dif\n",
    "pairC=cmp.ppf3('data/0.result_tables/pairC_LaurentiaRM_LaurentiaRMpo15deg.txt')\n",
    "#pairC_.txt without test\n",
    "print('ds\\tda\\tdl\\tno\\tt0\\tt1')\n",
    "cmp.calc_nt(pairC,0,0,100)\n",
    "cmp.calc_nt(pairC,1,100,200)\n",
    "cmp.calc_nt(pairC,2,200,300)\n",
    "cmp.calc_nt(pairC,3,300,400)\n",
    "cmp.calc_nt(pairC,4,400,530)\n",
    "cmp.calc_nt(pairC,5,0,530)"
   ]
  },
  {
   "cell_type": "code",
   "execution_count": 5,
   "metadata": {},
   "outputs": [
    {
     "name": "stdout",
     "output_type": "stream",
     "text": [
      "ds\tda\tdl\tno\tt0\tt1\n",
      "0.0\t0.0\t0.0\t0\t0\t100\n",
      "0.024511167393754963\t0.0\t0.0\t1\t100\t200\n",
      "0.17204153054667518\t0.10183802030481481\t0.0\t2\t200\t300\n",
      "0.27310680364795525\t0.0983773321814815\t2.2421740928911606e-05\t3\t300\t400\n",
      "0.18740701021938655\t0.0\t7.216273757176646e-07\t4\t400\t530\n",
      "0.13196018041953333\t0.03465265716108974\t4.407520097612184e-06\t5\t0\t530\n"
     ]
    }
   ],
   "source": [
    "## reproduce results for pair BCin Figures 6b, 6d, 6f using the same output above\n",
    "## from the function cmp.spa_angpre_len_dif\n",
    "#pairC.txt with test\n",
    "print('ds\\tda\\tdl\\tno\\tt0\\tt1')\n",
    "cmp.calc(pairC,0,0,100)\n",
    "cmp.calc(pairC,1,100,200)\n",
    "cmp.calc(pairC,2,200,300)\n",
    "cmp.calc(pairC,3,300,400)\n",
    "cmp.calc(pairC,4,400,530)\n",
    "cmp.calc(pairC,5,0,530)"
   ]
  },
  {
   "cell_type": "code",
   "execution_count": null,
   "metadata": {},
   "outputs": [],
   "source": []
  }
 ],
 "metadata": {
  "kernelspec": {
   "display_name": "Python 3",
   "language": "python",
   "name": "python3"
  },
  "language_info": {
   "codemirror_mode": {
    "name": "ipython",
    "version": 3
   },
   "file_extension": ".py",
   "mimetype": "text/x-python",
   "name": "python",
   "nbconvert_exporter": "python",
   "pygments_lexer": "ipython3",
   "version": "3.7.2"
  }
 },
 "nbformat": 4,
 "nbformat_minor": 2
}
